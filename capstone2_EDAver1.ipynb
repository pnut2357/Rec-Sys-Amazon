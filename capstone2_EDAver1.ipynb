{
 "cells": [
  {
   "cell_type": "markdown",
   "metadata": {},
   "source": [
    "# EDA processing of Recommender System for Amazon Items"
   ]
  },
  {
   "cell_type": "code",
   "execution_count": 1,
   "metadata": {},
   "outputs": [],
   "source": [
    "import json\n",
    "import gzip\n",
    "import pandas as pd\n",
    "from urllib.request import urlopen\n",
    "\n",
    "import pandas as pd\n",
    "import numpy as np\n",
    "import matplotlib.pyplot as plt\n",
    "%matplotlib inline\n",
    "import seaborn as sns; sns.set_style(\"whitegrid\") # For all our visualization needs.\n",
    "import calendar as calen\n",
    "import random\n",
    "from nltk.corpus import stopwords\n",
    "import string\n",
    "import matplotlib.pyplot as plt\n",
    "from nltk.tokenize import word_tokenize\n",
    "import nltk\n",
    "from numpy import asarray\n",
    "\n",
    "from sklearn.naive_bayes import GaussianNB\n",
    "from sklearn.model_selection import train_test_split #  tran test data split\n",
    "\n",
    "import re ## (Regular Expr Operations)\n",
    "import string \n",
    "from statistics import median\n",
    "\n",
    "from sklearn import metrics\n",
    "from sklearn.metrics import confusion_matrix"
   ]
  },
  {
   "cell_type": "code",
   "execution_count": 2,
   "metadata": {},
   "outputs": [
    {
     "name": "stdout",
     "output_type": "stream",
     "text": [
      "/Users/Jae/Google_Drive_jae0325/DATA_SCIENCE/Portfolio/Rec-Sys-Amazon\n"
     ]
    }
   ],
   "source": [
    "!pwd\n",
    "## pwd: /home/jchoi154/rec_sys\n"
   ]
  },
  {
   "cell_type": "markdown",
   "metadata": {},
   "source": [
    "## Load Data for ratings-only"
   ]
  },
  {
   "cell_type": "code",
   "execution_count": 4,
   "metadata": {},
   "outputs": [
    {
     "name": "stdout",
     "output_type": "stream",
     "text": [
      "Total Length: 2565349, Unique user Length: 71982, Unique item Length: 1540618\n",
      "\n"
     ]
    },
    {
     "data": {
      "text/html": [
       "<div>\n",
       "<style scoped>\n",
       "    .dataframe tbody tr th:only-of-type {\n",
       "        vertical-align: middle;\n",
       "    }\n",
       "\n",
       "    .dataframe tbody tr th {\n",
       "        vertical-align: top;\n",
       "    }\n",
       "\n",
       "    .dataframe thead th {\n",
       "        text-align: right;\n",
       "    }\n",
       "</style>\n",
       "<table border=\"1\" class=\"dataframe\">\n",
       "  <thead>\n",
       "    <tr style=\"text-align: right;\">\n",
       "      <th></th>\n",
       "      <th>userID</th>\n",
       "      <th>productID</th>\n",
       "      <th>Rating</th>\n",
       "      <th>timestamp</th>\n",
       "    </tr>\n",
       "  </thead>\n",
       "  <tbody>\n",
       "    <tr>\n",
       "      <th>0</th>\n",
       "      <td>0439381673</td>\n",
       "      <td>A21ROB4YDOZA5P</td>\n",
       "      <td>1.0</td>\n",
       "      <td>1402272000</td>\n",
       "    </tr>\n",
       "    <tr>\n",
       "      <th>1</th>\n",
       "      <td>0439381673</td>\n",
       "      <td>A3TNZ2Q5E7HTHD</td>\n",
       "      <td>3.0</td>\n",
       "      <td>1399680000</td>\n",
       "    </tr>\n",
       "    <tr>\n",
       "      <th>2</th>\n",
       "      <td>0439381673</td>\n",
       "      <td>A1OKRM3QFEATQO</td>\n",
       "      <td>4.0</td>\n",
       "      <td>1391731200</td>\n",
       "    </tr>\n",
       "    <tr>\n",
       "      <th>3</th>\n",
       "      <td>0439381673</td>\n",
       "      <td>A2XO1JFCNEYV3T</td>\n",
       "      <td>1.0</td>\n",
       "      <td>1391731200</td>\n",
       "    </tr>\n",
       "    <tr>\n",
       "      <th>4</th>\n",
       "      <td>0439381673</td>\n",
       "      <td>A19WLPIRHD15TH</td>\n",
       "      <td>4.0</td>\n",
       "      <td>1389830400</td>\n",
       "    </tr>\n",
       "  </tbody>\n",
       "</table>\n",
       "</div>"
      ],
      "text/plain": [
       "       userID       productID  Rating   timestamp\n",
       "0  0439381673  A21ROB4YDOZA5P     1.0  1402272000\n",
       "1  0439381673  A3TNZ2Q5E7HTHD     3.0  1399680000\n",
       "2  0439381673  A1OKRM3QFEATQO     4.0  1391731200\n",
       "3  0439381673  A2XO1JFCNEYV3T     1.0  1391731200\n",
       "4  0439381673  A19WLPIRHD15TH     4.0  1389830400"
      ]
     },
     "execution_count": 4,
     "metadata": {},
     "output_type": "execute_result"
    }
   ],
   "source": [
    "path=\"./ecommerce/datafiniti-consumer-reviews-of-amazon-products/\"\n",
    "#folder_amazon=\"datafiniti-consumer-reviews-of-amazon-products/\"\n",
    "\n",
    "amazon_vg=pd.read_csv(path+\"Video_Games.csv\", names=['userID', 'productID','Rating','timestamp'])\n",
    "\n",
    "print('Total Length: {}, Unique user Length: {}, Unique item Length: {}\\n'.format(\n",
    "                                            len(amazon_vg),\n",
    "                                            len(amazon_vg['userID'].unique()),\n",
    "                                            len(amazon_vg.productID.unique())))\n",
    "\n",
    "amazon_vg.head()"
   ]
  },
  {
   "cell_type": "markdown",
   "metadata": {},
   "source": [
    "## Load Data for 5-core"
   ]
  },
  {
   "cell_type": "code",
   "execution_count": 18,
   "metadata": {},
   "outputs": [
    {
     "name": "stdout",
     "output_type": "stream",
     "text": [
      "497577\n",
      "{'overall': 5.0, 'verified': True, 'reviewTime': '10 17, 2015', 'reviewerID': 'A1HP7NVNPFMA4N', 'asin': '0700026657', 'reviewerName': 'Ambrosia075', 'reviewText': \"This game is a bit hard to get the hang of, but when you do it's great.\", 'summary': \"but when you do it's great.\", 'unixReviewTime': 1445040000}\n"
     ]
    }
   ],
   "source": [
    "def parse(path):\n",
    "    g = gzip.open(path, 'r')\n",
    "    for l in g:\n",
    "        yield eval(l)\n",
    "\n",
    "### load the data\n",
    "data = []\n",
    "with gzip.open(path+\"Video_Games_5.json.gz\") as f:\n",
    "    for l in f:\n",
    "        data.append(json.loads(l.strip()))\n",
    "    \n",
    "# total length of list, this number equals total number of products\n",
    "print(len(data))\n",
    "\n",
    "# first row of the list\n",
    "print(data[0])"
   ]
  },
  {
   "cell_type": "code",
   "execution_count": 51,
   "metadata": {},
   "outputs": [
    {
     "name": "stdout",
     "output_type": "stream",
     "text": [
      "##--- Before filtering\n",
      "Total Length: 497577, Unique user Length: 55223\n",
      "\n",
      "##--- After filtering\n",
      "Total Length: 292041, Unique user Length: 43338\n",
      "\n"
     ]
    },
    {
     "data": {
      "text/html": [
       "<div>\n",
       "<style scoped>\n",
       "    .dataframe tbody tr th:only-of-type {\n",
       "        vertical-align: middle;\n",
       "    }\n",
       "\n",
       "    .dataframe tbody tr th {\n",
       "        vertical-align: top;\n",
       "    }\n",
       "\n",
       "    .dataframe thead th {\n",
       "        text-align: right;\n",
       "    }\n",
       "</style>\n",
       "<table border=\"1\" class=\"dataframe\">\n",
       "  <thead>\n",
       "    <tr style=\"text-align: right;\">\n",
       "      <th></th>\n",
       "      <th>asin</th>\n",
       "      <th>image</th>\n",
       "      <th>overall</th>\n",
       "      <th>reviewText</th>\n",
       "      <th>reviewTime</th>\n",
       "      <th>reviewerID</th>\n",
       "      <th>reviewerName</th>\n",
       "      <th>style</th>\n",
       "      <th>summary</th>\n",
       "      <th>unixReviewTime</th>\n",
       "      <th>verified</th>\n",
       "      <th>vote</th>\n",
       "      <th>month</th>\n",
       "      <th>year</th>\n",
       "    </tr>\n",
       "  </thead>\n",
       "  <tbody>\n",
       "    <tr>\n",
       "      <th>0</th>\n",
       "      <td>0700026657</td>\n",
       "      <td>NaN</td>\n",
       "      <td>5.0</td>\n",
       "      <td>This game is a bit hard to get the hang of, bu...</td>\n",
       "      <td>2015-10-17</td>\n",
       "      <td>A1HP7NVNPFMA4N</td>\n",
       "      <td>Ambrosia075</td>\n",
       "      <td>NaN</td>\n",
       "      <td>but when you do it's great.</td>\n",
       "      <td>1445040000</td>\n",
       "      <td>True</td>\n",
       "      <td>NaN</td>\n",
       "      <td>10</td>\n",
       "      <td>2015</td>\n",
       "    </tr>\n",
       "    <tr>\n",
       "      <th>1</th>\n",
       "      <td>0700026657</td>\n",
       "      <td>NaN</td>\n",
       "      <td>4.0</td>\n",
       "      <td>I played it a while but it was alright. The st...</td>\n",
       "      <td>2015-07-27</td>\n",
       "      <td>A1JGAP0185YJI6</td>\n",
       "      <td>travis</td>\n",
       "      <td>NaN</td>\n",
       "      <td>But in spite of that it was fun, I liked it</td>\n",
       "      <td>1437955200</td>\n",
       "      <td>False</td>\n",
       "      <td>NaN</td>\n",
       "      <td>7</td>\n",
       "      <td>2015</td>\n",
       "    </tr>\n",
       "    <tr>\n",
       "      <th>2</th>\n",
       "      <td>0700026657</td>\n",
       "      <td>NaN</td>\n",
       "      <td>3.0</td>\n",
       "      <td>ok game.</td>\n",
       "      <td>2015-02-23</td>\n",
       "      <td>A1YJWEXHQBWK2B</td>\n",
       "      <td>Vincent G. Mezera</td>\n",
       "      <td>NaN</td>\n",
       "      <td>Three Stars</td>\n",
       "      <td>1424649600</td>\n",
       "      <td>True</td>\n",
       "      <td>NaN</td>\n",
       "      <td>2</td>\n",
       "      <td>2015</td>\n",
       "    </tr>\n",
       "    <tr>\n",
       "      <th>3</th>\n",
       "      <td>0700026657</td>\n",
       "      <td>NaN</td>\n",
       "      <td>2.0</td>\n",
       "      <td>found the game a bit too complicated, not what...</td>\n",
       "      <td>2015-02-20</td>\n",
       "      <td>A2204E1TH211HT</td>\n",
       "      <td>Grandma KR</td>\n",
       "      <td>NaN</td>\n",
       "      <td>Two Stars</td>\n",
       "      <td>1424390400</td>\n",
       "      <td>True</td>\n",
       "      <td>NaN</td>\n",
       "      <td>2</td>\n",
       "      <td>2015</td>\n",
       "    </tr>\n",
       "    <tr>\n",
       "      <th>4</th>\n",
       "      <td>0700026657</td>\n",
       "      <td>NaN</td>\n",
       "      <td>5.0</td>\n",
       "      <td>great game, I love it and have played it since...</td>\n",
       "      <td>2014-12-25</td>\n",
       "      <td>A2RF5B5H74JLPE</td>\n",
       "      <td>jon</td>\n",
       "      <td>NaN</td>\n",
       "      <td>love this game</td>\n",
       "      <td>1419465600</td>\n",
       "      <td>True</td>\n",
       "      <td>NaN</td>\n",
       "      <td>12</td>\n",
       "      <td>2014</td>\n",
       "    </tr>\n",
       "  </tbody>\n",
       "</table>\n",
       "</div>"
      ],
      "text/plain": [
       "         asin image  overall  \\\n",
       "0  0700026657   NaN      5.0   \n",
       "1  0700026657   NaN      4.0   \n",
       "2  0700026657   NaN      3.0   \n",
       "3  0700026657   NaN      2.0   \n",
       "4  0700026657   NaN      5.0   \n",
       "\n",
       "                                          reviewText reviewTime  \\\n",
       "0  This game is a bit hard to get the hang of, bu... 2015-10-17   \n",
       "1  I played it a while but it was alright. The st... 2015-07-27   \n",
       "2                                           ok game. 2015-02-23   \n",
       "3  found the game a bit too complicated, not what... 2015-02-20   \n",
       "4  great game, I love it and have played it since... 2014-12-25   \n",
       "\n",
       "       reviewerID       reviewerName style  \\\n",
       "0  A1HP7NVNPFMA4N        Ambrosia075   NaN   \n",
       "1  A1JGAP0185YJI6             travis   NaN   \n",
       "2  A1YJWEXHQBWK2B  Vincent G. Mezera   NaN   \n",
       "3  A2204E1TH211HT         Grandma KR   NaN   \n",
       "4  A2RF5B5H74JLPE                jon   NaN   \n",
       "\n",
       "                                       summary  unixReviewTime  verified vote  \\\n",
       "0                  but when you do it's great.      1445040000      True  NaN   \n",
       "1  But in spite of that it was fun, I liked it      1437955200     False  NaN   \n",
       "2                                  Three Stars      1424649600      True  NaN   \n",
       "3                                    Two Stars      1424390400      True  NaN   \n",
       "4                               love this game      1419465600      True  NaN   \n",
       "\n",
       "   month  year  \n",
       "0     10  2015  \n",
       "1      7  2015  \n",
       "2      2  2015  \n",
       "3      2  2015  \n",
       "4     12  2014  "
      ]
     },
     "execution_count": 51,
     "metadata": {},
     "output_type": "execute_result"
    }
   ],
   "source": [
    "# convert list into pandas dataframe\n",
    "df = pd.DataFrame.from_dict(data)\n",
    "\n",
    "print('##--- Before filtering')\n",
    "print('Total Length: {}, Unique user Length: {}\\n'.format(\n",
    "                                            len(df),\n",
    "                                            len(df['reviewerID'].unique()),\n",
    "                                            len(df['asin'].unique())))\n",
    "## add month col and year col for reviewTime\n",
    "df['reviewTime'] = pd.to_datetime(df['reviewTime'])\n",
    "df['month'] = df['reviewTime'].dt.month\n",
    "df['year'] = df['reviewTime'].dt.year\n",
    "## select year >= 2014\n",
    "df = df[df['year'] >= 2014]\n",
    "print('##--- After filtering')\n",
    "print('Total Length: {}, Unique user Length: {}\\n'.format(\n",
    "                                            len(df),\n",
    "                                            len(df['reviewerID'].unique()),\n",
    "                                            len(df['asin'].unique())))\n",
    "df.head()"
   ]
  },
  {
   "cell_type": "code",
   "execution_count": 52,
   "metadata": {},
   "outputs": [
    {
     "name": "stdout",
     "output_type": "stream",
     "text": [
      "<class 'pandas.core.frame.DataFrame'>\n",
      "Int64Index: 292041 entries, 0 to 497576\n",
      "Data columns (total 14 columns):\n",
      "asin              292041 non-null object\n",
      "image             2971 non-null object\n",
      "overall           292041 non-null float64\n",
      "reviewText        291883 non-null object\n",
      "reviewTime        292041 non-null datetime64[ns]\n",
      "reviewerID        292041 non-null object\n",
      "reviewerName      291977 non-null object\n",
      "style             177242 non-null object\n",
      "summary           291947 non-null object\n",
      "unixReviewTime    292041 non-null int64\n",
      "verified          292041 non-null bool\n",
      "vote              30653 non-null object\n",
      "month             292041 non-null int64\n",
      "year              292041 non-null int64\n",
      "dtypes: bool(1), datetime64[ns](1), float64(1), int64(3), object(8)\n",
      "memory usage: 31.5+ MB\n"
     ]
    }
   ],
   "source": [
    "df.info()"
   ]
  },
  {
   "cell_type": "code",
   "execution_count": 53,
   "metadata": {},
   "outputs": [],
   "source": [
    "# ### load the meta data\n",
    "# Electronics_5 = []\n",
    "# with gzip.open(path+\"Electronics_5.json.gz\") as f:\n",
    "#     for l in f:\n",
    "#         Electronics_5.append(json.loads(l.strip()))\n",
    "\n",
    "# # convert list into pandas dataframe\n",
    "# Electronics_5 = pd.DataFrame.from_dict(Electronics_5)\n",
    "\n",
    "# print('##--- Before filtering')\n",
    "# print('Total Length: {}, Unique user Length: {}\\n'.format(\n",
    "#                                             len(Electronics_5),\n",
    "#                                             len(Electronics_5['reviewerID'].unique())))\n",
    "# ## add month col and year col for reviewTime\n",
    "# Electronics_5['reviewTime'] = pd.to_datetime(Electronics_5['reviewTime'])\n",
    "# Electronics_5['month'] = Electronics_5['reviewTime'].dt.month\n",
    "# Electronics_5['year'] = Electronics_5['reviewTime'].dt.year\n",
    "# ## select year >= 2014\n",
    "# Electronics_5 = Electronics_5[ (Electronics_5['year'] >= 2014) & (Electronics_5['vote'].notna()) ].reset_index()\n",
    "# print('Total Length: {}, Unique user Length: {}\\n'.format(\n",
    "#                                             len(Electronics_5),\n",
    "#                                             len(Electronics_5['reviewerID'].unique())))\n",
    "# Electronics_5.head()"
   ]
  },
  {
   "cell_type": "code",
   "execution_count": 54,
   "metadata": {},
   "outputs": [
    {
     "name": "stdout",
     "output_type": "stream",
     "text": [
      "max rating: 5.0\n",
      "min rating: 1.0\n",
      "median rating: 5.0\n"
     ]
    },
    {
     "data": {
      "text/plain": [
       "count    292041.000000\n",
       "mean          4.339802\n",
       "std           1.143824\n",
       "min           1.000000\n",
       "25%           4.000000\n",
       "50%           5.000000\n",
       "75%           5.000000\n",
       "max           5.000000\n",
       "Name: overall, dtype: float64"
      ]
     },
     "execution_count": 54,
     "metadata": {},
     "output_type": "execute_result"
    }
   ],
   "source": [
    "print(\"max rating: {}\".format(df['overall'].max()))\n",
    "print(\"min rating: {}\".format(df['overall'].min()))\n",
    "print(\"median rating: {}\".format(df['overall'].median()))\n",
    "\n",
    "df['overall'].describe().T"
   ]
  },
  {
   "cell_type": "code",
   "execution_count": 55,
   "metadata": {},
   "outputs": [
    {
     "data": {
      "text/plain": [
       "30653"
      ]
     },
     "execution_count": 55,
     "metadata": {},
     "output_type": "execute_result"
    }
   ],
   "source": [
    "len(df['vote'].dropna())"
   ]
  },
  {
   "cell_type": "markdown",
   "metadata": {},
   "source": [
    "## Load Data for 5-core"
   ]
  },
  {
   "cell_type": "code",
   "execution_count": 56,
   "metadata": {},
   "outputs": [
    {
     "name": "stdout",
     "output_type": "stream",
     "text": [
      "max vote: 1824\n",
      "min vote: 0\n",
      "mean vote: 0.86\n",
      "median vote: 0.0\n"
     ]
    }
   ],
   "source": [
    "\n",
    "def replace(string):\n",
    "    return string.replace(',', '')\n",
    "\n",
    "df['vote'] = df['vote'].fillna(value='0').apply(replace).apply(int) #apply(replace).apply(int)\n",
    "\n",
    "print(\"max vote: {}\".format(df['vote'].max()))\n",
    "print(\"min vote: {}\".format(df['vote'].min()))\n",
    "print(f\"mean vote: {df['vote'].mean():.2f}\")\n",
    "print(f\"median vote: {df['vote'].median()}\")"
   ]
  },
  {
   "cell_type": "code",
   "execution_count": 57,
   "metadata": {},
   "outputs": [
    {
     "data": {
      "image/png": "[encoded data removed]",
      "text/plain": [
       "<Figure size 432x288 with 1 Axes>"
      ]
     },
     "metadata": {},
     "output_type": "display_data"
    }
   ],
   "source": [
    "fig, ax = plt.subplots(1,1, figsize=(6,4))\n",
    "## Year Review\n",
    "year_review = df.groupby(['year'])['reviewerID'].count().reset_index()\n",
    "year_review = year_review.rename(columns={'reviewerID':'num_reviews'})\n",
    "year_chart = sns.lineplot(x=year_review['year'],\n",
    "                         y=year_review['num_reviews'])\n",
    "year_chart.set_title('Num of Reviews over 5 years (2014-2018)')\n",
    "year_chart.set(xticks=[yr for yr in range(2014,2019)])\n",
    "plt.show()"
   ]
  },
  {
   "cell_type": "code",
   "execution_count": 60,
   "metadata": {},
   "outputs": [
    {
     "data": {
      "image/png": "[encoded data removed]",
      "text/plain": [
       "<Figure size 864x576 with 4 Axes>"
      ]
     },
     "metadata": {},
     "output_type": "display_data"
    }
   ],
   "source": [
    "fig, axes = plt.subplots(2,2, figsize=(12,8))\n",
    "\n",
    "## Month Reviews\n",
    "month_review = df.groupby(['month'])['reviewerID'].count().reset_index()\n",
    "month_review['month'] = month_review['month'].apply(lambda x : calen.month_name[x])\n",
    "month_review = month_review.rename(columns={'reviewerID':'num_reviews'})\n",
    "month_chart = sns.barplot(x='month',y='num_reviews',data=month_review, ax = axes[0,0],\n",
    "                         linewidth=2.5, facecolor=(1, 1, 1, 0),edgecolor=\".2\")\n",
    "month_chart.set_title('Num of Reviews over months based on 5 years')\n",
    "month_chart.set_xticklabels(month_chart.get_xticklabels(), rotation = 45, horizontalalignment = 'right')\n",
    "\n",
    "## year_review for each month\n",
    "year_review_eachmonth = df.groupby(['year', 'month'])['reviewerID'].count().reset_index()\n",
    "year_review_eachmonth['month'] = year_review_eachmonth['month'].apply(lambda x : calen.month_name[x])\n",
    "year_review_eachmonth = year_review_eachmonth.rename(columns={'reviewerID':'num_reviews'})\n",
    "year_eachmonth_chart = sns.lineplot(x='year', y='num_reviews', data=year_review_eachmonth, hue='month', ax = axes[0,1])\n",
    "year_eachmonth_chart.set_title('Num of Reviews for each month over 5 years (2014-2018)')\n",
    "year_eachmonth_chart.set_xticklabels(year_eachmonth_chart.get_xticklabels(), rotation = 45, horizontalalignment = 'right')\n",
    "axes[0,1].legend(bbox_to_anchor=(1.05, 1), loc=2, borderaxespad=0.)\n",
    "\n",
    "## Ratings for actual purchaser vs. no purchaser\n",
    "ratings = sns.countplot(x='overall', hue='verified', data = df, ax = axes[1,0])\n",
    "ratings.set_title('Review Rating over Actual Purchaser vs. No Purchaser')\n",
    "\n",
    "## votes for the review\n",
    "votings = sns.distplot(df['vote'], kde=False, color='tomato', bins=10, ax = axes[1,1])\n",
    "votings.set_title('Num of Votes for the Review')\n",
    "\n",
    "fig.tight_layout()\n",
    "plt.show()"
   ]
  },
  {
   "cell_type": "code",
   "execution_count": 68,
   "metadata": {},
   "outputs": [
    {
     "data": {
      "text/plain": [
       "<a list of 11 Text xticklabel objects>"
      ]
     },
     "execution_count": 68,
     "metadata": {},
     "output_type": "execute_result"
    }
   ],
   "source": [
    "year_eachmonth_chart.get_xticklabels()"
   ]
  },
  {
   "cell_type": "code",
   "execution_count": 62,
   "metadata": {},
   "outputs": [
    {
     "name": "stdout",
     "output_type": "stream",
     "text": [
      "num of votes > 230: 12\n",
      "num of votes =< 230: 292029\n"
     ]
    }
   ],
   "source": [
    "## mostly votes lie below 230\n",
    "print(f\"num of votes > 230: {df[df['vote']>500]['vote'].count()}\")\n",
    "print(f\"num of votes =< 230: {df[df['vote']<500]['vote'].count()}\")\n"
   ]
  },
  {
   "cell_type": "code",
   "execution_count": 63,
   "metadata": {},
   "outputs": [
    {
     "name": "stdout",
     "output_type": "stream",
     "text": [
      "Total Length: 245595, Unique user Length: 40695\n",
      "\n",
      "median rating: 5.0\n"
     ]
    },
    {
     "data": {
      "text/plain": [
       "count    245595.000000\n",
       "mean          4.424076\n",
       "std           1.060786\n",
       "min           1.000000\n",
       "25%           4.000000\n",
       "50%           5.000000\n",
       "75%           5.000000\n",
       "max           5.000000\n",
       "Name: overall, dtype: float64"
      ]
     },
     "execution_count": 63,
     "metadata": {},
     "output_type": "execute_result"
    }
   ],
   "source": [
    "## remove non-purchasers' reviews. \n",
    "df_verified = df[df['verified']==True]\n",
    "\n",
    "print('Total Length: {}, Unique user Length: {}\\n'.format(\n",
    "                                            len(df_verified),\n",
    "                                            len(df_verified['reviewerID'].unique())))\n",
    "\n",
    "\n",
    "print(\"median rating: {}\".format(df_verified['overall'].median()))\n",
    "\n",
    "df_verified['overall'].describe().T"
   ]
  },
  {
   "cell_type": "code",
   "execution_count": 76,
   "metadata": {},
   "outputs": [
    {
     "name": "stdout",
     "output_type": "stream",
     "text": [
      "Total Length: 245595, Unique user Length: 40695, Unique item Length: 16265 \n",
      "\n"
     ]
    },
    {
     "data": {
      "text/html": [
       "<div>\n",
       "<style scoped>\n",
       "    .dataframe tbody tr th:only-of-type {\n",
       "        vertical-align: middle;\n",
       "    }\n",
       "\n",
       "    .dataframe tbody tr th {\n",
       "        vertical-align: top;\n",
       "    }\n",
       "\n",
       "    .dataframe thead th {\n",
       "        text-align: right;\n",
       "    }\n",
       "</style>\n",
       "<table border=\"1\" class=\"dataframe\">\n",
       "  <thead>\n",
       "    <tr style=\"text-align: right;\">\n",
       "      <th></th>\n",
       "      <th>asin</th>\n",
       "      <th>image</th>\n",
       "      <th>overall</th>\n",
       "      <th>reviewText</th>\n",
       "      <th>reviewTime</th>\n",
       "      <th>reviewerID</th>\n",
       "      <th>reviewerName</th>\n",
       "      <th>style</th>\n",
       "      <th>summary</th>\n",
       "      <th>unixReviewTime</th>\n",
       "      <th>verified</th>\n",
       "      <th>vote</th>\n",
       "      <th>month</th>\n",
       "      <th>year</th>\n",
       "    </tr>\n",
       "  </thead>\n",
       "  <tbody>\n",
       "    <tr>\n",
       "      <th>0</th>\n",
       "      <td>0700026657</td>\n",
       "      <td>NaN</td>\n",
       "      <td>5.0</td>\n",
       "      <td>This game is a bit hard to get the hang of, bu...</td>\n",
       "      <td>2015-10-17</td>\n",
       "      <td>A1HP7NVNPFMA4N</td>\n",
       "      <td>Ambrosia075</td>\n",
       "      <td>NaN</td>\n",
       "      <td>but when you do it's great.</td>\n",
       "      <td>1445040000</td>\n",
       "      <td>True</td>\n",
       "      <td>0</td>\n",
       "      <td>10</td>\n",
       "      <td>2015</td>\n",
       "    </tr>\n",
       "    <tr>\n",
       "      <th>1</th>\n",
       "      <td>0700026657</td>\n",
       "      <td>NaN</td>\n",
       "      <td>3.0</td>\n",
       "      <td>ok game.</td>\n",
       "      <td>2015-02-23</td>\n",
       "      <td>A1YJWEXHQBWK2B</td>\n",
       "      <td>Vincent G. Mezera</td>\n",
       "      <td>NaN</td>\n",
       "      <td>Three Stars</td>\n",
       "      <td>1424649600</td>\n",
       "      <td>True</td>\n",
       "      <td>0</td>\n",
       "      <td>2</td>\n",
       "      <td>2015</td>\n",
       "    </tr>\n",
       "    <tr>\n",
       "      <th>2</th>\n",
       "      <td>0700026657</td>\n",
       "      <td>NaN</td>\n",
       "      <td>2.0</td>\n",
       "      <td>found the game a bit too complicated, not what...</td>\n",
       "      <td>2015-02-20</td>\n",
       "      <td>A2204E1TH211HT</td>\n",
       "      <td>Grandma KR</td>\n",
       "      <td>NaN</td>\n",
       "      <td>Two Stars</td>\n",
       "      <td>1424390400</td>\n",
       "      <td>True</td>\n",
       "      <td>0</td>\n",
       "      <td>2</td>\n",
       "      <td>2015</td>\n",
       "    </tr>\n",
       "  </tbody>\n",
       "</table>\n",
       "</div>"
      ],
      "text/plain": [
       "         asin image  overall  \\\n",
       "0  0700026657   NaN      5.0   \n",
       "1  0700026657   NaN      3.0   \n",
       "2  0700026657   NaN      2.0   \n",
       "\n",
       "                                          reviewText reviewTime  \\\n",
       "0  This game is a bit hard to get the hang of, bu... 2015-10-17   \n",
       "1                                           ok game. 2015-02-23   \n",
       "2  found the game a bit too complicated, not what... 2015-02-20   \n",
       "\n",
       "       reviewerID       reviewerName style                      summary  \\\n",
       "0  A1HP7NVNPFMA4N        Ambrosia075   NaN  but when you do it's great.   \n",
       "1  A1YJWEXHQBWK2B  Vincent G. Mezera   NaN                  Three Stars   \n",
       "2  A2204E1TH211HT         Grandma KR   NaN                    Two Stars   \n",
       "\n",
       "   unixReviewTime  verified  vote  month  year  \n",
       "0      1445040000      True     0     10  2015  \n",
       "1      1424649600      True     0      2  2015  \n",
       "2      1424390400      True     0      2  2015  "
      ]
     },
     "execution_count": 76,
     "metadata": {},
     "output_type": "execute_result"
    }
   ],
   "source": [
    "df_verified.reset_index(drop=True, inplace=True)\n",
    "print('Total Length: {}, Unique user Length: {}, Unique item Length: {} \\n'.format(\n",
    "                                            len(df_verified),\n",
    "                                            len(df_verified['reviewerID'].unique()),\n",
    "                                            len(df_verified['asin'].unique())))\n",
    "df_verified.head(3)"
   ]
  },
  {
   "cell_type": "code",
   "execution_count": 77,
   "metadata": {},
   "outputs": [
    {
     "name": "stdout",
     "output_type": "stream",
     "text": [
      "########################################\n",
      "# Number of missing values across columns:\n",
      "########################################\n",
      "asin                   0\n",
      "image             243468\n",
      "overall                0\n",
      "reviewText           141\n",
      "reviewTime             0\n",
      "reviewerID             0\n",
      "reviewerName          54\n",
      "style              99383\n",
      "summary               82\n",
      "unixReviewTime         0\n",
      "verified               0\n",
      "vote                   0\n",
      "month                  0\n",
      "year                   0\n",
      "dtype: int64\n"
     ]
    }
   ],
   "source": [
    "#Check for missing values\n",
    "print(\"#\"*40)\n",
    "print(\"# Number of missing values across columns:\")\n",
    "print(\"#\"*40)\n",
    "print(df_verified.isnull().sum())"
   ]
  },
  {
   "cell_type": "code",
   "execution_count": 78,
   "metadata": {},
   "outputs": [
    {
     "data": {
      "image/png": "[encoded data removed]",
      "text/plain": [
       "<Figure size 432x288 with 1 Axes>"
      ]
     },
     "metadata": {},
     "output_type": "display_data"
    }
   ],
   "source": [
    "fig, axes = plt.subplots(1,1, figsize=(6,4))\n",
    "## Ratings for actual purchasers\n",
    "ratings = sns.countplot(x='overall', data = df_verified,\n",
    "                         linewidth=2.5, facecolor=(1, 1, 1, 0),edgecolor=\".2\")\n",
    "ratings.set_title('Review Rating over Actual Purchaser only')\n",
    "plt.show()"
   ]
  },
  {
   "cell_type": "code",
   "execution_count": 79,
   "metadata": {},
   "outputs": [
    {
     "name": "stdout",
     "output_type": "stream",
     "text": [
      "####################\n",
      "# Cleaned Data \n",
      "####################\n",
      "total length of data: 245595\n",
      "total num of users: 40695\n",
      "total num of items: 16265\n"
     ]
    }
   ],
   "source": [
    "print(\"#\"*20)\n",
    "print(\"# Cleaned Data \")\n",
    "print(\"#\"*20)\n",
    "print(\"total length of data:\", len(df_verified))\n",
    "## reviewer ID is key for users\n",
    "print(\"total num of users:\", len(np.unique(df_verified['reviewerID'])))\n",
    "## asin is key for items\n",
    "print(\"total num of items:\", len(np.unique(df_verified['asin'])))"
   ]
  },
  {
   "cell_type": "code",
   "execution_count": 80,
   "metadata": {},
   "outputs": [
    {
     "name": "stderr",
     "output_type": "stream",
     "text": [
      "/packages/7x/anaconda3/5.3.0/lib/python3.7/site-packages/pandas/core/frame.py:3940: SettingWithCopyWarning: \n",
      "A value is trying to be set on a copy of a slice from a DataFrame\n",
      "\n",
      "See the caveats in the documentation: http://pandas.pydata.org/pandas-docs/stable/indexing.html#indexing-view-versus-copy\n",
      "  errors=errors)\n"
     ]
    }
   ],
   "source": [
    "## Dropp unnecessary columns\n",
    "df_verified.drop(['image', 'style', 'unixReviewTime'], axis=1, inplace=True)\n",
    "## add "
   ]
  },
  {
   "cell_type": "code",
   "execution_count": 81,
   "metadata": {},
   "outputs": [
    {
     "data": {
      "text/plain": [
       "reviewerID\n",
       "A0059486XI1Z0P98KP35    5.000000\n",
       "A0220159ZRNBTRKLG08H    4.666667\n",
       "A0266076X6KPZ6CCHGVS    5.000000\n",
       "A0277912HT4JSJKVSL3E    4.000000\n",
       "A02836981FYG9912C66F    3.500000\n",
       "Name: overall, dtype: float64"
      ]
     },
     "execution_count": 81,
     "metadata": {},
     "output_type": "execute_result"
    }
   ],
   "source": [
    "df_verified.groupby(by='reviewerID')['overall'].apply(np.mean).head()"
   ]
  },
  {
   "cell_type": "code",
   "execution_count": 87,
   "metadata": {},
   "outputs": [
    {
     "data": {
      "text/html": [
       "<div>\n",
       "<style scoped>\n",
       "    .dataframe tbody tr th:only-of-type {\n",
       "        vertical-align: middle;\n",
       "    }\n",
       "\n",
       "    .dataframe tbody tr th {\n",
       "        vertical-align: top;\n",
       "    }\n",
       "\n",
       "    .dataframe thead th {\n",
       "        text-align: right;\n",
       "    }\n",
       "</style>\n",
       "<table border=\"1\" class=\"dataframe\">\n",
       "  <thead>\n",
       "    <tr style=\"text-align: right;\">\n",
       "      <th></th>\n",
       "      <th>reviewerID</th>\n",
       "      <th>asin</th>\n",
       "      <th>overall</th>\n",
       "    </tr>\n",
       "  </thead>\n",
       "  <tbody>\n",
       "    <tr>\n",
       "      <th>132912</th>\n",
       "      <td>A02836981FYG9912C66F</td>\n",
       "      <td>B00JIJUB7G</td>\n",
       "      <td>4.0</td>\n",
       "    </tr>\n",
       "    <tr>\n",
       "      <th>190600</th>\n",
       "      <td>A02836981FYG9912C66F</td>\n",
       "      <td>B016KBVBCS</td>\n",
       "      <td>2.0</td>\n",
       "    </tr>\n",
       "    <tr>\n",
       "      <th>203800</th>\n",
       "      <td>A02836981FYG9912C66F</td>\n",
       "      <td>B01GD490UM</td>\n",
       "      <td>4.0</td>\n",
       "    </tr>\n",
       "    <tr>\n",
       "      <th>205503</th>\n",
       "      <td>A02836981FYG9912C66F</td>\n",
       "      <td>B01GVE4ZXQ</td>\n",
       "      <td>4.0</td>\n",
       "    </tr>\n",
       "  </tbody>\n",
       "</table>\n",
       "</div>"
      ],
      "text/plain": [
       "                  reviewerID        asin  overall\n",
       "132912  A02836981FYG9912C66F  B00JIJUB7G      4.0\n",
       "190600  A02836981FYG9912C66F  B016KBVBCS      2.0\n",
       "203800  A02836981FYG9912C66F  B01GD490UM      4.0\n",
       "205503  A02836981FYG9912C66F  B01GVE4ZXQ      4.0"
      ]
     },
     "execution_count": 87,
     "metadata": {},
     "output_type": "execute_result"
    }
   ],
   "source": [
    "## userID: A02836981FYG9912C66F's purchase history\n",
    "df_verified[df_verified['reviewerID']=='A02836981FYG9912C66F'][['reviewerID','asin','overall']]"
   ]
  },
  {
   "cell_type": "code",
   "execution_count": 90,
   "metadata": {},
   "outputs": [
    {
     "name": "stdout",
     "output_type": "stream",
     "text": [
      "num of users: 40695\n"
     ]
    },
    {
     "data": {
      "text/html": [
       "<div>\n",
       "<style scoped>\n",
       "    .dataframe tbody tr th:only-of-type {\n",
       "        vertical-align: middle;\n",
       "    }\n",
       "\n",
       "    .dataframe tbody tr th {\n",
       "        vertical-align: top;\n",
       "    }\n",
       "\n",
       "    .dataframe thead th {\n",
       "        text-align: right;\n",
       "    }\n",
       "</style>\n",
       "<table border=\"1\" class=\"dataframe\">\n",
       "  <thead>\n",
       "    <tr style=\"text-align: right;\">\n",
       "      <th></th>\n",
       "      <th>num_ratings</th>\n",
       "      <th>mean_rating</th>\n",
       "    </tr>\n",
       "    <tr>\n",
       "      <th>reviewerID</th>\n",
       "      <th></th>\n",
       "      <th></th>\n",
       "    </tr>\n",
       "  </thead>\n",
       "  <tbody>\n",
       "    <tr>\n",
       "      <th>A1RS06313BL6WN</th>\n",
       "      <td>152</td>\n",
       "      <td>4.085526</td>\n",
       "    </tr>\n",
       "    <tr>\n",
       "      <th>A11V6ZJ2FVQY1D</th>\n",
       "      <td>148</td>\n",
       "      <td>4.297297</td>\n",
       "    </tr>\n",
       "    <tr>\n",
       "      <th>AM1WJGKHP7ES9</th>\n",
       "      <td>104</td>\n",
       "      <td>4.932692</td>\n",
       "    </tr>\n",
       "  </tbody>\n",
       "</table>\n",
       "</div>"
      ],
      "text/plain": [
       "                num_ratings  mean_rating\n",
       "reviewerID                              \n",
       "A1RS06313BL6WN          152     4.085526\n",
       "A11V6ZJ2FVQY1D          148     4.297297\n",
       "AM1WJGKHP7ES9           104     4.932692"
      ]
     },
     "execution_count": 90,
     "metadata": {},
     "output_type": "execute_result"
    }
   ],
   "source": [
    "## Counts for num of ratings per user in descending order.\n",
    "user_num_mean = df_verified.groupby(by='reviewerID')['overall'].count().sort_values(ascending=False)\n",
    "user_num_mean = pd.DataFrame(user_num_mean)\n",
    "## rename\n",
    "user_num_mean.rename(columns={'overall':'num_ratings'}, inplace=True)\n",
    "## Calculate mean of ratings for each user.\n",
    "user_num_mean['mean_rating'] = df_verified.groupby(by='reviewerID')['overall'].apply(np.mean)\n",
    "\n",
    "## num of users: 40695, num of items: 16265\n",
    "print(f\"num of users: {len(user_num_mean)}\")\n",
    "user_num_mean.head(3)"
   ]
  },
  {
   "cell_type": "code",
   "execution_count": 91,
   "metadata": {},
   "outputs": [
    {
     "data": {
      "image/png": "[encoded data removed]",
      "text/plain": [
       "<Figure size 432x288 with 1 Axes>"
      ]
     },
     "metadata": {},
     "output_type": "display_data"
    }
   ],
   "source": [
    "fig, ax=plt.subplots(1,1,figsize=(6,4))\n",
    "mean_rating_user = sns.distplot(user_num_mean['mean_rating'], kde=False, color='tomato', bins=30)\n",
    "mean_rating_user.set_title('Mean of Ratings for each User')\n",
    "plt.show()"
   ]
  },
  {
   "cell_type": "code",
   "execution_count": 92,
   "metadata": {},
   "outputs": [
    {
     "name": "stdout",
     "output_type": "stream",
     "text": [
      "Num of Reviews >= 50 per user : 81\n"
     ]
    }
   ],
   "source": [
    "print('Num of Reviews >= 50 per user : {}'.format(sum(user_num_mean['num_ratings'] >= 50)) )\n"
   ]
  },
  {
   "cell_type": "code",
   "execution_count": 93,
   "metadata": {},
   "outputs": [
    {
     "data": {
      "text/plain": [
       "asin\n",
       "B0015AARJI    621\n",
       "B00JK00S0S    549\n",
       "B003ZSP0WW    541\n",
       "Name: overall, dtype: int64"
      ]
     },
     "execution_count": 93,
     "metadata": {},
     "output_type": "execute_result"
    }
   ],
   "source": [
    "df_verified.groupby(by='asin')['overall'].count().sort_values(ascending=False).head(3)"
   ]
  },
  {
   "cell_type": "markdown",
   "metadata": {},
   "source": [
    "## Popularity Based Recommendation\n",
    "Popularity was measured by number of ratings per each item. Items were reranked in the descending order of popularity. Then, Pareto Principle 20% was applied to filter the unpopular data. However, popularity does not account for personal perference. So, preference is added later for better recommendation."
   ]
  },
  {
   "cell_type": "code",
   "execution_count": 127,
   "metadata": {},
   "outputs": [
    {
     "data": {
      "image/png": "[encoded data removed]",
      "text/plain": [
       "<Figure size 432x288 with 1 Axes>"
      ]
     },
     "metadata": {},
     "output_type": "display_data"
    }
   ],
   "source": [
    "import scipy.integrate as integrate\n",
    "\n",
    "## Count num of ratings per item\n",
    "num_ratings_item = df_verified.groupby(by='asin')['overall'].count().sort_values(ascending=False)\n",
    "df_num_ratings_item = pd.DataFrame(num_ratings_item)\n",
    "\n",
    "fig, ax= plt.subplots(1,1, figsize=(6,4))\n",
    "n = len(df_num_ratings_item)\n",
    "xx = np.linspace(0,n+1,n)\n",
    "\n",
    "plt.plot(xx, df_num_ratings_item.values)\n",
    "plt.title('Num of Reviews for each Item')\n",
    "plt.xlabel('Item')\n",
    "plt.ylabel('Num of Reviews')\n",
    "ax.set_xticklabels(range(0, n, 100))\n",
    "\n",
    "plt.show()"
   ]
  },
  {
   "cell_type": "code",
   "execution_count": 100,
   "metadata": {},
   "outputs": [
    {
     "data": {
      "text/plain": [
       "124.0"
      ]
     },
     "execution_count": 100,
     "metadata": {},
     "output_type": "execute_result"
    }
   ],
   "source": [
    "## Apply Pareto Principle 20%\n",
    "## 0.2 = 1/|max-min| * x\n",
    "0.2*abs(num_ratings_item[0]-num_ratings_item[-1])"
   ]
  },
  {
   "cell_type": "code",
   "execution_count": 111,
   "metadata": {},
   "outputs": [
    {
     "data": {
      "text/plain": [
       "124"
      ]
     },
     "execution_count": 111,
     "metadata": {},
     "output_type": "execute_result"
    }
   ],
   "source": [
    "num_ratings_item[240]"
   ]
  },
  {
   "cell_type": "code",
   "execution_count": 147,
   "metadata": {},
   "outputs": [
    {
     "name": "stdout",
     "output_type": "stream",
     "text": [
      "area calculated by numpy trapzoidal method: 245299.08\n",
      "area calculated by scipy trapzoidal method: 245299.08\n",
      "area calculated by scipy simson's method: 245291.75\n",
      "20.82 %\n"
     ]
    }
   ],
   "source": [
    "delta = (max(xx)-min(xx))/n; \n",
    "total_area_nptrapz = np.trapz(num_ratings_item, dx=delta); \n",
    "total_area_spytrapz = integrate.trapz(num_ratings_item, dx=delta); \n",
    "total_area_spysimps = integrate.simps(num_ratings_item, dx=delta)\n",
    "print(f\"area calculated by numpy trapzoidal method: {total_area_nptrapz:.2f}\")\n",
    "print(f\"area calculated by scipy trapzoidal method: {total_area_spytrapz:.2f}\")\n",
    "print(f\"area calculated by scipy simson's method: {total_area_spysimps:.2f}\")\n",
    "area_nptrapz = np.trapz(num_ratings_item[:240], dx=delta);\n",
    "print(f\"{area_nptrapz/total_area_nptrapz*100:.2f} %\")"
   ]
  },
  {
   "cell_type": "code",
   "execution_count": 130,
   "metadata": {},
   "outputs": [],
   "source": [
    "## filter popular items selected >= 124 reviews\n",
    "rating_124 = df_verified.groupby(\"asin\").filter(lambda x:x['overall'].count() >= 124)"
   ]
  },
  {
   "cell_type": "code",
   "execution_count": 133,
   "metadata": {},
   "outputs": [
    {
     "data": {
      "text/html": [
       "<div>\n",
       "<style scoped>\n",
       "    .dataframe tbody tr th:only-of-type {\n",
       "        vertical-align: middle;\n",
       "    }\n",
       "\n",
       "    .dataframe tbody tr th {\n",
       "        vertical-align: top;\n",
       "    }\n",
       "\n",
       "    .dataframe thead th {\n",
       "        text-align: right;\n",
       "    }\n",
       "</style>\n",
       "<table border=\"1\" class=\"dataframe\">\n",
       "  <thead>\n",
       "    <tr style=\"text-align: right;\">\n",
       "      <th></th>\n",
       "      <th>num_ratings</th>\n",
       "      <th>mean_rating</th>\n",
       "    </tr>\n",
       "    <tr>\n",
       "      <th>asin</th>\n",
       "      <th></th>\n",
       "      <th></th>\n",
       "    </tr>\n",
       "  </thead>\n",
       "  <tbody>\n",
       "    <tr>\n",
       "      <th>B0015AARJI</th>\n",
       "      <td>621</td>\n",
       "      <td>4.504026</td>\n",
       "    </tr>\n",
       "    <tr>\n",
       "      <th>B00JK00S0S</th>\n",
       "      <td>549</td>\n",
       "      <td>4.770492</td>\n",
       "    </tr>\n",
       "    <tr>\n",
       "      <th>B003ZSP0WW</th>\n",
       "      <td>541</td>\n",
       "      <td>4.659889</td>\n",
       "    </tr>\n",
       "  </tbody>\n",
       "</table>\n",
       "</div>"
      ],
      "text/plain": [
       "            num_ratings  mean_rating\n",
       "asin                                \n",
       "B0015AARJI          621     4.504026\n",
       "B00JK00S0S          549     4.770492\n",
       "B003ZSP0WW          541     4.659889"
      ]
     },
     "execution_count": 133,
     "metadata": {},
     "output_type": "execute_result"
    }
   ],
   "source": [
    "## num of ratings per item \n",
    "item_num_mean = pd.DataFrame(rating_124.groupby(by='asin')['overall'].count().sort_values(ascending=False))\n",
    "item_num_mean = item_num_mean.rename(columns={'overall':'num_ratings'})\n",
    "\n",
    "## Calculate mean of ratings for each user.\n",
    "item_num_mean['mean_rating'] = rating_124.groupby(by='asin')['overall'].apply(np.mean)\n",
    "item_num_mean.head(3)"
   ]
  },
  {
   "cell_type": "code",
   "execution_count": 134,
   "metadata": {},
   "outputs": [
    {
     "data": {
      "image/png": "[encoded data removed]",
      "text/plain": [
       "<Figure size 432x432 with 3 Axes>"
      ]
     },
     "metadata": {},
     "output_type": "display_data"
    }
   ],
   "source": [
    "sns.jointplot(x='mean_rating', y='num_ratings', data=item_num_mean, alpha=0.3)\n",
    "plt.show()"
   ]
  },
  {
   "cell_type": "code",
   "execution_count": 135,
   "metadata": {},
   "outputs": [
    {
     "data": {
      "image/png": "[encoded data removed]",
      "text/plain": [
       "<Figure size 432x288 with 1 Axes>"
      ]
     },
     "metadata": {},
     "output_type": "display_data"
    }
   ],
   "source": [
    "popular_products = pd.DataFrame(rating_124.groupby('asin')['overall'].count())\n",
    "most_popular = popular_products.sort_values('overall', ascending=False)\n",
    "most_popular = most_popular.rename(columns={'overall':'num_ratings'})\n",
    "most_popular.head(20).plot(kind = \"bar\")\n",
    "plt.show()"
   ]
  },
  {
   "cell_type": "code",
   "execution_count": 136,
   "metadata": {},
   "outputs": [
    {
     "name": "stdout",
     "output_type": "stream",
     "text": [
      "/home/jchoi154/rec_sys\n"
     ]
    }
   ],
   "source": [
    "!pwd"
   ]
  },
  {
   "cell_type": "code",
   "execution_count": 137,
   "metadata": {},
   "outputs": [],
   "source": [
    "rating_124.to_pickle('/home/jchoi154/rec_sys/data/rating_124.pkl')"
   ]
  },
  {
   "cell_type": "code",
   "execution_count": null,
   "metadata": {},
   "outputs": [],
   "source": []
  }
 ],
 "metadata": {
  "kernelspec": {
   "display_name": "Python 3",
   "language": "python",
   "name": "python3"
  },
  "language_info": {
   "codemirror_mode": {
    "name": "ipython",
    "version": 3
   },
   "file_extension": ".py",
   "mimetype": "text/x-python",
   "name": "python",
   "nbconvert_exporter": "python",
   "pygments_lexer": "ipython3",
   "version": "3.8.3"
  }
 },
 "nbformat": 4,
 "nbformat_minor": 4
}
