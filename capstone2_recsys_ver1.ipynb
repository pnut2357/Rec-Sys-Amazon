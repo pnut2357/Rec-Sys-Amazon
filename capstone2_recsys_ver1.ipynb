{
 "cells": [
  {
   "cell_type": "markdown",
   "metadata": {},
   "source": [
    "# Recommender System for Amazon Items\n",
    "<img src=\"./img/amazon.png\" alt=\"Drawing\" style=\"width: 200px;\"/>\n",
    "\n",
    "## 1. Intro\n",
    "E-commerce, an activity of buying or selling items (products) on online services, has been populated. We cannot deny that Amazon is one of the biggiest E-commerce company. From the millions items in online stores, it is hard to believe which item would be the best for customers. The given information of reviews and ratings from other customers help, but a recommender system assist to make a better and smart decision. \n",
    "\n",
    "## 2. Dataset\n",
    "The [dataset](https://nijianmo.github.io/amazon/index.html) includes reviews \"ratings-only\" (ratings, text, helpfulness votes) as a csv file and item metadata \"5-core\" (descriptions, category information, price, brand, and image features) as a json file. The dataset is categorically divided; for this project, category of **Video Games** was chosen. For the practical prupose, item metadata of json file was loaded. \n",
    "\n",
    "> \"5-core\" (i.e., dense subsets): These data have been reduced to extract the 5-core, such that each of the remaining users and items have 5 reviews each.\n",
    "\n",
    "**Sample review**:\n",
    "{\n",
    "  \"reviewerID\": \"A2SUAM1J3GNN3B\",\n",
    "  \"asin\": \"0000013714\",\n",
    "  \"reviewerName\": \"J. McDonald\",\n",
    "  \"vote\": 5,\n",
    "  \"style\": {\n",
    "    \"Format:\": \"Hardcover\"\n",
    "  },\n",
    "  \"reviewText\": \"I bought this for my husband who plays the piano.  He is having a wonderful time playing these old hymns.  The music  is at times hard to read because we think the book was published for singing from more than playing from.  Great purchase though!\",\n",
    "  \"overall\": 5.0,\n",
    "  \"summary\": \"Heavenly Highway Hymns\",\n",
    "  \"unixReviewTime\": 1252800000,\n",
    "  \"reviewTime\": \"09 13, 2009\"\n",
    "}\n",
    "\n",
    "where\n",
    "\n",
    "- reviewerID: ID of the reviewer, e.g. A2SUAM1J3GNN3B\n",
    "- asin: ID of the product, e.g. 0000013714\n",
    "- reviewerName - name of the reviewer\n",
    "- vote: helpful votes of the review\n",
    "- style: a disctionary of the product metadata, e.g., \"Format\" is \"Hardcover\"\n",
    "- reviewText: text of the review\n",
    "- overall: rating of the product\n",
    "- summary: summary of the review\n",
    "- unixReviewTime: time of the review (unix time)\n",
    "- reviewTime: time of the review (raw)\n",
    "- image: images that users post after they have received the product\n"
   ]
  },
  {
   "cell_type": "code",
   "execution_count": 1,
   "metadata": {},
   "outputs": [],
   "source": [
    "import pandas as pd\n",
    "import numpy as np\n",
    "import matplotlib.pyplot as plt\n",
    "%matplotlib inline\n",
    "\n",
    "import itertools\n",
    "from recommender_metrics import RecommenderMetrics as rm\n",
    "import surprise\n",
    "from surprise import KNNWithMeans\n",
    "from surprise import Dataset\n",
    "from surprise import accuracy\n",
    "from surprise import Reader\n",
    "import os\n",
    "from surprise.model_selection import train_test_split\n"
   ]
  },
  {
   "cell_type": "code",
   "execution_count": 2,
   "metadata": {},
   "outputs": [
    {
     "name": "stdout",
     "output_type": "stream",
     "text": [
      "/Users/Jae/Google_Drive_jae0325/DATA_SCIENCE/Portfolio/Amazon_product\n"
     ]
    }
   ],
   "source": [
    "!pwd"
   ]
  },
  {
   "cell_type": "code",
   "execution_count": 3,
   "metadata": {},
   "outputs": [
    {
     "name": "stdout",
     "output_type": "stream",
     "text": [
      "Total Length: 49535, Unique user Length: 23789, Unique item Length: 241\n",
      "\n"
     ]
    },
    {
     "data": {
      "text/html": [
       "<div>\n",
       "<style scoped>\n",
       "    .dataframe tbody tr th:only-of-type {\n",
       "        vertical-align: middle;\n",
       "    }\n",
       "\n",
       "    .dataframe tbody tr th {\n",
       "        vertical-align: top;\n",
       "    }\n",
       "\n",
       "    .dataframe thead th {\n",
       "        text-align: right;\n",
       "    }\n",
       "</style>\n",
       "<table border=\"1\" class=\"dataframe\">\n",
       "  <thead>\n",
       "    <tr style=\"text-align: right;\">\n",
       "      <th></th>\n",
       "      <th>asin</th>\n",
       "      <th>overall</th>\n",
       "      <th>reviewText</th>\n",
       "      <th>reviewTime</th>\n",
       "      <th>reviewerID</th>\n",
       "      <th>reviewerName</th>\n",
       "      <th>summary</th>\n",
       "      <th>verified</th>\n",
       "      <th>vote</th>\n",
       "      <th>month</th>\n",
       "      <th>year</th>\n",
       "    </tr>\n",
       "  </thead>\n",
       "  <tbody>\n",
       "    <tr>\n",
       "      <th>12457</th>\n",
       "      <td>B0009VXBAQ</td>\n",
       "      <td>5.0</td>\n",
       "      <td>exactly as expected. no complaints!</td>\n",
       "      <td>2018-04-06</td>\n",
       "      <td>A34S5KKOKVXHUE</td>\n",
       "      <td>Alyse</td>\n",
       "      <td>5 stars</td>\n",
       "      <td>True</td>\n",
       "      <td>0</td>\n",
       "      <td>4</td>\n",
       "      <td>2018</td>\n",
       "    </tr>\n",
       "    <tr>\n",
       "      <th>12458</th>\n",
       "      <td>B0009VXBAQ</td>\n",
       "      <td>5.0</td>\n",
       "      <td>I really like the games from the WII and the w...</td>\n",
       "      <td>2018-04-02</td>\n",
       "      <td>A2Q731BIYCQ60C</td>\n",
       "      <td>xander</td>\n",
       "      <td>great game console, nintendo's original games ...</td>\n",
       "      <td>True</td>\n",
       "      <td>0</td>\n",
       "      <td>4</td>\n",
       "      <td>2018</td>\n",
       "    </tr>\n",
       "    <tr>\n",
       "      <th>12459</th>\n",
       "      <td>B0009VXBAQ</td>\n",
       "      <td>5.0</td>\n",
       "      <td>Loved it but it has so few games!</td>\n",
       "      <td>2018-03-25</td>\n",
       "      <td>A1J8UQNUTU6B9S</td>\n",
       "      <td>Clarissa Arnot</td>\n",
       "      <td>Five Stars</td>\n",
       "      <td>True</td>\n",
       "      <td>0</td>\n",
       "      <td>3</td>\n",
       "      <td>2018</td>\n",
       "    </tr>\n",
       "  </tbody>\n",
       "</table>\n",
       "</div>"
      ],
      "text/plain": [
       "             asin  overall                                         reviewText  \\\n",
       "12457  B0009VXBAQ      5.0                exactly as expected. no complaints!   \n",
       "12458  B0009VXBAQ      5.0  I really like the games from the WII and the w...   \n",
       "12459  B0009VXBAQ      5.0                  Loved it but it has so few games!   \n",
       "\n",
       "      reviewTime      reviewerID    reviewerName  \\\n",
       "12457 2018-04-06  A34S5KKOKVXHUE           Alyse   \n",
       "12458 2018-04-02  A2Q731BIYCQ60C          xander   \n",
       "12459 2018-03-25  A1J8UQNUTU6B9S  Clarissa Arnot   \n",
       "\n",
       "                                                 summary  verified  vote  \\\n",
       "12457                                            5 stars      True     0   \n",
       "12458  great game console, nintendo's original games ...      True     0   \n",
       "12459                                         Five Stars      True     0   \n",
       "\n",
       "       month  year  \n",
       "12457      4  2018  \n",
       "12458      4  2018  \n",
       "12459      3  2018  "
      ]
     },
     "execution_count": 3,
     "metadata": {},
     "output_type": "execute_result"
    }
   ],
   "source": [
    "## import data\n",
    "pklpath = \"./ecommerce/datafiniti-consumer-reviews-of-amazon-products/rating_124.pkl\" #--- NON Stemmed Reviews\n",
    "rating_124 = pd.read_pickle(pklpath)\n",
    "\n",
    "#Deleting all the duplicates having the same userID, Profile, NameTime and Text all in the same column.\n",
    "cleaned_rating_124 =  rating_124.drop_duplicates(subset={\"reviewerID\",\"asin\",\"reviewTime\",\"reviewText\"},keep=\"first\")\n",
    "\n",
    "print('Total Length: {}, Unique user Length: {}, Unique item Length: {}\\n'.format(\n",
    "                                            len(cleaned_rating_124),\n",
    "                                            len(cleaned_rating_124['reviewerID'].unique()),\n",
    "                                            len(cleaned_rating_124['asin'].unique())))\n",
    "cleaned_rating_124.head(3)"
   ]
  },
  {
   "cell_type": "code",
   "execution_count": 4,
   "metadata": {},
   "outputs": [],
   "source": [
    "# ## randomly choose 30000 data\n",
    "# cleaned_rating_39 = cleaned_rating_39.sample(n=30000, random_state=0)\n",
    "# print('Total Length: {}, Unique user Length: {}, Unique item Length: {}\\n'.format(\n",
    "#                                             len(cleaned_rating_39),\n",
    "#                                             len(cleaned_rating_39['reviewerID'].unique()),\n",
    "#                                             len(cleaned_rating_39['asin'].unique())))"
   ]
  },
  {
   "cell_type": "code",
   "execution_count": 5,
   "metadata": {},
   "outputs": [
    {
     "data": {
      "text/plain": [
       "<surprise.dataset.DatasetAutoFolds at 0x10729b9a0>"
      ]
     },
     "execution_count": 5,
     "metadata": {},
     "output_type": "execute_result"
    }
   ],
   "source": [
    "## Read the dataset\n",
    "amazon_ratings_124 = cleaned_rating_124[['reviewerID', 'asin', 'overall']].reset_index(drop=True)\n",
    "reader = Reader(rating_scale=(1, 5))\n",
    "data_124 = Dataset.load_from_df(amazon_ratings_124, reader)\n",
    "data_124"
   ]
  },
  {
   "cell_type": "code",
   "execution_count": 6,
   "metadata": {},
   "outputs": [],
   "source": [
    "## train test datasets split\n",
    "train_set, test_set = train_test_split(data_124, test_size=0.3,random_state=0)"
   ]
  },
  {
   "cell_type": "markdown",
   "metadata": {},
   "source": [
    "## 3. Recommender System\n",
    "A recommender system is a technique to suggest the relevant items to users, based on their preference. There are 3 types; 1) content-based filtering, 2) collaborative filtering, 3) hybrid systems. \n",
    "<center>\n",
    "<img src=\"./img/type.png\" alt=\"Drawing\" style=\"width: 400px;\"/>\n",
    "</center>\n",
    "\n",
    "### 3.1 Content-based Filtering (CBF) System\n",
    "Content-based Filtering is a learning system to recommend by analyzing the feature similarity among items. For instance, based on user's actual ratings for different genre of movies, the system will learn to recommend the genre which is positively rated by the user. \n",
    "<center>\n",
    "<img src=\"./img/content-based.png\" alt=\"Drawing\" style=\"width: 200px;\"/>\n",
    "</center>\n",
    "\n",
    "To measure the similarity between items, various different similarity metrics can be used. Practically, the items in the current amazon data with meta information can be analyzed to extract features like sentiment score, rating score, or TF-IDF score for finding the similarity relationship among the items. However, the more features, the more dimensions we need; due to the curse of dimensionality, features should be well defined as well as similarity metrics. \n",
    "\n",
    "<center>\n",
    "<img src=\"./img/sim_rel.png\" alt=\"Drawing\" style=\"width: 400px;\"/>\n",
    "</center>\n",
    "\n",
    "The popular CBF is 1) Vectorization + Similarlity and 2) TF-IDF. The first method is that the vectorized item can be found similar relationship via similarity metrics, the second one is based on weighing TF (Term-Frequency; number of specific terms that appeared in specific doc) and the specialized terms that appears only specific documents via DF (number of docs that specific terms appeared) because TF does not proportional to importance so it is needed to penaltize the TF.\n",
    "\n",
    "- Pros of CBF\n",
    "    - User Independence: compared to user-based CF which needs other user's information, CBF needs only single user's profile. It has a less computations and may perform better if extracting features for similarity between items is well done.\n",
    "    - Transparency on Feature-Level: it is clear that CBF based on selected features while user-based CF needs other users' interactions. \n",
    "    - Less Cold Start: CF usually faces with Cold Start that if other users have no information related to items. However, CBF has no Cold Start if current user has information like transaction history or rating history.\n",
    "    \n",
    "- Cons of CBF\n",
    "    - Limited Content Analysis: the less information, the less accuate the recommendation (prediction) would be. \n",
    "    - Over-specialization: User may want some new experience (can be measured by novelty), but it is not great that recommended items would be expected all the time. \n",
    "    \n",
    "NOTE: Similarity Metrics can be used by both CBF and Memory-based CF for neighboring. \n",
    "#### Similarity Metrics\n",
    "There are Cosine, MSD (Mean Squared Difference), Pearson (Pearson correlation coefficient), and many other metrics.\n",
    "\n",
    "### 3.2 Collaborative Filtering (CF) System\n",
    "Unlike content-based CF use explicit features such as genre of movies, it is hard to extract important features in most cases with tenmendous amount of data. Then, user-item matrix is simply a starting point to grasp a pattern between users and items. The following figure shows user-item matrix.\n",
    "\n",
    "<center>\n",
    "<img src=\"./img/user_item_mat.png\" alt=\"Drawing\" style=\"width: 400px;\"/>\n",
    "</center>\n",
    "\n",
    "Suppose that items shown above are movie titles. User Alice have rated item 1 to item 4 in the range of [1,5] range, but item 5 (the orange cell in the figure). This matrix helps vectorizing the users' preferences and items' features. Then, how to suggest the movie to individuals based on personal preferance? \n",
    "\n",
    "There are two main appraoches to CF: Model-based and Memory-based. Model-based CF (Latent Factor CF) is based on Factorization of features for users and items while Memory-based CF (neighborhood CF) is based on neighboring an object. If this object is user, the system (called user-based CF) learns the preference similarity between current user and the other users to recommend items. If the object is item, the system (called item-based CF) learns the interactions between items from current user's \"behavior\". \n",
    "\n",
    "<center>\n",
    "<img src=\"./img/model_memory.png\" alt=\"Drawing\" style=\"width: 400px;\"/>\n",
    "</center>\n",
    "\n",
    "> NOTE: Content-based filtering learns **content** of items to find the similarity while item-based CF learns **user behavior** on the items with meta data of current users' interactions through transaction history, ratings, selection (wish-list) information. \n",
    "\n",
    "#### 3.2.1 Model-based CF\n",
    "The most popular model-based CF is SVD, which was used for Netflix competition 2009. SVD vectorizes preferences of users and features of items into two latent vectors; user latent and item latent. This separation is called Matrix Factorization. From the separation, users and items can be projected in a smaller dimension space (dimensionality reduction) to observe preference of users on features of items. These projected users and items should be grouped (clustering). \n",
    "\n",
    "Real world data is often jointly interacted between multiple entities. However, here we are intereted in two entities; users and items, which means the user-item matrix has join interaction between users and items. For instance, user 1 rating item 1 is affected by both the preference of user 1 (affinity to some subjects/categories) and the feature of item 1 (its caracteristic belongs to some subjects/categories); called bimodel. Based on similarity of these pairwise interactions, co-clustering (grouping user side and item side simutaneously) is the main poin in Model-based CF.  \n",
    "\n",
    "Co-clustering works well especially for when pairwise interactions is sparse. Suppose that user 1 and user 2 have similar affinity to same youtube categories. It is clear that user 1 and 2 will watch the same youtube clip becuase copious amount of clips is generated daily. Then the user-item matrix have sparse interactions. In this case, clustering similar users (user-based CF in neighboring) or clustering similar items (item-based CF in neighboring) is not useful for recommendation. When co-clustering overshadow regular unimodel clustering. \n",
    "\n",
    "##### 3.2.1.1 SVD + SGD\n",
    "SVD ,a matrix factorization, vectorize preferences of users and features of items into user latent ($U$) and item latent ($\\Sigma V^T$) (more concisely $U\\sqrt{\\Sigma}$ and $\\sqrt{\\Sigma}V^T$). \n",
    "\n",
    "<center>\n",
    "<img src=\"./img/svd.png\" alt=\"Drawing\" style=\"width: 400px;\"/>\n",
    "</center>\n",
    "\n",
    "The user latent factor and item latent factor with $\\Sigma}$ which represents significance of those factors. This helps the singular values compressed the representation by $k$. In factorization, $k$, which is an adjustable number of features to describe preference of users for subjects/categories and features of items belongs to subjects/categories, can be selected to vertorize users and items with important features (largest singular values), ignoring the rest. It is called Truncated SVD. \n",
    "\n",
    "Estimated rating $\\hat{r}_(u,i)$ is defined as following:\n",
    "$$\\hat{r}_(u,i) = U_u\\cdot V_i^T$$\n",
    "> NOTE: It may be confusing that I used $U$ and $V$ for user latent and item latent, but to be accurate, $U$ is actually $U\\sqrt{\\Sigma}$, and $V$ is $\\sqrt{\\Sigma}V^T$.\n",
    "\n",
    "However, bias can be added to avoid overfitting.\n",
    "\n",
    "$$\\hat{r}_(u,i) = U(u)\\cdot V(i)^T + \\mu + b(u) + b(i)$$\n",
    "\n",
    "Where $\\hat{r}(u,i)$ is estimated rating from user u for item i, $U(u)$ user vector ($1\\times k$), $V(i)$ item feature vector ($1\\times k$), and $\\mu$ is mean of all the actual ratings, $b(u)$ is user bias, and $b(i)$ is item bias.\n",
    "\n",
    "For better optimization, loss function can be the following. \n",
    "\n",
    "$$\\min_{U,V}L = \\frac{1}{2} \\sum_{u,i \\in R_{train}} (r(u,i)-\\hat{r}(u,i))^2 + \\lambda (b(u)^2 + b(i)^2 + ||U_u||^2 + ||V_i||^2)$$\n",
    "\n",
    "Note that $U_u \\cdot V_i^T = <U_u,V_i> = \\sum_{s=1}^k u_{us}v_{is}$\n",
    "\n",
    "The system learns how to predict unknown ratings by fitting the past observed actual ratings and penaltizing the squared magnitude of latent matrix U and V with $\\lambda$.\n",
    "\n",
    "The minimization can be solved by using SGD (Stochastic Gradient Descent). The error $e(u,i)$ modifies the parameters of $U$ and $V$ by a magnitude proportional to $\\lambda$ in opposite direction of the gradient, minimizing the loss function $L$. \n",
    "\n",
    "$$L = \\frac{1}{2} e(u,i)^2 + \\frac{1}{2} (||U_u||^2 + ||V_i||^2 + b(u)^2 + b(i)^2$$\n",
    "\n",
    "Where $e(u,i) = r(u,i) - U_u \\cdot V_i^T$.\n",
    "\n",
    "Gradient updates: \n",
    "$$\\frac{\\partial}{\\partial U_u}L(U,V) = e(u,i)(-V_i^T)+\\lambda ||U_u||$$\n",
    "$$\\frac{\\partial}{\\partial V_i}L(U,V) = e(u,i)(-U_u^T)+\\lambda ||V_i||$$\n",
    "\n",
    "Bias updates: \n",
    "$$b(u) \\leftarrow b(u) + \\eta (e(u,i) - \\lambda b(u))$$\n",
    "$$b(i) \\leftarrow b(i) + \\eta (e(u,i) - \\lambda b(i))$$\n",
    "\n",
    "User and Item latent matrix updates:\n",
    "$$U_u \\leftarrow U_u - \\eta \\frac{\\partial}{\\partial U_u}L(U,V)$$\n",
    "$$V_i \\leftarrow V_i - \\eta \\frac{\\partial}{\\partial V_i}L(U,V)$$\n",
    "\n",
    "This process repeated until $L$ converges. \n",
    "\n",
    "##### 3.2.1.2 SVD + ALS \n",
    "Back to minimization of $L$, we have $L$ added with regularization (penalty) term to avoid overfitting. However, this addition makes the loss function non-convex. ALS is the idea of using only the error term $r(u,i)-<U_u,V_i>$ in linear regression if we fix one side. This error term can be expressed as $y - X\\beta$. Then, we can find $\\beta$ by solving $\\beta=(X^TX)^{-1}X^Ty$. \n",
    "\n",
    "As a reminder, we need to cluster user latent $U$ and item latent $V$. With fixed $V$, we can modulate $U$. Now, we can modulate $V$ with fixed $U$. This repeatative process works alternatively until the loss converges. \n",
    "\n",
    "> NOTE: since linear regression solution is unique and guarantees a minimal MSE, loss function never increases (either decreases or stays the same). Thus, convergence works. \n",
    "\n",
    "Loss function for user latent and item latent.\n",
    "\n",
    "$$L(U_u) = ||e(u)||^2 + \\lambda ||U_u||^2 $$\n",
    "\n",
    "$$L(V_i) = ||e(i)||^2 + \\lambda ||V_i||^2 $$\n",
    "\n",
    "Where $e(u) = R_u - <U_u, V>$, $e(i) = R_i - <U, V_i>$; $e(u)$ is the error for user u's rating over all the items such that $R_u$ is a rating vector of user u from $R$. Similarly, $e(i)$ is the error for item i's rating by all the users such that $R_i$ is a rating vector of item i from $R$.\n",
    "\n",
    "Modulate user latent $U$ with constant (considered) fixed item latent $V$ \n",
    "$$U_u = ((V^T\\cdot V + \\lambda I)^{-1}V^T \\cdot R_u^T)^T$$\n",
    "\n",
    "Modulate item latent $V$ with constant (considered) fixed user latent $U$ \n",
    "$$V_i = ((U^T\\cdot U + \\lambda I)^{-1}U^T \\cdot R_i^T)^T$$\n",
    "\n",
    "Since the unknown r(u,i) should be replaced by 0 and not be computed for loss, the modified loss function $L$ is follwing:\n",
    "\n",
    "$$L = \\sum_{u}w_{u,i}||r(u,i) - U_u \\cdot V_i^T||^2 + \\lambda (||U_u||^2+||V_i||^2)$$\n",
    "\n",
    "Where $w_{u,i}$ is 1 if $r(u,i)!=0$ (actual rating is known), $w_{u,i}$ is 0 if $r(u,i)==0$ (actual rating is unknown). \n",
    "\n",
    "User latent $U$ updates with constant $V$:\n",
    "$$U_u \\leftarrow ((V^T\\cdot w_u V + \\lambda I)^{-1}V^T \\cdot w_u R_u^T)^T$$\n",
    "$$U_u \\leftarrow \\sum_{u,i \\in R_{train}}(V_i^T\\cdot w_u V_i + \\lambda I_k)^{-1}\\sum_{u,i \\in R_{train}} r(u,i)V_i$$\n",
    "\n",
    "User latent $V$ updates with constant $U$:\n",
    "$$V_i \\leftarrow ((U^T\\cdot w_i U + \\lambda I)^{-1}U^T \\cdot w_i R_i^T)^T$$\n",
    "$$V_i \\leftarrow \\sum_{u,i \\in R_{train}}(U_u^T\\cdot w_i U_u + \\lambda I_k)^{-1}\\sum_{u,i \\in R_{train}} r(u,i)U_u$$\n",
    "\n",
    "For the computional cost, $O(n_u \\cdot k^2 + k^3)$ for $U_u$ update where $n_u$ is the number of actual ratings of user u. Similarly, $O(n_i \\cdot k^2 + k^3)$ for $V_i$ update where $n_i$ is the number of actual ratings of item i by users. It means that the cost for estimatng r(u,i) is $O(nmk)$.\n",
    "\n",
    "#### 3.2.2 Memory-based CF\n",
    "Memory-based CF has user-based CF and item-based CF. \n",
    "User-based CF finds similar users via transaction history or rating patterns and recommends the item that current user has not purchased or rated. On the other hand, Item-based CF learns similarity patterns between items with meta inforamtion and recommends similar items to current user. The following figure shows the difference between user-based CF and item-based CF.\n",
    "\n",
    "<center>\n",
    "<img src=\"./img/userB_itemB.png\" alt=\"Drawing\" style=\"width: 400px;\"/>\n",
    "</center>\n",
    "\n",
    "##### 3.2.2.1 KNN\n",
    "\n",
    "The basic neighboring algorithm is KNN (K-Nearest Neighbors). Depending on object's definition, one specific object finds k nearest neighbors and similar objects to the current one can be determined for recommendation. \n",
    "\n",
    "<center>\n",
    "<img src=\"./img/knn.png\" alt=\"Drawing\" style=\"width: 250px;\"/>\n",
    "</center>\n",
    "\n",
    "If the object is defined as user, the system finds k number of similar users surrounded by current one and recommends the items that current user hasn't purchase but other similar users bought. Similarly, if the object is defined as item, the system finds k number of similar items that current user hasn't bought and recommends the items. The type of similarity metric affects the performance. The following shows formulae for user-based vs. item-based. \n",
    "\n",
    "1. Cosine\n",
    "For similarity between user u and v\n",
    "$$cosine\\_sim(u,v) = \\frac{\\sum_{i\\in I(u,v)} r(u,i) \\cdot r(v,i)}{\\sqrt{\\sum_{i\\in I(u,v)} r(u,i)^2}\\cdot {\\sqrt{\\sum_{i\\in I(u,v)} r(v,i)^2}}}$$\n",
    "\n",
    "Where $I(u,v)$ is the item set for user u and v, $r(u,i)$ is actual rating that user u gave item i, and $r(v,i)$ is actual rating from user v for item i.\n",
    "\n",
    "For similarity between item i and j\n",
    "$$cosine\\_sim(i,j) = \\frac{\\sum_{u\\in U(i,j)} r(u,i) \\cdot r(u,j)}{\\sqrt{\\sum_{u\\in U(i,j)} r(u,i)^2}\\cdot {\\sqrt{\\sum_{u\\in U(i,j)} r(u,j)^2}}}$$\n",
    "\n",
    "Where $U(i,j)$ is the user set for item i and j, $r(u,i)$ is actual rating that user u gave item i, and $r(u,j)$ is actual rating from user u for item j.\n",
    "\n",
    "2. MSD (Mean Squared Distance)\n",
    "For similarity between user u and v\n",
    "$$msd\\_sim(u,v) = \\frac{1}{\\frac{1}{|I(u,v)|\\cdot \\sum_{i\\in I(u,v)} (r(u,i)-r(v,i))^2}+1}$$\n",
    "\n",
    "Where $I(u,v)$ is the item set for user u and v, $r(u,i)$ is actual rating that user u gave item i, and $r(v,i)$ is actual rating from user v for item i.\n",
    "\n",
    "For similarity between item i and j\n",
    "$$msd\\_sim(i,j) = \\frac{1}{\\frac{1}{|U(i,j)|\\cdot \\sum_{u\\in U(i,j)} (r(u,i)-r(u,j))^2}+1}$$\n",
    "\n",
    "Where $U(i,j)$ is the user set for item i and j, $r(u,i)$ is actual rating that user u gave item i, and $r(u,j)$ is actual rating from user u for item j.\n",
    "\n",
    "3. Pearson (Centered Cosine)\n",
    "For similarity between user u and v\n",
    "$$pearson\\_sim(u,v) = \\frac{\\sum_{i\\in I(u,v)} (r(u,i)-\\mu_u) \\cdot (r(v,i)-\\mu_v)}{\\sqrt{\\sum_{i\\in I(u,v)} (r(u,i)-\\mu_u)^2}\\cdot {\\sqrt{\\sum_{i\\in I(u,v)} (r(v,i)-\\mu_v)^2}}}$$\n",
    "\n",
    "Where $I(u,v)$ is the item set for user u and v, $r(u,i)$ is actual rating that user u gave item i, $r(v,i)$ is actual rating from user v for item i, $\\mu_u$ and $\\mu_v$ are mean of ratings for user u and mean of ratings for user v.\n",
    "\n",
    "For similarity between item i and j\n",
    "$$pearson\\_sim(i,j) = \\frac{\\sum_{u\\in U(i,j)} (r(u,i)-\\mu_i) \\cdot (r(u,j)-\\mu_j)}{\\sqrt{\\sum_{u\\in U(i,j)} (r(u,i)-\\mu_i)^2}\\cdot {\\sqrt{\\sum_{u\\in U(i,j)} (r(u,j)-\\mu_j)^2}}}$$\n",
    "\n",
    "Where $U(i,j)$ is the user set for item i and j, $r(u,i)$ is actual rating that user u gave item i, and $r(u,j)$ is actual rating from user u for item j, $\\mu_i$ and $\\mu_j$ are mean of ratings for item i and mean of ratings for item j.\n",
    "\n",
    "By using this similarity metrics, KNN model estimates the rating that current user hasn't rated. \n",
    "\n",
    "For user-based CF for current user u and other users v,\n",
    "$$\\hat{r}(u,i) = \\frac{\\sum_{v\\in N_i^k(u)} sim(u,v) \\cdot r(v,i)}{\\sum_{v\\in N_i^k(u)} sim(u,v)}$$\n",
    "\n",
    "Where $\\hat{r}(u,i)$ is estimated rating from user u for item i, $N_i^k(u)$ is k nearest neighborset of user u that have rated item i.\n",
    "\n",
    "For item-based CF for current item i and other items j,\n",
    "$$\\hat{r}(u,i) = \\frac{\\sum_{j\\in N_u^k(i)} sim(i,j) \\cdot r(u,j)}{\\sum_{j\\in N_u^k(i)} sim(i,j)}$$\n",
    "\n",
    "Where $\\hat{r}(u,i)$ is estimated rating from user u for item i, $N_u^k(i)$ is k nearest neighborset of item i that hae been rated by user u.\n",
    "\n",
    "KNN suffers with cold start especially when user-based CF is used. It also focuses only top-k nearest ones with similarity. \n",
    "\n",
    "### 3.3 Hybrid Systems\n",
    "\n",
    "Hybrid system is a mixture of multiple recommendation techniques to take advantages of both CBF and CF.\n",
    "\n",
    "## 4. Recommender System Practice\n",
    "### 4.1 Surprise Baseline CF \n",
    "Surprise is built for CF techniques with both Memory-based CF and Model-based CF. Its baseline model outputs the prediction of rating $\\hat{r}(u,i)$ by taking inputs of userID $u$ and itemID $i$ from what it leant based on actual ratings $r(u,i)$\n",
    "\n",
    "$$ \\hat{r}(u,i) = \\mu + b(u) + b(i) $$\n",
    "Where $u$ is user, $i$ is item, $b(u)$ is bias of user as adjustment of ratings for the user $b(i)$ is bias of item as adjustment of ratings for the item.\n",
    "\n",
    "The error is defined as the squre of difference between actural rating and estimated rating; the equation is shown below. \n",
    "\n",
    "$$\\sum_{u,i \\in R_{train}} (r(u,i) - \\hat{r}(u,i))^2$$\n",
    "Where $R_{train}$ is the train dataset that contains actual ratings. \n",
    "\n",
    "However, L2 regulation was applied to avoid overfitting.\n",
    "\n",
    "$$\\sum_{u,i \\in R_{train}} (r(u,i) - \\hat{r}(u,i))^2 + \\lambda (b(u)^2 + b(i)^2)$$\n",
    "\n"
   ]
  },
  {
   "cell_type": "code",
   "execution_count": 7,
   "metadata": {},
   "outputs": [
    {
     "name": "stdout",
     "output_type": "stream",
     "text": [
      "####################\n",
      "# Baseline: SGD\n",
      "####################\n",
      "Estimating biases using sgd...\n",
      "RMSE: 0.9483\n",
      "Estimating biases using sgd...\n",
      "RMSE: 0.9629\n",
      "Estimating biases using sgd...\n",
      "RMSE: 0.9551\n",
      "mean of RMSE 3 fold: 0.96\n",
      "\n",
      "####################\n",
      "# Baseline: ALS\n",
      "####################\n",
      "Estimating biases using als...\n",
      "RMSE: 0.9355\n",
      "Estimating biases using als...\n",
      "RMSE: 0.9512\n",
      "Estimating biases using als...\n",
      "RMSE: 0.9425\n",
      "mean of RMSE 3 fold: 0.94\n",
      "\n"
     ]
    }
   ],
   "source": [
    "from surprise.model_selection import KFold\n",
    "print(\"#\"*20)\n",
    "print(\"# Baseline: SGD\")\n",
    "print(\"#\"*20)\n",
    "\n",
    "## SGD (Stochastic Gradient Descent) parameter\n",
    "## reg: default (0.02) 𝜆 lambda\n",
    "## learning_rate: default (0.005) \n",
    "## n_epochs: default (20)\n",
    "\n",
    "sgdbsl_options = {\n",
    "    'method': 'sgd',\n",
    "    'n_epochs': 5,\n",
    "    'learning_rate': 0.005,\n",
    "    'reg': 0.02\n",
    "}\n",
    "sgd = surprise.BaselineOnly(sgdbsl_options)\n",
    "\n",
    "np.random.seed(0)\n",
    "acc_sgd = np.zeros(3)\n",
    "cv = KFold(3)\n",
    "for i, (train_set, test_set) in enumerate(cv.split(data_124)):\n",
    "    sgd.fit(train_set)\n",
    "    predictions = sgd.test(test_set)\n",
    "    acc_sgd[i] = surprise.accuracy.rmse(predictions, verbose=True)\n",
    "print(f\"mean of RMSE 3 fold: {acc_sgd.mean():.2f}\\n\")\n",
    "\n",
    "## ALS (Alternating Least Squares) parameter\n",
    "## reg_i: default (0.02) lambda\n",
    "## learning_rate: default (0.005)\n",
    "## n_epochs: default (20)\n",
    "\n",
    "print(\"#\"*20)\n",
    "print(\"# Baseline: ALS\")\n",
    "print(\"#\"*20)\n",
    "\n",
    "alsbsl_options = {\n",
    "    'method': 'als',\n",
    "    'n_epochs': 5,\n",
    "    'reg_u': 12,\n",
    "    'reg_i': 5\n",
    "}\n",
    "als = surprise.BaselineOnly(alsbsl_options)\n",
    "\n",
    "np.random.seed(0)\n",
    "acc_als = np.zeros(3)\n",
    "cv = KFold(3)\n",
    "for i, (train_set, test_set) in enumerate(cv.split(data_124)):\n",
    "    als.fit(train_set)\n",
    "    predictions = als.test(test_set)\n",
    "    acc_als[i] = surprise.accuracy.rmse(predictions, verbose=True)\n",
    "print(f\"mean of RMSE 3 fold: {acc_als.mean():.2f}\\n\")\n"
   ]
  },
  {
   "cell_type": "markdown",
   "metadata": {},
   "source": [
    "Let's check the sparsity of user-item matrix. "
   ]
  },
  {
   "cell_type": "code",
   "execution_count": 8,
   "metadata": {},
   "outputs": [
    {
     "name": "stdout",
     "output_type": "stream",
     "text": [
      "(23789, 241)\n"
     ]
    },
    {
     "data": {
      "text/html": [
       "<div>\n",
       "<style scoped>\n",
       "    .dataframe tbody tr th:only-of-type {\n",
       "        vertical-align: middle;\n",
       "    }\n",
       "\n",
       "    .dataframe tbody tr th {\n",
       "        vertical-align: top;\n",
       "    }\n",
       "\n",
       "    .dataframe thead th {\n",
       "        text-align: right;\n",
       "    }\n",
       "</style>\n",
       "<table border=\"1\" class=\"dataframe\">\n",
       "  <thead>\n",
       "    <tr style=\"text-align: right;\">\n",
       "      <th>asin</th>\n",
       "      <th>B0009VXBAQ</th>\n",
       "      <th>B000B9RI14</th>\n",
       "      <th>B000ERVMI8</th>\n",
       "      <th>B000FO4KO8</th>\n",
       "      <th>B000FQ9R4E</th>\n",
       "      <th>B000FRU0NU</th>\n",
       "      <th>B000FRU1UM</th>\n",
       "      <th>B000HZFCT2</th>\n",
       "      <th>B000IMYKQ0</th>\n",
       "      <th>B000P46NMA</th>\n",
       "      <th>...</th>\n",
       "      <th>B018K6KV68</th>\n",
       "      <th>B019J6RYCW</th>\n",
       "      <th>B019OB663A</th>\n",
       "      <th>B01C93CWSI</th>\n",
       "      <th>B01C93CWU6</th>\n",
       "      <th>B01F9HMO2K</th>\n",
       "      <th>B01GKGVI8U</th>\n",
       "      <th>B01GW3ODBU</th>\n",
       "      <th>B01GW3P9PE</th>\n",
       "      <th>B01GW3POY0</th>\n",
       "    </tr>\n",
       "    <tr>\n",
       "      <th>reviewerID</th>\n",
       "      <th></th>\n",
       "      <th></th>\n",
       "      <th></th>\n",
       "      <th></th>\n",
       "      <th></th>\n",
       "      <th></th>\n",
       "      <th></th>\n",
       "      <th></th>\n",
       "      <th></th>\n",
       "      <th></th>\n",
       "      <th></th>\n",
       "      <th></th>\n",
       "      <th></th>\n",
       "      <th></th>\n",
       "      <th></th>\n",
       "      <th></th>\n",
       "      <th></th>\n",
       "      <th></th>\n",
       "      <th></th>\n",
       "      <th></th>\n",
       "      <th></th>\n",
       "    </tr>\n",
       "  </thead>\n",
       "  <tbody>\n",
       "    <tr>\n",
       "      <th>A0220159ZRNBTRKLG08H</th>\n",
       "      <td>0</td>\n",
       "      <td>0</td>\n",
       "      <td>0</td>\n",
       "      <td>0</td>\n",
       "      <td>0</td>\n",
       "      <td>0</td>\n",
       "      <td>0</td>\n",
       "      <td>0</td>\n",
       "      <td>0</td>\n",
       "      <td>0</td>\n",
       "      <td>...</td>\n",
       "      <td>0</td>\n",
       "      <td>0</td>\n",
       "      <td>0</td>\n",
       "      <td>0</td>\n",
       "      <td>0</td>\n",
       "      <td>0</td>\n",
       "      <td>0</td>\n",
       "      <td>0</td>\n",
       "      <td>0</td>\n",
       "      <td>0</td>\n",
       "    </tr>\n",
       "    <tr>\n",
       "      <th>A0277912HT4JSJKVSL3E</th>\n",
       "      <td>0</td>\n",
       "      <td>0</td>\n",
       "      <td>0</td>\n",
       "      <td>0</td>\n",
       "      <td>0</td>\n",
       "      <td>0</td>\n",
       "      <td>0</td>\n",
       "      <td>0</td>\n",
       "      <td>0</td>\n",
       "      <td>0</td>\n",
       "      <td>...</td>\n",
       "      <td>0</td>\n",
       "      <td>0</td>\n",
       "      <td>0</td>\n",
       "      <td>0</td>\n",
       "      <td>0</td>\n",
       "      <td>0</td>\n",
       "      <td>0</td>\n",
       "      <td>0</td>\n",
       "      <td>0</td>\n",
       "      <td>0</td>\n",
       "    </tr>\n",
       "    <tr>\n",
       "      <th>A02836981FYG9912C66F</th>\n",
       "      <td>0</td>\n",
       "      <td>0</td>\n",
       "      <td>0</td>\n",
       "      <td>0</td>\n",
       "      <td>0</td>\n",
       "      <td>0</td>\n",
       "      <td>0</td>\n",
       "      <td>0</td>\n",
       "      <td>0</td>\n",
       "      <td>0</td>\n",
       "      <td>...</td>\n",
       "      <td>0</td>\n",
       "      <td>0</td>\n",
       "      <td>0</td>\n",
       "      <td>0</td>\n",
       "      <td>0</td>\n",
       "      <td>0</td>\n",
       "      <td>0</td>\n",
       "      <td>0</td>\n",
       "      <td>0</td>\n",
       "      <td>0</td>\n",
       "    </tr>\n",
       "  </tbody>\n",
       "</table>\n",
       "<p>3 rows × 241 columns</p>\n",
       "</div>"
      ],
      "text/plain": [
       "asin                  B0009VXBAQ  B000B9RI14  B000ERVMI8  B000FO4KO8  \\\n",
       "reviewerID                                                             \n",
       "A0220159ZRNBTRKLG08H           0           0           0           0   \n",
       "A0277912HT4JSJKVSL3E           0           0           0           0   \n",
       "A02836981FYG9912C66F           0           0           0           0   \n",
       "\n",
       "asin                  B000FQ9R4E  B000FRU0NU  B000FRU1UM  B000HZFCT2  \\\n",
       "reviewerID                                                             \n",
       "A0220159ZRNBTRKLG08H           0           0           0           0   \n",
       "A0277912HT4JSJKVSL3E           0           0           0           0   \n",
       "A02836981FYG9912C66F           0           0           0           0   \n",
       "\n",
       "asin                  B000IMYKQ0  B000P46NMA  ...  B018K6KV68  B019J6RYCW  \\\n",
       "reviewerID                                    ...                           \n",
       "A0220159ZRNBTRKLG08H           0           0  ...           0           0   \n",
       "A0277912HT4JSJKVSL3E           0           0  ...           0           0   \n",
       "A02836981FYG9912C66F           0           0  ...           0           0   \n",
       "\n",
       "asin                  B019OB663A  B01C93CWSI  B01C93CWU6  B01F9HMO2K  \\\n",
       "reviewerID                                                             \n",
       "A0220159ZRNBTRKLG08H           0           0           0           0   \n",
       "A0277912HT4JSJKVSL3E           0           0           0           0   \n",
       "A02836981FYG9912C66F           0           0           0           0   \n",
       "\n",
       "asin                  B01GKGVI8U  B01GW3ODBU  B01GW3P9PE  B01GW3POY0  \n",
       "reviewerID                                                            \n",
       "A0220159ZRNBTRKLG08H           0           0           0           0  \n",
       "A0277912HT4JSJKVSL3E           0           0           0           0  \n",
       "A02836981FYG9912C66F           0           0           0           0  \n",
       "\n",
       "[3 rows x 241 columns]"
      ]
     },
     "execution_count": 8,
     "metadata": {},
     "output_type": "execute_result"
    }
   ],
   "source": [
    "user_item_mat = amazon_ratings_124.pivot_table(index='reviewerID', values='overall', columns='asin', fill_value=0)\n",
    "print(user_item_mat.shape)\n",
    "user_item_mat.head(3)\n",
    "## Unique users: 23789, Unique items: 241"
   ]
  },
  {
   "cell_type": "code",
   "execution_count": 9,
   "metadata": {},
   "outputs": [
    {
     "name": "stdout",
     "output_type": "stream",
     "text": [
      "(23789, 241)\n"
     ]
    },
    {
     "data": {
      "text/plain": [
       "array([[0., 0., 0., 0., 0.],\n",
       "       [0., 0., 0., 0., 0.],\n",
       "       [0., 0., 0., 0., 0.],\n",
       "       [0., 0., 0., 0., 0.],\n",
       "       [0., 0., 0., 0., 0.]])"
      ]
     },
     "execution_count": 9,
     "metadata": {},
     "output_type": "execute_result"
    }
   ],
   "source": [
    "np_user_item_mat = user_item_mat.to_numpy()\n",
    "print(np_user_item_mat.shape)\n",
    "np_user_item_mat[:5, :5]"
   ]
  },
  {
   "cell_type": "code",
   "execution_count": 10,
   "metadata": {},
   "outputs": [
    {
     "data": {
      "text/plain": [
       "(array([    0,     1,     1, ..., 23787, 23788, 23788]),\n",
       " array([ 14, 104, 185, ..., 187,  71,  91]))"
      ]
     },
     "execution_count": 10,
     "metadata": {},
     "output_type": "execute_result"
    }
   ],
   "source": [
    "## np.nonzero() outputs the non-zero (array of rows), (array of cols)\n",
    "np_user_item_mat.nonzero()"
   ]
  },
  {
   "cell_type": "code",
   "execution_count": 11,
   "metadata": {},
   "outputs": [
    {
     "data": {
      "text/plain": [
       "5.0"
      ]
     },
     "execution_count": 11,
     "metadata": {},
     "output_type": "execute_result"
    }
   ],
   "source": [
    "np_user_item_mat[0][14]"
   ]
  },
  {
   "cell_type": "code",
   "execution_count": 12,
   "metadata": {},
   "outputs": [
    {
     "name": "stdout",
     "output_type": "stream",
     "text": [
      "Sparsity: 99.14%\n"
     ]
    }
   ],
   "source": [
    "## sparsity = num of zero elements / total elements\n",
    "sparsity = 1-float(len(np_user_item_mat.nonzero()[0])) / (np_user_item_mat.shape[0] * np_user_item_mat.shape[1])\n",
    "print('Sparsity: {:4.2f}%'.format(sparsity*100))"
   ]
  },
  {
   "cell_type": "code",
   "execution_count": 13,
   "metadata": {},
   "outputs": [
    {
     "data": {
      "image/png": "[encoded data removed]",
      "text/plain": [
       "<Figure size 432x288 with 1 Axes>"
      ]
     },
     "metadata": {
      "needs_background": "light"
     },
     "output_type": "display_data"
    }
   ],
   "source": [
    "fig, ax = plt.subplots(1,1,figsize=(6,4))\n",
    "## 300 users x 241 items\n",
    "plt.imshow(np_user_item_mat[:300])\n",
    "plt.grid(False)\n",
    "plt.xlabel(\"item\")\n",
    "plt.ylabel(\"user\")\n",
    "plt.title(\"Rate Matrix\")\n",
    "plt.show()"
   ]
  },
  {
   "cell_type": "markdown",
   "metadata": {},
   "source": [
    "### 4.2 Item-based CF by Surprise\n",
    "\n",
    "Memory-based CF finds similarity between objects (either users or items) with the neighboring method. For Item-based CF, the object is defined as an item so that the system learns the interactions between items from current user's \"behavior\" to recommend the items similar to the items that current user have positively rated. KNN algorithm was introduced, but upgraded version of KNN (`KNNWithMeans()`) was used. While KNN naively finds the similar items (or user), `KNNWithMeans()` subtract the mean value of item (or user) ratings to modulate users' judgement based on mean rating just like the relationship between Cosine and Pearson similarities. It is important because each user has different createria of rating for items. An interesting fact is that Item-based CF works better than User-based one for the old items because item mean rating is not extremely affected by one user's rating whreas user mean rating is sensitive. "
   ]
  },
  {
   "cell_type": "code",
   "execution_count": null,
   "metadata": {},
   "outputs": [],
   "source": []
  },
  {
   "cell_type": "code",
   "execution_count": 14,
   "metadata": {},
   "outputs": [
    {
     "name": "stdout",
     "output_type": "stream",
     "text": [
      "Estimating biases using als...\n",
      "Computing the pearson_baseline similarity matrix...\n",
      "Done computing similarity matrix.\n"
     ]
    },
    {
     "data": {
      "text/plain": [
       "<surprise.prediction_algorithms.knns.KNNWithMeans at 0x104075be0>"
      ]
     },
     "execution_count": 14,
     "metadata": {},
     "output_type": "execute_result"
    }
   ],
   "source": [
    "## Use user_based true/false to switch between user-based or item-based collaborative filtering\n",
    "knn = KNNWithMeans(k=5, sim_options={'name': 'pearson_baseline', 'user_based': False})\n",
    "knn.fit(train_set)"
   ]
  },
  {
   "cell_type": "code",
   "execution_count": 15,
   "metadata": {},
   "outputs": [
    {
     "data": {
      "text/plain": [
       "[Prediction(uid='A3KF2QPB634EIA', iid='B0015AARJI', r_ui=5.0, est=4.522388059701493, details={'actual_k': 0, 'was_impossible': False}),\n",
       " Prediction(uid='A2W1P0P5XCFA96', iid='B00IAVDOS6', r_ui=5.0, est=4.493459302325581, details={'was_impossible': True, 'reason': 'User and/or item is unknown.'})]"
      ]
     },
     "execution_count": 15,
     "metadata": {},
     "output_type": "execute_result"
    }
   ],
   "source": [
    "## run the trained model for the test_set\n",
    "## uid: userID, iid: itemID, r_ui: rating that user gave for the item, est: rating estimation (prediction)\n",
    "test_pred = knn.test(test_set)\n",
    "test_pred[:2]"
   ]
  },
  {
   "cell_type": "code",
   "execution_count": 16,
   "metadata": {},
   "outputs": [
    {
     "data": {
      "text/plain": [
       "[Prediction(uid='A32JCWTAULEMW6', iid='B00BI83EVU', r_ui=4.493459302325581, est=4.2152466367713, details={'actual_k': 0, 'was_impossible': False}),\n",
       " Prediction(uid='A32JCWTAULEMW6', iid='B00DDXILBQ', r_ui=4.493459302325581, est=3.742857142857143, details={'actual_k': 0, 'was_impossible': False})]"
      ]
     },
     "execution_count": 16,
     "metadata": {},
     "output_type": "execute_result"
    }
   ],
   "source": [
    "## run the trained model for the train_set\n",
    "## uid: userID, iid: itemID, r_ui: rating that user gave for the item, est: rating estimation (prediction)\n",
    "anti_testset = train_set.build_anti_testset()\n",
    "anti_testset_pred = knn.test(anti_testset)\n",
    "anti_testset_pred[:2]"
   ]
  },
  {
   "cell_type": "code",
   "execution_count": 17,
   "metadata": {},
   "outputs": [
    {
     "name": "stdout",
     "output_type": "stream",
     "text": [
      "Item-based Model : Test Set\n",
      "RMSE:  0.9884168840276029\n",
      "MAE:  0.6422860068166297\n",
      "\n",
      "Item-based Model : Train Set\n",
      "RMSE:  0.45600920543561074\n",
      "MAE:  0.2928807296711103\n"
     ]
    }
   ],
   "source": [
    "## RMSE\n",
    "print(\"Item-based Model : Test Set\")\n",
    "print(\"RMSE: \", rm.RMSE(test_pred))\n",
    "print(\"MAE: \", rm.MAE(test_pred))\n",
    "print()\n",
    "\n",
    "print(\"Item-based Model : Train Set\")\n",
    "print(\"RMSE: \", rm.RMSE(anti_testset_pred))\n",
    "print(\"MAE: \", rm.MAE(anti_testset_pred))"
   ]
  },
  {
   "cell_type": "code",
   "execution_count": 49,
   "metadata": {},
   "outputs": [
    {
     "name": "stdout",
     "output_type": "stream",
     "text": [
      "A2W1P0P5XCFA96 [('B00IAVDOS6', 4.493459302325581), ('B00503E8S2', 4.493459302325581)]\n"
     ]
    }
   ],
   "source": [
    "## pred for all data\n",
    "all_pred = test_pred+anti_testset_pred\n",
    "topN_pred = rm.GetTopN(all_pred, n=10)\n",
    "\n",
    "## the top 1 predicted items for user A3KF2QPB634EIA\n",
    "for userID, items in itertools.islice(topN_pred.items(), 1):\n",
    "    print(x, y)\n"
   ]
  },
  {
   "cell_type": "code",
   "execution_count": 24,
   "metadata": {},
   "outputs": [
    {
     "name": "stdout",
     "output_type": "stream",
     "text": [
      "Hit Rate:  0.4811943552782993\n"
     ]
    }
   ],
   "source": [
    "## Hit rate by using top 10 predictions\n",
    "print(\"Hit Rate: \", rm.HitRate(topN_pred, test_pred))"
   ]
  },
  {
   "cell_type": "code",
   "execution_count": 25,
   "metadata": {},
   "outputs": [
    {
     "name": "stdout",
     "output_type": "stream",
     "text": [
      "rHR (Hit Rate by Rating value): \n",
      "1.0 0.47833333333333333\n",
      "2.0 0.4231536926147705\n",
      "3.0 0.413953488372093\n",
      "4.0 0.3862736471623405\n",
      "5.0 0.5076272591610015\n"
     ]
    }
   ],
   "source": [
    "## Break down hit rate by rating value\n",
    "print(\"rHR (Hit Rate by Rating value): \")\n",
    "rm.RatingHitRate(topN_pred, test_pred)"
   ]
  },
  {
   "cell_type": "code",
   "execution_count": 26,
   "metadata": {},
   "outputs": [
    {
     "name": "stdout",
     "output_type": "stream",
     "text": [
      "cHR (Cumulative Hit Rate, rating >= 4): \n"
     ]
    },
    {
     "data": {
      "text/plain": [
       "0.48838507150331356"
      ]
     },
     "execution_count": 26,
     "metadata": {},
     "output_type": "execute_result"
    }
   ],
   "source": [
    "## See how often we recommended a movie the user actually liked\n",
    "print(\"cHR (Cumulative Hit Rate, rating >= 4): \")\n",
    "rm.CumulativeHitRate(topN_pred, test_pred, 4.0)"
   ]
  },
  {
   "cell_type": "code",
   "execution_count": 27,
   "metadata": {},
   "outputs": [
    {
     "name": "stdout",
     "output_type": "stream",
     "text": [
      "ARHR (Average Reciprocal Hit Rank): \n"
     ]
    },
    {
     "data": {
      "text/plain": [
       "0.4290059633164212"
      ]
     },
     "execution_count": 27,
     "metadata": {},
     "output_type": "execute_result"
    }
   ],
   "source": [
    "## Compute ARHR\n",
    "print(\"ARHR (Average Reciprocal Hit Rank): \")\n",
    "rm.AverageReciprocalHitRank(topN_pred, test_pred)"
   ]
  },
  {
   "cell_type": "code",
   "execution_count": 28,
   "metadata": {},
   "outputs": [
    {
     "name": "stdout",
     "output_type": "stream",
     "text": [
      "User coverage: \n"
     ]
    },
    {
     "data": {
      "text/plain": [
       "1.0"
      ]
     },
     "execution_count": 28,
     "metadata": {},
     "output_type": "execute_result"
    }
   ],
   "source": [
    "## Print user coverage with a minimum predicted rating of 4.0:\n",
    "print(\"User coverage: \")\n",
    "rm.UserCoverage(topN_pred, data_124.build_full_trainset().n_users, ratingThreshold=4.0)\n"
   ]
  },
  {
   "cell_type": "code",
   "execution_count": 29,
   "metadata": {},
   "outputs": [
    {
     "name": "stdout",
     "output_type": "stream",
     "text": [
      "Diversity: \n",
      "Computing the pearson_baseline similarity matrix...\n",
      "Done computing similarity matrix.\n"
     ]
    },
    {
     "data": {
      "text/plain": [
       "0.9930513136511306"
      ]
     },
     "execution_count": 29,
     "metadata": {},
     "output_type": "execute_result"
    }
   ],
   "source": [
    "## Measure diversity of recommendations:\n",
    "print(\"Diversity: \")\n",
    "rm.Diversity(topN_pred, knn)\n"
   ]
  },
  {
   "cell_type": "code",
   "execution_count": 30,
   "metadata": {},
   "outputs": [
    {
     "name": "stdout",
     "output_type": "stream",
     "text": [
      "Novelty (average popularity rank): \n"
     ]
    },
    {
     "data": {
      "text/plain": [
       "96.03922989600859"
      ]
     },
     "execution_count": 30,
     "metadata": {},
     "output_type": "execute_result"
    }
   ],
   "source": [
    "## ranking for items\n",
    "rankings = rm.getPopularityRanks(amazon_ratings_124)\n",
    "\n",
    "## Measure novelty (average popularity rank of recommendations):\n",
    "print(\"Novelty (average popularity rank): \")\n",
    "rm.Novelty(topN_pred, rankings)"
   ]
  },
  {
   "cell_type": "code",
   "execution_count": 31,
   "metadata": {},
   "outputs": [],
   "source": [
    "def get_item_u(uid):\n",
    "    \"\"\" \n",
    "    This outputs the number of items rated by given user\n",
    "    Arguments: \n",
    "      uid -- the id of the user\n",
    "    Return: \n",
    "      len(..) -- the number of items rated by the user\n",
    "    \"\"\"\n",
    "    try:\n",
    "        return len(train_set.ur[train_set.to_inner_uid(uid)])\n",
    "    except ValueError: # user was not part of the trainset\n",
    "        return 0\n",
    "    \n",
    "def get_user_i(iid):\n",
    "    \"\"\" \n",
    "    This outputs number of users that have rated given item\n",
    "    Arguments:\n",
    "      iid -- the raw id of the item\n",
    "    Return:\n",
    "      len(..) -- the number of users that have rated the item.\n",
    "    \"\"\"\n",
    "    try: \n",
    "        return len(train_set.ir[train_set.to_inner_iid(iid)])\n",
    "    except ValueError:\n",
    "        return 0\n",
    "\n",
    "## uid: userID, iid: itemID, r_ui: rating that user gave for the item, est: rating estimation (prediction)\n",
    "df_test_pred = pd.DataFrame(test_pred, columns=['uid', 'iid', 'r_ui', 'pred', 'details'])\n",
    "## num of items per user\n",
    "df_test_pred['item_u'] = df_test_pred.uid.apply(get_item_u)\n",
    "## num of users per item\n",
    "df_test_pred['user_i'] = df_test_pred.iid.apply(get_user_i)\n",
    "## error of prediction (estimation) \n",
    "df_test_pred['err'] = abs(df_test_pred.pred - df_test_pred.r_ui)\n",
    "best_predictions = df_test_pred.sort_values(by='err')[:10]\n",
    "worst_predictions = df_test_pred.sort_values(by='err')[-10:]"
   ]
  },
  {
   "cell_type": "code",
   "execution_count": 32,
   "metadata": {},
   "outputs": [
    {
     "data": {
      "text/plain": [
       "(16511, 8)"
      ]
     },
     "execution_count": 32,
     "metadata": {},
     "output_type": "execute_result"
    }
   ],
   "source": [
    "df_test_pred.shape"
   ]
  },
  {
   "cell_type": "code",
   "execution_count": 33,
   "metadata": {},
   "outputs": [
    {
     "data": {
      "text/html": [
       "<div>\n",
       "<style scoped>\n",
       "    .dataframe tbody tr th:only-of-type {\n",
       "        vertical-align: middle;\n",
       "    }\n",
       "\n",
       "    .dataframe tbody tr th {\n",
       "        vertical-align: top;\n",
       "    }\n",
       "\n",
       "    .dataframe thead th {\n",
       "        text-align: right;\n",
       "    }\n",
       "</style>\n",
       "<table border=\"1\" class=\"dataframe\">\n",
       "  <thead>\n",
       "    <tr style=\"text-align: right;\">\n",
       "      <th></th>\n",
       "      <th>uid</th>\n",
       "      <th>iid</th>\n",
       "      <th>r_ui</th>\n",
       "      <th>pred</th>\n",
       "      <th>details</th>\n",
       "      <th>item_u</th>\n",
       "      <th>user_i</th>\n",
       "      <th>err</th>\n",
       "    </tr>\n",
       "  </thead>\n",
       "  <tbody>\n",
       "    <tr>\n",
       "      <th>2527</th>\n",
       "      <td>A17967PO5TLC9Y</td>\n",
       "      <td>B00YQ2KCWO</td>\n",
       "      <td>5.0</td>\n",
       "      <td>5.0</td>\n",
       "      <td>{'actual_k': 1, 'was_impossible': False}</td>\n",
       "      <td>1</td>\n",
       "      <td>252</td>\n",
       "      <td>0.0</td>\n",
       "    </tr>\n",
       "    <tr>\n",
       "      <th>7404</th>\n",
       "      <td>A6SJJNQFDJVYJ</td>\n",
       "      <td>B00BMFIXOW</td>\n",
       "      <td>5.0</td>\n",
       "      <td>5.0</td>\n",
       "      <td>{'actual_k': 1, 'was_impossible': False}</td>\n",
       "      <td>4</td>\n",
       "      <td>152</td>\n",
       "      <td>0.0</td>\n",
       "    </tr>\n",
       "    <tr>\n",
       "      <th>1507</th>\n",
       "      <td>A3VXF0FUYJDZST</td>\n",
       "      <td>B00GLZQR96</td>\n",
       "      <td>5.0</td>\n",
       "      <td>5.0</td>\n",
       "      <td>{'actual_k': 3, 'was_impossible': False}</td>\n",
       "      <td>5</td>\n",
       "      <td>124</td>\n",
       "      <td>0.0</td>\n",
       "    </tr>\n",
       "    <tr>\n",
       "      <th>3929</th>\n",
       "      <td>AUVOMF6CMI4O6</td>\n",
       "      <td>B00DBDPOZ4</td>\n",
       "      <td>5.0</td>\n",
       "      <td>5.0</td>\n",
       "      <td>{'actual_k': 1, 'was_impossible': False}</td>\n",
       "      <td>1</td>\n",
       "      <td>317</td>\n",
       "      <td>0.0</td>\n",
       "    </tr>\n",
       "    <tr>\n",
       "      <th>14268</th>\n",
       "      <td>ALB03N25CJDRO</td>\n",
       "      <td>B0053B5RGI</td>\n",
       "      <td>5.0</td>\n",
       "      <td>5.0</td>\n",
       "      <td>{'actual_k': 1, 'was_impossible': False}</td>\n",
       "      <td>3</td>\n",
       "      <td>175</td>\n",
       "      <td>0.0</td>\n",
       "    </tr>\n",
       "    <tr>\n",
       "      <th>7397</th>\n",
       "      <td>A27I8YBSY7I1NM</td>\n",
       "      <td>B0053B66KE</td>\n",
       "      <td>5.0</td>\n",
       "      <td>5.0</td>\n",
       "      <td>{'actual_k': 1, 'was_impossible': False}</td>\n",
       "      <td>3</td>\n",
       "      <td>168</td>\n",
       "      <td>0.0</td>\n",
       "    </tr>\n",
       "    <tr>\n",
       "      <th>10818</th>\n",
       "      <td>AGB8RJJ2LNAWR</td>\n",
       "      <td>B018K6KV68</td>\n",
       "      <td>5.0</td>\n",
       "      <td>5.0</td>\n",
       "      <td>{'actual_k': 1, 'was_impossible': False}</td>\n",
       "      <td>2</td>\n",
       "      <td>90</td>\n",
       "      <td>0.0</td>\n",
       "    </tr>\n",
       "    <tr>\n",
       "      <th>14274</th>\n",
       "      <td>A8VIZIUX71XDI</td>\n",
       "      <td>B00MYTSDU4</td>\n",
       "      <td>5.0</td>\n",
       "      <td>5.0</td>\n",
       "      <td>{'actual_k': 2, 'was_impossible': False}</td>\n",
       "      <td>2</td>\n",
       "      <td>300</td>\n",
       "      <td>0.0</td>\n",
       "    </tr>\n",
       "    <tr>\n",
       "      <th>8643</th>\n",
       "      <td>A2WVCV1NFR0R07</td>\n",
       "      <td>B0094X227I</td>\n",
       "      <td>5.0</td>\n",
       "      <td>5.0</td>\n",
       "      <td>{'actual_k': 2, 'was_impossible': False}</td>\n",
       "      <td>5</td>\n",
       "      <td>236</td>\n",
       "      <td>0.0</td>\n",
       "    </tr>\n",
       "    <tr>\n",
       "      <th>10811</th>\n",
       "      <td>A2LKJU6P6LFD2L</td>\n",
       "      <td>B018K6KV68</td>\n",
       "      <td>5.0</td>\n",
       "      <td>5.0</td>\n",
       "      <td>{'actual_k': 1, 'was_impossible': False}</td>\n",
       "      <td>1</td>\n",
       "      <td>90</td>\n",
       "      <td>0.0</td>\n",
       "    </tr>\n",
       "  </tbody>\n",
       "</table>\n",
       "</div>"
      ],
      "text/plain": [
       "                  uid         iid  r_ui  pred  \\\n",
       "2527   A17967PO5TLC9Y  B00YQ2KCWO   5.0   5.0   \n",
       "7404    A6SJJNQFDJVYJ  B00BMFIXOW   5.0   5.0   \n",
       "1507   A3VXF0FUYJDZST  B00GLZQR96   5.0   5.0   \n",
       "3929    AUVOMF6CMI4O6  B00DBDPOZ4   5.0   5.0   \n",
       "14268   ALB03N25CJDRO  B0053B5RGI   5.0   5.0   \n",
       "7397   A27I8YBSY7I1NM  B0053B66KE   5.0   5.0   \n",
       "10818   AGB8RJJ2LNAWR  B018K6KV68   5.0   5.0   \n",
       "14274   A8VIZIUX71XDI  B00MYTSDU4   5.0   5.0   \n",
       "8643   A2WVCV1NFR0R07  B0094X227I   5.0   5.0   \n",
       "10811  A2LKJU6P6LFD2L  B018K6KV68   5.0   5.0   \n",
       "\n",
       "                                        details  item_u  user_i  err  \n",
       "2527   {'actual_k': 1, 'was_impossible': False}       1     252  0.0  \n",
       "7404   {'actual_k': 1, 'was_impossible': False}       4     152  0.0  \n",
       "1507   {'actual_k': 3, 'was_impossible': False}       5     124  0.0  \n",
       "3929   {'actual_k': 1, 'was_impossible': False}       1     317  0.0  \n",
       "14268  {'actual_k': 1, 'was_impossible': False}       3     175  0.0  \n",
       "7397   {'actual_k': 1, 'was_impossible': False}       3     168  0.0  \n",
       "10818  {'actual_k': 1, 'was_impossible': False}       2      90  0.0  \n",
       "14274  {'actual_k': 2, 'was_impossible': False}       2     300  0.0  \n",
       "8643   {'actual_k': 2, 'was_impossible': False}       5     236  0.0  \n",
       "10811  {'actual_k': 1, 'was_impossible': False}       1      90  0.0  "
      ]
     },
     "execution_count": 33,
     "metadata": {},
     "output_type": "execute_result"
    }
   ],
   "source": [
    "best_predictions"
   ]
  },
  {
   "cell_type": "code",
   "execution_count": 34,
   "metadata": {},
   "outputs": [
    {
     "data": {
      "text/html": [
       "<div>\n",
       "<style scoped>\n",
       "    .dataframe tbody tr th:only-of-type {\n",
       "        vertical-align: middle;\n",
       "    }\n",
       "\n",
       "    .dataframe tbody tr th {\n",
       "        vertical-align: top;\n",
       "    }\n",
       "\n",
       "    .dataframe thead th {\n",
       "        text-align: right;\n",
       "    }\n",
       "</style>\n",
       "<table border=\"1\" class=\"dataframe\">\n",
       "  <thead>\n",
       "    <tr style=\"text-align: right;\">\n",
       "      <th></th>\n",
       "      <th>uid</th>\n",
       "      <th>iid</th>\n",
       "      <th>r_ui</th>\n",
       "      <th>pred</th>\n",
       "      <th>details</th>\n",
       "      <th>item_u</th>\n",
       "      <th>user_i</th>\n",
       "      <th>err</th>\n",
       "    </tr>\n",
       "  </thead>\n",
       "  <tbody>\n",
       "    <tr>\n",
       "      <th>8259</th>\n",
       "      <td>A1GV8GSI42JWSL</td>\n",
       "      <td>B00HD4R5YU</td>\n",
       "      <td>1.0</td>\n",
       "      <td>5.0</td>\n",
       "      <td>{'actual_k': 1, 'was_impossible': False}</td>\n",
       "      <td>2</td>\n",
       "      <td>143</td>\n",
       "      <td>4.0</td>\n",
       "    </tr>\n",
       "    <tr>\n",
       "      <th>12602</th>\n",
       "      <td>A19UQJRSC30TPV</td>\n",
       "      <td>B00GMFKYJ4</td>\n",
       "      <td>5.0</td>\n",
       "      <td>1.0</td>\n",
       "      <td>{'actual_k': 1, 'was_impossible': False}</td>\n",
       "      <td>1</td>\n",
       "      <td>116</td>\n",
       "      <td>4.0</td>\n",
       "    </tr>\n",
       "    <tr>\n",
       "      <th>9159</th>\n",
       "      <td>AI1CKS72N1BGR</td>\n",
       "      <td>B00F27JGVA</td>\n",
       "      <td>1.0</td>\n",
       "      <td>5.0</td>\n",
       "      <td>{'actual_k': 1, 'was_impossible': False}</td>\n",
       "      <td>1</td>\n",
       "      <td>169</td>\n",
       "      <td>4.0</td>\n",
       "    </tr>\n",
       "    <tr>\n",
       "      <th>2662</th>\n",
       "      <td>A3U11UX5Q74LE2</td>\n",
       "      <td>B00PV515DU</td>\n",
       "      <td>5.0</td>\n",
       "      <td>1.0</td>\n",
       "      <td>{'actual_k': 1, 'was_impossible': False}</td>\n",
       "      <td>3</td>\n",
       "      <td>106</td>\n",
       "      <td>4.0</td>\n",
       "    </tr>\n",
       "    <tr>\n",
       "      <th>15747</th>\n",
       "      <td>A1SGQ98X94B0ER</td>\n",
       "      <td>B00503E8S2</td>\n",
       "      <td>5.0</td>\n",
       "      <td>1.0</td>\n",
       "      <td>{'actual_k': 1, 'was_impossible': False}</td>\n",
       "      <td>1</td>\n",
       "      <td>120</td>\n",
       "      <td>4.0</td>\n",
       "    </tr>\n",
       "    <tr>\n",
       "      <th>16283</th>\n",
       "      <td>AOZA4C7UNXVZD</td>\n",
       "      <td>B00BI9MDSO</td>\n",
       "      <td>1.0</td>\n",
       "      <td>5.0</td>\n",
       "      <td>{'actual_k': 1, 'was_impossible': False}</td>\n",
       "      <td>4</td>\n",
       "      <td>93</td>\n",
       "      <td>4.0</td>\n",
       "    </tr>\n",
       "    <tr>\n",
       "      <th>15009</th>\n",
       "      <td>A15JPYV0L19RF</td>\n",
       "      <td>B00GMFKYK8</td>\n",
       "      <td>5.0</td>\n",
       "      <td>1.0</td>\n",
       "      <td>{'actual_k': 1, 'was_impossible': False}</td>\n",
       "      <td>7</td>\n",
       "      <td>231</td>\n",
       "      <td>4.0</td>\n",
       "    </tr>\n",
       "    <tr>\n",
       "      <th>14876</th>\n",
       "      <td>A2B9MQBB1YZTAW</td>\n",
       "      <td>B00PE1KNPC</td>\n",
       "      <td>1.0</td>\n",
       "      <td>5.0</td>\n",
       "      <td>{'actual_k': 2, 'was_impossible': False}</td>\n",
       "      <td>3</td>\n",
       "      <td>87</td>\n",
       "      <td>4.0</td>\n",
       "    </tr>\n",
       "    <tr>\n",
       "      <th>11833</th>\n",
       "      <td>A1C0ZIUIDOU3D9</td>\n",
       "      <td>B00Z7V9P8K</td>\n",
       "      <td>5.0</td>\n",
       "      <td>1.0</td>\n",
       "      <td>{'actual_k': 1, 'was_impossible': False}</td>\n",
       "      <td>2</td>\n",
       "      <td>209</td>\n",
       "      <td>4.0</td>\n",
       "    </tr>\n",
       "    <tr>\n",
       "      <th>4441</th>\n",
       "      <td>A3974P9DBFTNOQ</td>\n",
       "      <td>B006JKARN0</td>\n",
       "      <td>5.0</td>\n",
       "      <td>1.0</td>\n",
       "      <td>{'actual_k': 1, 'was_impossible': False}</td>\n",
       "      <td>1</td>\n",
       "      <td>87</td>\n",
       "      <td>4.0</td>\n",
       "    </tr>\n",
       "  </tbody>\n",
       "</table>\n",
       "</div>"
      ],
      "text/plain": [
       "                  uid         iid  r_ui  pred  \\\n",
       "8259   A1GV8GSI42JWSL  B00HD4R5YU   1.0   5.0   \n",
       "12602  A19UQJRSC30TPV  B00GMFKYJ4   5.0   1.0   \n",
       "9159    AI1CKS72N1BGR  B00F27JGVA   1.0   5.0   \n",
       "2662   A3U11UX5Q74LE2  B00PV515DU   5.0   1.0   \n",
       "15747  A1SGQ98X94B0ER  B00503E8S2   5.0   1.0   \n",
       "16283   AOZA4C7UNXVZD  B00BI9MDSO   1.0   5.0   \n",
       "15009   A15JPYV0L19RF  B00GMFKYK8   5.0   1.0   \n",
       "14876  A2B9MQBB1YZTAW  B00PE1KNPC   1.0   5.0   \n",
       "11833  A1C0ZIUIDOU3D9  B00Z7V9P8K   5.0   1.0   \n",
       "4441   A3974P9DBFTNOQ  B006JKARN0   5.0   1.0   \n",
       "\n",
       "                                        details  item_u  user_i  err  \n",
       "8259   {'actual_k': 1, 'was_impossible': False}       2     143  4.0  \n",
       "12602  {'actual_k': 1, 'was_impossible': False}       1     116  4.0  \n",
       "9159   {'actual_k': 1, 'was_impossible': False}       1     169  4.0  \n",
       "2662   {'actual_k': 1, 'was_impossible': False}       3     106  4.0  \n",
       "15747  {'actual_k': 1, 'was_impossible': False}       1     120  4.0  \n",
       "16283  {'actual_k': 1, 'was_impossible': False}       4      93  4.0  \n",
       "15009  {'actual_k': 1, 'was_impossible': False}       7     231  4.0  \n",
       "14876  {'actual_k': 2, 'was_impossible': False}       3      87  4.0  \n",
       "11833  {'actual_k': 1, 'was_impossible': False}       2     209  4.0  \n",
       "4441   {'actual_k': 1, 'was_impossible': False}       1      87  4.0  "
      ]
     },
     "execution_count": 34,
     "metadata": {},
     "output_type": "execute_result"
    }
   ],
   "source": [
    "worst_predictions"
   ]
  },
  {
   "cell_type": "code",
   "execution_count": 35,
   "metadata": {},
   "outputs": [
    {
     "data": {
      "text/html": [
       "<div>\n",
       "<style scoped>\n",
       "    .dataframe tbody tr th:only-of-type {\n",
       "        vertical-align: middle;\n",
       "    }\n",
       "\n",
       "    .dataframe tbody tr th {\n",
       "        vertical-align: top;\n",
       "    }\n",
       "\n",
       "    .dataframe thead th {\n",
       "        text-align: right;\n",
       "    }\n",
       "</style>\n",
       "<table border=\"1\" class=\"dataframe\">\n",
       "  <thead>\n",
       "    <tr style=\"text-align: right;\">\n",
       "      <th></th>\n",
       "      <th>uid</th>\n",
       "      <th>iid</th>\n",
       "      <th>r_ui</th>\n",
       "      <th>pred</th>\n",
       "      <th>details</th>\n",
       "      <th>item_u</th>\n",
       "      <th>user_i</th>\n",
       "      <th>err</th>\n",
       "    </tr>\n",
       "  </thead>\n",
       "  <tbody>\n",
       "    <tr>\n",
       "      <th>9786</th>\n",
       "      <td>AJEX9VERGX0YQ</td>\n",
       "      <td>B00L3LQ1FI</td>\n",
       "      <td>1.0</td>\n",
       "      <td>4.822222</td>\n",
       "      <td>{'actual_k': 0, 'was_impossible': False}</td>\n",
       "      <td>2</td>\n",
       "      <td>90</td>\n",
       "      <td>3.822222</td>\n",
       "    </tr>\n",
       "    <tr>\n",
       "      <th>12235</th>\n",
       "      <td>AJEX9VERGX0YQ</td>\n",
       "      <td>B00DD0B0BM</td>\n",
       "      <td>1.0</td>\n",
       "      <td>5.000000</td>\n",
       "      <td>{'actual_k': 2, 'was_impossible': False}</td>\n",
       "      <td>2</td>\n",
       "      <td>252</td>\n",
       "      <td>4.000000</td>\n",
       "    </tr>\n",
       "  </tbody>\n",
       "</table>\n",
       "</div>"
      ],
      "text/plain": [
       "                 uid         iid  r_ui      pred  \\\n",
       "9786   AJEX9VERGX0YQ  B00L3LQ1FI   1.0  4.822222   \n",
       "12235  AJEX9VERGX0YQ  B00DD0B0BM   1.0  5.000000   \n",
       "\n",
       "                                        details  item_u  user_i       err  \n",
       "9786   {'actual_k': 0, 'was_impossible': False}       2      90  3.822222  \n",
       "12235  {'actual_k': 2, 'was_impossible': False}       2     252  4.000000  "
      ]
     },
     "execution_count": 35,
     "metadata": {},
     "output_type": "execute_result"
    }
   ],
   "source": [
    "view_AJEX9VERGX0YQ = df_test_pred[df_test_pred['uid']=='AJEX9VERGX0YQ'].sort_values(by='err')\n",
    "view_AJEX9VERGX0YQ"
   ]
  },
  {
   "cell_type": "code",
   "execution_count": 36,
   "metadata": {},
   "outputs": [
    {
     "name": "stdout",
     "output_type": "stream",
     "text": [
      "####################\n",
      "# Reviews of AJEX9VERGX0YQ\n",
      "####################\n",
      "item0: B00DD0B0BM, Rating: 5\n",
      "item1: B0053B66KE, Rating: 5\n",
      "item2: B004RMK57U, Rating: 5\n",
      "item3: B00KWFCSB2, Rating: 5\n",
      "item4: B00DC7G2W8, Rating: 5\n",
      "item5: B00N4ABT1C, Rating: 5\n",
      "item6: B00BU3ZLJQ, Rating: 5\n",
      "item7: B00PB9LZQI, Rating: 5\n",
      "item8: B0094X227I, Rating: 5\n",
      "item9: B0094X2066, Rating: 5\n"
     ]
    }
   ],
   "source": [
    "## reviews of AJEX9VERGX0YQ\n",
    "print(\"#\"*20)\n",
    "print(\"# Reviews of AJEX9VERGX0YQ\")\n",
    "print(\"#\"*20)\n",
    "for idx, item_raing in enumerate(topN_pred['AJEX9VERGX0YQ']):\n",
    "    itemID, rating = item_raing\n",
    "    print(f\"item{idx}: {itemID}, Rating: {rating}\")"
   ]
  },
  {
   "cell_type": "markdown",
   "metadata": {},
   "source": [
    "### 4.2 User-based CF by Surprise + Impact of Distance Metrics\n",
    "\n",
    "As mentioned, the performance of Memory-based (neighboring) CF is affected by distance metrics. In here, we will compare Cosine, Pearson, Mean Squared Difference based on naive KNN algorithm with 3-fold cross validation."
   ]
  },
  {
   "cell_type": "code",
   "execution_count": 37,
   "metadata": {},
   "outputs": [
    {
     "name": "stdout",
     "output_type": "stream",
     "text": [
      "Computing the cosine similarity matrix...\n",
      "Done computing similarity matrix.\n",
      "Computing the cosine similarity matrix...\n",
      "Done computing similarity matrix.\n",
      "Computing the cosine similarity matrix...\n",
      "Done computing similarity matrix.\n",
      "Evaluating RMSE, MAE of algorithm KNNBasic on 3 split(s).\n",
      "\n",
      "                  Fold 1  Fold 2  Fold 3  Mean    Std     \n",
      "RMSE (testset)    1.0498  1.0337  1.0530  1.0455  0.0085  \n",
      "MAE (testset)     0.7110  0.7026  0.7061  0.7066  0.0035  \n",
      "Fit time          53.08   50.41   49.78   51.09   1.43    \n",
      "Test time         3.19    2.62    2.59    2.80    0.28    \n"
     ]
    },
    {
     "data": {
      "text/plain": [
       "1.0455117627195005"
      ]
     },
     "execution_count": 37,
     "metadata": {},
     "output_type": "execute_result"
    }
   ],
   "source": [
    "## similiarity options \n",
    "sim_options = {'name': 'cosine', 'user_based': True}\n",
    "knn = surprise.KNNBasic(sim_options=sim_options)\n",
    "cos_knn = surprise.model_selection.validation.cross_validate(knn, data_124, \n",
    "                                                   measures=[u'rmse', u'mae'], \n",
    "                                                   cv=3, return_train_measures=False, \n",
    "                                                   n_jobs=1, pre_dispatch=u'2*n_jobs', \n",
    "                                                   verbose=True)\n",
    "cos_knn[\"test_rmse\"].mean()"
   ]
  },
  {
   "cell_type": "code",
   "execution_count": 38,
   "metadata": {},
   "outputs": [
    {
     "name": "stdout",
     "output_type": "stream",
     "text": [
      "Computing the pearson similarity matrix...\n",
      "Done computing similarity matrix.\n",
      "Computing the pearson similarity matrix...\n",
      "Done computing similarity matrix.\n",
      "Computing the pearson similarity matrix...\n",
      "Done computing similarity matrix.\n",
      "Evaluating RMSE, MAE of algorithm KNNBasic on 3 split(s).\n",
      "\n",
      "                  Fold 1  Fold 2  Fold 3  Mean    Std     \n",
      "RMSE (testset)    0.9871  1.0012  1.0196  1.0026  0.0133  \n",
      "MAE (testset)     0.7319  0.7354  0.7439  0.7371  0.0050  \n",
      "Fit time          76.34   76.04   62.80   71.73   6.31    \n",
      "Test time         4.07    2.47    2.30    2.94    0.80    \n"
     ]
    },
    {
     "data": {
      "text/plain": [
       "1.0026354699119138"
      ]
     },
     "execution_count": 38,
     "metadata": {},
     "output_type": "execute_result"
    }
   ],
   "source": [
    "## similiarity options \n",
    "sim_options = {'name': 'pearson', 'user_based': True}\n",
    "knn = surprise.KNNBasic(sim_options=sim_options)\n",
    "prs_knn = surprise.model_selection.validation.cross_validate(knn, data_124, \n",
    "                                                   measures=[u'rmse', u'mae'], \n",
    "                                                   cv=3, return_train_measures=False, \n",
    "                                                   n_jobs=1, pre_dispatch=u'2*n_jobs', \n",
    "                                                   verbose=True)\n",
    "prs_knn[\"test_rmse\"].mean()"
   ]
  },
  {
   "cell_type": "code",
   "execution_count": 39,
   "metadata": {},
   "outputs": [
    {
     "name": "stdout",
     "output_type": "stream",
     "text": [
      "Computing the msd similarity matrix...\n",
      "Done computing similarity matrix.\n",
      "Computing the msd similarity matrix...\n",
      "Done computing similarity matrix.\n",
      "Computing the msd similarity matrix...\n",
      "Done computing similarity matrix.\n",
      "Evaluating RMSE, MAE of algorithm KNNBasic on 3 split(s).\n",
      "\n",
      "                  Fold 1  Fold 2  Fold 3  Mean    Std     \n",
      "RMSE (testset)    1.0274  1.0290  0.9986  1.0183  0.0140  \n",
      "MAE (testset)     0.6712  0.6747  0.6520  0.6660  0.0100  \n",
      "Fit time          47.29   43.03   43.57   44.63   1.89    \n",
      "Test time         4.02    3.26    4.19    3.82    0.40    \n"
     ]
    },
    {
     "data": {
      "text/plain": [
       "1.0183482417730776"
      ]
     },
     "execution_count": 39,
     "metadata": {},
     "output_type": "execute_result"
    }
   ],
   "source": [
    "## similiarity options \n",
    "sim_options = {'name': 'msd', 'user_based': True}\n",
    "knn = surprise.KNNBasic(sim_options=sim_options)\n",
    "prs_knn = surprise.model_selection.validation.cross_validate(knn, data_124, \n",
    "                                                   measures=[u'rmse', u'mae'], \n",
    "                                                   cv=3, return_train_measures=False, \n",
    "                                                   n_jobs=1, pre_dispatch=u'2*n_jobs', \n",
    "                                                   verbose=True)\n",
    "prs_knn[\"test_rmse\"].mean()"
   ]
  },
  {
   "cell_type": "markdown",
   "metadata": {},
   "source": [
    "Since the KNN with pearson similarity was the best so far, predict "
   ]
  },
  {
   "cell_type": "code",
   "execution_count": 34,
   "metadata": {},
   "outputs": [
    {
     "data": {
      "text/plain": [
       "range(0, 241)"
      ]
     },
     "execution_count": 34,
     "metadata": {},
     "output_type": "execute_result"
    }
   ],
   "source": [
    "train_set.all_items()"
   ]
  },
  {
   "cell_type": "code",
   "execution_count": 40,
   "metadata": {},
   "outputs": [
    {
     "name": "stdout",
     "output_type": "stream",
     "text": [
      "Computing the pearson similarity matrix...\n",
      "Done computing similarity matrix.\n"
     ]
    },
    {
     "data": {
      "text/plain": [
       "<surprise.prediction_algorithms.knns.KNNBasic at 0x19e971be0>"
      ]
     },
     "execution_count": 40,
     "metadata": {},
     "output_type": "execute_result"
    }
   ],
   "source": [
    "## Use user_based true/false to switch between user-based or item-based collaborative filtering\n",
    "knn_basic = surprise.KNNBasic(k=5, sim_options={'name': 'pearson', 'user_based': True})\n",
    "knn_basic.fit(train_set)\n",
    "\n"
   ]
  },
  {
   "cell_type": "code",
   "execution_count": 42,
   "metadata": {},
   "outputs": [],
   "source": [
    "testset_pred = knn_basic.test(anti_testset)"
   ]
  },
  {
   "cell_type": "code",
   "execution_count": 43,
   "metadata": {},
   "outputs": [],
   "source": [
    "## run the trained model for the train_set\n",
    "## uid: userID, iid: itemID, r_ui: rating that user gave for the item, est: rating estimation (prediction)\n",
    "anti_testset_pred = knn_basic.test(anti_testset)\n"
   ]
  },
  {
   "cell_type": "code",
   "execution_count": 45,
   "metadata": {},
   "outputs": [
    {
     "name": "stdout",
     "output_type": "stream",
     "text": [
      "User-based Model : Test Set\n",
      "RMSE:  0.9884168840276029\n",
      "MAE:  0.6422860068166297\n",
      "\n",
      "User-based Model : Train Set\n",
      "RMSE:  0.0577801583787353\n",
      "MAE:  0.0024057642733577036\n"
     ]
    }
   ],
   "source": [
    "## User-based RMSE\n",
    "print(\"User-based Model : Test Set\")\n",
    "print(\"RMSE: \", rm.RMSE(test_pred))\n",
    "print(\"MAE: \", rm.MAE(test_pred))\n",
    "print()\n",
    "\n",
    "print(\"User-based Model : Train Set\")\n",
    "print(\"RMSE: \", rm.RMSE(anti_testset_pred))\n",
    "print(\"MAE: \", rm.MAE(anti_testset_pred))"
   ]
  },
  {
   "cell_type": "markdown",
   "metadata": {},
   "source": [
    "Compared it to our Item-based model, RMSE result seems similar but the gap of RMSE between train_set and test_set tells that and Item-based seems a little bit better based on RMSE even though algorithm is slightly different (KNN with Mean for Item-based and KNN for User-based). This is bacause such a large gap causes overfitting issue. Of course, more testing is required to verify the overall error. "
   ]
  },
  {
   "cell_type": "code",
   "execution_count": 47,
   "metadata": {},
   "outputs": [
    {
     "name": "stdout",
     "output_type": "stream",
     "text": [
      "A2W1P0P5XCFA96 [('B00IAVDOS6', 4.493459302325581), ('B00503E8S2', 4.493459302325581)]\n"
     ]
    }
   ],
   "source": [
    "## pred for all data\n",
    "all_pred_user_based = test_pred+anti_testset_pred\n",
    "topN_pred_user_based = rm.GetTopN(all_pred_user_based, n=10)\n",
    "\n",
    "## the top 1 predicted items for user A3KF2QPB634EIA\n",
    "for userID, items in itertools.islice(topN_pred_user_based.items(), 1):\n",
    "    print(x, y)"
   ]
  },
  {
   "cell_type": "code",
   "execution_count": 50,
   "metadata": {},
   "outputs": [
    {
     "name": "stdout",
     "output_type": "stream",
     "text": [
      "Hit Rate: \n",
      " 0.7866876627702744\n",
      "\n",
      "\n",
      "1.0 0.6633333333333333\n",
      "2.0 0.6107784431137725\n",
      "3.0 0.6297674418604651\n",
      "4.0 0.6555213374395072\n",
      "5.0 0.8388326977284033\n",
      "rHR (Hit Rate by Rating value): \n",
      " None\n",
      "\n",
      "\n",
      "cHR (Cumulative Hit Rate, rating >= 4): \n",
      " 0.80976630624346\n",
      "\n",
      "\n",
      "ARHR (Average Reciprocal Hit Rank): \n",
      " 0.6729350947372306\n",
      "\n",
      "\n",
      "User coverage: \n",
      " 1.0\n",
      "\n",
      "\n",
      "Computing the pearson similarity matrix...\n",
      "Done computing similarity matrix.\n",
      "Diversity: \n",
      " 0.9995115147095422\n",
      "\n",
      "\n",
      "Novelty (average popularity rank): \n"
     ]
    },
    {
     "data": {
      "text/plain": [
       "100.70559587277776"
      ]
     },
     "execution_count": 50,
     "metadata": {},
     "output_type": "execute_result"
    }
   ],
   "source": [
    "## Hit rate by using top 10 predictions\n",
    "print(f\"Hit Rate: \\n {rm.HitRate(topN_pred_user_based, test_pred)}\\n\\n\")\n",
    "\n",
    "## Break down hit rate by rating value\n",
    "print(\"rHR (Hit Rate by Rating value): \\n \")\n",
    "rm.RatingHitRate(topN_pred_user_based, test_pred)\n",
    "\n",
    "## See how often we recommended a movie the user actually liked\n",
    "print(f\"cHR (Cumulative Hit Rate, rating >= 4): \\n {rm.CumulativeHitRate(topN_pred_user_based, test_pred, 4.0)}\\n\\n\")\n",
    "\n",
    "## Compute ARHR\n",
    "print(f\"ARHR (Average Reciprocal Hit Rank): \\n {rm.AverageReciprocalHitRank(topN_pred_user_based, test_pred)}\\n\\n\")\n",
    "\n",
    "## Print user coverage with a minimum predicted rating of 4.0:\n",
    "print(f\"User coverage: \\n {rm.UserCoverage(topN_pred_user_based, data_124.build_full_trainset().n_users, ratingThreshold=4.0)}\\n\\n\")\n",
    "\n",
    "## Measure diversity of recommendations:\n",
    "print(f\"Diversity: \\n {rm.Diversity(topN_pred_user_based, knn_basic)}\\n\\n\")\n",
    "\n",
    "## ranking for items\n",
    "#rankings = rm.getPopularityRanks(amazon_ratings_124)\n",
    "\n",
    "## Measure novelty (average popularity rank of recommendations):\n",
    "print(\"Novelty (average popularity rank): \")\n",
    "rm.Novelty(topN_pred_user_based, rankings)\n"
   ]
  },
  {
   "cell_type": "code",
   "execution_count": null,
   "metadata": {},
   "outputs": [],
   "source": []
  },
  {
   "cell_type": "code",
   "execution_count": 36,
   "metadata": {},
   "outputs": [
    {
     "name": "stdout",
     "output_type": "stream",
     "text": [
      "####################\n",
      "# Baseline: KNN + pearson\n",
      "####################\n",
      "Computing the pearson similarity matrix...\n",
      "Done computing similarity matrix.\n"
     ]
    },
    {
     "data": {
      "text/plain": [
       "<surprise.prediction_algorithms.knns.KNNBasic at 0x11e9778b0>"
      ]
     },
     "execution_count": 36,
     "metadata": {},
     "output_type": "execute_result"
    }
   ],
   "source": [
    "print(\"#\"*20)\n",
    "print(\"# Baseline: KNN + pearson\")\n",
    "print(\"#\"*20)\n",
    "## similiarity options \n",
    "sim_options = {'name': 'pearson'}\n",
    "knn = surprise.KNNBasic(sim_options=sim_options)\n",
    "knn.fit(train_set)\n"
   ]
  },
  {
   "cell_type": "code",
   "execution_count": 37,
   "metadata": {},
   "outputs": [
    {
     "data": {
      "text/plain": [
       "[Prediction(uid='A3KF2QPB634EIA', iid='B0015AARJI', r_ui=5.0, est=4.493459302325581, details={'was_impossible': True, 'reason': 'Not enough neighbors.'}),\n",
       " Prediction(uid='A2W1P0P5XCFA96', iid='B00IAVDOS6', r_ui=5.0, est=4.493459302325581, details={'was_impossible': True, 'reason': 'User and/or item is unknown.'}),\n",
       " Prediction(uid='AB2FYWHOGTRGF', iid='B0011E4J2Y', r_ui=5.0, est=4.493459302325581, details={'was_impossible': True, 'reason': 'Not enough neighbors.'})]"
      ]
     },
     "execution_count": 37,
     "metadata": {},
     "output_type": "execute_result"
    }
   ],
   "source": [
    "# run the trained model against the testset\n",
    "test_pred = knn.test(test_set)\n",
    "test_pred[:3]"
   ]
  },
  {
   "cell_type": "code",
   "execution_count": 38,
   "metadata": {},
   "outputs": [],
   "source": [
    "df_test_pred = pd.DataFrame(test_pred, columns=['uid', 'iid', 'r_ui', 'est', 'details'])\n",
    "df_test_pred['item_u'] = df_test_pred.uid.apply(get_item_u)\n",
    "df_test_pred['user_i'] = df_test_pred.iid.apply(get_user_i)\n",
    "df_test_pred['err'] = abs(df_test_pred.est - df_test_pred.r_ui)\n",
    "best_predictions = df_test_pred.sort_values(by='err')[:10]\n",
    "worst_predictions = df_test_pred.sort_values(by='err')[-10:]\n",
    "\n"
   ]
  },
  {
   "cell_type": "code",
   "execution_count": 39,
   "metadata": {},
   "outputs": [
    {
     "name": "stdout",
     "output_type": "stream",
     "text": [
      "125 <-> B0015AARJI\n"
     ]
    }
   ],
   "source": [
    "B0015AARJI_iid = knn.trainset.to_inner_iid('B0015AARJI')\n",
    "print(f\"{B0015AARJI_iid} <-> {knn.trainset.to_raw_iid(B0015AARJI_iid)}\")"
   ]
  },
  {
   "cell_type": "code",
   "execution_count": 40,
   "metadata": {},
   "outputs": [
    {
     "data": {
      "text/plain": [
       "'B0050SYV70'"
      ]
     },
     "execution_count": 40,
     "metadata": {},
     "output_type": "execute_result"
    }
   ],
   "source": [
    "knn.trainset.to_raw_iid(216)"
   ]
  },
  {
   "cell_type": "code",
   "execution_count": 41,
   "metadata": {},
   "outputs": [
    {
     "data": {
      "text/plain": [
       "<generator object <genexpr> at 0x11ef18890>"
      ]
     },
     "execution_count": 41,
     "metadata": {},
     "output_type": "execute_result"
    }
   ],
   "source": [
    "B0015AARJI_neighbors"
   ]
  },
  {
   "cell_type": "code",
   "execution_count": 42,
   "metadata": {},
   "outputs": [
    {
     "name": "stdout",
     "output_type": "stream",
     "text": [
      "The 5 nearest neighbors of B0015AARJI:\n",
      "B00C27SCC2\n"
     ]
    },
    {
     "ename": "ValueError",
     "evalue": "334 is not a valid inner id.",
     "output_type": "error",
     "traceback": [
      "\u001b[0;31m---------------------------------------------------------------------------\u001b[0m",
      "\u001b[0;31mKeyError\u001b[0m                                  Traceback (most recent call last)",
      "\u001b[0;32m/opt/anaconda3/lib/python3.8/site-packages/surprise/trainset.py\u001b[0m in \u001b[0;36mto_raw_iid\u001b[0;34m(self, iiid)\u001b[0m\n\u001b[1;32m    174\u001b[0m         \u001b[0;32mtry\u001b[0m\u001b[0;34m:\u001b[0m\u001b[0;34m\u001b[0m\u001b[0;34m\u001b[0m\u001b[0m\n\u001b[0;32m--> 175\u001b[0;31m             \u001b[0;32mreturn\u001b[0m \u001b[0mself\u001b[0m\u001b[0;34m.\u001b[0m\u001b[0m_inner2raw_id_items\u001b[0m\u001b[0;34m[\u001b[0m\u001b[0miiid\u001b[0m\u001b[0;34m]\u001b[0m\u001b[0;34m\u001b[0m\u001b[0;34m\u001b[0m\u001b[0m\n\u001b[0m\u001b[1;32m    176\u001b[0m         \u001b[0;32mexcept\u001b[0m \u001b[0mKeyError\u001b[0m\u001b[0;34m:\u001b[0m\u001b[0;34m\u001b[0m\u001b[0;34m\u001b[0m\u001b[0m\n",
      "\u001b[0;31mKeyError\u001b[0m: 334",
      "\nDuring handling of the above exception, another exception occurred:\n",
      "\u001b[0;31mValueError\u001b[0m                                Traceback (most recent call last)",
      "\u001b[0;32m<ipython-input-42-702961470cca>\u001b[0m in \u001b[0;36m<module>\u001b[0;34m\u001b[0m\n\u001b[1;32m      8\u001b[0m \u001b[0;34m\u001b[0m\u001b[0m\n\u001b[1;32m      9\u001b[0m \u001b[0mprint\u001b[0m\u001b[0;34m(\u001b[0m\u001b[0;34m'The 5 nearest neighbors of B0015AARJI:'\u001b[0m\u001b[0;34m)\u001b[0m\u001b[0;34m\u001b[0m\u001b[0;34m\u001b[0m\u001b[0m\n\u001b[0;32m---> 10\u001b[0;31m \u001b[0;32mfor\u001b[0m \u001b[0mitem\u001b[0m \u001b[0;32min\u001b[0m \u001b[0mB0015AARJI_neighbors\u001b[0m\u001b[0;34m:\u001b[0m\u001b[0;34m\u001b[0m\u001b[0;34m\u001b[0m\u001b[0m\n\u001b[0m\u001b[1;32m     11\u001b[0m     \u001b[0mprint\u001b[0m\u001b[0;34m(\u001b[0m\u001b[0mitem\u001b[0m\u001b[0;34m)\u001b[0m\u001b[0;34m\u001b[0m\u001b[0;34m\u001b[0m\u001b[0m\n",
      "\u001b[0;32m<ipython-input-42-702961470cca>\u001b[0m in \u001b[0;36m<genexpr>\u001b[0;34m(.0)\u001b[0m\n\u001b[1;32m      5\u001b[0m \u001b[0;34m\u001b[0m\u001b[0m\n\u001b[1;32m      6\u001b[0m \u001b[0;31m# Convert inner ids of the neighbors into names.\u001b[0m\u001b[0;34m\u001b[0m\u001b[0;34m\u001b[0m\u001b[0;34m\u001b[0m\u001b[0m\n\u001b[0;32m----> 7\u001b[0;31m \u001b[0mB0015AARJI_neighbors\u001b[0m \u001b[0;34m=\u001b[0m \u001b[0;34m(\u001b[0m\u001b[0mknn\u001b[0m\u001b[0;34m.\u001b[0m\u001b[0mtrainset\u001b[0m\u001b[0;34m.\u001b[0m\u001b[0mto_raw_iid\u001b[0m\u001b[0;34m(\u001b[0m\u001b[0minner_id\u001b[0m\u001b[0;34m)\u001b[0m \u001b[0;32mfor\u001b[0m \u001b[0minner_id\u001b[0m \u001b[0;32min\u001b[0m \u001b[0mB0015AARJI_rawiids_neighbors\u001b[0m\u001b[0;34m)\u001b[0m\u001b[0;34m\u001b[0m\u001b[0;34m\u001b[0m\u001b[0m\n\u001b[0m\u001b[1;32m      8\u001b[0m \u001b[0;34m\u001b[0m\u001b[0m\n\u001b[1;32m      9\u001b[0m \u001b[0mprint\u001b[0m\u001b[0;34m(\u001b[0m\u001b[0;34m'The 5 nearest neighbors of B0015AARJI:'\u001b[0m\u001b[0;34m)\u001b[0m\u001b[0;34m\u001b[0m\u001b[0;34m\u001b[0m\u001b[0m\n",
      "\u001b[0;32m/opt/anaconda3/lib/python3.8/site-packages/surprise/trainset.py\u001b[0m in \u001b[0;36mto_raw_iid\u001b[0;34m(self, iiid)\u001b[0m\n\u001b[1;32m    175\u001b[0m             \u001b[0;32mreturn\u001b[0m \u001b[0mself\u001b[0m\u001b[0;34m.\u001b[0m\u001b[0m_inner2raw_id_items\u001b[0m\u001b[0;34m[\u001b[0m\u001b[0miiid\u001b[0m\u001b[0;34m]\u001b[0m\u001b[0;34m\u001b[0m\u001b[0;34m\u001b[0m\u001b[0m\n\u001b[1;32m    176\u001b[0m         \u001b[0;32mexcept\u001b[0m \u001b[0mKeyError\u001b[0m\u001b[0;34m:\u001b[0m\u001b[0;34m\u001b[0m\u001b[0;34m\u001b[0m\u001b[0m\n\u001b[0;32m--> 177\u001b[0;31m             \u001b[0;32mraise\u001b[0m \u001b[0mValueError\u001b[0m\u001b[0;34m(\u001b[0m\u001b[0mstr\u001b[0m\u001b[0;34m(\u001b[0m\u001b[0miiid\u001b[0m\u001b[0;34m)\u001b[0m \u001b[0;34m+\u001b[0m \u001b[0;34m' is not a valid inner id.'\u001b[0m\u001b[0;34m)\u001b[0m\u001b[0;34m\u001b[0m\u001b[0;34m\u001b[0m\u001b[0m\n\u001b[0m\u001b[1;32m    178\u001b[0m \u001b[0;34m\u001b[0m\u001b[0m\n\u001b[1;32m    179\u001b[0m     \u001b[0;32mdef\u001b[0m \u001b[0mall_ratings\u001b[0m\u001b[0;34m(\u001b[0m\u001b[0mself\u001b[0m\u001b[0;34m)\u001b[0m\u001b[0;34m:\u001b[0m\u001b[0;34m\u001b[0m\u001b[0;34m\u001b[0m\u001b[0m\n",
      "\u001b[0;31mValueError\u001b[0m: 334 is not a valid inner id."
     ]
    }
   ],
   "source": [
    "B0015AARJI_inner_id = knn.trainset.to_inner_iid('B0015AARJI')\n",
    "\n",
    "# Retrieve inner ids of the nearest neighbors of B000FNFSPY\n",
    "B0015AARJI_rawiids_neighbors = knn.get_neighbors(B0015AARJI_inner_id, k=5)\n",
    "\n",
    "# Convert inner ids of the neighbors into names.\n",
    "B0015AARJI_neighbors = (knn.trainset.to_raw_iid(inner_id) for inner_id in B0015AARJI_rawiids_neighbors) \n",
    "\n",
    "print('The 5 nearest neighbors of B0015AARJI:')\n",
    "for item in B0015AARJI_neighbors:\n",
    "    print(item)"
   ]
  },
  {
   "cell_type": "markdown",
   "metadata": {},
   "source": [
    "## Model-based collaborative filtering system\n",
    "These methods are based on machine learning and data mining techniques. The goal is to train models to be able to make predictions. For example, we could use existing user-item interactions to train a model to predict the top-5 items that a user might like the most. One advantage of these methods is that they are able to recommend a larger number of items to a larger number of users, compared to other methods like memory based approach. They have large coverage, even when working with large sparse matrices."
   ]
  },
  {
   "cell_type": "code",
   "execution_count": null,
   "metadata": {},
   "outputs": [],
   "source": [
    "user_item_mat.shape"
   ]
  },
  {
   "cell_type": "code",
   "execution_count": 69,
   "metadata": {},
   "outputs": [
    {
     "name": "stdout",
     "output_type": "stream",
     "text": [
      "(241, 23789)\n"
     ]
    },
    {
     "data": {
      "text/html": [
       "<div>\n",
       "<style scoped>\n",
       "    .dataframe tbody tr th:only-of-type {\n",
       "        vertical-align: middle;\n",
       "    }\n",
       "\n",
       "    .dataframe tbody tr th {\n",
       "        vertical-align: top;\n",
       "    }\n",
       "\n",
       "    .dataframe thead th {\n",
       "        text-align: right;\n",
       "    }\n",
       "</style>\n",
       "<table border=\"1\" class=\"dataframe\">\n",
       "  <thead>\n",
       "    <tr style=\"text-align: right;\">\n",
       "      <th>reviewerID</th>\n",
       "      <th>A0220159ZRNBTRKLG08H</th>\n",
       "      <th>A0277912HT4JSJKVSL3E</th>\n",
       "      <th>A02836981FYG9912C66F</th>\n",
       "      <th>A03622674FSWUX0PXPAK</th>\n",
       "      <th>A0380485C177Q6QQNJIX</th>\n",
       "      <th>A0435554Z2P98AIGLNCS</th>\n",
       "      <th>A049248150WLX2UGA57G</th>\n",
       "      <th>A0667676ELTQ9GS4VZHH</th>\n",
       "      <th>A0685888WB02Q69S553P</th>\n",
       "      <th>A0695568PX4DBZOQDN8</th>\n",
       "      <th>...</th>\n",
       "      <th>AZYSLPX9HUWPW</th>\n",
       "      <th>AZYUJNUA38IYL</th>\n",
       "      <th>AZYUNW5G2R3CL</th>\n",
       "      <th>AZYWRH9CQSB2Q</th>\n",
       "      <th>AZZ1KF8RAO1BR</th>\n",
       "      <th>AZZ2RPY63LR0B</th>\n",
       "      <th>AZZDDQSI60WTM</th>\n",
       "      <th>AZZQCK9ZAKMFR</th>\n",
       "      <th>AZZT1ERHBSNQ8</th>\n",
       "      <th>AZZTOUKVTUMVM</th>\n",
       "    </tr>\n",
       "    <tr>\n",
       "      <th>asin</th>\n",
       "      <th></th>\n",
       "      <th></th>\n",
       "      <th></th>\n",
       "      <th></th>\n",
       "      <th></th>\n",
       "      <th></th>\n",
       "      <th></th>\n",
       "      <th></th>\n",
       "      <th></th>\n",
       "      <th></th>\n",
       "      <th></th>\n",
       "      <th></th>\n",
       "      <th></th>\n",
       "      <th></th>\n",
       "      <th></th>\n",
       "      <th></th>\n",
       "      <th></th>\n",
       "      <th></th>\n",
       "      <th></th>\n",
       "      <th></th>\n",
       "      <th></th>\n",
       "    </tr>\n",
       "  </thead>\n",
       "  <tbody>\n",
       "    <tr>\n",
       "      <th>B0009VXBAQ</th>\n",
       "      <td>0.0</td>\n",
       "      <td>0.0</td>\n",
       "      <td>0.0</td>\n",
       "      <td>0.0</td>\n",
       "      <td>0.0</td>\n",
       "      <td>0.0</td>\n",
       "      <td>0.0</td>\n",
       "      <td>0.0</td>\n",
       "      <td>0.0</td>\n",
       "      <td>0.0</td>\n",
       "      <td>...</td>\n",
       "      <td>0.0</td>\n",
       "      <td>0.0</td>\n",
       "      <td>0.0</td>\n",
       "      <td>0.0</td>\n",
       "      <td>0.0</td>\n",
       "      <td>0.0</td>\n",
       "      <td>0.0</td>\n",
       "      <td>0.0</td>\n",
       "      <td>0.0</td>\n",
       "      <td>0.0</td>\n",
       "    </tr>\n",
       "    <tr>\n",
       "      <th>B000B9RI14</th>\n",
       "      <td>0.0</td>\n",
       "      <td>0.0</td>\n",
       "      <td>0.0</td>\n",
       "      <td>0.0</td>\n",
       "      <td>0.0</td>\n",
       "      <td>0.0</td>\n",
       "      <td>0.0</td>\n",
       "      <td>0.0</td>\n",
       "      <td>0.0</td>\n",
       "      <td>0.0</td>\n",
       "      <td>...</td>\n",
       "      <td>0.0</td>\n",
       "      <td>0.0</td>\n",
       "      <td>0.0</td>\n",
       "      <td>0.0</td>\n",
       "      <td>0.0</td>\n",
       "      <td>0.0</td>\n",
       "      <td>0.0</td>\n",
       "      <td>0.0</td>\n",
       "      <td>0.0</td>\n",
       "      <td>0.0</td>\n",
       "    </tr>\n",
       "    <tr>\n",
       "      <th>B000ERVMI8</th>\n",
       "      <td>0.0</td>\n",
       "      <td>0.0</td>\n",
       "      <td>0.0</td>\n",
       "      <td>0.0</td>\n",
       "      <td>0.0</td>\n",
       "      <td>0.0</td>\n",
       "      <td>0.0</td>\n",
       "      <td>0.0</td>\n",
       "      <td>0.0</td>\n",
       "      <td>0.0</td>\n",
       "      <td>...</td>\n",
       "      <td>0.0</td>\n",
       "      <td>0.0</td>\n",
       "      <td>0.0</td>\n",
       "      <td>0.0</td>\n",
       "      <td>0.0</td>\n",
       "      <td>0.0</td>\n",
       "      <td>0.0</td>\n",
       "      <td>0.0</td>\n",
       "      <td>0.0</td>\n",
       "      <td>0.0</td>\n",
       "    </tr>\n",
       "  </tbody>\n",
       "</table>\n",
       "<p>3 rows × 23789 columns</p>\n",
       "</div>"
      ],
      "text/plain": [
       "reviewerID  A0220159ZRNBTRKLG08H  A0277912HT4JSJKVSL3E  A02836981FYG9912C66F  \\\n",
       "asin                                                                           \n",
       "B0009VXBAQ                   0.0                   0.0                   0.0   \n",
       "B000B9RI14                   0.0                   0.0                   0.0   \n",
       "B000ERVMI8                   0.0                   0.0                   0.0   \n",
       "\n",
       "reviewerID  A03622674FSWUX0PXPAK  A0380485C177Q6QQNJIX  A0435554Z2P98AIGLNCS  \\\n",
       "asin                                                                           \n",
       "B0009VXBAQ                   0.0                   0.0                   0.0   \n",
       "B000B9RI14                   0.0                   0.0                   0.0   \n",
       "B000ERVMI8                   0.0                   0.0                   0.0   \n",
       "\n",
       "reviewerID  A049248150WLX2UGA57G  A0667676ELTQ9GS4VZHH  A0685888WB02Q69S553P  \\\n",
       "asin                                                                           \n",
       "B0009VXBAQ                   0.0                   0.0                   0.0   \n",
       "B000B9RI14                   0.0                   0.0                   0.0   \n",
       "B000ERVMI8                   0.0                   0.0                   0.0   \n",
       "\n",
       "reviewerID  A0695568PX4DBZOQDN8  ...  AZYSLPX9HUWPW  AZYUJNUA38IYL  \\\n",
       "asin                             ...                                 \n",
       "B0009VXBAQ                  0.0  ...            0.0            0.0   \n",
       "B000B9RI14                  0.0  ...            0.0            0.0   \n",
       "B000ERVMI8                  0.0  ...            0.0            0.0   \n",
       "\n",
       "reviewerID  AZYUNW5G2R3CL  AZYWRH9CQSB2Q  AZZ1KF8RAO1BR  AZZ2RPY63LR0B  \\\n",
       "asin                                                                     \n",
       "B0009VXBAQ            0.0            0.0            0.0            0.0   \n",
       "B000B9RI14            0.0            0.0            0.0            0.0   \n",
       "B000ERVMI8            0.0            0.0            0.0            0.0   \n",
       "\n",
       "reviewerID  AZZDDQSI60WTM  AZZQCK9ZAKMFR  AZZT1ERHBSNQ8  AZZTOUKVTUMVM  \n",
       "asin                                                                    \n",
       "B0009VXBAQ            0.0            0.0            0.0            0.0  \n",
       "B000B9RI14            0.0            0.0            0.0            0.0  \n",
       "B000ERVMI8            0.0            0.0            0.0            0.0  \n",
       "\n",
       "[3 rows x 23789 columns]"
      ]
     },
     "execution_count": 69,
     "metadata": {},
     "output_type": "execute_result"
    }
   ],
   "source": [
    "item_user_mat = user_item_mat.T\n",
    "print(item_user_mat.shape)\n",
    "item_user_mat.head(3)"
   ]
  },
  {
   "cell_type": "code",
   "execution_count": 70,
   "metadata": {},
   "outputs": [
    {
     "data": {
      "text/plain": [
       "(241, 10)"
      ]
     },
     "execution_count": 70,
     "metadata": {},
     "output_type": "execute_result"
    }
   ],
   "source": [
    "## Decomposing the Matrix\n",
    "from sklearn.decomposition import TruncatedSVD\n",
    "\n",
    "SVD = TruncatedSVD(n_components=10)\n",
    "decomposed_matrix = SVD.fit_transform(item_user_mat)\n",
    "decomposed_matrix.shape"
   ]
  },
  {
   "cell_type": "code",
   "execution_count": 71,
   "metadata": {},
   "outputs": [
    {
     "data": {
      "text/plain": [
       "(241, 241)"
      ]
     },
     "execution_count": 71,
     "metadata": {},
     "output_type": "execute_result"
    }
   ],
   "source": [
    "#Correlation Matrix\n",
    "\n",
    "correlation_matrix = np.corrcoef(decomposed_matrix)\n",
    "correlation_matrix.shape"
   ]
  },
  {
   "cell_type": "markdown",
   "metadata": {},
   "source": [
    "Index # of item ID purchased by customer"
   ]
  },
  {
   "cell_type": "code",
   "execution_count": 83,
   "metadata": {},
   "outputs": [
    {
     "data": {
      "text/html": [
       "<div>\n",
       "<style scoped>\n",
       "    .dataframe tbody tr th:only-of-type {\n",
       "        vertical-align: middle;\n",
       "    }\n",
       "\n",
       "    .dataframe tbody tr th {\n",
       "        vertical-align: top;\n",
       "    }\n",
       "\n",
       "    .dataframe thead th {\n",
       "        text-align: right;\n",
       "    }\n",
       "</style>\n",
       "<table border=\"1\" class=\"dataframe\">\n",
       "  <thead>\n",
       "    <tr style=\"text-align: right;\">\n",
       "      <th></th>\n",
       "      <th>reviewerID</th>\n",
       "      <th>asin</th>\n",
       "      <th>overall</th>\n",
       "    </tr>\n",
       "  </thead>\n",
       "  <tbody>\n",
       "    <tr>\n",
       "      <th>3091</th>\n",
       "      <td>A7AQG5H1RB0NY</td>\n",
       "      <td>B0015AARJI</td>\n",
       "      <td>5.0</td>\n",
       "    </tr>\n",
       "    <tr>\n",
       "      <th>3092</th>\n",
       "      <td>A1J77AZSA076EF</td>\n",
       "      <td>B0015AARJI</td>\n",
       "      <td>5.0</td>\n",
       "    </tr>\n",
       "    <tr>\n",
       "      <th>3093</th>\n",
       "      <td>A123NX4VM0U422</td>\n",
       "      <td>B0015AARJI</td>\n",
       "      <td>5.0</td>\n",
       "    </tr>\n",
       "    <tr>\n",
       "      <th>3094</th>\n",
       "      <td>A1D8TXQNAJWTYS</td>\n",
       "      <td>B0015AARJI</td>\n",
       "      <td>5.0</td>\n",
       "    </tr>\n",
       "    <tr>\n",
       "      <th>3095</th>\n",
       "      <td>AFMAZRGEWTQB0</td>\n",
       "      <td>B0015AARJI</td>\n",
       "      <td>5.0</td>\n",
       "    </tr>\n",
       "    <tr>\n",
       "      <th>...</th>\n",
       "      <td>...</td>\n",
       "      <td>...</td>\n",
       "      <td>...</td>\n",
       "    </tr>\n",
       "    <tr>\n",
       "      <th>3464</th>\n",
       "      <td>A1172RQH5UKH43</td>\n",
       "      <td>B0015AARJI</td>\n",
       "      <td>5.0</td>\n",
       "    </tr>\n",
       "    <tr>\n",
       "      <th>3465</th>\n",
       "      <td>A2ZF0HRAX6SNUW</td>\n",
       "      <td>B0015AARJI</td>\n",
       "      <td>5.0</td>\n",
       "    </tr>\n",
       "    <tr>\n",
       "      <th>3466</th>\n",
       "      <td>A3M4FM3FPUAZ5I</td>\n",
       "      <td>B0015AARJI</td>\n",
       "      <td>5.0</td>\n",
       "    </tr>\n",
       "    <tr>\n",
       "      <th>3467</th>\n",
       "      <td>A2ZTUOL4G3OPDL</td>\n",
       "      <td>B0015AARJI</td>\n",
       "      <td>5.0</td>\n",
       "    </tr>\n",
       "    <tr>\n",
       "      <th>49193</th>\n",
       "      <td>A17OEPDI04DO5V</td>\n",
       "      <td>B0015AARJI</td>\n",
       "      <td>5.0</td>\n",
       "    </tr>\n",
       "  </tbody>\n",
       "</table>\n",
       "<p>311 rows × 3 columns</p>\n",
       "</div>"
      ],
      "text/plain": [
       "           reviewerID        asin  overall\n",
       "3091    A7AQG5H1RB0NY  B0015AARJI      5.0\n",
       "3092   A1J77AZSA076EF  B0015AARJI      5.0\n",
       "3093   A123NX4VM0U422  B0015AARJI      5.0\n",
       "3094   A1D8TXQNAJWTYS  B0015AARJI      5.0\n",
       "3095    AFMAZRGEWTQB0  B0015AARJI      5.0\n",
       "...               ...         ...      ...\n",
       "3464   A1172RQH5UKH43  B0015AARJI      5.0\n",
       "3465   A2ZF0HRAX6SNUW  B0015AARJI      5.0\n",
       "3466   A3M4FM3FPUAZ5I  B0015AARJI      5.0\n",
       "3467   A2ZTUOL4G3OPDL  B0015AARJI      5.0\n",
       "49193  A17OEPDI04DO5V  B0015AARJI      5.0\n",
       "\n",
       "[311 rows x 3 columns]"
      ]
     },
     "execution_count": 83,
     "metadata": {},
     "output_type": "execute_result"
    }
   ],
   "source": [
    "amazon_ratings_124[amazon_ratings_124['asin'] == 'B0015AARJI']#.iloc[:3]"
   ]
  },
  {
   "cell_type": "code",
   "execution_count": 84,
   "metadata": {},
   "outputs": [
    {
     "data": {
      "text/html": [
       "<div>\n",
       "<style scoped>\n",
       "    .dataframe tbody tr th:only-of-type {\n",
       "        vertical-align: middle;\n",
       "    }\n",
       "\n",
       "    .dataframe tbody tr th {\n",
       "        vertical-align: top;\n",
       "    }\n",
       "\n",
       "    .dataframe thead th {\n",
       "        text-align: right;\n",
       "    }\n",
       "</style>\n",
       "<table border=\"1\" class=\"dataframe\">\n",
       "  <thead>\n",
       "    <tr style=\"text-align: right;\">\n",
       "      <th></th>\n",
       "      <th>reviewerID</th>\n",
       "      <th>asin</th>\n",
       "      <th>overall</th>\n",
       "    </tr>\n",
       "  </thead>\n",
       "  <tbody>\n",
       "    <tr>\n",
       "      <th>3091</th>\n",
       "      <td>A7AQG5H1RB0NY</td>\n",
       "      <td>B0015AARJI</td>\n",
       "      <td>5.0</td>\n",
       "    </tr>\n",
       "    <tr>\n",
       "      <th>49259</th>\n",
       "      <td>A7AQG5H1RB0NY</td>\n",
       "      <td>B006JKARN0</td>\n",
       "      <td>5.0</td>\n",
       "    </tr>\n",
       "  </tbody>\n",
       "</table>\n",
       "</div>"
      ],
      "text/plain": [
       "          reviewerID        asin  overall\n",
       "3091   A7AQG5H1RB0NY  B0015AARJI      5.0\n",
       "49259  A7AQG5H1RB0NY  B006JKARN0      5.0"
      ]
     },
     "execution_count": 84,
     "metadata": {},
     "output_type": "execute_result"
    }
   ],
   "source": [
    "amazon_ratings_124[amazon_ratings_124['reviewerID'] == 'A7AQG5H1RB0NY']"
   ]
  },
  {
   "cell_type": "code",
   "execution_count": 79,
   "metadata": {},
   "outputs": [
    {
     "name": "stdout",
     "output_type": "stream",
     "text": [
      ": 23789\n"
     ]
    },
    {
     "data": {
      "text/html": [
       "<div>\n",
       "<style scoped>\n",
       "    .dataframe tbody tr th:only-of-type {\n",
       "        vertical-align: middle;\n",
       "    }\n",
       "\n",
       "    .dataframe tbody tr th {\n",
       "        vertical-align: top;\n",
       "    }\n",
       "\n",
       "    .dataframe thead th {\n",
       "        text-align: right;\n",
       "    }\n",
       "</style>\n",
       "<table border=\"1\" class=\"dataframe\">\n",
       "  <thead>\n",
       "    <tr style=\"text-align: right;\">\n",
       "      <th></th>\n",
       "      <th>num_ratings</th>\n",
       "      <th>mean_rating</th>\n",
       "    </tr>\n",
       "    <tr>\n",
       "      <th>reviewerID</th>\n",
       "      <th></th>\n",
       "      <th></th>\n",
       "    </tr>\n",
       "  </thead>\n",
       "  <tbody>\n",
       "    <tr>\n",
       "      <th>A14KKV5U5XSHXY</th>\n",
       "      <td>69</td>\n",
       "      <td>5.000000</td>\n",
       "    </tr>\n",
       "    <tr>\n",
       "      <th>A1RS06313BL6WN</th>\n",
       "      <td>42</td>\n",
       "      <td>4.166667</td>\n",
       "    </tr>\n",
       "    <tr>\n",
       "      <th>A71Z5AIGEFK11</th>\n",
       "      <td>40</td>\n",
       "      <td>5.000000</td>\n",
       "    </tr>\n",
       "    <tr>\n",
       "      <th>AJV2L53BJLNUA</th>\n",
       "      <td>27</td>\n",
       "      <td>4.296296</td>\n",
       "    </tr>\n",
       "    <tr>\n",
       "      <th>A361MDDVW2JW39</th>\n",
       "      <td>22</td>\n",
       "      <td>5.000000</td>\n",
       "    </tr>\n",
       "    <tr>\n",
       "      <th>A33LP81Z6FCC73</th>\n",
       "      <td>21</td>\n",
       "      <td>5.000000</td>\n",
       "    </tr>\n",
       "    <tr>\n",
       "      <th>A230RAOOP9XBN5</th>\n",
       "      <td>21</td>\n",
       "      <td>5.000000</td>\n",
       "    </tr>\n",
       "    <tr>\n",
       "      <th>A18PM7A5VL8FD2</th>\n",
       "      <td>20</td>\n",
       "      <td>4.100000</td>\n",
       "    </tr>\n",
       "    <tr>\n",
       "      <th>A31GWUD5AUE54T</th>\n",
       "      <td>20</td>\n",
       "      <td>3.850000</td>\n",
       "    </tr>\n",
       "    <tr>\n",
       "      <th>A3E3SO55Q9MVEJ</th>\n",
       "      <td>18</td>\n",
       "      <td>4.888889</td>\n",
       "    </tr>\n",
       "  </tbody>\n",
       "</table>\n",
       "</div>"
      ],
      "text/plain": [
       "                num_ratings  mean_rating\n",
       "reviewerID                              \n",
       "A14KKV5U5XSHXY           69     5.000000\n",
       "A1RS06313BL6WN           42     4.166667\n",
       "A71Z5AIGEFK11            40     5.000000\n",
       "AJV2L53BJLNUA            27     4.296296\n",
       "A361MDDVW2JW39           22     5.000000\n",
       "A33LP81Z6FCC73           21     5.000000\n",
       "A230RAOOP9XBN5           21     5.000000\n",
       "A18PM7A5VL8FD2           20     4.100000\n",
       "A31GWUD5AUE54T           20     3.850000\n",
       "A3E3SO55Q9MVEJ           18     4.888889"
      ]
     },
     "execution_count": 79,
     "metadata": {},
     "output_type": "execute_result"
    }
   ],
   "source": [
    "## Counts for ratings per user in descending order.\n",
    "user_num_mean = amazon_ratings_124.groupby(by='reviewerID')['overall'].count().sort_values(ascending=False)\n",
    "user_num_mean = pd.DataFrame(user_num_mean)\n",
    "## rename\n",
    "user_num_mean.rename(columns={'overall':'num_ratings'}, inplace=True)\n",
    "## Calculate mean of ratings for each user.\n",
    "user_num_mean['mean_rating'] = amazon_ratings_124.groupby(by='reviewerID')['overall'].apply(np.mean)\n",
    "\n",
    "print(f\": {len(user_num_mean)}\")\n",
    "user_num_mean.head(10)\n"
   ]
  },
  {
   "cell_type": "code",
   "execution_count": 85,
   "metadata": {},
   "outputs": [
    {
     "data": {
      "text/html": [
       "<div>\n",
       "<style scoped>\n",
       "    .dataframe tbody tr th:only-of-type {\n",
       "        vertical-align: middle;\n",
       "    }\n",
       "\n",
       "    .dataframe tbody tr th {\n",
       "        vertical-align: top;\n",
       "    }\n",
       "\n",
       "    .dataframe thead th {\n",
       "        text-align: right;\n",
       "    }\n",
       "</style>\n",
       "<table border=\"1\" class=\"dataframe\">\n",
       "  <thead>\n",
       "    <tr style=\"text-align: right;\">\n",
       "      <th>asin</th>\n",
       "      <th>B0009VXBAQ</th>\n",
       "      <th>B000B9RI14</th>\n",
       "      <th>B000ERVMI8</th>\n",
       "      <th>B000FO4KO8</th>\n",
       "      <th>B000FQ9R4E</th>\n",
       "      <th>B000FRU0NU</th>\n",
       "      <th>B000FRU1UM</th>\n",
       "      <th>B000HZFCT2</th>\n",
       "      <th>B000IMYKQ0</th>\n",
       "      <th>B000P46NMA</th>\n",
       "      <th>...</th>\n",
       "      <th>B018K6KV68</th>\n",
       "      <th>B019J6RYCW</th>\n",
       "      <th>B019OB663A</th>\n",
       "      <th>B01C93CWSI</th>\n",
       "      <th>B01C93CWU6</th>\n",
       "      <th>B01F9HMO2K</th>\n",
       "      <th>B01GKGVI8U</th>\n",
       "      <th>B01GW3ODBU</th>\n",
       "      <th>B01GW3P9PE</th>\n",
       "      <th>B01GW3POY0</th>\n",
       "    </tr>\n",
       "    <tr>\n",
       "      <th>reviewerID</th>\n",
       "      <th></th>\n",
       "      <th></th>\n",
       "      <th></th>\n",
       "      <th></th>\n",
       "      <th></th>\n",
       "      <th></th>\n",
       "      <th></th>\n",
       "      <th></th>\n",
       "      <th></th>\n",
       "      <th></th>\n",
       "      <th></th>\n",
       "      <th></th>\n",
       "      <th></th>\n",
       "      <th></th>\n",
       "      <th></th>\n",
       "      <th></th>\n",
       "      <th></th>\n",
       "      <th></th>\n",
       "      <th></th>\n",
       "      <th></th>\n",
       "      <th></th>\n",
       "    </tr>\n",
       "  </thead>\n",
       "  <tbody>\n",
       "    <tr>\n",
       "      <th>A7AQG5H1RB0NY</th>\n",
       "      <td>0</td>\n",
       "      <td>0</td>\n",
       "      <td>0</td>\n",
       "      <td>0</td>\n",
       "      <td>0</td>\n",
       "      <td>0</td>\n",
       "      <td>0</td>\n",
       "      <td>0</td>\n",
       "      <td>0</td>\n",
       "      <td>0</td>\n",
       "      <td>...</td>\n",
       "      <td>0</td>\n",
       "      <td>0</td>\n",
       "      <td>0</td>\n",
       "      <td>0</td>\n",
       "      <td>0</td>\n",
       "      <td>0</td>\n",
       "      <td>0</td>\n",
       "      <td>0</td>\n",
       "      <td>0</td>\n",
       "      <td>0</td>\n",
       "    </tr>\n",
       "  </tbody>\n",
       "</table>\n",
       "<p>1 rows × 241 columns</p>\n",
       "</div>"
      ],
      "text/plain": [
       "asin           B0009VXBAQ  B000B9RI14  B000ERVMI8  B000FO4KO8  B000FQ9R4E  \\\n",
       "reviewerID                                                                  \n",
       "A7AQG5H1RB0NY           0           0           0           0           0   \n",
       "\n",
       "asin           B000FRU0NU  B000FRU1UM  B000HZFCT2  B000IMYKQ0  B000P46NMA  \\\n",
       "reviewerID                                                                  \n",
       "A7AQG5H1RB0NY           0           0           0           0           0   \n",
       "\n",
       "asin           ...  B018K6KV68  B019J6RYCW  B019OB663A  B01C93CWSI  \\\n",
       "reviewerID     ...                                                   \n",
       "A7AQG5H1RB0NY  ...           0           0           0           0   \n",
       "\n",
       "asin           B01C93CWU6  B01F9HMO2K  B01GKGVI8U  B01GW3ODBU  B01GW3P9PE  \\\n",
       "reviewerID                                                                  \n",
       "A7AQG5H1RB0NY           0           0           0           0           0   \n",
       "\n",
       "asin           B01GW3POY0  \n",
       "reviewerID                 \n",
       "A7AQG5H1RB0NY           0  \n",
       "\n",
       "[1 rows x 241 columns]"
      ]
     },
     "execution_count": 85,
     "metadata": {},
     "output_type": "execute_result"
    }
   ],
   "source": [
    "user_item_mat[user_item_mat.index=='A7AQG5H1RB0NY']"
   ]
  },
  {
   "cell_type": "code",
   "execution_count": 136,
   "metadata": {},
   "outputs": [
    {
     "data": {
      "text/plain": [
       "'A10QW6BAIUL7D1'"
      ]
     },
     "execution_count": 136,
     "metadata": {},
     "output_type": "execute_result"
    }
   ],
   "source": [
    "user_item_mat.index[170]"
   ]
  },
  {
   "cell_type": "code",
   "execution_count": 135,
   "metadata": {},
   "outputs": [
    {
     "data": {
      "text/plain": [
       "'B004RORMF6'"
      ]
     },
     "execution_count": 135,
     "metadata": {},
     "output_type": "execute_result"
    }
   ],
   "source": [
    "## item B0014HMAZQ\n",
    "item_user_mat.index[170]"
   ]
  },
  {
   "cell_type": "code",
   "execution_count": 134,
   "metadata": {},
   "outputs": [
    {
     "data": {
      "text/html": [
       "<div>\n",
       "<style scoped>\n",
       "    .dataframe tbody tr th:only-of-type {\n",
       "        vertical-align: middle;\n",
       "    }\n",
       "\n",
       "    .dataframe tbody tr th {\n",
       "        vertical-align: top;\n",
       "    }\n",
       "\n",
       "    .dataframe thead th {\n",
       "        text-align: right;\n",
       "    }\n",
       "</style>\n",
       "<table border=\"1\" class=\"dataframe\">\n",
       "  <thead>\n",
       "    <tr style=\"text-align: right;\">\n",
       "      <th></th>\n",
       "      <th>reviewerID</th>\n",
       "      <th>asin</th>\n",
       "      <th>overall</th>\n",
       "    </tr>\n",
       "  </thead>\n",
       "  <tbody>\n",
       "    <tr>\n",
       "      <th>170</th>\n",
       "      <td>A4GGT6O0GQNV2</td>\n",
       "      <td>B000FNFSPY</td>\n",
       "      <td>5.0</td>\n",
       "    </tr>\n",
       "    <tr>\n",
       "      <th>2133</th>\n",
       "      <td>A4GGT6O0GQNV2</td>\n",
       "      <td>B00FNPD1VW</td>\n",
       "      <td>5.0</td>\n",
       "    </tr>\n",
       "    <tr>\n",
       "      <th>5220</th>\n",
       "      <td>A4GGT6O0GQNV2</td>\n",
       "      <td>B001V59KR2</td>\n",
       "      <td>3.0</td>\n",
       "    </tr>\n",
       "    <tr>\n",
       "      <th>7348</th>\n",
       "      <td>A4GGT6O0GQNV2</td>\n",
       "      <td>B00KYK2AKO</td>\n",
       "      <td>5.0</td>\n",
       "    </tr>\n",
       "    <tr>\n",
       "      <th>13216</th>\n",
       "      <td>A4GGT6O0GQNV2</td>\n",
       "      <td>B00001P4ZH</td>\n",
       "      <td>5.0</td>\n",
       "    </tr>\n",
       "    <tr>\n",
       "      <th>24635</th>\n",
       "      <td>A4GGT6O0GQNV2</td>\n",
       "      <td>B0002H02ZY</td>\n",
       "      <td>5.0</td>\n",
       "    </tr>\n",
       "    <tr>\n",
       "      <th>28500</th>\n",
       "      <td>A4GGT6O0GQNV2</td>\n",
       "      <td>B00JR625WO</td>\n",
       "      <td>5.0</td>\n",
       "    </tr>\n",
       "    <tr>\n",
       "      <th>29939</th>\n",
       "      <td>A4GGT6O0GQNV2</td>\n",
       "      <td>B00CD8AFFW</td>\n",
       "      <td>5.0</td>\n",
       "    </tr>\n",
       "  </tbody>\n",
       "</table>\n",
       "</div>"
      ],
      "text/plain": [
       "          reviewerID        asin  overall\n",
       "170    A4GGT6O0GQNV2  B000FNFSPY      5.0\n",
       "2133   A4GGT6O0GQNV2  B00FNPD1VW      5.0\n",
       "5220   A4GGT6O0GQNV2  B001V59KR2      3.0\n",
       "7348   A4GGT6O0GQNV2  B00KYK2AKO      5.0\n",
       "13216  A4GGT6O0GQNV2  B00001P4ZH      5.0\n",
       "24635  A4GGT6O0GQNV2  B0002H02ZY      5.0\n",
       "28500  A4GGT6O0GQNV2  B00JR625WO      5.0\n",
       "29939  A4GGT6O0GQNV2  B00CD8AFFW      5.0"
      ]
     },
     "execution_count": 134,
     "metadata": {},
     "output_type": "execute_result"
    }
   ],
   "source": [
    "amazon_ratings_39[amazon_ratings_39['reviewerID'] == 'A4GGT6O0GQNV2']"
   ]
  },
  {
   "cell_type": "code",
   "execution_count": 86,
   "metadata": {},
   "outputs": [
    {
     "data": {
      "text/plain": [
       "23"
      ]
     },
     "execution_count": 86,
     "metadata": {},
     "output_type": "execute_result"
    }
   ],
   "source": [
    "item = \"B0015AARJI\"\n",
    "\n",
    "item_IDs = list(item_user_mat.index)\n",
    "item_idx = item_IDs.index(item)\n",
    "item_idx"
   ]
  },
  {
   "cell_type": "markdown",
   "metadata": {},
   "source": [
    "Correlation for all items with the item purchased by this customer based on items rated by other customers people who bought the same product"
   ]
  },
  {
   "cell_type": "code",
   "execution_count": 91,
   "metadata": {},
   "outputs": [
    {
     "data": {
      "text/plain": [
       "(241,)"
      ]
     },
     "execution_count": 91,
     "metadata": {},
     "output_type": "execute_result"
    }
   ],
   "source": [
    "correlation_B0015AARJI = correlation_matrix[item_idx]\n",
    "correlation_B0015AARJI.shape\n"
   ]
  },
  {
   "cell_type": "markdown",
   "metadata": {},
   "source": [
    "Recommending top 25 highly correlated products in sequence"
   ]
  },
  {
   "cell_type": "code",
   "execution_count": 94,
   "metadata": {},
   "outputs": [
    {
     "data": {
      "text/plain": [
       "['B0009VXBAQ',\n",
       " 'B000FO4KO8',\n",
       " 'B000P46NMA',\n",
       " 'B000S0C2UI',\n",
       " 'B000TLU67W',\n",
       " 'B000VTQ3LU',\n",
       " 'B000ZK9QCS',\n",
       " 'B0012N94WO',\n",
       " 'B0017ZIIK6',\n",
       " 'B0050SYV70',\n",
       " 'B006JKARN0',\n",
       " 'B006ZTHFPS',\n",
       " 'B00BMFIXT2',\n",
       " 'B00CRL9TU2',\n",
       " 'B00JA81WQE',\n",
       " 'B00JQHU9RC']"
      ]
     },
     "execution_count": 94,
     "metadata": {},
     "output_type": "execute_result"
    }
   ],
   "source": [
    "recommended_items = list(item_user_mat.index[correlation_B0015AARJI > 0.85])\n",
    "\n",
    "# Removes the item already bought by the customer\n",
    "recommended_items.remove(item) \n",
    "\n",
    "recommended_items[0:24]"
   ]
  },
  {
   "cell_type": "markdown",
   "metadata": {},
   "source": [
    "Here are the top 10 products to be displayed by the recommendation system to the above customer based on the purchase history of other customers in the website."
   ]
  },
  {
   "cell_type": "code",
   "execution_count": null,
   "metadata": {},
   "outputs": [],
   "source": []
  },
  {
   "cell_type": "code",
   "execution_count": null,
   "metadata": {},
   "outputs": [],
   "source": [
    "kSplit = surprise.model_selection.split.KFold(n_splits=10, shuffle=True) # split data into folds."
   ]
  },
  {
   "cell_type": "code",
   "execution_count": null,
   "metadata": {},
   "outputs": [],
   "source": []
  },
  {
   "cell_type": "code",
   "execution_count": null,
   "metadata": {},
   "outputs": [],
   "source": []
  },
  {
   "cell_type": "code",
   "execution_count": null,
   "metadata": {},
   "outputs": [],
   "source": [
    "aaa"
   ]
  }
 ],
 "metadata": {
  "kernelspec": {
   "display_name": "Python 3",
   "language": "python",
   "name": "python3"
  },
  "language_info": {
   "codemirror_mode": {
    "name": "ipython",
    "version": 3
   },
   "file_extension": ".py",
   "mimetype": "text/x-python",
   "name": "python",
   "nbconvert_exporter": "python",
   "pygments_lexer": "ipython3",
   "version": "3.8.3"
  }
 },
 "nbformat": 4,
 "nbformat_minor": 4
}
