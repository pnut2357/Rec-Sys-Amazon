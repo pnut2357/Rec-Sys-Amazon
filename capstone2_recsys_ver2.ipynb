{
 "cells": [
  {
   "cell_type": "code",
   "execution_count": 52,
   "metadata": {},
   "outputs": [
    {
     "name": "stdout",
     "output_type": "stream",
     "text": [
      "Jae H. Choi 2021-03-06 16:31:43 \n",
      "\n",
      "CPython 3.8.3\n",
      "IPython 7.16.1\n",
      "\n",
      "typing unknown\n"
     ]
    }
   ],
   "source": [
    "# 1. magic to print version\n",
    "# 2. magic so that the notebook will reload external python modules\n",
    "# https://gist.github.com/minrk/3301035\n",
    "%load_ext watermark\n",
    "%load_ext autoreload\n",
    "%autoreload \n",
    "from typing import List\n",
    "%watermark -a 'Jae H. Choi' -d -t -v -p typing"
   ]
  },
  {
   "cell_type": "markdown",
   "metadata": {},
   "source": [
    "# Recommender System for Amazon Items\n",
    "<img src=\"./img/amazon.png\" alt=\"Drawing\" style=\"width: 200px;\"/>\n",
    "\n",
    "## 1. Intro\n",
    "E-commerce, an activity of buying or selling items (products) on online services, has been populated. We cannot deny the fact that Amazon is one of the biggiest E-commerce company. From the millions items in online stores, it is hard to believe which item would be the best for customers. The given information of reviews and ratings from other customers help, but a recommender system assist to make a better and smart decision. \n",
    "\n",
    "## 2. Dataset\n",
    "The [dataset](https://nijianmo.github.io/amazon/index.html) includes reviews \"ratings-only\" (ratings, text, helpfulness votes) as a csv file and item metadata \"5-core\" (descriptions, category information, price, brand, and image features) as a json file. The dataset is categorically divided; for this project, category of **Video Games** was chosen. For the practical prupose, item metadata of json file was loaded. \n",
    "\n",
    "> \"5-core\" (i.e., dense subsets): These data have been reduced to extract the 5-core, such that each of the remaining users and items have 5 reviews each.\n",
    "\n",
    "**Sample review**:\n",
    "{\n",
    "  \"reviewerID\": \"A2SUAM1J3GNN3B\",\n",
    "  \"asin\": \"0000013714\",\n",
    "  \"reviewerName\": \"J. McDonald\",\n",
    "  \"vote\": 5,\n",
    "  \"style\": {\n",
    "    \"Format:\": \"Hardcover\"\n",
    "  },\n",
    "  \"reviewText\": \"I bought this for my husband who plays the piano.  He is having a wonderful time playing these old hymns.  The music  is at times hard to read because we think the book was published for singing from more than playing from.  Great purchase though!\",\n",
    "  \"overall\": 5.0,\n",
    "  \"summary\": \"Heavenly Highway Hymns\",\n",
    "  \"unixReviewTime\": 1252800000,\n",
    "  \"reviewTime\": \"09 13, 2009\"\n",
    "}\n",
    "\n",
    "where\n",
    "\n",
    "- reviewerID: ID of the reviewer, e.g. A2SUAM1J3GNN3B\n",
    "- asin: ID of the product, e.g. 0000013714\n",
    "- reviewerName - name of the reviewer\n",
    "- vote: helpful votes of the review\n",
    "- style: a disctionary of the product metadata, e.g., \"Format\" is \"Hardcover\"\n",
    "- reviewText: text of the review\n",
    "- overall: rating of the product\n",
    "- summary: summary of the review\n",
    "- unixReviewTime: time of the review (unix time)\n",
    "- reviewTime: time of the review (raw)\n",
    "- image: images that users post after they have received the product\n"
   ]
  },
  {
   "cell_type": "code",
   "execution_count": 161,
   "metadata": {},
   "outputs": [],
   "source": [
    "import pandas as pd\n",
    "import numpy as np\n",
    "import seaborn as sns\n",
    "import matplotlib.pyplot as plt\n",
    "%matplotlib inline\n",
    "\n",
    "from collections import defaultdict\n",
    "import itertools\n",
    "from recommender_metrics import RecommenderMetrics as rm\n",
    "import surprise\n",
    "from surprise import KNNWithMeans\n",
    "from surprise import Dataset\n",
    "from surprise import accuracy\n",
    "from surprise import Reader\n",
    "import os\n",
    "from surprise.model_selection import train_test_split\n"
   ]
  },
  {
   "cell_type": "code",
   "execution_count": 2,
   "metadata": {},
   "outputs": [
    {
     "name": "stdout",
     "output_type": "stream",
     "text": [
      "/Users/Jae/Google_Drive_jae0325/DATA_SCIENCE/Portfolio/Rec-Sys-Amazon\n"
     ]
    }
   ],
   "source": [
    "!pwd"
   ]
  },
  {
   "cell_type": "code",
   "execution_count": 3,
   "metadata": {},
   "outputs": [
    {
     "name": "stdout",
     "output_type": "stream",
     "text": [
      "Total Length: 49535, Unique user Length: 23789, Unique item Length: 241\n",
      "\n"
     ]
    },
    {
     "data": {
      "text/html": [
       "<div>\n",
       "<style scoped>\n",
       "    .dataframe tbody tr th:only-of-type {\n",
       "        vertical-align: middle;\n",
       "    }\n",
       "\n",
       "    .dataframe tbody tr th {\n",
       "        vertical-align: top;\n",
       "    }\n",
       "\n",
       "    .dataframe thead th {\n",
       "        text-align: right;\n",
       "    }\n",
       "</style>\n",
       "<table border=\"1\" class=\"dataframe\">\n",
       "  <thead>\n",
       "    <tr style=\"text-align: right;\">\n",
       "      <th></th>\n",
       "      <th>asin</th>\n",
       "      <th>overall</th>\n",
       "      <th>reviewText</th>\n",
       "      <th>reviewTime</th>\n",
       "      <th>reviewerID</th>\n",
       "      <th>reviewerName</th>\n",
       "      <th>summary</th>\n",
       "      <th>verified</th>\n",
       "      <th>vote</th>\n",
       "      <th>month</th>\n",
       "      <th>year</th>\n",
       "    </tr>\n",
       "  </thead>\n",
       "  <tbody>\n",
       "    <tr>\n",
       "      <th>12457</th>\n",
       "      <td>B0009VXBAQ</td>\n",
       "      <td>5.0</td>\n",
       "      <td>exactly as expected. no complaints!</td>\n",
       "      <td>2018-04-06</td>\n",
       "      <td>A34S5KKOKVXHUE</td>\n",
       "      <td>Alyse</td>\n",
       "      <td>5 stars</td>\n",
       "      <td>True</td>\n",
       "      <td>0</td>\n",
       "      <td>4</td>\n",
       "      <td>2018</td>\n",
       "    </tr>\n",
       "    <tr>\n",
       "      <th>12458</th>\n",
       "      <td>B0009VXBAQ</td>\n",
       "      <td>5.0</td>\n",
       "      <td>I really like the games from the WII and the w...</td>\n",
       "      <td>2018-04-02</td>\n",
       "      <td>A2Q731BIYCQ60C</td>\n",
       "      <td>xander</td>\n",
       "      <td>great game console, nintendo's original games ...</td>\n",
       "      <td>True</td>\n",
       "      <td>0</td>\n",
       "      <td>4</td>\n",
       "      <td>2018</td>\n",
       "    </tr>\n",
       "    <tr>\n",
       "      <th>12459</th>\n",
       "      <td>B0009VXBAQ</td>\n",
       "      <td>5.0</td>\n",
       "      <td>Loved it but it has so few games!</td>\n",
       "      <td>2018-03-25</td>\n",
       "      <td>A1J8UQNUTU6B9S</td>\n",
       "      <td>Clarissa Arnot</td>\n",
       "      <td>Five Stars</td>\n",
       "      <td>True</td>\n",
       "      <td>0</td>\n",
       "      <td>3</td>\n",
       "      <td>2018</td>\n",
       "    </tr>\n",
       "  </tbody>\n",
       "</table>\n",
       "</div>"
      ],
      "text/plain": [
       "             asin  overall                                         reviewText  \\\n",
       "12457  B0009VXBAQ      5.0                exactly as expected. no complaints!   \n",
       "12458  B0009VXBAQ      5.0  I really like the games from the WII and the w...   \n",
       "12459  B0009VXBAQ      5.0                  Loved it but it has so few games!   \n",
       "\n",
       "      reviewTime      reviewerID    reviewerName  \\\n",
       "12457 2018-04-06  A34S5KKOKVXHUE           Alyse   \n",
       "12458 2018-04-02  A2Q731BIYCQ60C          xander   \n",
       "12459 2018-03-25  A1J8UQNUTU6B9S  Clarissa Arnot   \n",
       "\n",
       "                                                 summary  verified  vote  \\\n",
       "12457                                            5 stars      True     0   \n",
       "12458  great game console, nintendo's original games ...      True     0   \n",
       "12459                                         Five Stars      True     0   \n",
       "\n",
       "       month  year  \n",
       "12457      4  2018  \n",
       "12458      4  2018  \n",
       "12459      3  2018  "
      ]
     },
     "execution_count": 3,
     "metadata": {},
     "output_type": "execute_result"
    }
   ],
   "source": [
    "## import data\n",
    "pklpath = \"./ecommerce/datafiniti-consumer-reviews-of-amazon-products/rating_124.pkl\" #--- NON Stemmed Reviews\n",
    "rating_124 = pd.read_pickle(pklpath)\n",
    "\n",
    "#Deleting all the duplicates having the same userID, Profile, NameTime and Text all in the same column.\n",
    "cleaned_rating_124 =  rating_124.drop_duplicates(subset={\"reviewerID\",\"asin\",\"reviewTime\",\"reviewText\"},keep=\"first\")\n",
    "\n",
    "print('Total Length: {}, Unique user Length: {}, Unique item Length: {}\\n'.format(\n",
    "                                            len(cleaned_rating_124),\n",
    "                                            len(cleaned_rating_124['reviewerID'].unique()),\n",
    "                                            len(cleaned_rating_124['asin'].unique())))\n",
    "cleaned_rating_124.head(3)"
   ]
  },
  {
   "cell_type": "code",
   "execution_count": 4,
   "metadata": {},
   "outputs": [],
   "source": [
    "# ## randomly choose 30000 data\n",
    "# cleaned_rating_39 = cleaned_rating_39.sample(n=30000, random_state=0)\n",
    "# print('Total Length: {}, Unique user Length: {}, Unique item Length: {}\\n'.format(\n",
    "#                                             len(cleaned_rating_39),\n",
    "#                                             len(cleaned_rating_39['reviewerID'].unique()),\n",
    "#                                             len(cleaned_rating_39['asin'].unique())))"
   ]
  },
  {
   "cell_type": "code",
   "execution_count": 5,
   "metadata": {},
   "outputs": [
    {
     "data": {
      "text/plain": [
       "<surprise.dataset.DatasetAutoFolds at 0x111567ac0>"
      ]
     },
     "execution_count": 5,
     "metadata": {},
     "output_type": "execute_result"
    }
   ],
   "source": [
    "## Read the dataset\n",
    "amazon_ratings_124 = cleaned_rating_124[['reviewerID', 'asin', 'overall']].reset_index(drop=True)\n",
    "reader = Reader(rating_scale=(1, 5))\n",
    "data_124 = Dataset.load_from_df(amazon_ratings_124, reader)\n",
    "data_124"
   ]
  },
  {
   "cell_type": "code",
   "execution_count": 6,
   "metadata": {},
   "outputs": [],
   "source": [
    "## train test datasets split \n",
    "train_set, test_set = train_test_split(data_124, test_size=0.3,random_state=0)"
   ]
  },
  {
   "cell_type": "code",
   "execution_count": 7,
   "metadata": {},
   "outputs": [
    {
     "data": {
      "text/plain": [
       "(49535, 3)"
      ]
     },
     "execution_count": 7,
     "metadata": {},
     "output_type": "execute_result"
    }
   ],
   "source": [
    "amazon_ratings_124.shape"
   ]
  },
  {
   "cell_type": "markdown",
   "metadata": {},
   "source": [
    "## 3. Recommender System\n",
    "A recommender system is a technique to suggest the relevant items to users, based on their preference. There are 3 types; 1) content-based filtering, 2) collaborative filtering, 3) hybrid systems. \n",
    "<center>\n",
    "<img src=\"./img/type.png\" alt=\"Drawing\" style=\"width: 400px;\"/>\n",
    "</center>\n",
    "\n",
    "### 3.1 Content-based Filtering (CBF) System\n",
    "Content-based Filtering is a learning system to recommend by analyzing the feature similarity among items. For instance, based on user's actual ratings for different genre of movies, the system will learn to recommend the genre which is positively rated by the user. \n",
    "<center>\n",
    "<img src=\"./img/content-based.png\" alt=\"Drawing\" style=\"width: 200px;\"/>\n",
    "</center>\n",
    "\n",
    "To measure the similarity between items, various different similarity metrics can be used. Practically, the items in the current amazon data with meta information can be analyzed to extract features like sentiment score, rating score, or TF-IDF score for finding the similarity relationship among the items. However, the more features, the more dimensions we need; due to the curse of dimensionality, features should be well defined as well as similarity metrics. \n",
    "\n",
    "<center>\n",
    "<img src=\"./img/sim_rel.png\" alt=\"Drawing\" style=\"width: 400px;\"/>\n",
    "</center>\n",
    "\n",
    "The popular CBF is 1) Vectorization + Similarlity and 2) TF-IDF. The first method is that the vectorized item can be found similar relationship via similarity metrics, the second one is based on weighing TF (Term-Frequency; number of specific terms that appeared in specific doc) and the specialized terms that appears only specific documents via DF (number of docs that specific terms appeared) because TF does not proportional to importance so it is needed to penaltize the TF.\n",
    "\n",
    "- Pros of CBF\n",
    "    - User Independence: compared to user-based CF which needs other user's information, CBF needs only single user's profile. It has a less computations and may perform better if extracting features for similarity between items is well done.\n",
    "    - Transparency on Feature-Level: it is clear that CBF based on selected features while user-based CF needs other users' interactions. \n",
    "    - Less Cold Start: CF usually faces with Cold Start that if other users have no information related to items. However, CBF has no Cold Start if current user has information like transaction history or rating history.\n",
    "    \n",
    "- Cons of CBF\n",
    "    - Limited Content Analysis: the less information, the less accuate the recommendation (prediction) would be. \n",
    "    - Over-specialization: User may want some new experience (can be measured by novelty), but it is not great that recommended items would be expected all the time. \n",
    "    \n",
    "> NOTE: Similarity Metrics can be used by both CBF and Memory-based CF for neighboring. \n",
    "#### Similarity Metrics\n",
    "There are Cosine, MSD (Mean Squared Difference), Pearson (Pearson correlation coefficient), and many other metrics.\n",
    "\n",
    "### 3.2 Collaborative Filtering (CF) System\n",
    "Unlike content-based CF use explicit features such as genre of movies, it is hard to extract important features in most cases with tenmendous amount of data. Then, user-item matrix is simply a starting point to grasp a pattern between users and items. The following figure shows user-item matrix.\n",
    "\n",
    "<center>\n",
    "<img src=\"./img/user_item_mat.png\" alt=\"Drawing\" style=\"width: 400px;\"/>\n",
    "</center>\n",
    "\n",
    "Suppose that items shown above are movie titles. User Alice have rated item 1 to item 4 in the range of [1,5] range, but item 5 (the orange cell in the figure). This matrix helps vectorizing the users' preferences and items' features. Then, how to suggest the movie to individuals based on personal preferance? \n",
    "\n",
    "There are two main appraoches to CF: Model-based and Memory-based. Model-based CF (Latent Factor CF) is based on Factorization of features for users and items while Memory-based CF (neighborhood CF) is based on neighboring an object. If this object is user, the system (called user-based CF) learns the preference similarity between current user and the other users to recommend items. If the object is item, the system (called item-based CF) learns the interactions between items from current user's \"behavior\". \n",
    "\n",
    "<center>\n",
    "<img src=\"./img/model_memory.png\" alt=\"Drawing\" style=\"width: 400px;\"/>\n",
    "</center>\n",
    "\n",
    "> NOTE: Content-based filtering learns **content** of items to find the similarity while item-based CF learns **user behavior** on the items with meta data of current users' interactions through transaction history, ratings, selection (wish-list) information. \n",
    "\n",
    "#### 3.2.1 Model-based CF\n",
    "The most popular model-based CF is SVD, which was used for Netflix competition 2009. SVD vectorizes preferences of users and features of items into two latent vectors; user latent and item latent. This separation is called Matrix Factorization. From the separation, users and items can be projected in a smaller dimension space (dimensionality reduction) to observe preference of users on features of items. These projected users and items should be grouped (clustering). \n",
    "\n",
    "Real world data is often jointly interacted between multiple entities. However, here we are intereted in two entities; users and items, which means the user-item matrix has join interaction between users and items. For instance, user 1 rating item 1 is affected by both the preference of user 1 (affinity to some subjects/categories) and the feature of item 1 (its caracteristic belongs to some subjects/categories); called bimodel. Based on similarity of these pairwise interactions, co-clustering (grouping user side and item side simutaneously) is the main poin in Model-based CF.  \n",
    "\n",
    "Co-clustering works well especially for when pairwise interactions is sparse. Suppose that user 1 and user 2 have similar affinity to same youtube categories. It is clear that user 1 and 2 will watch the same youtube clip becuase copious amount of clips is generated daily. Then the user-item matrix have sparse interactions. In this case, clustering similar users (user-based CF in neighboring) or clustering similar items (item-based CF in neighboring) is not useful for recommendation. When co-clustering overshadow regular unimodel clustering. \n",
    "\n",
    "##### 3.2.1.1 SVD + SGD\n",
    "SVD ,a matrix factorization, vectorize preferences of users and features of items into user latent ($U$) and item latent ($\\Sigma V^T$) (more concisely $U\\sqrt{\\Sigma}$ and $\\sqrt{\\Sigma}V^T$). \n",
    "\n",
    "<center>\n",
    "<img src=\"./img/svd.png\" alt=\"Drawing\" style=\"width: 400px;\"/>\n",
    "</center>\n",
    "\n",
    "The user latent factor and item latent factor with $\\Sigma$ which represents significance of those factors. This helps the singular values compressed the representation by $k$. In factorization, $k$, which is an adjustable number of features to describe preference of users for subjects/categories and features of items belongs to subjects/categories, can be selected to vertorize users and items with important features (largest singular values), ignoring the rest. It is called Truncated SVD. \n",
    "\n",
    "Estimated rating $\\hat{r}_(u,i)$ is defined as following:\n",
    "$$\\hat{r}_(u,i) = U_u\\cdot V_i^T$$\n",
    "> NOTE: It may be confusing that I used $U$ and $V$ for user latent and item latent, but to be accurate, $U$ is actually $U\\sqrt{\\Sigma}$, and $V$ is $\\sqrt{\\Sigma}V^T$.\n",
    "\n",
    "However, bias can be added to avoid overfitting.\n",
    "\n",
    "$$\\hat{r}_(u,i) = U(u)\\cdot V(i)^T + \\mu + b(u) + b(i)$$\n",
    "\n",
    "Where $\\hat{r}(u,i)$ is estimated rating from user u for item i, $U(u)$ user vector ($1\\times k$), $V(i)$ item feature vector ($1\\times k$), and $\\mu$ is mean of all the actual ratings, $b(u)$ is user bias, and $b(i)$ is item bias.\n",
    "\n",
    "For better optimization, loss function can be the following. \n",
    "\n",
    "$$\\min_{U,V}L = \\frac{1}{2} \\sum_{u,i \\in R_{train}} (r(u,i)-\\hat{r}(u,i))^2 + \\lambda (b(u)^2 + b(i)^2 + ||U_u||^2 + ||V_i||^2)$$\n",
    "\n",
    "Note that $U_u \\cdot V_i^T = <U_u,V_i> = \\sum_{s=1}^k u_{us}v_{is}$\n",
    "\n",
    "The system learns how to predict unknown ratings by fitting the past observed actual ratings and penaltizing the squared magnitude of latent matrix U and V with $\\lambda$.\n",
    "\n",
    "The minimization can be solved by using SGD (Stochastic Gradient Descent). The error $e(u,i)$ modifies the parameters of $U$ and $V$ by a magnitude proportional to $\\lambda$ in opposite direction of the gradient, minimizing the loss function $L$. \n",
    "\n",
    "$$L = \\frac{1}{2} e(u,i)^2 + \\frac{1}{2} (||U_u||^2 + ||V_i||^2 + b(u)^2 + b(i)^2$$\n",
    "\n",
    "Where $e(u,i) = r(u,i) - U_u \\cdot V_i^T$.\n",
    "\n",
    "Gradient updates: \n",
    "$$\\frac{\\partial}{\\partial U_u}L(U,V) = e(u,i)(-V_i^T)+\\lambda ||U_u||$$\n",
    "$$\\frac{\\partial}{\\partial V_i}L(U,V) = e(u,i)(-U_u^T)+\\lambda ||V_i||$$\n",
    "\n",
    "Bias updates: \n",
    "$$b(u) \\leftarrow b(u) + \\eta (e(u,i) - \\lambda b(u))$$\n",
    "$$b(i) \\leftarrow b(i) + \\eta (e(u,i) - \\lambda b(i))$$\n",
    "\n",
    "User and Item latent matrix updates:\n",
    "$$U_u \\leftarrow U_u - \\eta \\frac{\\partial}{\\partial U_u}L(U,V)$$\n",
    "$$V_i \\leftarrow V_i - \\eta \\frac{\\partial}{\\partial V_i}L(U,V)$$\n",
    "\n",
    "This process repeated until $L$ converges. \n",
    "\n",
    "##### 3.2.1.2 SVD + ALS \n",
    "Back to minimization of $L$, we have $L$ added with regularization (penalty) term to avoid overfitting. However, this addition makes the loss function non-convex. ALS is the idea of using only the error term $r(u,i)-<U_u,V_i>$ in linear regression if we fix one side. This error term can be expressed as $y - X\\beta$. Then, we can find $\\beta$ by solving $\\beta=(X^TX)^{-1}X^Ty$. \n",
    "\n",
    "As a reminder, we need to cluster user latent $U$ and item latent $V$. With fixed $V$, we can modulate $U$. Now, we can modulate $V$ with fixed $U$. This repeatative process works alternatively until the loss converges. \n",
    "\n",
    "> NOTE: since linear regression solution is unique and guarantees a minimal MSE, loss function never increases (either decreases or stays the same). Thus, convergence works. \n",
    "\n",
    "Loss function for user latent and item latent.\n",
    "\n",
    "$$L(U_u) = ||e(u)||^2 + \\lambda ||U_u||^2 $$\n",
    "\n",
    "$$L(V_i) = ||e(i)||^2 + \\lambda ||V_i||^2 $$\n",
    "\n",
    "Where $e(u) = R_u - <U_u, V>$, $e(i) = R_i - <U, V_i>$; $e(u)$ is the error for user u's rating over all the items such that $R_u$ is a rating vector of user u from $R$. Similarly, $e(i)$ is the error for item i's rating by all the users such that $R_i$ is a rating vector of item i from $R$.\n",
    "\n",
    "Modulate user latent $U$ with constant (considered) fixed item latent $V$ \n",
    "$$U_u = ((V^T\\cdot V + \\lambda I)^{-1}V^T \\cdot R_u^T)^T$$\n",
    "\n",
    "Modulate item latent $V$ with constant (considered) fixed user latent $U$ \n",
    "$$V_i = ((U^T\\cdot U + \\lambda I)^{-1}U^T \\cdot R_i^T)^T$$\n",
    "\n",
    "Since the unknown r(u,i) should be replaced by 0 and not be computed for loss, the modified loss function $L$ is follwing:\n",
    "\n",
    "$$L = \\sum_{u}w_{u,i}||r(u,i) - U_u \\cdot V_i^T||^2 + \\lambda (||U_u||^2+||V_i||^2)$$\n",
    "\n",
    "Where $w_{u,i}$ is 1 if $r(u,i)!=0$ (actual rating is known), $w_{u,i}$ is 0 if $r(u,i)==0$ (actual rating is unknown). \n",
    "\n",
    "User latent $U$ updates with constant $V$:\n",
    "$$U_u \\leftarrow ((V^T\\cdot w_u V + \\lambda I)^{-1}V^T \\cdot w_u R_u^T)^T$$\n",
    "$$U_u \\leftarrow \\sum_{u,i \\in R_{train}}(V_i^T\\cdot w_u V_i + \\lambda I_k)^{-1}\\sum_{u,i \\in R_{train}} r(u,i)V_i$$\n",
    "\n",
    "User latent $V$ updates with constant $U$:\n",
    "$$V_i \\leftarrow ((U^T\\cdot w_i U + \\lambda I)^{-1}U^T \\cdot w_i R_i^T)^T$$\n",
    "$$V_i \\leftarrow \\sum_{u,i \\in R_{train}}(U_u^T\\cdot w_i U_u + \\lambda I_k)^{-1}\\sum_{u,i \\in R_{train}} r(u,i)U_u$$\n",
    "\n",
    "For the computional cost, $O(n_u \\cdot k^2 + k^3)$ for $U_u$ update where $n_u$ is the number of actual ratings of user u. Similarly, $O(n_i \\cdot k^2 + k^3)$ for $V_i$ update where $n_i$ is the number of actual ratings of item i by users. It means that the cost for estimatng r(u,i) is $O(nmk)$.\n",
    "\n",
    "#### 3.2.2 Memory-based CF\n",
    "Memory-based CF has user-based CF and item-based CF. \n",
    "User-based CF finds similar users via transaction history or rating patterns and recommends the item that current user has not purchased or rated. On the other hand, Item-based CF learns similarity patterns between items with meta inforamtion and recommends similar items to current user. The following figure shows the difference between user-based CF and item-based CF.\n",
    "\n",
    "<center>\n",
    "<img src=\"./img/userB_itemB.png\" alt=\"Drawing\" style=\"width: 400px;\"/>\n",
    "</center>\n",
    "\n",
    "##### 3.2.2.1 KNN\n",
    "\n",
    "The basic neighboring algorithm is KNN (K-Nearest Neighbors). Depending on object's definition, one specific object finds k nearest neighbors and similar objects to the current one can be determined for recommendation. \n",
    "\n",
    "<center>\n",
    "<img src=\"./img/knn.png\" alt=\"Drawing\" style=\"width: 250px;\"/>\n",
    "</center>\n",
    "\n",
    "If the object is defined as user, the system finds k number of similar users surrounded by current one and recommends the items that current user hasn't purchase but other similar users bought. Similarly, if the object is defined as item, the system finds k number of similar items that current user hasn't bought and recommends the items. The type of similarity metric affects the performance. The following shows formulae for user-based vs. item-based. \n",
    "\n",
    "1. Cosine\n",
    "For similarity between user u and v\n",
    "$$cosine\\_sim(u,v) = \\frac{\\sum_{i\\in I(u,v)} r(u,i) \\cdot r(v,i)}{\\sqrt{\\sum_{i\\in I(u,v)} r(u,i)^2}\\cdot {\\sqrt{\\sum_{i\\in I(u,v)} r(v,i)^2}}}$$\n",
    "\n",
    "Where $I(u,v)$ is the item set for user u and v, $r(u,i)$ is actual rating that user u gave item i, and $r(v,i)$ is actual rating from user v for item i.\n",
    "\n",
    "For similarity between item i and j\n",
    "$$cosine\\_sim(i,j) = \\frac{\\sum_{u\\in U(i,j)} r(u,i) \\cdot r(u,j)}{\\sqrt{\\sum_{u\\in U(i,j)} r(u,i)^2}\\cdot {\\sqrt{\\sum_{u\\in U(i,j)} r(u,j)^2}}}$$\n",
    "\n",
    "Where $U(i,j)$ is the user set for item i and j, $r(u,i)$ is actual rating that user u gave item i, and $r(u,j)$ is actual rating from user u for item j.\n",
    "\n",
    "2. MSD (Mean Squared Distance)\n",
    "For similarity between user u and v\n",
    "$$msd\\_sim(u,v) = \\frac{1}{\\frac{1}{|I(u,v)|\\cdot \\sum_{i\\in I(u,v)} (r(u,i)-r(v,i))^2}+1}$$\n",
    "\n",
    "Where $I(u,v)$ is the item set for user u and v, $r(u,i)$ is actual rating that user u gave item i, and $r(v,i)$ is actual rating from user v for item i.\n",
    "\n",
    "For similarity between item i and j\n",
    "$$msd\\_sim(i,j) = \\frac{1}{\\frac{1}{|U(i,j)|\\cdot \\sum_{u\\in U(i,j)} (r(u,i)-r(u,j))^2}+1}$$\n",
    "\n",
    "Where $U(i,j)$ is the user set for item i and j, $r(u,i)$ is actual rating that user u gave item i, and $r(u,j)$ is actual rating from user u for item j.\n",
    "\n",
    "3. Pearson (Centered Cosine)\n",
    "For similarity between user u and v\n",
    "$$pearson\\_sim(u,v) = \\frac{\\sum_{i\\in I(u,v)} (r(u,i)-\\mu_u) \\cdot (r(v,i)-\\mu_v)}{\\sqrt{\\sum_{i\\in I(u,v)} (r(u,i)-\\mu_u)^2}\\cdot {\\sqrt{\\sum_{i\\in I(u,v)} (r(v,i)-\\mu_v)^2}}}$$\n",
    "\n",
    "Where $I(u,v)$ is the item set for user u and v, $r(u,i)$ is actual rating that user u gave item i, $r(v,i)$ is actual rating from user v for item i, $\\mu_u$ and $\\mu_v$ are mean of ratings for user u and mean of ratings for user v.\n",
    "\n",
    "For similarity between item i and j\n",
    "$$pearson\\_sim(i,j) = \\frac{\\sum_{u\\in U(i,j)} (r(u,i)-\\mu_i) \\cdot (r(u,j)-\\mu_j)}{\\sqrt{\\sum_{u\\in U(i,j)} (r(u,i)-\\mu_i)^2}\\cdot {\\sqrt{\\sum_{u\\in U(i,j)} (r(u,j)-\\mu_j)^2}}}$$\n",
    "\n",
    "Where $U(i,j)$ is the user set for item i and j, $r(u,i)$ is actual rating that user u gave item i, and $r(u,j)$ is actual rating from user u for item j, $\\mu_i$ and $\\mu_j$ are mean of ratings for item i and mean of ratings for item j.\n",
    "\n",
    "By using this similarity metrics, KNN model estimates the rating that current user hasn't rated. \n",
    "\n",
    "For user-based CF for current user u and other users v,\n",
    "$$\\hat{r}(u,i) = \\frac{\\sum_{v\\in N_i^k(u)} sim(u,v) \\cdot r(v,i)}{\\sum_{v\\in N_i^k(u)} sim(u,v)}$$\n",
    "\n",
    "Where $\\hat{r}(u,i)$ is estimated rating from user u for item i, $N_i^k(u)$ is k nearest neighborset of user u that have rated item i.\n",
    "\n",
    "For item-based CF for current item i and other items j,\n",
    "$$\\hat{r}(u,i) = \\frac{\\sum_{j\\in N_u^k(i)} sim(i,j) \\cdot r(u,j)}{\\sum_{j\\in N_u^k(i)} sim(i,j)}$$\n",
    "\n",
    "Where $\\hat{r}(u,i)$ is estimated rating from user u for item i, $N_u^k(i)$ is k nearest neighborset of item i that hae been rated by user u.\n",
    "\n",
    "KNN suffers with cold start especially when user-based CF is used. It also focuses only top-k nearest ones with similarity. \n",
    "\n",
    "### 3.3 Hybrid Systems\n",
    "\n",
    "Hybrid system is a mixture of multiple recommendation techniques to take advantages of both CBF and CF.\n",
    "\n",
    "## 4. Recommender System Practice\n",
    "### 4.1 Surprise Baseline CF \n",
    "Surprise is built for CF techniques with both Memory-based CF and Model-based CF. Its baseline model outputs the prediction of rating $\\hat{r}(u,i)$ by taking inputs of userID $u$ and itemID $i$ from what it leant based on actual ratings $r(u,i)$\n",
    "\n",
    "$$ \\hat{r}(u,i) = \\mu + b(u) + b(i) $$\n",
    "Where $u$ is user, $i$ is item, $b(u)$ is bias of user as adjustment of ratings for the user $b(i)$ is bias of item as adjustment of ratings for the item.\n",
    "\n",
    "The error is defined as the squre of difference between actural rating and estimated rating; the equation is shown below. \n",
    "\n",
    "$$\\sum_{u,i \\in R_{train}} (r(u,i) - \\hat{r}(u,i))^2$$\n",
    "Where $R_{train}$ is the train dataset that contains actual ratings. \n",
    "\n",
    "However, L2 regulation was applied to avoid overfitting.\n",
    "\n",
    "$$\\sum_{u,i \\in R_{train}} (r(u,i) - \\hat{r}(u,i))^2 + \\lambda (b(u)^2 + b(i)^2)$$\n",
    "\n"
   ]
  },
  {
   "cell_type": "code",
   "execution_count": 8,
   "metadata": {},
   "outputs": [
    {
     "name": "stdout",
     "output_type": "stream",
     "text": [
      "####################\n",
      "# Baseline: SGD\n",
      "####################\n",
      "Estimating biases using sgd...\n",
      "RMSE: 0.9483\n",
      "Estimating biases using sgd...\n",
      "RMSE: 0.9629\n",
      "Estimating biases using sgd...\n",
      "RMSE: 0.9551\n",
      "mean of RMSE 3 fold: 0.96\n",
      "\n",
      "####################\n",
      "# Baseline: ALS\n",
      "####################\n",
      "Estimating biases using als...\n",
      "RMSE: 0.9355\n",
      "Estimating biases using als...\n",
      "RMSE: 0.9512\n",
      "Estimating biases using als...\n",
      "RMSE: 0.9425\n",
      "mean of RMSE 3 fold: 0.94\n",
      "\n"
     ]
    }
   ],
   "source": [
    "from surprise.model_selection import KFold\n",
    "\n",
    "print(\"#\"*20)\n",
    "print(\"# Baseline: SGD\")\n",
    "print(\"#\"*20)\n",
    "\n",
    "## SGD (Stochastic Gradient Descent) parameter\n",
    "## reg: default (0.02) 𝜆 lambda\n",
    "## learning_rate: default (0.005) \n",
    "## n_epochs: default (20)\n",
    "\n",
    "sgdbsl_options = {\n",
    "    'method': 'sgd',\n",
    "    'n_epochs': 5,\n",
    "    'learning_rate': 0.005,\n",
    "    'reg': 0.02\n",
    "}\n",
    "sgd = surprise.BaselineOnly(sgdbsl_options)\n",
    "\n",
    "np.random.seed(0)\n",
    "acc_sgd = np.zeros(3)\n",
    "cv = KFold(3)\n",
    "for i, (train_set, test_set) in enumerate(cv.split(data_124)):\n",
    "    sgd.fit(train_set)\n",
    "    predictions = sgd.test(test_set)\n",
    "    acc_sgd[i] = surprise.accuracy.rmse(predictions, verbose=True)\n",
    "print(f\"mean of RMSE 3 fold: {acc_sgd.mean():.2f}\\n\")\n",
    "\n",
    "## ALS (Alternating Least Squares) parameter\n",
    "## reg_i: default (0.02) lambda\n",
    "## learning_rate: default (0.005)\n",
    "## n_epochs: default (20)\n",
    "\n",
    "print(\"#\"*20)\n",
    "print(\"# Baseline: ALS\")\n",
    "print(\"#\"*20)\n",
    "\n",
    "alsbsl_options = {\n",
    "    'method': 'als',\n",
    "    'n_epochs': 5,\n",
    "    'reg_u': 12,\n",
    "    'reg_i': 5\n",
    "}\n",
    "als = surprise.BaselineOnly(alsbsl_options)\n",
    "\n",
    "np.random.seed(0)\n",
    "acc_als = np.zeros(3)\n",
    "cv = KFold(3)\n",
    "for i, (train_set, test_set) in enumerate(cv.split(data_124)):\n",
    "    als.fit(train_set)\n",
    "    predictions = als.test(test_set)\n",
    "    acc_als[i] = surprise.accuracy.rmse(predictions, verbose=True)\n",
    "print(f\"mean of RMSE 3 fold: {acc_als.mean():.2f}\\n\")\n"
   ]
  },
  {
   "cell_type": "markdown",
   "metadata": {},
   "source": [
    "Let's check the sparsity of user-item matrix. "
   ]
  },
  {
   "cell_type": "code",
   "execution_count": 9,
   "metadata": {},
   "outputs": [
    {
     "name": "stdout",
     "output_type": "stream",
     "text": [
      "(23789, 241)\n"
     ]
    },
    {
     "data": {
      "text/html": [
       "<div>\n",
       "<style scoped>\n",
       "    .dataframe tbody tr th:only-of-type {\n",
       "        vertical-align: middle;\n",
       "    }\n",
       "\n",
       "    .dataframe tbody tr th {\n",
       "        vertical-align: top;\n",
       "    }\n",
       "\n",
       "    .dataframe thead th {\n",
       "        text-align: right;\n",
       "    }\n",
       "</style>\n",
       "<table border=\"1\" class=\"dataframe\">\n",
       "  <thead>\n",
       "    <tr style=\"text-align: right;\">\n",
       "      <th>asin</th>\n",
       "      <th>B0009VXBAQ</th>\n",
       "      <th>B000B9RI14</th>\n",
       "      <th>B000ERVMI8</th>\n",
       "      <th>B000FO4KO8</th>\n",
       "      <th>B000FQ9R4E</th>\n",
       "      <th>B000FRU0NU</th>\n",
       "      <th>B000FRU1UM</th>\n",
       "      <th>B000HZFCT2</th>\n",
       "      <th>B000IMYKQ0</th>\n",
       "      <th>B000P46NMA</th>\n",
       "      <th>...</th>\n",
       "      <th>B018K6KV68</th>\n",
       "      <th>B019J6RYCW</th>\n",
       "      <th>B019OB663A</th>\n",
       "      <th>B01C93CWSI</th>\n",
       "      <th>B01C93CWU6</th>\n",
       "      <th>B01F9HMO2K</th>\n",
       "      <th>B01GKGVI8U</th>\n",
       "      <th>B01GW3ODBU</th>\n",
       "      <th>B01GW3P9PE</th>\n",
       "      <th>B01GW3POY0</th>\n",
       "    </tr>\n",
       "    <tr>\n",
       "      <th>reviewerID</th>\n",
       "      <th></th>\n",
       "      <th></th>\n",
       "      <th></th>\n",
       "      <th></th>\n",
       "      <th></th>\n",
       "      <th></th>\n",
       "      <th></th>\n",
       "      <th></th>\n",
       "      <th></th>\n",
       "      <th></th>\n",
       "      <th></th>\n",
       "      <th></th>\n",
       "      <th></th>\n",
       "      <th></th>\n",
       "      <th></th>\n",
       "      <th></th>\n",
       "      <th></th>\n",
       "      <th></th>\n",
       "      <th></th>\n",
       "      <th></th>\n",
       "      <th></th>\n",
       "    </tr>\n",
       "  </thead>\n",
       "  <tbody>\n",
       "    <tr>\n",
       "      <th>A0220159ZRNBTRKLG08H</th>\n",
       "      <td>0</td>\n",
       "      <td>0</td>\n",
       "      <td>0</td>\n",
       "      <td>0</td>\n",
       "      <td>0</td>\n",
       "      <td>0</td>\n",
       "      <td>0</td>\n",
       "      <td>0</td>\n",
       "      <td>0</td>\n",
       "      <td>0</td>\n",
       "      <td>...</td>\n",
       "      <td>0</td>\n",
       "      <td>0</td>\n",
       "      <td>0</td>\n",
       "      <td>0</td>\n",
       "      <td>0</td>\n",
       "      <td>0</td>\n",
       "      <td>0</td>\n",
       "      <td>0</td>\n",
       "      <td>0</td>\n",
       "      <td>0</td>\n",
       "    </tr>\n",
       "    <tr>\n",
       "      <th>A0277912HT4JSJKVSL3E</th>\n",
       "      <td>0</td>\n",
       "      <td>0</td>\n",
       "      <td>0</td>\n",
       "      <td>0</td>\n",
       "      <td>0</td>\n",
       "      <td>0</td>\n",
       "      <td>0</td>\n",
       "      <td>0</td>\n",
       "      <td>0</td>\n",
       "      <td>0</td>\n",
       "      <td>...</td>\n",
       "      <td>0</td>\n",
       "      <td>0</td>\n",
       "      <td>0</td>\n",
       "      <td>0</td>\n",
       "      <td>0</td>\n",
       "      <td>0</td>\n",
       "      <td>0</td>\n",
       "      <td>0</td>\n",
       "      <td>0</td>\n",
       "      <td>0</td>\n",
       "    </tr>\n",
       "    <tr>\n",
       "      <th>A02836981FYG9912C66F</th>\n",
       "      <td>0</td>\n",
       "      <td>0</td>\n",
       "      <td>0</td>\n",
       "      <td>0</td>\n",
       "      <td>0</td>\n",
       "      <td>0</td>\n",
       "      <td>0</td>\n",
       "      <td>0</td>\n",
       "      <td>0</td>\n",
       "      <td>0</td>\n",
       "      <td>...</td>\n",
       "      <td>0</td>\n",
       "      <td>0</td>\n",
       "      <td>0</td>\n",
       "      <td>0</td>\n",
       "      <td>0</td>\n",
       "      <td>0</td>\n",
       "      <td>0</td>\n",
       "      <td>0</td>\n",
       "      <td>0</td>\n",
       "      <td>0</td>\n",
       "    </tr>\n",
       "  </tbody>\n",
       "</table>\n",
       "<p>3 rows × 241 columns</p>\n",
       "</div>"
      ],
      "text/plain": [
       "asin                  B0009VXBAQ  B000B9RI14  B000ERVMI8  B000FO4KO8  \\\n",
       "reviewerID                                                             \n",
       "A0220159ZRNBTRKLG08H           0           0           0           0   \n",
       "A0277912HT4JSJKVSL3E           0           0           0           0   \n",
       "A02836981FYG9912C66F           0           0           0           0   \n",
       "\n",
       "asin                  B000FQ9R4E  B000FRU0NU  B000FRU1UM  B000HZFCT2  \\\n",
       "reviewerID                                                             \n",
       "A0220159ZRNBTRKLG08H           0           0           0           0   \n",
       "A0277912HT4JSJKVSL3E           0           0           0           0   \n",
       "A02836981FYG9912C66F           0           0           0           0   \n",
       "\n",
       "asin                  B000IMYKQ0  B000P46NMA  ...  B018K6KV68  B019J6RYCW  \\\n",
       "reviewerID                                    ...                           \n",
       "A0220159ZRNBTRKLG08H           0           0  ...           0           0   \n",
       "A0277912HT4JSJKVSL3E           0           0  ...           0           0   \n",
       "A02836981FYG9912C66F           0           0  ...           0           0   \n",
       "\n",
       "asin                  B019OB663A  B01C93CWSI  B01C93CWU6  B01F9HMO2K  \\\n",
       "reviewerID                                                             \n",
       "A0220159ZRNBTRKLG08H           0           0           0           0   \n",
       "A0277912HT4JSJKVSL3E           0           0           0           0   \n",
       "A02836981FYG9912C66F           0           0           0           0   \n",
       "\n",
       "asin                  B01GKGVI8U  B01GW3ODBU  B01GW3P9PE  B01GW3POY0  \n",
       "reviewerID                                                            \n",
       "A0220159ZRNBTRKLG08H           0           0           0           0  \n",
       "A0277912HT4JSJKVSL3E           0           0           0           0  \n",
       "A02836981FYG9912C66F           0           0           0           0  \n",
       "\n",
       "[3 rows x 241 columns]"
      ]
     },
     "execution_count": 9,
     "metadata": {},
     "output_type": "execute_result"
    }
   ],
   "source": [
    "user_item_mat = amazon_ratings_124.pivot_table(index='reviewerID', values='overall', columns='asin', fill_value=0)\n",
    "print(user_item_mat.shape)\n",
    "user_item_mat.head(3)\n",
    "## Unique users: 23789, Unique items: 241"
   ]
  },
  {
   "cell_type": "code",
   "execution_count": 10,
   "metadata": {},
   "outputs": [
    {
     "name": "stdout",
     "output_type": "stream",
     "text": [
      "(23789, 241)\n"
     ]
    },
    {
     "data": {
      "text/plain": [
       "array([[0., 0., 0., 0., 0.],\n",
       "       [0., 0., 0., 0., 0.],\n",
       "       [0., 0., 0., 0., 0.],\n",
       "       [0., 0., 0., 0., 0.],\n",
       "       [0., 0., 0., 0., 0.]])"
      ]
     },
     "execution_count": 10,
     "metadata": {},
     "output_type": "execute_result"
    }
   ],
   "source": [
    "np_user_item_mat = user_item_mat.to_numpy()\n",
    "print(np_user_item_mat.shape)\n",
    "np_user_item_mat[:5, :5]"
   ]
  },
  {
   "cell_type": "code",
   "execution_count": 11,
   "metadata": {},
   "outputs": [
    {
     "data": {
      "text/plain": [
       "(array([    0,     1,     1, ..., 23787, 23788, 23788]),\n",
       " array([ 14, 104, 185, ..., 187,  71,  91]))"
      ]
     },
     "execution_count": 11,
     "metadata": {},
     "output_type": "execute_result"
    }
   ],
   "source": [
    "## np.nonzero() outputs the non-zero (array of rows), (array of cols)\n",
    "np_user_item_mat.nonzero()"
   ]
  },
  {
   "cell_type": "code",
   "execution_count": 12,
   "metadata": {},
   "outputs": [
    {
     "data": {
      "text/plain": [
       "5.0"
      ]
     },
     "execution_count": 12,
     "metadata": {},
     "output_type": "execute_result"
    }
   ],
   "source": [
    "np_user_item_mat[0][14]"
   ]
  },
  {
   "cell_type": "code",
   "execution_count": 13,
   "metadata": {},
   "outputs": [
    {
     "name": "stdout",
     "output_type": "stream",
     "text": [
      "Sparsity: 99.14%\n"
     ]
    }
   ],
   "source": [
    "## sparsity = num of zero elements / total elements\n",
    "sparsity = 1-float(len(np_user_item_mat.nonzero()[0])) / (np_user_item_mat.shape[0] * np_user_item_mat.shape[1])\n",
    "print('Sparsity: {:4.2f}%'.format(sparsity*100))"
   ]
  },
  {
   "cell_type": "code",
   "execution_count": 14,
   "metadata": {},
   "outputs": [
    {
     "data": {
      "image/png": "[encoded data removed]",
      "text/plain": [
       "<Figure size 432x288 with 1 Axes>"
      ]
     },
     "metadata": {
      "needs_background": "light"
     },
     "output_type": "display_data"
    }
   ],
   "source": [
    "fig, ax = plt.subplots(1,1,figsize=(6,4))\n",
    "## 300 users x 241 items\n",
    "plt.imshow(np_user_item_mat[:300])\n",
    "plt.grid(False)\n",
    "plt.xlabel(\"item\")\n",
    "plt.ylabel(\"user\")\n",
    "plt.title(\"Rate Matrix\")\n",
    "plt.show()"
   ]
  },
  {
   "cell_type": "markdown",
   "metadata": {},
   "source": [
    "### 4.2 Item-based CF by Surprise\n",
    "\n",
    "Memory-based CF finds similarity between objects (either users or items) with the neighboring method. For Item-based CF, the object is defined as an item so that the system learns the interactions between items from current user's \"behavior\" to recommend the items similar to the items that current user have positively rated. KNN algorithm was introduced, but upgraded version of KNN (`KNNWithMeans()`) was used. While KNN naively finds the similar items (or user), `KNNWithMeans()` subtract the mean value of item (or user) ratings to modulate users' judgement based on mean rating just like the relationship between Cosine and Pearson similarities. It is important because each user has different createria of rating for items. An interesting fact is that Item-based CF works better than User-based one for the old items because item mean rating is not extremely affected by one user's rating whreas user mean rating is sensitive. "
   ]
  },
  {
   "cell_type": "code",
   "execution_count": 15,
   "metadata": {},
   "outputs": [
    {
     "name": "stdout",
     "output_type": "stream",
     "text": [
      "Estimating biases using als...\n",
      "Computing the pearson_baseline similarity matrix...\n",
      "Done computing similarity matrix.\n"
     ]
    },
    {
     "data": {
      "text/plain": [
       "<surprise.prediction_algorithms.knns.KNNWithMeans at 0x129b5ef10>"
      ]
     },
     "execution_count": 15,
     "metadata": {},
     "output_type": "execute_result"
    }
   ],
   "source": [
    "## Use user_based true/false to switch between user-based or item-based collaborative filtering\n",
    "knn = KNNWithMeans(k=5, sim_options={'name': 'pearson_baseline', 'user_based': False})\n",
    "knn.fit(train_set)"
   ]
  },
  {
   "cell_type": "code",
   "execution_count": 16,
   "metadata": {},
   "outputs": [
    {
     "data": {
      "text/plain": [
       "[Prediction(uid='A3KF2QPB634EIA', iid='B0015AARJI', r_ui=5.0, est=4.522388059701493, details={'actual_k': 0, 'was_impossible': False}),\n",
       " Prediction(uid='A2W1P0P5XCFA96', iid='B00IAVDOS6', r_ui=5.0, est=4.493459302325581, details={'was_impossible': True, 'reason': 'User and/or item is unknown.'})]"
      ]
     },
     "execution_count": 16,
     "metadata": {},
     "output_type": "execute_result"
    }
   ],
   "source": [
    "## run the trained model for the test_set\n",
    "## uid: userID, iid: itemID, r_ui: rating that user gave for the item, est: rating estimation (prediction)\n",
    "test_pred = knn.test(test_set)\n",
    "test_pred[:2]"
   ]
  },
  {
   "cell_type": "code",
   "execution_count": 17,
   "metadata": {},
   "outputs": [
    {
     "data": {
      "text/plain": [
       "[Prediction(uid='A32JCWTAULEMW6', iid='B00BI83EVU', r_ui=4.493459302325581, est=4.2152466367713, details={'actual_k': 0, 'was_impossible': False}),\n",
       " Prediction(uid='A32JCWTAULEMW6', iid='B00DDXILBQ', r_ui=4.493459302325581, est=3.742857142857143, details={'actual_k': 0, 'was_impossible': False})]"
      ]
     },
     "execution_count": 17,
     "metadata": {},
     "output_type": "execute_result"
    }
   ],
   "source": [
    "## run the trained model for the train_set\n",
    "## uid: userID, iid: itemID, r_ui: rating that user gave for the item, est: rating estimation (prediction)\n",
    "anti_testset = train_set.build_anti_testset()\n",
    "anti_testset_pred = knn.test(anti_testset)\n",
    "anti_testset_pred[:2]"
   ]
  },
  {
   "cell_type": "code",
   "execution_count": 18,
   "metadata": {},
   "outputs": [
    {
     "name": "stdout",
     "output_type": "stream",
     "text": [
      "Item-based Model : Test Set\n",
      "RMSE:  0.9884168840276029\n",
      "MAE:  0.6422860068166297\n",
      "\n",
      "Item-based Model : Train Set\n",
      "RMSE:  0.45600920543561074\n",
      "MAE:  0.2928807296711103\n"
     ]
    }
   ],
   "source": [
    "## RMSE\n",
    "print(\"Item-based Model : Test Set\")\n",
    "print(\"RMSE: \", rm.RMSE(test_pred))\n",
    "print(\"MAE: \", rm.MAE(test_pred))\n",
    "print()\n",
    "\n",
    "print(\"Item-based Model : Train Set\")\n",
    "print(\"RMSE: \", rm.RMSE(anti_testset_pred))\n",
    "print(\"MAE: \", rm.MAE(anti_testset_pred))"
   ]
  },
  {
   "cell_type": "code",
   "execution_count": 19,
   "metadata": {},
   "outputs": [
    {
     "name": "stdout",
     "output_type": "stream",
     "text": [
      "A3KF2QPB634EIA [('B01GKGVI8U', 5), ('B00KAED850', 5), ('B00WTI3JPE', 5), ('B00M3D8IYM', 5), ('B00ZQC73O8', 5), ('B00JK00S0S', 5), ('B004RMK57U', 5), ('B00BMFIXOW', 5), ('B01GW3POY0', 5), ('B01GW3ODBU', 5)]\n"
     ]
    }
   ],
   "source": [
    "## pred for all data\n",
    "all_pred = test_pred+anti_testset_pred\n",
    "topN_pred = rm.GetTopN(all_pred, n=10)\n",
    "\n",
    "## the top 1 predicted items for user A3KF2QPB634EIA\n",
    "for userID, items in itertools.islice(topN_pred.items(), 1):\n",
    "    print(userID, items)\n"
   ]
  },
  {
   "cell_type": "code",
   "execution_count": 21,
   "metadata": {},
   "outputs": [
    {
     "name": "stdout",
     "output_type": "stream",
     "text": [
      "Hit Rate:  0.4811943552782993\n"
     ]
    }
   ],
   "source": [
    "## Hit rate by using top 10 predictions\n",
    "print(\"Hit Rate: \", rm.HitRate(topN_pred, test_pred))"
   ]
  },
  {
   "cell_type": "code",
   "execution_count": 22,
   "metadata": {},
   "outputs": [
    {
     "name": "stdout",
     "output_type": "stream",
     "text": [
      "rHR (Hit Rate by Rating value): \n",
      "1.0 0.47833333333333333\n",
      "2.0 0.4231536926147705\n",
      "3.0 0.413953488372093\n",
      "4.0 0.3862736471623405\n",
      "5.0 0.5076272591610015\n"
     ]
    }
   ],
   "source": [
    "## Break down hit rate by rating value\n",
    "print(\"rHR (Hit Rate by Rating value): \")\n",
    "rm.RatingHitRate(topN_pred, test_pred)"
   ]
  },
  {
   "cell_type": "code",
   "execution_count": 23,
   "metadata": {},
   "outputs": [
    {
     "name": "stdout",
     "output_type": "stream",
     "text": [
      "cHR (Cumulative Hit Rate, rating >= 4): \n"
     ]
    },
    {
     "data": {
      "text/plain": [
       "0.48838507150331356"
      ]
     },
     "execution_count": 23,
     "metadata": {},
     "output_type": "execute_result"
    }
   ],
   "source": [
    "## See how often we recommended a movie the user actually liked\n",
    "print(\"cHR (Cumulative Hit Rate, rating >= 4): \")\n",
    "rm.CumulativeHitRate(topN_pred, test_pred, 4.0)"
   ]
  },
  {
   "cell_type": "code",
   "execution_count": 24,
   "metadata": {},
   "outputs": [
    {
     "name": "stdout",
     "output_type": "stream",
     "text": [
      "ARHR (Average Reciprocal Hit Rank): \n"
     ]
    },
    {
     "data": {
      "text/plain": [
       "0.4290059633164212"
      ]
     },
     "execution_count": 24,
     "metadata": {},
     "output_type": "execute_result"
    }
   ],
   "source": [
    "## Compute ARHR\n",
    "print(\"ARHR (Average Reciprocal Hit Rank): \")\n",
    "rm.AverageReciprocalHitRank(topN_pred, test_pred)"
   ]
  },
  {
   "cell_type": "code",
   "execution_count": 25,
   "metadata": {},
   "outputs": [
    {
     "name": "stdout",
     "output_type": "stream",
     "text": [
      "User coverage: \n"
     ]
    },
    {
     "data": {
      "text/plain": [
       "1.0"
      ]
     },
     "execution_count": 25,
     "metadata": {},
     "output_type": "execute_result"
    }
   ],
   "source": [
    "## Print user coverage with a minimum predicted rating of 4.0:\n",
    "print(\"User coverage: \")\n",
    "rm.UserCoverage(topN_pred, data_124.build_full_trainset().n_users, ratingThreshold=4.0)\n"
   ]
  },
  {
   "cell_type": "code",
   "execution_count": 26,
   "metadata": {},
   "outputs": [
    {
     "name": "stdout",
     "output_type": "stream",
     "text": [
      "Diversity: \n",
      "Computing the pearson_baseline similarity matrix...\n",
      "Done computing similarity matrix.\n"
     ]
    },
    {
     "data": {
      "text/plain": [
       "0.9930513136511306"
      ]
     },
     "execution_count": 26,
     "metadata": {},
     "output_type": "execute_result"
    }
   ],
   "source": [
    "## Measure diversity of recommendations:\n",
    "print(\"Diversity: \")\n",
    "rm.Diversity(topN_pred, knn)\n"
   ]
  },
  {
   "cell_type": "code",
   "execution_count": 27,
   "metadata": {},
   "outputs": [
    {
     "name": "stdout",
     "output_type": "stream",
     "text": [
      "Novelty (average popularity rank): \n"
     ]
    },
    {
     "data": {
      "text/plain": [
       "96.03922989600859"
      ]
     },
     "execution_count": 27,
     "metadata": {},
     "output_type": "execute_result"
    }
   ],
   "source": [
    "## ranking for items\n",
    "rankings = rm.getPopularityRanks(amazon_ratings_124)\n",
    "\n",
    "## Measure novelty (average popularity rank of recommendations):\n",
    "print(\"Novelty (average popularity rank): \")\n",
    "rm.Novelty(topN_pred, rankings)"
   ]
  },
  {
   "cell_type": "code",
   "execution_count": 28,
   "metadata": {},
   "outputs": [],
   "source": [
    "def get_item_u(uid):\n",
    "    \"\"\" \n",
    "    This outputs the number of items rated by given user\n",
    "    Arguments: \n",
    "      uid -- the id of the user\n",
    "    Return: \n",
    "      len(..) -- the number of items rated by the user\n",
    "    \"\"\"\n",
    "    try:\n",
    "        return len(train_set.ur[train_set.to_inner_uid(uid)])\n",
    "    except ValueError: # user was not part of the trainset\n",
    "        return 0\n",
    "    \n",
    "def get_user_i(iid):\n",
    "    \"\"\" \n",
    "    This outputs number of users that have rated given item\n",
    "    Arguments:\n",
    "      iid -- the raw id of the item\n",
    "    Return:\n",
    "      len(..) -- the number of users that have rated the item.\n",
    "    \"\"\"\n",
    "    try: \n",
    "        return len(train_set.ir[train_set.to_inner_iid(iid)])\n",
    "    except ValueError:\n",
    "        return 0\n",
    "\n",
    "## uid: userID, iid: itemID, r_ui: rating that user gave for the item, est: rating estimation (prediction)\n",
    "df_test_pred = pd.DataFrame(test_pred, columns=['uid', 'iid', 'r_ui', 'pred', 'details'])\n",
    "## num of items per user\n",
    "df_test_pred['item_u'] = df_test_pred.uid.apply(get_item_u)\n",
    "## num of users per item\n",
    "df_test_pred['user_i'] = df_test_pred.iid.apply(get_user_i)\n",
    "## error of prediction (estimation) \n",
    "df_test_pred['err'] = abs(df_test_pred.pred - df_test_pred.r_ui)\n",
    "best_predictions = df_test_pred.sort_values(by='err')[:10]\n",
    "worst_predictions = df_test_pred.sort_values(by='err')[-10:]"
   ]
  },
  {
   "cell_type": "code",
   "execution_count": 29,
   "metadata": {},
   "outputs": [
    {
     "data": {
      "text/plain": [
       "(16511, 8)"
      ]
     },
     "execution_count": 29,
     "metadata": {},
     "output_type": "execute_result"
    }
   ],
   "source": [
    "df_test_pred.shape"
   ]
  },
  {
   "cell_type": "code",
   "execution_count": 30,
   "metadata": {},
   "outputs": [
    {
     "data": {
      "text/html": [
       "<div>\n",
       "<style scoped>\n",
       "    .dataframe tbody tr th:only-of-type {\n",
       "        vertical-align: middle;\n",
       "    }\n",
       "\n",
       "    .dataframe tbody tr th {\n",
       "        vertical-align: top;\n",
       "    }\n",
       "\n",
       "    .dataframe thead th {\n",
       "        text-align: right;\n",
       "    }\n",
       "</style>\n",
       "<table border=\"1\" class=\"dataframe\">\n",
       "  <thead>\n",
       "    <tr style=\"text-align: right;\">\n",
       "      <th></th>\n",
       "      <th>uid</th>\n",
       "      <th>iid</th>\n",
       "      <th>r_ui</th>\n",
       "      <th>pred</th>\n",
       "      <th>details</th>\n",
       "      <th>item_u</th>\n",
       "      <th>user_i</th>\n",
       "      <th>err</th>\n",
       "    </tr>\n",
       "  </thead>\n",
       "  <tbody>\n",
       "    <tr>\n",
       "      <th>2527</th>\n",
       "      <td>A17967PO5TLC9Y</td>\n",
       "      <td>B00YQ2KCWO</td>\n",
       "      <td>5.0</td>\n",
       "      <td>5.0</td>\n",
       "      <td>{'actual_k': 1, 'was_impossible': False}</td>\n",
       "      <td>1</td>\n",
       "      <td>252</td>\n",
       "      <td>0.0</td>\n",
       "    </tr>\n",
       "    <tr>\n",
       "      <th>7404</th>\n",
       "      <td>A6SJJNQFDJVYJ</td>\n",
       "      <td>B00BMFIXOW</td>\n",
       "      <td>5.0</td>\n",
       "      <td>5.0</td>\n",
       "      <td>{'actual_k': 1, 'was_impossible': False}</td>\n",
       "      <td>4</td>\n",
       "      <td>152</td>\n",
       "      <td>0.0</td>\n",
       "    </tr>\n",
       "    <tr>\n",
       "      <th>1507</th>\n",
       "      <td>A3VXF0FUYJDZST</td>\n",
       "      <td>B00GLZQR96</td>\n",
       "      <td>5.0</td>\n",
       "      <td>5.0</td>\n",
       "      <td>{'actual_k': 3, 'was_impossible': False}</td>\n",
       "      <td>5</td>\n",
       "      <td>124</td>\n",
       "      <td>0.0</td>\n",
       "    </tr>\n",
       "    <tr>\n",
       "      <th>3929</th>\n",
       "      <td>AUVOMF6CMI4O6</td>\n",
       "      <td>B00DBDPOZ4</td>\n",
       "      <td>5.0</td>\n",
       "      <td>5.0</td>\n",
       "      <td>{'actual_k': 1, 'was_impossible': False}</td>\n",
       "      <td>1</td>\n",
       "      <td>317</td>\n",
       "      <td>0.0</td>\n",
       "    </tr>\n",
       "    <tr>\n",
       "      <th>14268</th>\n",
       "      <td>ALB03N25CJDRO</td>\n",
       "      <td>B0053B5RGI</td>\n",
       "      <td>5.0</td>\n",
       "      <td>5.0</td>\n",
       "      <td>{'actual_k': 1, 'was_impossible': False}</td>\n",
       "      <td>3</td>\n",
       "      <td>175</td>\n",
       "      <td>0.0</td>\n",
       "    </tr>\n",
       "    <tr>\n",
       "      <th>7397</th>\n",
       "      <td>A27I8YBSY7I1NM</td>\n",
       "      <td>B0053B66KE</td>\n",
       "      <td>5.0</td>\n",
       "      <td>5.0</td>\n",
       "      <td>{'actual_k': 1, 'was_impossible': False}</td>\n",
       "      <td>3</td>\n",
       "      <td>168</td>\n",
       "      <td>0.0</td>\n",
       "    </tr>\n",
       "    <tr>\n",
       "      <th>10818</th>\n",
       "      <td>AGB8RJJ2LNAWR</td>\n",
       "      <td>B018K6KV68</td>\n",
       "      <td>5.0</td>\n",
       "      <td>5.0</td>\n",
       "      <td>{'actual_k': 1, 'was_impossible': False}</td>\n",
       "      <td>2</td>\n",
       "      <td>90</td>\n",
       "      <td>0.0</td>\n",
       "    </tr>\n",
       "    <tr>\n",
       "      <th>14274</th>\n",
       "      <td>A8VIZIUX71XDI</td>\n",
       "      <td>B00MYTSDU4</td>\n",
       "      <td>5.0</td>\n",
       "      <td>5.0</td>\n",
       "      <td>{'actual_k': 2, 'was_impossible': False}</td>\n",
       "      <td>2</td>\n",
       "      <td>300</td>\n",
       "      <td>0.0</td>\n",
       "    </tr>\n",
       "    <tr>\n",
       "      <th>8643</th>\n",
       "      <td>A2WVCV1NFR0R07</td>\n",
       "      <td>B0094X227I</td>\n",
       "      <td>5.0</td>\n",
       "      <td>5.0</td>\n",
       "      <td>{'actual_k': 2, 'was_impossible': False}</td>\n",
       "      <td>5</td>\n",
       "      <td>236</td>\n",
       "      <td>0.0</td>\n",
       "    </tr>\n",
       "    <tr>\n",
       "      <th>10811</th>\n",
       "      <td>A2LKJU6P6LFD2L</td>\n",
       "      <td>B018K6KV68</td>\n",
       "      <td>5.0</td>\n",
       "      <td>5.0</td>\n",
       "      <td>{'actual_k': 1, 'was_impossible': False}</td>\n",
       "      <td>1</td>\n",
       "      <td>90</td>\n",
       "      <td>0.0</td>\n",
       "    </tr>\n",
       "  </tbody>\n",
       "</table>\n",
       "</div>"
      ],
      "text/plain": [
       "                  uid         iid  r_ui  pred  \\\n",
       "2527   A17967PO5TLC9Y  B00YQ2KCWO   5.0   5.0   \n",
       "7404    A6SJJNQFDJVYJ  B00BMFIXOW   5.0   5.0   \n",
       "1507   A3VXF0FUYJDZST  B00GLZQR96   5.0   5.0   \n",
       "3929    AUVOMF6CMI4O6  B00DBDPOZ4   5.0   5.0   \n",
       "14268   ALB03N25CJDRO  B0053B5RGI   5.0   5.0   \n",
       "7397   A27I8YBSY7I1NM  B0053B66KE   5.0   5.0   \n",
       "10818   AGB8RJJ2LNAWR  B018K6KV68   5.0   5.0   \n",
       "14274   A8VIZIUX71XDI  B00MYTSDU4   5.0   5.0   \n",
       "8643   A2WVCV1NFR0R07  B0094X227I   5.0   5.0   \n",
       "10811  A2LKJU6P6LFD2L  B018K6KV68   5.0   5.0   \n",
       "\n",
       "                                        details  item_u  user_i  err  \n",
       "2527   {'actual_k': 1, 'was_impossible': False}       1     252  0.0  \n",
       "7404   {'actual_k': 1, 'was_impossible': False}       4     152  0.0  \n",
       "1507   {'actual_k': 3, 'was_impossible': False}       5     124  0.0  \n",
       "3929   {'actual_k': 1, 'was_impossible': False}       1     317  0.0  \n",
       "14268  {'actual_k': 1, 'was_impossible': False}       3     175  0.0  \n",
       "7397   {'actual_k': 1, 'was_impossible': False}       3     168  0.0  \n",
       "10818  {'actual_k': 1, 'was_impossible': False}       2      90  0.0  \n",
       "14274  {'actual_k': 2, 'was_impossible': False}       2     300  0.0  \n",
       "8643   {'actual_k': 2, 'was_impossible': False}       5     236  0.0  \n",
       "10811  {'actual_k': 1, 'was_impossible': False}       1      90  0.0  "
      ]
     },
     "execution_count": 30,
     "metadata": {},
     "output_type": "execute_result"
    }
   ],
   "source": [
    "best_predictions"
   ]
  },
  {
   "cell_type": "code",
   "execution_count": 31,
   "metadata": {},
   "outputs": [
    {
     "data": {
      "text/html": [
       "<div>\n",
       "<style scoped>\n",
       "    .dataframe tbody tr th:only-of-type {\n",
       "        vertical-align: middle;\n",
       "    }\n",
       "\n",
       "    .dataframe tbody tr th {\n",
       "        vertical-align: top;\n",
       "    }\n",
       "\n",
       "    .dataframe thead th {\n",
       "        text-align: right;\n",
       "    }\n",
       "</style>\n",
       "<table border=\"1\" class=\"dataframe\">\n",
       "  <thead>\n",
       "    <tr style=\"text-align: right;\">\n",
       "      <th></th>\n",
       "      <th>uid</th>\n",
       "      <th>iid</th>\n",
       "      <th>r_ui</th>\n",
       "      <th>pred</th>\n",
       "      <th>details</th>\n",
       "      <th>item_u</th>\n",
       "      <th>user_i</th>\n",
       "      <th>err</th>\n",
       "    </tr>\n",
       "  </thead>\n",
       "  <tbody>\n",
       "    <tr>\n",
       "      <th>8259</th>\n",
       "      <td>A1GV8GSI42JWSL</td>\n",
       "      <td>B00HD4R5YU</td>\n",
       "      <td>1.0</td>\n",
       "      <td>5.0</td>\n",
       "      <td>{'actual_k': 1, 'was_impossible': False}</td>\n",
       "      <td>2</td>\n",
       "      <td>143</td>\n",
       "      <td>4.0</td>\n",
       "    </tr>\n",
       "    <tr>\n",
       "      <th>12602</th>\n",
       "      <td>A19UQJRSC30TPV</td>\n",
       "      <td>B00GMFKYJ4</td>\n",
       "      <td>5.0</td>\n",
       "      <td>1.0</td>\n",
       "      <td>{'actual_k': 1, 'was_impossible': False}</td>\n",
       "      <td>1</td>\n",
       "      <td>116</td>\n",
       "      <td>4.0</td>\n",
       "    </tr>\n",
       "    <tr>\n",
       "      <th>9159</th>\n",
       "      <td>AI1CKS72N1BGR</td>\n",
       "      <td>B00F27JGVA</td>\n",
       "      <td>1.0</td>\n",
       "      <td>5.0</td>\n",
       "      <td>{'actual_k': 1, 'was_impossible': False}</td>\n",
       "      <td>1</td>\n",
       "      <td>169</td>\n",
       "      <td>4.0</td>\n",
       "    </tr>\n",
       "    <tr>\n",
       "      <th>2662</th>\n",
       "      <td>A3U11UX5Q74LE2</td>\n",
       "      <td>B00PV515DU</td>\n",
       "      <td>5.0</td>\n",
       "      <td>1.0</td>\n",
       "      <td>{'actual_k': 1, 'was_impossible': False}</td>\n",
       "      <td>3</td>\n",
       "      <td>106</td>\n",
       "      <td>4.0</td>\n",
       "    </tr>\n",
       "    <tr>\n",
       "      <th>15747</th>\n",
       "      <td>A1SGQ98X94B0ER</td>\n",
       "      <td>B00503E8S2</td>\n",
       "      <td>5.0</td>\n",
       "      <td>1.0</td>\n",
       "      <td>{'actual_k': 1, 'was_impossible': False}</td>\n",
       "      <td>1</td>\n",
       "      <td>120</td>\n",
       "      <td>4.0</td>\n",
       "    </tr>\n",
       "    <tr>\n",
       "      <th>16283</th>\n",
       "      <td>AOZA4C7UNXVZD</td>\n",
       "      <td>B00BI9MDSO</td>\n",
       "      <td>1.0</td>\n",
       "      <td>5.0</td>\n",
       "      <td>{'actual_k': 1, 'was_impossible': False}</td>\n",
       "      <td>4</td>\n",
       "      <td>93</td>\n",
       "      <td>4.0</td>\n",
       "    </tr>\n",
       "    <tr>\n",
       "      <th>15009</th>\n",
       "      <td>A15JPYV0L19RF</td>\n",
       "      <td>B00GMFKYK8</td>\n",
       "      <td>5.0</td>\n",
       "      <td>1.0</td>\n",
       "      <td>{'actual_k': 1, 'was_impossible': False}</td>\n",
       "      <td>7</td>\n",
       "      <td>231</td>\n",
       "      <td>4.0</td>\n",
       "    </tr>\n",
       "    <tr>\n",
       "      <th>14876</th>\n",
       "      <td>A2B9MQBB1YZTAW</td>\n",
       "      <td>B00PE1KNPC</td>\n",
       "      <td>1.0</td>\n",
       "      <td>5.0</td>\n",
       "      <td>{'actual_k': 2, 'was_impossible': False}</td>\n",
       "      <td>3</td>\n",
       "      <td>87</td>\n",
       "      <td>4.0</td>\n",
       "    </tr>\n",
       "    <tr>\n",
       "      <th>11833</th>\n",
       "      <td>A1C0ZIUIDOU3D9</td>\n",
       "      <td>B00Z7V9P8K</td>\n",
       "      <td>5.0</td>\n",
       "      <td>1.0</td>\n",
       "      <td>{'actual_k': 1, 'was_impossible': False}</td>\n",
       "      <td>2</td>\n",
       "      <td>209</td>\n",
       "      <td>4.0</td>\n",
       "    </tr>\n",
       "    <tr>\n",
       "      <th>4441</th>\n",
       "      <td>A3974P9DBFTNOQ</td>\n",
       "      <td>B006JKARN0</td>\n",
       "      <td>5.0</td>\n",
       "      <td>1.0</td>\n",
       "      <td>{'actual_k': 1, 'was_impossible': False}</td>\n",
       "      <td>1</td>\n",
       "      <td>87</td>\n",
       "      <td>4.0</td>\n",
       "    </tr>\n",
       "  </tbody>\n",
       "</table>\n",
       "</div>"
      ],
      "text/plain": [
       "                  uid         iid  r_ui  pred  \\\n",
       "8259   A1GV8GSI42JWSL  B00HD4R5YU   1.0   5.0   \n",
       "12602  A19UQJRSC30TPV  B00GMFKYJ4   5.0   1.0   \n",
       "9159    AI1CKS72N1BGR  B00F27JGVA   1.0   5.0   \n",
       "2662   A3U11UX5Q74LE2  B00PV515DU   5.0   1.0   \n",
       "15747  A1SGQ98X94B0ER  B00503E8S2   5.0   1.0   \n",
       "16283   AOZA4C7UNXVZD  B00BI9MDSO   1.0   5.0   \n",
       "15009   A15JPYV0L19RF  B00GMFKYK8   5.0   1.0   \n",
       "14876  A2B9MQBB1YZTAW  B00PE1KNPC   1.0   5.0   \n",
       "11833  A1C0ZIUIDOU3D9  B00Z7V9P8K   5.0   1.0   \n",
       "4441   A3974P9DBFTNOQ  B006JKARN0   5.0   1.0   \n",
       "\n",
       "                                        details  item_u  user_i  err  \n",
       "8259   {'actual_k': 1, 'was_impossible': False}       2     143  4.0  \n",
       "12602  {'actual_k': 1, 'was_impossible': False}       1     116  4.0  \n",
       "9159   {'actual_k': 1, 'was_impossible': False}       1     169  4.0  \n",
       "2662   {'actual_k': 1, 'was_impossible': False}       3     106  4.0  \n",
       "15747  {'actual_k': 1, 'was_impossible': False}       1     120  4.0  \n",
       "16283  {'actual_k': 1, 'was_impossible': False}       4      93  4.0  \n",
       "15009  {'actual_k': 1, 'was_impossible': False}       7     231  4.0  \n",
       "14876  {'actual_k': 2, 'was_impossible': False}       3      87  4.0  \n",
       "11833  {'actual_k': 1, 'was_impossible': False}       2     209  4.0  \n",
       "4441   {'actual_k': 1, 'was_impossible': False}       1      87  4.0  "
      ]
     },
     "execution_count": 31,
     "metadata": {},
     "output_type": "execute_result"
    }
   ],
   "source": [
    "worst_predictions"
   ]
  },
  {
   "cell_type": "code",
   "execution_count": 32,
   "metadata": {},
   "outputs": [
    {
     "data": {
      "text/html": [
       "<div>\n",
       "<style scoped>\n",
       "    .dataframe tbody tr th:only-of-type {\n",
       "        vertical-align: middle;\n",
       "    }\n",
       "\n",
       "    .dataframe tbody tr th {\n",
       "        vertical-align: top;\n",
       "    }\n",
       "\n",
       "    .dataframe thead th {\n",
       "        text-align: right;\n",
       "    }\n",
       "</style>\n",
       "<table border=\"1\" class=\"dataframe\">\n",
       "  <thead>\n",
       "    <tr style=\"text-align: right;\">\n",
       "      <th></th>\n",
       "      <th>uid</th>\n",
       "      <th>iid</th>\n",
       "      <th>r_ui</th>\n",
       "      <th>pred</th>\n",
       "      <th>details</th>\n",
       "      <th>item_u</th>\n",
       "      <th>user_i</th>\n",
       "      <th>err</th>\n",
       "    </tr>\n",
       "  </thead>\n",
       "  <tbody>\n",
       "    <tr>\n",
       "      <th>9786</th>\n",
       "      <td>AJEX9VERGX0YQ</td>\n",
       "      <td>B00L3LQ1FI</td>\n",
       "      <td>1.0</td>\n",
       "      <td>4.822222</td>\n",
       "      <td>{'actual_k': 0, 'was_impossible': False}</td>\n",
       "      <td>2</td>\n",
       "      <td>90</td>\n",
       "      <td>3.822222</td>\n",
       "    </tr>\n",
       "    <tr>\n",
       "      <th>12235</th>\n",
       "      <td>AJEX9VERGX0YQ</td>\n",
       "      <td>B00DD0B0BM</td>\n",
       "      <td>1.0</td>\n",
       "      <td>5.000000</td>\n",
       "      <td>{'actual_k': 2, 'was_impossible': False}</td>\n",
       "      <td>2</td>\n",
       "      <td>252</td>\n",
       "      <td>4.000000</td>\n",
       "    </tr>\n",
       "  </tbody>\n",
       "</table>\n",
       "</div>"
      ],
      "text/plain": [
       "                 uid         iid  r_ui      pred  \\\n",
       "9786   AJEX9VERGX0YQ  B00L3LQ1FI   1.0  4.822222   \n",
       "12235  AJEX9VERGX0YQ  B00DD0B0BM   1.0  5.000000   \n",
       "\n",
       "                                        details  item_u  user_i       err  \n",
       "9786   {'actual_k': 0, 'was_impossible': False}       2      90  3.822222  \n",
       "12235  {'actual_k': 2, 'was_impossible': False}       2     252  4.000000  "
      ]
     },
     "execution_count": 32,
     "metadata": {},
     "output_type": "execute_result"
    }
   ],
   "source": [
    "view_AJEX9VERGX0YQ = df_test_pred[df_test_pred['uid']=='AJEX9VERGX0YQ'].sort_values(by='err')\n",
    "view_AJEX9VERGX0YQ"
   ]
  },
  {
   "cell_type": "code",
   "execution_count": 33,
   "metadata": {},
   "outputs": [
    {
     "name": "stdout",
     "output_type": "stream",
     "text": [
      "####################\n",
      "# Reviews of AJEX9VERGX0YQ\n",
      "####################\n",
      "item0: B00DD0B0BM, Rating: 5\n",
      "item1: B0053B66KE, Rating: 5\n",
      "item2: B004RMK57U, Rating: 5\n",
      "item3: B00KWFCSB2, Rating: 5\n",
      "item4: B00DC7G2W8, Rating: 5\n",
      "item5: B00N4ABT1C, Rating: 5\n",
      "item6: B00BU3ZLJQ, Rating: 5\n",
      "item7: B00PB9LZQI, Rating: 5\n",
      "item8: B0094X227I, Rating: 5\n",
      "item9: B0094X2066, Rating: 5\n"
     ]
    }
   ],
   "source": [
    "## reviews of AJEX9VERGX0YQ\n",
    "print(\"#\"*20)\n",
    "print(\"# Reviews of AJEX9VERGX0YQ\")\n",
    "print(\"#\"*20)\n",
    "for idx, item_raing in enumerate(topN_pred['AJEX9VERGX0YQ']):\n",
    "    itemID, rating = item_raing\n",
    "    print(f\"item{idx}: {itemID}, Rating: {rating}\")"
   ]
  },
  {
   "cell_type": "markdown",
   "metadata": {},
   "source": [
    "### 4.2 User-based CF by Surprise + Impact of Distance Metrics\n",
    "\n",
    "As mentioned, the performance of Memory-based (neighboring) CF is affected by distance metrics. In here, we will compare Cosine, Pearson, Mean Squared Difference based on naive KNN algorithm with 3-fold cross validation."
   ]
  },
  {
   "cell_type": "code",
   "execution_count": 37,
   "metadata": {},
   "outputs": [
    {
     "name": "stdout",
     "output_type": "stream",
     "text": [
      "Computing the cosine similarity matrix...\n",
      "Done computing similarity matrix.\n",
      "Computing the cosine similarity matrix...\n",
      "Done computing similarity matrix.\n",
      "Computing the cosine similarity matrix...\n",
      "Done computing similarity matrix.\n",
      "Evaluating RMSE, MAE of algorithm KNNBasic on 3 split(s).\n",
      "\n",
      "                  Fold 1  Fold 2  Fold 3  Mean    Std     \n",
      "RMSE (testset)    1.0498  1.0337  1.0530  1.0455  0.0085  \n",
      "MAE (testset)     0.7110  0.7026  0.7061  0.7066  0.0035  \n",
      "Fit time          53.08   50.41   49.78   51.09   1.43    \n",
      "Test time         3.19    2.62    2.59    2.80    0.28    \n"
     ]
    },
    {
     "data": {
      "text/plain": [
       "1.0455117627195005"
      ]
     },
     "execution_count": 37,
     "metadata": {},
     "output_type": "execute_result"
    }
   ],
   "source": [
    "## similiarity options \n",
    "sim_options = {'name': 'cosine', 'user_based': True}\n",
    "knn = surprise.KNNBasic(sim_options=sim_options)\n",
    "cos_knn = surprise.model_selection.validation.cross_validate(knn, data_124, \n",
    "                                                   measures=[u'rmse', u'mae'], \n",
    "                                                   cv=3, return_train_measures=False, \n",
    "                                                   n_jobs=1, pre_dispatch=u'2*n_jobs', \n",
    "                                                   verbose=True)\n",
    "cos_knn[\"test_rmse\"].mean()"
   ]
  },
  {
   "cell_type": "code",
   "execution_count": 38,
   "metadata": {},
   "outputs": [
    {
     "name": "stdout",
     "output_type": "stream",
     "text": [
      "Computing the pearson similarity matrix...\n",
      "Done computing similarity matrix.\n",
      "Computing the pearson similarity matrix...\n",
      "Done computing similarity matrix.\n",
      "Computing the pearson similarity matrix...\n",
      "Done computing similarity matrix.\n",
      "Evaluating RMSE, MAE of algorithm KNNBasic on 3 split(s).\n",
      "\n",
      "                  Fold 1  Fold 2  Fold 3  Mean    Std     \n",
      "RMSE (testset)    0.9871  1.0012  1.0196  1.0026  0.0133  \n",
      "MAE (testset)     0.7319  0.7354  0.7439  0.7371  0.0050  \n",
      "Fit time          76.34   76.04   62.80   71.73   6.31    \n",
      "Test time         4.07    2.47    2.30    2.94    0.80    \n"
     ]
    },
    {
     "data": {
      "text/plain": [
       "1.0026354699119138"
      ]
     },
     "execution_count": 38,
     "metadata": {},
     "output_type": "execute_result"
    }
   ],
   "source": [
    "## similiarity options \n",
    "sim_options = {'name': 'pearson', 'user_based': True}\n",
    "knn = surprise.KNNBasic(sim_options=sim_options)\n",
    "prs_knn = surprise.model_selection.validation.cross_validate(knn, data_124, \n",
    "                                                   measures=[u'rmse', u'mae'], \n",
    "                                                   cv=3, return_train_measures=False, \n",
    "                                                   n_jobs=1, pre_dispatch=u'2*n_jobs', \n",
    "                                                   verbose=True)\n",
    "prs_knn[\"test_rmse\"].mean()"
   ]
  },
  {
   "cell_type": "code",
   "execution_count": 39,
   "metadata": {},
   "outputs": [
    {
     "name": "stdout",
     "output_type": "stream",
     "text": [
      "Computing the msd similarity matrix...\n",
      "Done computing similarity matrix.\n",
      "Computing the msd similarity matrix...\n",
      "Done computing similarity matrix.\n",
      "Computing the msd similarity matrix...\n",
      "Done computing similarity matrix.\n",
      "Evaluating RMSE, MAE of algorithm KNNBasic on 3 split(s).\n",
      "\n",
      "                  Fold 1  Fold 2  Fold 3  Mean    Std     \n",
      "RMSE (testset)    1.0274  1.0290  0.9986  1.0183  0.0140  \n",
      "MAE (testset)     0.6712  0.6747  0.6520  0.6660  0.0100  \n",
      "Fit time          47.29   43.03   43.57   44.63   1.89    \n",
      "Test time         4.02    3.26    4.19    3.82    0.40    \n"
     ]
    },
    {
     "data": {
      "text/plain": [
       "1.0183482417730776"
      ]
     },
     "execution_count": 39,
     "metadata": {},
     "output_type": "execute_result"
    }
   ],
   "source": [
    "## similiarity options \n",
    "sim_options = {'name': 'msd', 'user_based': True}\n",
    "knn = surprise.KNNBasic(sim_options=sim_options)\n",
    "prs_knn = surprise.model_selection.validation.cross_validate(knn, data_124, \n",
    "                                                   measures=[u'rmse', u'mae'], \n",
    "                                                   cv=3, return_train_measures=False, \n",
    "                                                   n_jobs=1, pre_dispatch=u'2*n_jobs', \n",
    "                                                   verbose=True)\n",
    "prs_knn[\"test_rmse\"].mean()"
   ]
  },
  {
   "cell_type": "markdown",
   "metadata": {},
   "source": [
    "### 4.3 User-based CF by Surprise"
   ]
  },
  {
   "cell_type": "markdown",
   "metadata": {},
   "source": [
    "Since the KNN with pearson similarity was the best so far, predict "
   ]
  },
  {
   "cell_type": "code",
   "execution_count": 15,
   "metadata": {},
   "outputs": [
    {
     "data": {
      "text/plain": [
       "range(0, 241)"
      ]
     },
     "execution_count": 15,
     "metadata": {},
     "output_type": "execute_result"
    }
   ],
   "source": [
    "train_set.all_items()"
   ]
  },
  {
   "cell_type": "code",
   "execution_count": 40,
   "metadata": {},
   "outputs": [
    {
     "name": "stdout",
     "output_type": "stream",
     "text": [
      "Computing the pearson similarity matrix...\n",
      "Done computing similarity matrix.\n"
     ]
    },
    {
     "data": {
      "text/plain": [
       "<surprise.prediction_algorithms.knns.KNNBasic at 0x19e971be0>"
      ]
     },
     "execution_count": 40,
     "metadata": {},
     "output_type": "execute_result"
    }
   ],
   "source": [
    "## Use user_based true/false to switch between user-based or item-based collaborative filtering\n",
    "knn_basic = surprise.KNNBasic(k=5, sim_options={'name': 'pearson', 'user_based': True})\n",
    "knn_basic.fit(train_set)\n",
    "\n"
   ]
  },
  {
   "cell_type": "code",
   "execution_count": 42,
   "metadata": {},
   "outputs": [],
   "source": [
    "testset_pred = knn_basic.test(anti_testset)"
   ]
  },
  {
   "cell_type": "code",
   "execution_count": 43,
   "metadata": {},
   "outputs": [],
   "source": [
    "## run the trained model for the train_set\n",
    "## uid: userID, iid: itemID, r_ui: rating that user gave for the item, est: rating estimation (prediction)\n",
    "anti_testset_pred = knn_basic.test(anti_testset)\n"
   ]
  },
  {
   "cell_type": "code",
   "execution_count": 45,
   "metadata": {},
   "outputs": [
    {
     "name": "stdout",
     "output_type": "stream",
     "text": [
      "User-based Model : Test Set\n",
      "RMSE:  0.9884168840276029\n",
      "MAE:  0.6422860068166297\n",
      "\n",
      "User-based Model : Train Set\n",
      "RMSE:  0.0577801583787353\n",
      "MAE:  0.0024057642733577036\n"
     ]
    }
   ],
   "source": [
    "## User-based RMSE\n",
    "print(\"User-based Model : Test Set\")\n",
    "print(\"RMSE: \", rm.RMSE(test_pred))\n",
    "print(\"MAE: \", rm.MAE(test_pred))\n",
    "print()\n",
    "\n",
    "print(\"User-based Model : Train Set\")\n",
    "print(\"RMSE: \", rm.RMSE(anti_testset_pred))\n",
    "print(\"MAE: \", rm.MAE(anti_testset_pred))"
   ]
  },
  {
   "cell_type": "markdown",
   "metadata": {},
   "source": [
    "Compared it to our Item-based model, RMSE result seems similar but the gap of RMSE between train_set and test_set tells that and Item-based seems a little bit better based on RMSE even though algorithm is slightly different (KNN with Mean for Item-based and KNN for User-based). This is bacause such a large gap causes overfitting issue. Of course, more testing is required to verify the overall error. "
   ]
  },
  {
   "cell_type": "code",
   "execution_count": 47,
   "metadata": {},
   "outputs": [
    {
     "name": "stdout",
     "output_type": "stream",
     "text": [
      "A2W1P0P5XCFA96 [('B00IAVDOS6', 4.493459302325581), ('B00503E8S2', 4.493459302325581)]\n"
     ]
    }
   ],
   "source": [
    "## pred for all data\n",
    "all_pred_user_based = test_pred+anti_testset_pred\n",
    "topN_pred_user_based = rm.GetTopN(all_pred_user_based, n=10)\n",
    "\n",
    "## the top 1 predicted items for user A3KF2QPB634EIA\n",
    "for userID, items in itertools.islice(topN_pred_user_based.items(), 1):\n",
    "    print(x, y)"
   ]
  },
  {
   "cell_type": "code",
   "execution_count": 50,
   "metadata": {},
   "outputs": [
    {
     "name": "stdout",
     "output_type": "stream",
     "text": [
      "Hit Rate: \n",
      " 0.7866876627702744\n",
      "\n",
      "\n",
      "1.0 0.6633333333333333\n",
      "2.0 0.6107784431137725\n",
      "3.0 0.6297674418604651\n",
      "4.0 0.6555213374395072\n",
      "5.0 0.8388326977284033\n",
      "rHR (Hit Rate by Rating value): \n",
      " None\n",
      "\n",
      "\n",
      "cHR (Cumulative Hit Rate, rating >= 4): \n",
      " 0.80976630624346\n",
      "\n",
      "\n",
      "ARHR (Average Reciprocal Hit Rank): \n",
      " 0.6729350947372306\n",
      "\n",
      "\n",
      "User coverage: \n",
      " 1.0\n",
      "\n",
      "\n",
      "Computing the pearson similarity matrix...\n",
      "Done computing similarity matrix.\n",
      "Diversity: \n",
      " 0.9995115147095422\n",
      "\n",
      "\n",
      "Novelty (average popularity rank): \n"
     ]
    },
    {
     "data": {
      "text/plain": [
       "100.70559587277776"
      ]
     },
     "execution_count": 50,
     "metadata": {},
     "output_type": "execute_result"
    }
   ],
   "source": [
    "## Hit rate by using top 10 predictions\n",
    "print(f\"Hit Rate: \\n {rm.HitRate(topN_pred_user_based, test_pred)}\\n\\n\")\n",
    "\n",
    "## Break down hit rate by rating value\n",
    "print(\"rHR (Hit Rate by Rating value): \\n \")\n",
    "rm.RatingHitRate(topN_pred_user_based, test_pred)\n",
    "\n",
    "## See how often we recommended a movie the user actually liked\n",
    "print(f\"cHR (Cumulative Hit Rate, rating >= 4): \\n {rm.CumulativeHitRate(topN_pred_user_based, test_pred, 4.0)}\\n\\n\")\n",
    "\n",
    "## Compute ARHR\n",
    "print(f\"ARHR (Average Reciprocal Hit Rank): \\n {rm.AverageReciprocalHitRank(topN_pred_user_based, test_pred)}\\n\\n\")\n",
    "\n",
    "## Print user coverage with a minimum predicted rating of 4.0:\n",
    "print(f\"User coverage: \\n {rm.UserCoverage(topN_pred_user_based, data_124.build_full_trainset().n_users, ratingThreshold=4.0)}\\n\\n\")\n",
    "\n",
    "## Measure diversity of recommendations:\n",
    "print(f\"Diversity: \\n {rm.Diversity(topN_pred_user_based, knn_basic)}\\n\\n\")\n",
    "\n",
    "## ranking for items\n",
    "#rankings = rm.getPopularityRanks(amazon_ratings_124)\n",
    "\n",
    "## Measure novelty (average popularity rank of recommendations):\n",
    "print(\"Novelty (average popularity rank): \")\n",
    "rm.Novelty(topN_pred_user_based, rankings)\n"
   ]
  },
  {
   "cell_type": "markdown",
   "metadata": {},
   "source": [
    "### 4.4 Model-based CF by Surprise\n",
    "\n",
    "Let's explore truncated svd technique. "
   ]
  },
  {
   "cell_type": "code",
   "execution_count": 34,
   "metadata": {},
   "outputs": [
    {
     "data": {
      "text/plain": [
       "(23789, 241)"
      ]
     },
     "execution_count": 34,
     "metadata": {},
     "output_type": "execute_result"
    }
   ],
   "source": [
    "user_item_mat.shape"
   ]
  },
  {
   "cell_type": "code",
   "execution_count": 35,
   "metadata": {},
   "outputs": [
    {
     "name": "stdout",
     "output_type": "stream",
     "text": [
      "(241, 23789)\n"
     ]
    },
    {
     "data": {
      "text/html": [
       "<div>\n",
       "<style scoped>\n",
       "    .dataframe tbody tr th:only-of-type {\n",
       "        vertical-align: middle;\n",
       "    }\n",
       "\n",
       "    .dataframe tbody tr th {\n",
       "        vertical-align: top;\n",
       "    }\n",
       "\n",
       "    .dataframe thead th {\n",
       "        text-align: right;\n",
       "    }\n",
       "</style>\n",
       "<table border=\"1\" class=\"dataframe\">\n",
       "  <thead>\n",
       "    <tr style=\"text-align: right;\">\n",
       "      <th>reviewerID</th>\n",
       "      <th>A0220159ZRNBTRKLG08H</th>\n",
       "      <th>A0277912HT4JSJKVSL3E</th>\n",
       "      <th>A02836981FYG9912C66F</th>\n",
       "      <th>A03622674FSWUX0PXPAK</th>\n",
       "      <th>A0380485C177Q6QQNJIX</th>\n",
       "      <th>A0435554Z2P98AIGLNCS</th>\n",
       "      <th>A049248150WLX2UGA57G</th>\n",
       "      <th>A0667676ELTQ9GS4VZHH</th>\n",
       "      <th>A0685888WB02Q69S553P</th>\n",
       "      <th>A0695568PX4DBZOQDN8</th>\n",
       "      <th>...</th>\n",
       "      <th>AZYSLPX9HUWPW</th>\n",
       "      <th>AZYUJNUA38IYL</th>\n",
       "      <th>AZYUNW5G2R3CL</th>\n",
       "      <th>AZYWRH9CQSB2Q</th>\n",
       "      <th>AZZ1KF8RAO1BR</th>\n",
       "      <th>AZZ2RPY63LR0B</th>\n",
       "      <th>AZZDDQSI60WTM</th>\n",
       "      <th>AZZQCK9ZAKMFR</th>\n",
       "      <th>AZZT1ERHBSNQ8</th>\n",
       "      <th>AZZTOUKVTUMVM</th>\n",
       "    </tr>\n",
       "    <tr>\n",
       "      <th>asin</th>\n",
       "      <th></th>\n",
       "      <th></th>\n",
       "      <th></th>\n",
       "      <th></th>\n",
       "      <th></th>\n",
       "      <th></th>\n",
       "      <th></th>\n",
       "      <th></th>\n",
       "      <th></th>\n",
       "      <th></th>\n",
       "      <th></th>\n",
       "      <th></th>\n",
       "      <th></th>\n",
       "      <th></th>\n",
       "      <th></th>\n",
       "      <th></th>\n",
       "      <th></th>\n",
       "      <th></th>\n",
       "      <th></th>\n",
       "      <th></th>\n",
       "      <th></th>\n",
       "    </tr>\n",
       "  </thead>\n",
       "  <tbody>\n",
       "    <tr>\n",
       "      <th>B0009VXBAQ</th>\n",
       "      <td>0.0</td>\n",
       "      <td>0.0</td>\n",
       "      <td>0.0</td>\n",
       "      <td>0.0</td>\n",
       "      <td>0.0</td>\n",
       "      <td>0.0</td>\n",
       "      <td>0.0</td>\n",
       "      <td>0.0</td>\n",
       "      <td>0.0</td>\n",
       "      <td>0.0</td>\n",
       "      <td>...</td>\n",
       "      <td>0.0</td>\n",
       "      <td>0.0</td>\n",
       "      <td>0.0</td>\n",
       "      <td>0.0</td>\n",
       "      <td>0.0</td>\n",
       "      <td>0.0</td>\n",
       "      <td>0.0</td>\n",
       "      <td>0.0</td>\n",
       "      <td>0.0</td>\n",
       "      <td>0.0</td>\n",
       "    </tr>\n",
       "    <tr>\n",
       "      <th>B000B9RI14</th>\n",
       "      <td>0.0</td>\n",
       "      <td>0.0</td>\n",
       "      <td>0.0</td>\n",
       "      <td>0.0</td>\n",
       "      <td>0.0</td>\n",
       "      <td>0.0</td>\n",
       "      <td>0.0</td>\n",
       "      <td>0.0</td>\n",
       "      <td>0.0</td>\n",
       "      <td>0.0</td>\n",
       "      <td>...</td>\n",
       "      <td>0.0</td>\n",
       "      <td>0.0</td>\n",
       "      <td>0.0</td>\n",
       "      <td>0.0</td>\n",
       "      <td>0.0</td>\n",
       "      <td>0.0</td>\n",
       "      <td>0.0</td>\n",
       "      <td>0.0</td>\n",
       "      <td>0.0</td>\n",
       "      <td>0.0</td>\n",
       "    </tr>\n",
       "    <tr>\n",
       "      <th>B000ERVMI8</th>\n",
       "      <td>0.0</td>\n",
       "      <td>0.0</td>\n",
       "      <td>0.0</td>\n",
       "      <td>0.0</td>\n",
       "      <td>0.0</td>\n",
       "      <td>0.0</td>\n",
       "      <td>0.0</td>\n",
       "      <td>0.0</td>\n",
       "      <td>0.0</td>\n",
       "      <td>0.0</td>\n",
       "      <td>...</td>\n",
       "      <td>0.0</td>\n",
       "      <td>0.0</td>\n",
       "      <td>0.0</td>\n",
       "      <td>0.0</td>\n",
       "      <td>0.0</td>\n",
       "      <td>0.0</td>\n",
       "      <td>0.0</td>\n",
       "      <td>0.0</td>\n",
       "      <td>0.0</td>\n",
       "      <td>0.0</td>\n",
       "    </tr>\n",
       "  </tbody>\n",
       "</table>\n",
       "<p>3 rows × 23789 columns</p>\n",
       "</div>"
      ],
      "text/plain": [
       "reviewerID  A0220159ZRNBTRKLG08H  A0277912HT4JSJKVSL3E  A02836981FYG9912C66F  \\\n",
       "asin                                                                           \n",
       "B0009VXBAQ                   0.0                   0.0                   0.0   \n",
       "B000B9RI14                   0.0                   0.0                   0.0   \n",
       "B000ERVMI8                   0.0                   0.0                   0.0   \n",
       "\n",
       "reviewerID  A03622674FSWUX0PXPAK  A0380485C177Q6QQNJIX  A0435554Z2P98AIGLNCS  \\\n",
       "asin                                                                           \n",
       "B0009VXBAQ                   0.0                   0.0                   0.0   \n",
       "B000B9RI14                   0.0                   0.0                   0.0   \n",
       "B000ERVMI8                   0.0                   0.0                   0.0   \n",
       "\n",
       "reviewerID  A049248150WLX2UGA57G  A0667676ELTQ9GS4VZHH  A0685888WB02Q69S553P  \\\n",
       "asin                                                                           \n",
       "B0009VXBAQ                   0.0                   0.0                   0.0   \n",
       "B000B9RI14                   0.0                   0.0                   0.0   \n",
       "B000ERVMI8                   0.0                   0.0                   0.0   \n",
       "\n",
       "reviewerID  A0695568PX4DBZOQDN8  ...  AZYSLPX9HUWPW  AZYUJNUA38IYL  \\\n",
       "asin                             ...                                 \n",
       "B0009VXBAQ                  0.0  ...            0.0            0.0   \n",
       "B000B9RI14                  0.0  ...            0.0            0.0   \n",
       "B000ERVMI8                  0.0  ...            0.0            0.0   \n",
       "\n",
       "reviewerID  AZYUNW5G2R3CL  AZYWRH9CQSB2Q  AZZ1KF8RAO1BR  AZZ2RPY63LR0B  \\\n",
       "asin                                                                     \n",
       "B0009VXBAQ            0.0            0.0            0.0            0.0   \n",
       "B000B9RI14            0.0            0.0            0.0            0.0   \n",
       "B000ERVMI8            0.0            0.0            0.0            0.0   \n",
       "\n",
       "reviewerID  AZZDDQSI60WTM  AZZQCK9ZAKMFR  AZZT1ERHBSNQ8  AZZTOUKVTUMVM  \n",
       "asin                                                                    \n",
       "B0009VXBAQ            0.0            0.0            0.0            0.0  \n",
       "B000B9RI14            0.0            0.0            0.0            0.0  \n",
       "B000ERVMI8            0.0            0.0            0.0            0.0  \n",
       "\n",
       "[3 rows x 23789 columns]"
      ]
     },
     "execution_count": 35,
     "metadata": {},
     "output_type": "execute_result"
    }
   ],
   "source": [
    "item_user_mat = user_item_mat.T\n",
    "print(item_user_mat.shape)\n",
    "item_user_mat.head(3)"
   ]
  },
  {
   "cell_type": "code",
   "execution_count": 36,
   "metadata": {},
   "outputs": [
    {
     "data": {
      "text/plain": [
       "(241, 10)"
      ]
     },
     "execution_count": 36,
     "metadata": {},
     "output_type": "execute_result"
    }
   ],
   "source": [
    "## Decomposing the Matrix\n",
    "from sklearn.decomposition import TruncatedSVD\n",
    "\n",
    "tSVD = TruncatedSVD(n_components=10)\n",
    "decomposed_matrix = tSVD.fit_transform(item_user_mat)\n",
    "decomposed_matrix.shape"
   ]
  },
  {
   "cell_type": "code",
   "execution_count": 37,
   "metadata": {},
   "outputs": [
    {
     "data": {
      "text/plain": [
       "(241, 241)"
      ]
     },
     "execution_count": 37,
     "metadata": {},
     "output_type": "execute_result"
    }
   ],
   "source": [
    "#Correlation Matrix\n",
    "\n",
    "correlation_matrix = np.corrcoef(decomposed_matrix)\n",
    "correlation_matrix.shape"
   ]
  },
  {
   "cell_type": "markdown",
   "metadata": {},
   "source": [
    "Index # of item ID purchased by customer"
   ]
  },
  {
   "cell_type": "code",
   "execution_count": 38,
   "metadata": {},
   "outputs": [
    {
     "data": {
      "text/html": [
       "<div>\n",
       "<style scoped>\n",
       "    .dataframe tbody tr th:only-of-type {\n",
       "        vertical-align: middle;\n",
       "    }\n",
       "\n",
       "    .dataframe tbody tr th {\n",
       "        vertical-align: top;\n",
       "    }\n",
       "\n",
       "    .dataframe thead th {\n",
       "        text-align: right;\n",
       "    }\n",
       "</style>\n",
       "<table border=\"1\" class=\"dataframe\">\n",
       "  <thead>\n",
       "    <tr style=\"text-align: right;\">\n",
       "      <th></th>\n",
       "      <th>reviewerID</th>\n",
       "      <th>asin</th>\n",
       "      <th>overall</th>\n",
       "    </tr>\n",
       "  </thead>\n",
       "  <tbody>\n",
       "    <tr>\n",
       "      <th>3091</th>\n",
       "      <td>A7AQG5H1RB0NY</td>\n",
       "      <td>B0015AARJI</td>\n",
       "      <td>5.0</td>\n",
       "    </tr>\n",
       "    <tr>\n",
       "      <th>3092</th>\n",
       "      <td>A1J77AZSA076EF</td>\n",
       "      <td>B0015AARJI</td>\n",
       "      <td>5.0</td>\n",
       "    </tr>\n",
       "    <tr>\n",
       "      <th>3093</th>\n",
       "      <td>A123NX4VM0U422</td>\n",
       "      <td>B0015AARJI</td>\n",
       "      <td>5.0</td>\n",
       "    </tr>\n",
       "    <tr>\n",
       "      <th>3094</th>\n",
       "      <td>A1D8TXQNAJWTYS</td>\n",
       "      <td>B0015AARJI</td>\n",
       "      <td>5.0</td>\n",
       "    </tr>\n",
       "    <tr>\n",
       "      <th>3095</th>\n",
       "      <td>AFMAZRGEWTQB0</td>\n",
       "      <td>B0015AARJI</td>\n",
       "      <td>5.0</td>\n",
       "    </tr>\n",
       "    <tr>\n",
       "      <th>...</th>\n",
       "      <td>...</td>\n",
       "      <td>...</td>\n",
       "      <td>...</td>\n",
       "    </tr>\n",
       "    <tr>\n",
       "      <th>3464</th>\n",
       "      <td>A1172RQH5UKH43</td>\n",
       "      <td>B0015AARJI</td>\n",
       "      <td>5.0</td>\n",
       "    </tr>\n",
       "    <tr>\n",
       "      <th>3465</th>\n",
       "      <td>A2ZF0HRAX6SNUW</td>\n",
       "      <td>B0015AARJI</td>\n",
       "      <td>5.0</td>\n",
       "    </tr>\n",
       "    <tr>\n",
       "      <th>3466</th>\n",
       "      <td>A3M4FM3FPUAZ5I</td>\n",
       "      <td>B0015AARJI</td>\n",
       "      <td>5.0</td>\n",
       "    </tr>\n",
       "    <tr>\n",
       "      <th>3467</th>\n",
       "      <td>A2ZTUOL4G3OPDL</td>\n",
       "      <td>B0015AARJI</td>\n",
       "      <td>5.0</td>\n",
       "    </tr>\n",
       "    <tr>\n",
       "      <th>49193</th>\n",
       "      <td>A17OEPDI04DO5V</td>\n",
       "      <td>B0015AARJI</td>\n",
       "      <td>5.0</td>\n",
       "    </tr>\n",
       "  </tbody>\n",
       "</table>\n",
       "<p>311 rows × 3 columns</p>\n",
       "</div>"
      ],
      "text/plain": [
       "           reviewerID        asin  overall\n",
       "3091    A7AQG5H1RB0NY  B0015AARJI      5.0\n",
       "3092   A1J77AZSA076EF  B0015AARJI      5.0\n",
       "3093   A123NX4VM0U422  B0015AARJI      5.0\n",
       "3094   A1D8TXQNAJWTYS  B0015AARJI      5.0\n",
       "3095    AFMAZRGEWTQB0  B0015AARJI      5.0\n",
       "...               ...         ...      ...\n",
       "3464   A1172RQH5UKH43  B0015AARJI      5.0\n",
       "3465   A2ZF0HRAX6SNUW  B0015AARJI      5.0\n",
       "3466   A3M4FM3FPUAZ5I  B0015AARJI      5.0\n",
       "3467   A2ZTUOL4G3OPDL  B0015AARJI      5.0\n",
       "49193  A17OEPDI04DO5V  B0015AARJI      5.0\n",
       "\n",
       "[311 rows x 3 columns]"
      ]
     },
     "execution_count": 38,
     "metadata": {},
     "output_type": "execute_result"
    }
   ],
   "source": [
    "amazon_ratings_124[amazon_ratings_124['asin'] == 'B0015AARJI']#.iloc[:3]"
   ]
  },
  {
   "cell_type": "code",
   "execution_count": 39,
   "metadata": {},
   "outputs": [
    {
     "data": {
      "text/html": [
       "<div>\n",
       "<style scoped>\n",
       "    .dataframe tbody tr th:only-of-type {\n",
       "        vertical-align: middle;\n",
       "    }\n",
       "\n",
       "    .dataframe tbody tr th {\n",
       "        vertical-align: top;\n",
       "    }\n",
       "\n",
       "    .dataframe thead th {\n",
       "        text-align: right;\n",
       "    }\n",
       "</style>\n",
       "<table border=\"1\" class=\"dataframe\">\n",
       "  <thead>\n",
       "    <tr style=\"text-align: right;\">\n",
       "      <th></th>\n",
       "      <th>reviewerID</th>\n",
       "      <th>asin</th>\n",
       "      <th>overall</th>\n",
       "    </tr>\n",
       "  </thead>\n",
       "  <tbody>\n",
       "    <tr>\n",
       "      <th>3091</th>\n",
       "      <td>A7AQG5H1RB0NY</td>\n",
       "      <td>B0015AARJI</td>\n",
       "      <td>5.0</td>\n",
       "    </tr>\n",
       "    <tr>\n",
       "      <th>49259</th>\n",
       "      <td>A7AQG5H1RB0NY</td>\n",
       "      <td>B006JKARN0</td>\n",
       "      <td>5.0</td>\n",
       "    </tr>\n",
       "  </tbody>\n",
       "</table>\n",
       "</div>"
      ],
      "text/plain": [
       "          reviewerID        asin  overall\n",
       "3091   A7AQG5H1RB0NY  B0015AARJI      5.0\n",
       "49259  A7AQG5H1RB0NY  B006JKARN0      5.0"
      ]
     },
     "execution_count": 39,
     "metadata": {},
     "output_type": "execute_result"
    }
   ],
   "source": [
    "amazon_ratings_124[amazon_ratings_124['reviewerID'] == 'A7AQG5H1RB0NY']"
   ]
  },
  {
   "cell_type": "code",
   "execution_count": 40,
   "metadata": {},
   "outputs": [
    {
     "name": "stdout",
     "output_type": "stream",
     "text": [
      ": 23789\n"
     ]
    },
    {
     "data": {
      "text/html": [
       "<div>\n",
       "<style scoped>\n",
       "    .dataframe tbody tr th:only-of-type {\n",
       "        vertical-align: middle;\n",
       "    }\n",
       "\n",
       "    .dataframe tbody tr th {\n",
       "        vertical-align: top;\n",
       "    }\n",
       "\n",
       "    .dataframe thead th {\n",
       "        text-align: right;\n",
       "    }\n",
       "</style>\n",
       "<table border=\"1\" class=\"dataframe\">\n",
       "  <thead>\n",
       "    <tr style=\"text-align: right;\">\n",
       "      <th></th>\n",
       "      <th>num_ratings</th>\n",
       "      <th>mean_rating</th>\n",
       "    </tr>\n",
       "    <tr>\n",
       "      <th>reviewerID</th>\n",
       "      <th></th>\n",
       "      <th></th>\n",
       "    </tr>\n",
       "  </thead>\n",
       "  <tbody>\n",
       "    <tr>\n",
       "      <th>A14KKV5U5XSHXY</th>\n",
       "      <td>69</td>\n",
       "      <td>5.000000</td>\n",
       "    </tr>\n",
       "    <tr>\n",
       "      <th>A1RS06313BL6WN</th>\n",
       "      <td>42</td>\n",
       "      <td>4.166667</td>\n",
       "    </tr>\n",
       "    <tr>\n",
       "      <th>A71Z5AIGEFK11</th>\n",
       "      <td>40</td>\n",
       "      <td>5.000000</td>\n",
       "    </tr>\n",
       "    <tr>\n",
       "      <th>AJV2L53BJLNUA</th>\n",
       "      <td>27</td>\n",
       "      <td>4.296296</td>\n",
       "    </tr>\n",
       "    <tr>\n",
       "      <th>A361MDDVW2JW39</th>\n",
       "      <td>22</td>\n",
       "      <td>5.000000</td>\n",
       "    </tr>\n",
       "    <tr>\n",
       "      <th>A33LP81Z6FCC73</th>\n",
       "      <td>21</td>\n",
       "      <td>5.000000</td>\n",
       "    </tr>\n",
       "    <tr>\n",
       "      <th>A230RAOOP9XBN5</th>\n",
       "      <td>21</td>\n",
       "      <td>5.000000</td>\n",
       "    </tr>\n",
       "    <tr>\n",
       "      <th>A18PM7A5VL8FD2</th>\n",
       "      <td>20</td>\n",
       "      <td>4.100000</td>\n",
       "    </tr>\n",
       "    <tr>\n",
       "      <th>A31GWUD5AUE54T</th>\n",
       "      <td>20</td>\n",
       "      <td>3.850000</td>\n",
       "    </tr>\n",
       "    <tr>\n",
       "      <th>A3E3SO55Q9MVEJ</th>\n",
       "      <td>18</td>\n",
       "      <td>4.888889</td>\n",
       "    </tr>\n",
       "  </tbody>\n",
       "</table>\n",
       "</div>"
      ],
      "text/plain": [
       "                num_ratings  mean_rating\n",
       "reviewerID                              \n",
       "A14KKV5U5XSHXY           69     5.000000\n",
       "A1RS06313BL6WN           42     4.166667\n",
       "A71Z5AIGEFK11            40     5.000000\n",
       "AJV2L53BJLNUA            27     4.296296\n",
       "A361MDDVW2JW39           22     5.000000\n",
       "A33LP81Z6FCC73           21     5.000000\n",
       "A230RAOOP9XBN5           21     5.000000\n",
       "A18PM7A5VL8FD2           20     4.100000\n",
       "A31GWUD5AUE54T           20     3.850000\n",
       "A3E3SO55Q9MVEJ           18     4.888889"
      ]
     },
     "execution_count": 40,
     "metadata": {},
     "output_type": "execute_result"
    }
   ],
   "source": [
    "## Counts for ratings per user in descending order.\n",
    "user_num_mean = amazon_ratings_124.groupby(by='reviewerID')['overall'].count().sort_values(ascending=False)\n",
    "user_num_mean = pd.DataFrame(user_num_mean)\n",
    "## rename\n",
    "user_num_mean.rename(columns={'overall':'num_ratings'}, inplace=True)\n",
    "## Calculate mean of ratings for each user.\n",
    "user_num_mean['mean_rating'] = amazon_ratings_124.groupby(by='reviewerID')['overall'].apply(np.mean)\n",
    "\n",
    "print(f\": {len(user_num_mean)}\")\n",
    "user_num_mean.head(10)\n"
   ]
  },
  {
   "cell_type": "code",
   "execution_count": 41,
   "metadata": {},
   "outputs": [
    {
     "data": {
      "text/html": [
       "<div>\n",
       "<style scoped>\n",
       "    .dataframe tbody tr th:only-of-type {\n",
       "        vertical-align: middle;\n",
       "    }\n",
       "\n",
       "    .dataframe tbody tr th {\n",
       "        vertical-align: top;\n",
       "    }\n",
       "\n",
       "    .dataframe thead th {\n",
       "        text-align: right;\n",
       "    }\n",
       "</style>\n",
       "<table border=\"1\" class=\"dataframe\">\n",
       "  <thead>\n",
       "    <tr style=\"text-align: right;\">\n",
       "      <th>asin</th>\n",
       "      <th>B0009VXBAQ</th>\n",
       "      <th>B000B9RI14</th>\n",
       "      <th>B000ERVMI8</th>\n",
       "      <th>B000FO4KO8</th>\n",
       "      <th>B000FQ9R4E</th>\n",
       "      <th>B000FRU0NU</th>\n",
       "      <th>B000FRU1UM</th>\n",
       "      <th>B000HZFCT2</th>\n",
       "      <th>B000IMYKQ0</th>\n",
       "      <th>B000P46NMA</th>\n",
       "      <th>...</th>\n",
       "      <th>B018K6KV68</th>\n",
       "      <th>B019J6RYCW</th>\n",
       "      <th>B019OB663A</th>\n",
       "      <th>B01C93CWSI</th>\n",
       "      <th>B01C93CWU6</th>\n",
       "      <th>B01F9HMO2K</th>\n",
       "      <th>B01GKGVI8U</th>\n",
       "      <th>B01GW3ODBU</th>\n",
       "      <th>B01GW3P9PE</th>\n",
       "      <th>B01GW3POY0</th>\n",
       "    </tr>\n",
       "    <tr>\n",
       "      <th>reviewerID</th>\n",
       "      <th></th>\n",
       "      <th></th>\n",
       "      <th></th>\n",
       "      <th></th>\n",
       "      <th></th>\n",
       "      <th></th>\n",
       "      <th></th>\n",
       "      <th></th>\n",
       "      <th></th>\n",
       "      <th></th>\n",
       "      <th></th>\n",
       "      <th></th>\n",
       "      <th></th>\n",
       "      <th></th>\n",
       "      <th></th>\n",
       "      <th></th>\n",
       "      <th></th>\n",
       "      <th></th>\n",
       "      <th></th>\n",
       "      <th></th>\n",
       "      <th></th>\n",
       "    </tr>\n",
       "  </thead>\n",
       "  <tbody>\n",
       "    <tr>\n",
       "      <th>A7AQG5H1RB0NY</th>\n",
       "      <td>0</td>\n",
       "      <td>0</td>\n",
       "      <td>0</td>\n",
       "      <td>0</td>\n",
       "      <td>0</td>\n",
       "      <td>0</td>\n",
       "      <td>0</td>\n",
       "      <td>0</td>\n",
       "      <td>0</td>\n",
       "      <td>0</td>\n",
       "      <td>...</td>\n",
       "      <td>0</td>\n",
       "      <td>0</td>\n",
       "      <td>0</td>\n",
       "      <td>0</td>\n",
       "      <td>0</td>\n",
       "      <td>0</td>\n",
       "      <td>0</td>\n",
       "      <td>0</td>\n",
       "      <td>0</td>\n",
       "      <td>0</td>\n",
       "    </tr>\n",
       "  </tbody>\n",
       "</table>\n",
       "<p>1 rows × 241 columns</p>\n",
       "</div>"
      ],
      "text/plain": [
       "asin           B0009VXBAQ  B000B9RI14  B000ERVMI8  B000FO4KO8  B000FQ9R4E  \\\n",
       "reviewerID                                                                  \n",
       "A7AQG5H1RB0NY           0           0           0           0           0   \n",
       "\n",
       "asin           B000FRU0NU  B000FRU1UM  B000HZFCT2  B000IMYKQ0  B000P46NMA  \\\n",
       "reviewerID                                                                  \n",
       "A7AQG5H1RB0NY           0           0           0           0           0   \n",
       "\n",
       "asin           ...  B018K6KV68  B019J6RYCW  B019OB663A  B01C93CWSI  \\\n",
       "reviewerID     ...                                                   \n",
       "A7AQG5H1RB0NY  ...           0           0           0           0   \n",
       "\n",
       "asin           B01C93CWU6  B01F9HMO2K  B01GKGVI8U  B01GW3ODBU  B01GW3P9PE  \\\n",
       "reviewerID                                                                  \n",
       "A7AQG5H1RB0NY           0           0           0           0           0   \n",
       "\n",
       "asin           B01GW3POY0  \n",
       "reviewerID                 \n",
       "A7AQG5H1RB0NY           0  \n",
       "\n",
       "[1 rows x 241 columns]"
      ]
     },
     "execution_count": 41,
     "metadata": {},
     "output_type": "execute_result"
    }
   ],
   "source": [
    "## check user A7AQG5H1RB0NY\n",
    "user_item_mat[user_item_mat.index=='A7AQG5H1RB0NY']"
   ]
  },
  {
   "cell_type": "code",
   "execution_count": 42,
   "metadata": {},
   "outputs": [
    {
     "data": {
      "text/html": [
       "<div>\n",
       "<style scoped>\n",
       "    .dataframe tbody tr th:only-of-type {\n",
       "        vertical-align: middle;\n",
       "    }\n",
       "\n",
       "    .dataframe tbody tr th {\n",
       "        vertical-align: top;\n",
       "    }\n",
       "\n",
       "    .dataframe thead th {\n",
       "        text-align: right;\n",
       "    }\n",
       "</style>\n",
       "<table border=\"1\" class=\"dataframe\">\n",
       "  <thead>\n",
       "    <tr style=\"text-align: right;\">\n",
       "      <th></th>\n",
       "      <th>reviewerID</th>\n",
       "      <th>asin</th>\n",
       "      <th>overall</th>\n",
       "    </tr>\n",
       "  </thead>\n",
       "  <tbody>\n",
       "    <tr>\n",
       "      <th>3091</th>\n",
       "      <td>A7AQG5H1RB0NY</td>\n",
       "      <td>B0015AARJI</td>\n",
       "      <td>5.0</td>\n",
       "    </tr>\n",
       "    <tr>\n",
       "      <th>49259</th>\n",
       "      <td>A7AQG5H1RB0NY</td>\n",
       "      <td>B006JKARN0</td>\n",
       "      <td>5.0</td>\n",
       "    </tr>\n",
       "  </tbody>\n",
       "</table>\n",
       "</div>"
      ],
      "text/plain": [
       "          reviewerID        asin  overall\n",
       "3091   A7AQG5H1RB0NY  B0015AARJI      5.0\n",
       "49259  A7AQG5H1RB0NY  B006JKARN0      5.0"
      ]
     },
     "execution_count": 42,
     "metadata": {},
     "output_type": "execute_result"
    }
   ],
   "source": [
    "## check what user A7AQG5H1RB0NY rated \n",
    "amazon_ratings_124[amazon_ratings_124['reviewerID'] == 'A7AQG5H1RB0NY']"
   ]
  },
  {
   "cell_type": "code",
   "execution_count": 43,
   "metadata": {},
   "outputs": [
    {
     "data": {
      "text/plain": [
       "23"
      ]
     },
     "execution_count": 43,
     "metadata": {},
     "output_type": "execute_result"
    }
   ],
   "source": [
    "item = \"B0015AARJI\"\n",
    "\n",
    "item_IDs = list(item_user_mat.index)\n",
    "item_idx = item_IDs.index(item)\n",
    "item_idx"
   ]
  },
  {
   "cell_type": "markdown",
   "metadata": {},
   "source": [
    "Correlation for all items with the item purchased by this customer based on items rated by other customers people who bought the same product"
   ]
  },
  {
   "cell_type": "code",
   "execution_count": 44,
   "metadata": {},
   "outputs": [
    {
     "data": {
      "text/plain": [
       "(241,)"
      ]
     },
     "execution_count": 44,
     "metadata": {},
     "output_type": "execute_result"
    }
   ],
   "source": [
    "correlation_B0015AARJI = correlation_matrix[item_idx]\n",
    "correlation_B0015AARJI.shape\n"
   ]
  },
  {
   "cell_type": "markdown",
   "metadata": {},
   "source": [
    "The following results the top 5 recommended items whose  correlation with item B0015AARJI greater than 0.85."
   ]
  },
  {
   "cell_type": "code",
   "execution_count": 45,
   "metadata": {},
   "outputs": [
    {
     "data": {
      "text/plain": [
       "['B000S0C2UI', 'B000TLU67W', 'B0016B28WU', 'B005JB84GM', 'B006JKARN0']"
      ]
     },
     "execution_count": 45,
     "metadata": {},
     "output_type": "execute_result"
    }
   ],
   "source": [
    "recommended_items = list(item_user_mat.index[correlation_B0015AARJI > 0.85])\n",
    "\n",
    "# Removes the item already bought by the customer\n",
    "recommended_items.remove(item) \n",
    "\n",
    "recommended_items[0:5]"
   ]
  },
  {
   "cell_type": "markdown",
   "metadata": {},
   "source": [
    "Let's use Surprise SVD with k=100 to learn the data."
   ]
  },
  {
   "cell_type": "code",
   "execution_count": 46,
   "metadata": {},
   "outputs": [
    {
     "data": {
      "text/plain": [
       "[Prediction(uid='A3KF2QPB634EIA', iid='B0015AARJI', r_ui=5.0, est=4.395090826817035, details={'was_impossible': False}),\n",
       " Prediction(uid='A2W1P0P5XCFA96', iid='B00IAVDOS6', r_ui=5.0, est=4.213473969772182, details={'was_impossible': False})]"
      ]
     },
     "execution_count": 46,
     "metadata": {},
     "output_type": "execute_result"
    }
   ],
   "source": [
    "## Use SVD with k=100.\n",
    "svd = surprise.SVD(n_factors=100)\n",
    "svd.fit(train_set)\n",
    "\n",
    "## uid: userID, iid: itemID, r_ui: rating that user gave for the item, est: rating estimation (prediction)\n",
    "test_pred = svd.test(test_set)\n",
    "test_pred[:2]\n"
   ]
  },
  {
   "cell_type": "code",
   "execution_count": 47,
   "metadata": {},
   "outputs": [
    {
     "data": {
      "text/plain": [
       "[Prediction(uid='A32JCWTAULEMW6', iid='B00BI83EVU', r_ui=4.493459302325581, est=4.314962137141115, details={'was_impossible': False}),\n",
       " Prediction(uid='A32JCWTAULEMW6', iid='B00DDXILBQ', r_ui=4.493459302325581, est=3.5257382360516507, details={'was_impossible': False})]"
      ]
     },
     "execution_count": 47,
     "metadata": {},
     "output_type": "execute_result"
    }
   ],
   "source": [
    "## run the trained model for the train_set\n",
    "## uid: userID, iid: itemID, r_ui: rating that user gave for the item, est: rating estimation (prediction)\n",
    "anti_testset_pred = svd.test(anti_testset)\n",
    "anti_testset_pred[:2]"
   ]
  },
  {
   "cell_type": "code",
   "execution_count": 48,
   "metadata": {},
   "outputs": [
    {
     "name": "stdout",
     "output_type": "stream",
     "text": [
      "SVD Model : Test Set\n",
      "RMSE:  0.9419241449041416\n",
      "MAE:  0.6564323085951966\n",
      "\n",
      "SVD Model : Train Set\n",
      "RMSE:  0.32462760773588606\n",
      "MAE:  0.2525185623602521\n"
     ]
    }
   ],
   "source": [
    "### RMSE \n",
    "print(\"SVD Model : Test Set\")\n",
    "print(\"RMSE: \", rm.RMSE(test_pred))\n",
    "print(\"MAE: \", rm.MAE(test_pred))\n",
    "print()\n",
    "\n",
    "print(\"SVD Model : Train Set\")\n",
    "print(\"RMSE: \", rm.RMSE(anti_testset_pred))\n",
    "print(\"MAE: \", rm.MAE(anti_testset_pred))"
   ]
  },
  {
   "cell_type": "code",
   "execution_count": 49,
   "metadata": {},
   "outputs": [
    {
     "name": "stdout",
     "output_type": "stream",
     "text": [
      "A3KF2QPB634EIA [('B0017Q4DGI', 5), ('B000ERVMI8', 4.960385703075339), ('B000HZFCT2', 4.944076563282355), ('B0065NP6NC', 4.933009895796715), ('B00EZPCX1A', 4.927371374171206), ('B00PB9LZQI', 4.909691942027178), ('B00KN7Y3EY', 4.907214130200848), ('B00L2FGSFI', 4.900727581623495), ('B01GW3P9PE', 4.9000284900346), ('B00GANWVJE', 4.874097219920392)]\n"
     ]
    }
   ],
   "source": [
    "## pred for all data \n",
    "all_pred_svd = test_pred+anti_testset_pred\n",
    "topN_pred_svd = rm.GetTopN(all_pred_svd, n=10)\n",
    "\n",
    "## the top 1 predicted items for user A2W1P0P5XCFA96 differs from \n",
    "## A3KF2QPB634EIA which memory-based model predicts \n",
    "for userID, items in itertools.islice(topN_pred_svd.items(), 1):\n",
    "    print(userID, items)"
   ]
  },
  {
   "cell_type": "code",
   "execution_count": 50,
   "metadata": {},
   "outputs": [
    {
     "name": "stdout",
     "output_type": "stream",
     "text": [
      "Hit Rate: \n",
      " 0.36012355399430684\n",
      "\n",
      "\n",
      "rHR (Hit Rate by Rating value): \n",
      "1.0 0.39\n",
      "2.0 0.3393213572854291\n",
      "3.0 0.3581395348837209\n",
      "4.0 0.32336119665640123\n",
      "5.0 0.36660586967335435\n",
      "\n",
      "cHR (Cumulative Hit Rate, rating >= 4): \n",
      " 0.35974886641088244\n",
      "\n",
      "\n",
      "ARHR (Average Reciprocal Hit Rank): \n",
      " 0.3124572074605385\n",
      "\n",
      "\n",
      "User coverage: \n",
      " 0.9931901298919669\n",
      "\n",
      "\n",
      "Diversity: \n",
      " 0.9799738241516287\n",
      "\n",
      "\n",
      "Novelty (average popularity rank): \n"
     ]
    },
    {
     "data": {
      "text/plain": [
       "110.2405207799522"
      ]
     },
     "execution_count": 50,
     "metadata": {},
     "output_type": "execute_result"
    }
   ],
   "source": [
    "## Hit rate by using top 10 predictions\n",
    "## how often we are able to recommend a left-out rating. Higher is better.\n",
    "print(f\"Hit Rate: \\n {rm.HitRate(topN_pred_svd, test_pred)}\\n\\n\")\n",
    "\n",
    "## Break down hit rate by rating value\n",
    "## \n",
    "print(\"rHR (Hit Rate by Rating value): \")\n",
    "rm.RatingHitRate(topN_pred_svd, test_pred)\n",
    "\n",
    "## See how often we recommended a movie the user actually liked\n",
    "## Cumulative Hit Rate; hit rate, confined to ratings above a certain threshold. Higher is better.\n",
    "print(f\"\\ncHR (Cumulative Hit Rate, rating >= 4): \\n {rm.CumulativeHitRate(topN_pred_svd, test_pred, 4.0)}\\n\\n\")\n",
    "\n",
    "## Compute ARHR\n",
    "## Average Reciprocal Hit Rank - Hit rate that takes the ranking into account. Higher is better.\n",
    "print(f\"ARHR (Average Reciprocal Hit Rank): \\n {rm.AverageReciprocalHitRank(topN_pred_svd, test_pred)}\\n\\n\")\n",
    "\n",
    "## Print user coverage with a minimum predicted rating of 4.0:\n",
    "## Ratio of users for whom recommendations above a certain threshold exist. Higher is better.\n",
    "print(f\"User coverage: \\n {rm.UserCoverage(topN_pred_svd, data_124.build_full_trainset().n_users, ratingThreshold=4.0)}\\n\\n\")\n",
    "\n",
    "## Measure diversity of recommendations:\n",
    "## 1-S, where S is the average similarity score between every possible pair of recommendations\n",
    "print(f\"Diversity: \\n {rm.Diversity(topN_pred_svd, svd)}\\n\\n\")\n",
    "\n",
    "## ranking for items\n",
    "rankings = rm.getPopularityRanks(amazon_ratings_124)\n",
    "\n",
    "## Measure novelty (average popularity rank of recommendations):\n",
    "## Average popularity rank of recommended items. Higher means more novel.\n",
    "print(\"Novelty (average popularity rank): \")\n",
    "rm.Novelty(topN_pred_svd, rankings)\n"
   ]
  },
  {
   "cell_type": "markdown",
   "metadata": {},
   "source": [
    "### 4.5 Performance Comparison with Memory-based and Model-based CF.\n"
   ]
  },
  {
   "cell_type": "markdown",
   "metadata": {},
   "source": [
    "Based on 5-fold cross-validation on the Amazon data, three algorithms (naive KNN, KNN with means, and KNN with z-score) of Memory-based CF were trained."
   ]
  },
  {
   "cell_type": "code",
   "execution_count": 158,
   "metadata": {},
   "outputs": [],
   "source": [
    "def precision_recall_at_k(predictions, k=10, threshold=4.0):\n",
    "    \"\"\"Return precision and recall at k metrics for each user\"\"\"\n",
    "\n",
    "    # First map the predictions to each user.\n",
    "    user_est_true = defaultdict(list)\n",
    "    for uid, _, true_r, est, _ in predictions:\n",
    "        user_est_true[uid].append((est, true_r))\n",
    "\n",
    "    precisions = dict()\n",
    "    recalls = dict()\n",
    "    for uid, user_ratings in user_est_true.items():\n",
    "\n",
    "        # Sort user ratings by estimated value\n",
    "        user_ratings.sort(key=lambda x: x[0], reverse=True)\n",
    "\n",
    "        # Number of relevant items\n",
    "        n_rel = sum((true_r >= threshold) for (_, true_r) in user_ratings)\n",
    "\n",
    "        # Number of recommended items in top k\n",
    "        n_rec_k = sum((est >= threshold) for (est, _) in user_ratings[:k])\n",
    "\n",
    "        # Number of relevant and recommended items in top k\n",
    "        n_rel_and_rec_k = sum(((true_r >= threshold) and (est >= threshold))\n",
    "                              for (est, true_r) in user_ratings[:k])\n",
    "\n",
    "        # Precision@K: Proportion of recommended items that are relevant\n",
    "        # When n_rec_k is 0, Precision is undefined. We here set it to 0.\n",
    "\n",
    "        precisions[uid] = n_rel_and_rec_k / n_rec_k if n_rec_k != 0 else 0\n",
    "\n",
    "        # Recall@K: Proportion of relevant items that are recommended\n",
    "        # When n_rel is 0, Recall is undefined. We here set it to 0.\n",
    "\n",
    "        recalls[uid] = n_rel_and_rec_k / n_rel if n_rel != 0 else 0\n",
    "\n",
    "    return precisions, recalls"
   ]
  },
  {
   "cell_type": "markdown",
   "metadata": {},
   "source": [
    "#### 4.5.1 RMSE and MAE Comparison\n"
   ]
  },
  {
   "cell_type": "code",
   "execution_count": 20,
   "metadata": {},
   "outputs": [],
   "source": [
    "from surprise import KNNBasic, KNNWithMeans, KNNWithZScore\n",
    "\n",
    "knn_cv = surprise.model_selection.validation.cross_validate(KNNBasic(), data_124, cv=5, n_jobs=5, verbose=False)\n",
    "knnmeans_cv = surprise.model_selection.validation.cross_validate(KNNWithMeans(), data_124, cv=5, n_jobs=5, verbose=False)\n",
    "knnz_cv = surprise.model_selection.validation.cross_validate(KNNWithZScore(), data_124, cv=5, n_jobs=5, verbose=False)\n"
   ]
  },
  {
   "cell_type": "markdown",
   "metadata": {},
   "source": [
    "Based on 5-fold cross-validation on the Amazon data, three algorithms (SVD, SVD++, and NMF(Non-negative Matrix Factorization)) of Model-based CF were trained."
   ]
  },
  {
   "cell_type": "code",
   "execution_count": 21,
   "metadata": {},
   "outputs": [],
   "source": [
    "from surprise import SVD, SVDpp, NMF\n",
    "\n",
    "svd_cv = surprise.model_selection.validation.cross_validate(SVD(), data_124, cv=5, n_jobs=5, verbose=False)\n",
    "svdpp_cv = surprise.model_selection.validation.cross_validate(SVDpp(), data_124, cv=5, n_jobs=5, verbose=False)\n",
    "nmf_cv = surprise.model_selection.validation.cross_validate(NMF(), data_124, cv=5, n_jobs=5, verbose=False)"
   ]
  },
  {
   "cell_type": "markdown",
   "metadata": {},
   "source": [
    "Compare algorithms based on RMSE and MAE."
   ]
  },
  {
   "cell_type": "code",
   "execution_count": 22,
   "metadata": {},
   "outputs": [
    {
     "name": "stdout",
     "output_type": "stream",
     "text": [
      "Algorithm\t RMSE\t MAE \n",
      "\n",
      "-------- Memory-based --------\n",
      "KNN\t\t 1.012\t0.656\n",
      "KNN Means\t 1.037\t0.638\n",
      "KNN Z-Score\t 1.037\t0.641\n",
      "\n",
      "-------- Model-based --------\n",
      "SVD\t\t 0.935\t0.651\n",
      "SVDpp\t\t 0.938\t0.634\n",
      "NMF\t\t 1.143\t0.866\n"
     ]
    }
   ],
   "source": [
    "## Memory-based\n",
    "knn_rmse, knn_mae = round(knn_cv['test_rmse'].mean(), 3), round(knn_cv['test_mae'].mean(), 3)\n",
    "knnmeans_rmse, knnmeans_mae = round(knnmeans_cv['test_rmse'].mean(), 3), round(knnmeans_cv['test_mae'].mean(), 3)\n",
    "knnz_rmse, knnz_mae = round(knnz_cv['test_rmse'].mean(), 3), round(knnz_cv['test_mae'].mean(), 3)\n",
    "## Model-based\n",
    "svd_rmse, svd_mae = round(svd_cv['test_rmse'].mean(), 3), round(svd_cv['test_mae'].mean(), 3)\n",
    "svdpp_rmse, svdpp_mae = round(svdpp_cv['test_rmse'].mean(), 3), round(svdpp_cv['test_mae'].mean(), 3)\n",
    "nmf_rmse, nmf_mae = round(nmf_cv['test_rmse'].mean(), 3), round(nmf_cv['test_mae'].mean(), 3)\n",
    "\n",
    "print('Algorithm\\t RMSE\\t MAE \\n')\n",
    "print('-------- Memory-based --------')\n",
    "print(f'KNN\\t\\t {knn_rmse}\\t{knn_mae}')\n",
    "print(f'KNN Means\\t {knnmeans_rmse}\\t{knnmeans_mae}')\n",
    "print(f'KNN Z-Score\\t {knnz_rmse}\\t{knnz_mae}\\n' )\n",
    "## Model-based\n",
    "print('-------- Model-based --------')\n",
    "print(f'SVD\\t\\t {svd_rmse}\\t{svd_mae}')\n",
    "print(f'SVDpp\\t\\t {svdpp_rmse}\\t{svdpp_mae}')\n",
    "print(f'NMF\\t\\t {nmf_rmse}\\t{nmf_mae}')"
   ]
  },
  {
   "cell_type": "code",
   "execution_count": 142,
   "metadata": {},
   "outputs": [
    {
     "data": {
      "image/png": "[encoded data removed]",
      "text/plain": [
       "<Figure size 864x288 with 2 Axes>"
      ]
     },
     "metadata": {
      "needs_background": "light"
     },
     "output_type": "display_data"
    }
   ],
   "source": [
    "x_algo = ['KNN', 'KNN μ', 'KNN Z', 'SVD', 'SVD++', 'NMF']\n",
    "all_algos_cv = [knn_cv, knnmeans_cv, knnz_cv, svd_cv, svdpp_cv, nmf_cv]\n",
    "\n",
    "rmse_cv = [round(res['test_rmse'].mean(), 3) for res in all_algos_cv]\n",
    "mae_cv = [round(res['test_mae'].mean(), 3) for res in all_algos_cv]\n",
    "\n",
    "fig, axes = plt.subplots(1,2, figsize=(12,4))\n",
    "\n",
    "axes[0].bar(x_algo, rmse_cv, label='RMSE', color='cyan', alpha=0.5)\n",
    "axes[0].set_title('Comparison of Algorithms on RMSE', loc='center', fontsize=15)\n",
    "axes[0].set_xlabel('Algorithms', fontsize=10)\n",
    "axes[0].set_ylabel('RMSE Value', fontsize=12)\n",
    "\n",
    "axes[1].bar(x_algo, mae_cv, label='MAE', color='red', alpha=0.5)\n",
    "axes[1].set_title('Comparison of Algorithms on MAE', loc='center', fontsize=15)\n",
    "axes[1].set_xlabel('Algorithms', fontsize=10)\n",
    "axes[1].set_ylabel('MAE Value', fontsize=12)\n",
    "\n",
    "plt.show()"
   ]
  },
  {
   "cell_type": "markdown",
   "metadata": {},
   "source": [
    "Since svd and svd++ are the bests for Amazon game data in RMSE or MAE metrics, we can tune the best parameters"
   ]
  },
  {
   "cell_type": "code",
   "execution_count": 48,
   "metadata": {},
   "outputs": [],
   "source": [
    "## Parameter space\n",
    "svd_param_grid = {'n_epochs': [15, 25], \n",
    "                  'lr_all': [0.007, 0.009, 0.01],\n",
    "                  'reg_all': [0.4, 0.6]}\n",
    "\n",
    "svdpp_gs = surprise.model_selection.GridSearchCV(SVDpp, svd_param_grid, measures=['rmse', 'mae'], cv=5, n_jobs=5)\n",
    "svdpp_gs.fit(data_124)\n",
    "\n",
    "svd_gs = surprise.model_selection.GridSearchCV(SVD, svd_param_grid, measures=['rmse', 'mae'], cv=5, n_jobs=5)\n",
    "svd_gs.fit(data_124)"
   ]
  },
  {
   "cell_type": "code",
   "execution_count": 51,
   "metadata": {},
   "outputs": [
    {
     "name": "stdout",
     "output_type": "stream",
     "text": [
      "-------- Best Param --------\n",
      "SVD++: {'n_epochs': 25, 'lr_all': 0.01, 'reg_all': 0.4}\n",
      "SVD: {'n_epochs': 25, 'lr_all': 0.01, 'reg_all': 0.4}\n",
      "\n",
      "-------- Best Error Score --------\n",
      "Algorithm\t RMSE\t MAE\n",
      "SVD++\t\t 0.924\t0.647\n",
      "SVD\t\t 0.925\t0.648\n"
     ]
    }
   ],
   "source": [
    "## SVD++ best param, best RMSE, best MAE\n",
    "svdpp_bestparam = svdpp_gs.best_params['rmse']\n",
    "svdpp_bestrmse = svdpp_gs.best_score['rmse']\n",
    "svdpp_bestmae = svdpp_gs.best_score['mae']\n",
    "\n",
    "## SVD best param, best RMSE, best MAE\n",
    "svd_bestparam = svd_gs.best_params['rmse'] \n",
    "svd_bestrmse = svd_gs.best_score['rmse']\n",
    "svd_bestmae = svd_gs.best_score['mae']\n",
    "\n",
    "print('-------- Best Param --------')\n",
    "print(f'SVD++: {svdpp_bestparam}')\n",
    "print(f'SVD: {svd_bestparam}\\n')\n",
    "\n",
    "print('-------- Best Error Score --------')\n",
    "print('Algorithm\\t RMSE\\t MAE')\n",
    "print(f'SVD++\\t\\t {round(svdpp_bestrmse, 3)}\\t{round(svdpp_bestmae, 3)}')\n",
    "print(f'SVD\\t\\t {round(svd_bestrmse, 3)}\\t{round(svd_bestmae, 3)}')\n"
   ]
  },
  {
   "cell_type": "markdown",
   "metadata": {},
   "source": [
    "However, it is not a good decision to rely on only one or two evalution metrics. let's look at how other metrics evaluates the models. "
   ]
  },
  {
   "cell_type": "code",
   "execution_count": 47,
   "metadata": {},
   "outputs": [
    {
     "name": "stdout",
     "output_type": "stream",
     "text": [
      "Estimating biases using als...\n",
      "Computing the pearson_baseline similarity matrix...\n",
      "Done computing similarity matrix.\n",
      "CPU times: user 161 ms, sys: 19.8 ms, total: 181 ms\n",
      "Wall time: 190 ms\n"
     ]
    },
    {
     "data": {
      "text/plain": [
       "<surprise.prediction_algorithms.knns.KNNBasic at 0x1bd1b0d90>"
      ]
     },
     "execution_count": 47,
     "metadata": {},
     "output_type": "execute_result"
    }
   ],
   "source": [
    "%%time\n",
    "## item-based KNN with pearson\n",
    "knn_cv = KNNBasic(k=5, sim_options={'name': 'pearson_baseline', 'user_based': False})\n",
    "knn_cv.fit(train_set)\n"
   ]
  },
  {
   "cell_type": "code",
   "execution_count": 48,
   "metadata": {},
   "outputs": [
    {
     "name": "stdout",
     "output_type": "stream",
     "text": [
      "CPU times: user 43.2 s, sys: 3.1 s, total: 46.3 s\n",
      "Wall time: 48.7 s\n"
     ]
    }
   ],
   "source": [
    "%%time\n",
    "test_pred_knn = knn_cv.test(test_set)\n",
    "antitestset_pred_knn = knn_cv.test(anti_testset)"
   ]
  },
  {
   "cell_type": "code",
   "execution_count": 49,
   "metadata": {},
   "outputs": [],
   "source": [
    "all_pred_knn = test_pred_knn+antitestset_pred_knn\n"
   ]
  },
  {
   "cell_type": "code",
   "execution_count": 50,
   "metadata": {},
   "outputs": [
    {
     "name": "stdout",
     "output_type": "stream",
     "text": [
      "(4603812, 4)\n"
     ]
    },
    {
     "data": {
      "text/html": [
       "<div>\n",
       "<style scoped>\n",
       "    .dataframe tbody tr th:only-of-type {\n",
       "        vertical-align: middle;\n",
       "    }\n",
       "\n",
       "    .dataframe tbody tr th {\n",
       "        vertical-align: top;\n",
       "    }\n",
       "\n",
       "    .dataframe thead th {\n",
       "        text-align: right;\n",
       "    }\n",
       "</style>\n",
       "<table border=\"1\" class=\"dataframe\">\n",
       "  <thead>\n",
       "    <tr style=\"text-align: right;\">\n",
       "      <th></th>\n",
       "      <th>reviewerID</th>\n",
       "      <th>asin</th>\n",
       "      <th>actual_rating</th>\n",
       "      <th>knn_predictions</th>\n",
       "    </tr>\n",
       "  </thead>\n",
       "  <tbody>\n",
       "    <tr>\n",
       "      <th>0</th>\n",
       "      <td>A3KF2QPB634EIA</td>\n",
       "      <td>B0015AARJI</td>\n",
       "      <td>5.0</td>\n",
       "      <td>4.493459</td>\n",
       "    </tr>\n",
       "    <tr>\n",
       "      <th>1</th>\n",
       "      <td>A2W1P0P5XCFA96</td>\n",
       "      <td>B00IAVDOS6</td>\n",
       "      <td>5.0</td>\n",
       "      <td>4.493459</td>\n",
       "    </tr>\n",
       "    <tr>\n",
       "      <th>2</th>\n",
       "      <td>AB2FYWHOGTRGF</td>\n",
       "      <td>B0011E4J2Y</td>\n",
       "      <td>5.0</td>\n",
       "      <td>4.493459</td>\n",
       "    </tr>\n",
       "  </tbody>\n",
       "</table>\n",
       "</div>"
      ],
      "text/plain": [
       "       reviewerID        asin  actual_rating  knn_predictions\n",
       "0  A3KF2QPB634EIA  B0015AARJI            5.0         4.493459\n",
       "1  A2W1P0P5XCFA96  B00IAVDOS6            5.0         4.493459\n",
       "2   AB2FYWHOGTRGF  B0011E4J2Y            5.0         4.493459"
      ]
     },
     "execution_count": 50,
     "metadata": {},
     "output_type": "execute_result"
    }
   ],
   "source": [
    "#test_pred, anti_testset_pred, all_pred_svd\n",
    "all_pred_df = pd.DataFrame(all_pred_knn)\n",
    "all_pred_df.drop(\"details\", inplace=True, axis=1)\n",
    "all_pred_df.columns = ['reviewerID', 'asin', 'actual_rating', 'knn_predictions']\n",
    "print(all_pred_df.shape)\n",
    "all_pred_df.head(3)"
   ]
  },
  {
   "cell_type": "code",
   "execution_count": 116,
   "metadata": {},
   "outputs": [
    {
     "name": "stdout",
     "output_type": "stream",
     "text": [
      "Estimating biases using als...\n",
      "Computing the pearson_baseline similarity matrix...\n",
      "Done computing similarity matrix.\n",
      "CPU times: user 165 ms, sys: 13.5 ms, total: 178 ms\n",
      "Wall time: 189 ms\n"
     ]
    },
    {
     "data": {
      "text/plain": [
       "<surprise.prediction_algorithms.knns.KNNWithMeans at 0x1b7cf4c70>"
      ]
     },
     "execution_count": 116,
     "metadata": {},
     "output_type": "execute_result"
    }
   ],
   "source": [
    "%%time\n",
    "## item-based mean centered KNN with pearson\n",
    "knnmeans_cv = KNNWithMeans(k=5, sim_options={'name': 'pearson_baseline', 'user_based': False})\n",
    "knnmeans_cv.fit(train_set)"
   ]
  },
  {
   "cell_type": "code",
   "execution_count": 117,
   "metadata": {},
   "outputs": [
    {
     "name": "stdout",
     "output_type": "stream",
     "text": [
      "CPU times: user 42 s, sys: 3.72 s, total: 45.7 s\n",
      "Wall time: 50.1 s\n"
     ]
    }
   ],
   "source": [
    "%%time\n",
    "test_pred_knnmeans = knn_cv.test(test_set)\n",
    "antitestset_pred_knnmeans = knn_cv.test(anti_testset)"
   ]
  },
  {
   "cell_type": "code",
   "execution_count": 118,
   "metadata": {},
   "outputs": [
    {
     "data": {
      "text/html": [
       "<div>\n",
       "<style scoped>\n",
       "    .dataframe tbody tr th:only-of-type {\n",
       "        vertical-align: middle;\n",
       "    }\n",
       "\n",
       "    .dataframe tbody tr th {\n",
       "        vertical-align: top;\n",
       "    }\n",
       "\n",
       "    .dataframe thead th {\n",
       "        text-align: right;\n",
       "    }\n",
       "</style>\n",
       "<table border=\"1\" class=\"dataframe\">\n",
       "  <thead>\n",
       "    <tr style=\"text-align: right;\">\n",
       "      <th></th>\n",
       "      <th>reviewerID</th>\n",
       "      <th>asin</th>\n",
       "      <th>actual_rating</th>\n",
       "      <th>knn_predictions</th>\n",
       "      <th>knnmeans_predictions</th>\n",
       "      <th>knnz_predictions</th>\n",
       "      <th>svd_predictions</th>\n",
       "      <th>svdpp_predictions</th>\n",
       "      <th>nmf_predictions</th>\n",
       "    </tr>\n",
       "  </thead>\n",
       "  <tbody>\n",
       "    <tr>\n",
       "      <th>0</th>\n",
       "      <td>A3KF2QPB634EIA</td>\n",
       "      <td>B0015AARJI</td>\n",
       "      <td>5.0</td>\n",
       "      <td>4.493459</td>\n",
       "      <td>4.522388</td>\n",
       "      <td>4.522388</td>\n",
       "      <td>4.359679</td>\n",
       "      <td>4.537424</td>\n",
       "      <td>3.252366</td>\n",
       "    </tr>\n",
       "    <tr>\n",
       "      <th>1</th>\n",
       "      <td>A2W1P0P5XCFA96</td>\n",
       "      <td>B00IAVDOS6</td>\n",
       "      <td>5.0</td>\n",
       "      <td>4.493459</td>\n",
       "      <td>4.493459</td>\n",
       "      <td>4.493459</td>\n",
       "      <td>4.218157</td>\n",
       "      <td>4.521832</td>\n",
       "      <td>4.493459</td>\n",
       "    </tr>\n",
       "    <tr>\n",
       "      <th>2</th>\n",
       "      <td>AB2FYWHOGTRGF</td>\n",
       "      <td>B0011E4J2Y</td>\n",
       "      <td>5.0</td>\n",
       "      <td>4.493459</td>\n",
       "      <td>4.712121</td>\n",
       "      <td>4.712121</td>\n",
       "      <td>4.840961</td>\n",
       "      <td>4.839819</td>\n",
       "      <td>4.502952</td>\n",
       "    </tr>\n",
       "  </tbody>\n",
       "</table>\n",
       "</div>"
      ],
      "text/plain": [
       "       reviewerID        asin  actual_rating  knn_predictions  \\\n",
       "0  A3KF2QPB634EIA  B0015AARJI            5.0         4.493459   \n",
       "1  A2W1P0P5XCFA96  B00IAVDOS6            5.0         4.493459   \n",
       "2   AB2FYWHOGTRGF  B0011E4J2Y            5.0         4.493459   \n",
       "\n",
       "   knnmeans_predictions  knnz_predictions  svd_predictions  svdpp_predictions  \\\n",
       "0              4.522388          4.522388         4.359679           4.537424   \n",
       "1              4.493459          4.493459         4.218157           4.521832   \n",
       "2              4.712121          4.712121         4.840961           4.839819   \n",
       "\n",
       "   nmf_predictions  \n",
       "0         3.252366  \n",
       "1         4.493459  \n",
       "2         4.502952  "
      ]
     },
     "execution_count": 118,
     "metadata": {},
     "output_type": "execute_result"
    }
   ],
   "source": [
    "all_pred_knnmeans = test_pred_knnmeans+antitestset_pred_knnmeans\n",
    "\n",
    "all_pred_df['knnmeans_predictions'] = pd.DataFrame(all_pred_knnmeans)['est']\n",
    "all_pred_df.head(3)"
   ]
  },
  {
   "cell_type": "code",
   "execution_count": 120,
   "metadata": {},
   "outputs": [
    {
     "name": "stdout",
     "output_type": "stream",
     "text": [
      "Estimating biases using als...\n",
      "Computing the pearson_baseline similarity matrix...\n",
      "Done computing similarity matrix.\n",
      "CPU times: user 201 ms, sys: 37.3 ms, total: 239 ms\n",
      "Wall time: 245 ms\n"
     ]
    },
    {
     "data": {
      "text/plain": [
       "<surprise.prediction_algorithms.knns.KNNWithZScore at 0x1b7cf4bb0>"
      ]
     },
     "execution_count": 120,
     "metadata": {},
     "output_type": "execute_result"
    }
   ],
   "source": [
    "%%time\n",
    "## item-based Z-score centered KNN with pearson\n",
    "knnz_cv = KNNWithZScore(k=5, sim_options={'name': 'pearson_baseline', 'user_based': False})\n",
    "knnz_cv.fit(train_set)\n"
   ]
  },
  {
   "cell_type": "code",
   "execution_count": 121,
   "metadata": {},
   "outputs": [
    {
     "name": "stdout",
     "output_type": "stream",
     "text": [
      "CPU times: user 48.8 s, sys: 30.9 s, total: 1min 19s\n",
      "Wall time: 1min 27s\n"
     ]
    }
   ],
   "source": [
    "%%time\n",
    "test_pred_knnz = knnz_cv.test(test_set)\n",
    "antitestset_pred_knnz = knnz_cv.test(anti_testset)"
   ]
  },
  {
   "cell_type": "code",
   "execution_count": 122,
   "metadata": {},
   "outputs": [
    {
     "data": {
      "text/html": [
       "<div>\n",
       "<style scoped>\n",
       "    .dataframe tbody tr th:only-of-type {\n",
       "        vertical-align: middle;\n",
       "    }\n",
       "\n",
       "    .dataframe tbody tr th {\n",
       "        vertical-align: top;\n",
       "    }\n",
       "\n",
       "    .dataframe thead th {\n",
       "        text-align: right;\n",
       "    }\n",
       "</style>\n",
       "<table border=\"1\" class=\"dataframe\">\n",
       "  <thead>\n",
       "    <tr style=\"text-align: right;\">\n",
       "      <th></th>\n",
       "      <th>reviewerID</th>\n",
       "      <th>asin</th>\n",
       "      <th>actual_rating</th>\n",
       "      <th>knn_predictions</th>\n",
       "      <th>knnmeans_predictions</th>\n",
       "      <th>knnz_predictions</th>\n",
       "      <th>svd_predictions</th>\n",
       "      <th>svdpp_predictions</th>\n",
       "      <th>nmf_predictions</th>\n",
       "    </tr>\n",
       "  </thead>\n",
       "  <tbody>\n",
       "    <tr>\n",
       "      <th>0</th>\n",
       "      <td>A3KF2QPB634EIA</td>\n",
       "      <td>B0015AARJI</td>\n",
       "      <td>5.0</td>\n",
       "      <td>4.493459</td>\n",
       "      <td>4.522388</td>\n",
       "      <td>4.522388</td>\n",
       "      <td>4.359679</td>\n",
       "      <td>4.537424</td>\n",
       "      <td>3.252366</td>\n",
       "    </tr>\n",
       "    <tr>\n",
       "      <th>1</th>\n",
       "      <td>A2W1P0P5XCFA96</td>\n",
       "      <td>B00IAVDOS6</td>\n",
       "      <td>5.0</td>\n",
       "      <td>4.493459</td>\n",
       "      <td>4.493459</td>\n",
       "      <td>4.493459</td>\n",
       "      <td>4.218157</td>\n",
       "      <td>4.521832</td>\n",
       "      <td>4.493459</td>\n",
       "    </tr>\n",
       "    <tr>\n",
       "      <th>2</th>\n",
       "      <td>AB2FYWHOGTRGF</td>\n",
       "      <td>B0011E4J2Y</td>\n",
       "      <td>5.0</td>\n",
       "      <td>4.493459</td>\n",
       "      <td>4.712121</td>\n",
       "      <td>4.712121</td>\n",
       "      <td>4.840961</td>\n",
       "      <td>4.839819</td>\n",
       "      <td>4.502952</td>\n",
       "    </tr>\n",
       "  </tbody>\n",
       "</table>\n",
       "</div>"
      ],
      "text/plain": [
       "       reviewerID        asin  actual_rating  knn_predictions  \\\n",
       "0  A3KF2QPB634EIA  B0015AARJI            5.0         4.493459   \n",
       "1  A2W1P0P5XCFA96  B00IAVDOS6            5.0         4.493459   \n",
       "2   AB2FYWHOGTRGF  B0011E4J2Y            5.0         4.493459   \n",
       "\n",
       "   knnmeans_predictions  knnz_predictions  svd_predictions  svdpp_predictions  \\\n",
       "0              4.522388          4.522388         4.359679           4.537424   \n",
       "1              4.493459          4.493459         4.218157           4.521832   \n",
       "2              4.712121          4.712121         4.840961           4.839819   \n",
       "\n",
       "   nmf_predictions  \n",
       "0         3.252366  \n",
       "1         4.493459  \n",
       "2         4.502952  "
      ]
     },
     "execution_count": 122,
     "metadata": {},
     "output_type": "execute_result"
    }
   ],
   "source": [
    "all_pred_knnz = test_pred_knnz+antitestset_pred_knnz\n",
    "\n",
    "all_pred_df['knnz_predictions'] = pd.DataFrame(all_pred_knnz)['est']\n",
    "all_pred_df.head(3)"
   ]
  },
  {
   "cell_type": "code",
   "execution_count": 123,
   "metadata": {},
   "outputs": [
    {
     "name": "stdout",
     "output_type": "stream",
     "text": [
      "CPU times: user 2.22 s, sys: 21.1 ms, total: 2.24 s\n",
      "Wall time: 2.29 s\n"
     ]
    },
    {
     "data": {
      "text/plain": [
       "<surprise.prediction_algorithms.matrix_factorization.SVD at 0x12a9ff430>"
      ]
     },
     "execution_count": 123,
     "metadata": {},
     "output_type": "execute_result"
    }
   ],
   "source": [
    "%%time\n",
    "## SVD\n",
    "svd_cv = SVD()\n",
    "svd_cv.fit(train_set)"
   ]
  },
  {
   "cell_type": "code",
   "execution_count": 124,
   "metadata": {},
   "outputs": [
    {
     "name": "stdout",
     "output_type": "stream",
     "text": [
      "CPU times: user 46.3 s, sys: 33 s, total: 1min 19s\n",
      "Wall time: 1min 35s\n"
     ]
    }
   ],
   "source": [
    "%%time\n",
    "test_pred_svd = svd_cv.test(test_set)\n",
    "antitestset_pred_svd = svd_cv.test(anti_testset)"
   ]
  },
  {
   "cell_type": "code",
   "execution_count": 125,
   "metadata": {},
   "outputs": [
    {
     "data": {
      "text/html": [
       "<div>\n",
       "<style scoped>\n",
       "    .dataframe tbody tr th:only-of-type {\n",
       "        vertical-align: middle;\n",
       "    }\n",
       "\n",
       "    .dataframe tbody tr th {\n",
       "        vertical-align: top;\n",
       "    }\n",
       "\n",
       "    .dataframe thead th {\n",
       "        text-align: right;\n",
       "    }\n",
       "</style>\n",
       "<table border=\"1\" class=\"dataframe\">\n",
       "  <thead>\n",
       "    <tr style=\"text-align: right;\">\n",
       "      <th></th>\n",
       "      <th>reviewerID</th>\n",
       "      <th>asin</th>\n",
       "      <th>actual_rating</th>\n",
       "      <th>knn_predictions</th>\n",
       "      <th>knnmeans_predictions</th>\n",
       "      <th>knnz_predictions</th>\n",
       "      <th>svd_predictions</th>\n",
       "      <th>svdpp_predictions</th>\n",
       "      <th>nmf_predictions</th>\n",
       "    </tr>\n",
       "  </thead>\n",
       "  <tbody>\n",
       "    <tr>\n",
       "      <th>0</th>\n",
       "      <td>A3KF2QPB634EIA</td>\n",
       "      <td>B0015AARJI</td>\n",
       "      <td>5.0</td>\n",
       "      <td>4.493459</td>\n",
       "      <td>4.522388</td>\n",
       "      <td>4.522388</td>\n",
       "      <td>4.441905</td>\n",
       "      <td>4.537424</td>\n",
       "      <td>3.252366</td>\n",
       "    </tr>\n",
       "    <tr>\n",
       "      <th>1</th>\n",
       "      <td>A2W1P0P5XCFA96</td>\n",
       "      <td>B00IAVDOS6</td>\n",
       "      <td>5.0</td>\n",
       "      <td>4.493459</td>\n",
       "      <td>4.493459</td>\n",
       "      <td>4.493459</td>\n",
       "      <td>4.247313</td>\n",
       "      <td>4.521832</td>\n",
       "      <td>4.493459</td>\n",
       "    </tr>\n",
       "    <tr>\n",
       "      <th>2</th>\n",
       "      <td>AB2FYWHOGTRGF</td>\n",
       "      <td>B0011E4J2Y</td>\n",
       "      <td>5.0</td>\n",
       "      <td>4.493459</td>\n",
       "      <td>4.712121</td>\n",
       "      <td>4.712121</td>\n",
       "      <td>4.560934</td>\n",
       "      <td>4.839819</td>\n",
       "      <td>4.502952</td>\n",
       "    </tr>\n",
       "  </tbody>\n",
       "</table>\n",
       "</div>"
      ],
      "text/plain": [
       "       reviewerID        asin  actual_rating  knn_predictions  \\\n",
       "0  A3KF2QPB634EIA  B0015AARJI            5.0         4.493459   \n",
       "1  A2W1P0P5XCFA96  B00IAVDOS6            5.0         4.493459   \n",
       "2   AB2FYWHOGTRGF  B0011E4J2Y            5.0         4.493459   \n",
       "\n",
       "   knnmeans_predictions  knnz_predictions  svd_predictions  svdpp_predictions  \\\n",
       "0              4.522388          4.522388         4.441905           4.537424   \n",
       "1              4.493459          4.493459         4.247313           4.521832   \n",
       "2              4.712121          4.712121         4.560934           4.839819   \n",
       "\n",
       "   nmf_predictions  \n",
       "0         3.252366  \n",
       "1         4.493459  \n",
       "2         4.502952  "
      ]
     },
     "execution_count": 125,
     "metadata": {},
     "output_type": "execute_result"
    }
   ],
   "source": [
    "all_pred_svd = test_pred_svd+antitestset_pred_svd\n",
    "\n",
    "all_pred_df['svd_predictions'] = pd.DataFrame(all_pred_svd)['est']\n",
    "all_pred_df.head(3)"
   ]
  },
  {
   "cell_type": "code",
   "execution_count": 126,
   "metadata": {},
   "outputs": [
    {
     "name": "stdout",
     "output_type": "stream",
     "text": [
      "CPU times: user 4.79 s, sys: 38.5 ms, total: 4.83 s\n",
      "Wall time: 5.02 s\n"
     ]
    },
    {
     "data": {
      "text/plain": [
       "<surprise.prediction_algorithms.matrix_factorization.SVDpp at 0x1bfc21be0>"
      ]
     },
     "execution_count": 126,
     "metadata": {},
     "output_type": "execute_result"
    }
   ],
   "source": [
    "%%time\n",
    "## SVD++\n",
    "svdpp_cv = SVDpp()\n",
    "svdpp_cv.fit(train_set)"
   ]
  },
  {
   "cell_type": "code",
   "execution_count": 127,
   "metadata": {},
   "outputs": [
    {
     "name": "stdout",
     "output_type": "stream",
     "text": [
      "CPU times: user 1min 20s, sys: 3.83 s, total: 1min 24s\n",
      "Wall time: 1min 28s\n"
     ]
    }
   ],
   "source": [
    "%%time\n",
    "test_pred_svdpp = svdpp_cv.test(test_set)\n",
    "antitestset_pred_svdpp = svdpp_cv.test(anti_testset)"
   ]
  },
  {
   "cell_type": "code",
   "execution_count": 128,
   "metadata": {},
   "outputs": [
    {
     "data": {
      "text/html": [
       "<div>\n",
       "<style scoped>\n",
       "    .dataframe tbody tr th:only-of-type {\n",
       "        vertical-align: middle;\n",
       "    }\n",
       "\n",
       "    .dataframe tbody tr th {\n",
       "        vertical-align: top;\n",
       "    }\n",
       "\n",
       "    .dataframe thead th {\n",
       "        text-align: right;\n",
       "    }\n",
       "</style>\n",
       "<table border=\"1\" class=\"dataframe\">\n",
       "  <thead>\n",
       "    <tr style=\"text-align: right;\">\n",
       "      <th></th>\n",
       "      <th>reviewerID</th>\n",
       "      <th>asin</th>\n",
       "      <th>actual_rating</th>\n",
       "      <th>knn_predictions</th>\n",
       "      <th>knnmeans_predictions</th>\n",
       "      <th>knnz_predictions</th>\n",
       "      <th>svd_predictions</th>\n",
       "      <th>svdpp_predictions</th>\n",
       "      <th>nmf_predictions</th>\n",
       "    </tr>\n",
       "  </thead>\n",
       "  <tbody>\n",
       "    <tr>\n",
       "      <th>0</th>\n",
       "      <td>A3KF2QPB634EIA</td>\n",
       "      <td>B0015AARJI</td>\n",
       "      <td>5.0</td>\n",
       "      <td>4.493459</td>\n",
       "      <td>4.522388</td>\n",
       "      <td>4.522388</td>\n",
       "      <td>4.441905</td>\n",
       "      <td>4.754650</td>\n",
       "      <td>3.252366</td>\n",
       "    </tr>\n",
       "    <tr>\n",
       "      <th>1</th>\n",
       "      <td>A2W1P0P5XCFA96</td>\n",
       "      <td>B00IAVDOS6</td>\n",
       "      <td>5.0</td>\n",
       "      <td>4.493459</td>\n",
       "      <td>4.493459</td>\n",
       "      <td>4.493459</td>\n",
       "      <td>4.247313</td>\n",
       "      <td>4.514325</td>\n",
       "      <td>4.493459</td>\n",
       "    </tr>\n",
       "    <tr>\n",
       "      <th>2</th>\n",
       "      <td>AB2FYWHOGTRGF</td>\n",
       "      <td>B0011E4J2Y</td>\n",
       "      <td>5.0</td>\n",
       "      <td>4.493459</td>\n",
       "      <td>4.712121</td>\n",
       "      <td>4.712121</td>\n",
       "      <td>4.560934</td>\n",
       "      <td>4.722014</td>\n",
       "      <td>4.502952</td>\n",
       "    </tr>\n",
       "  </tbody>\n",
       "</table>\n",
       "</div>"
      ],
      "text/plain": [
       "       reviewerID        asin  actual_rating  knn_predictions  \\\n",
       "0  A3KF2QPB634EIA  B0015AARJI            5.0         4.493459   \n",
       "1  A2W1P0P5XCFA96  B00IAVDOS6            5.0         4.493459   \n",
       "2   AB2FYWHOGTRGF  B0011E4J2Y            5.0         4.493459   \n",
       "\n",
       "   knnmeans_predictions  knnz_predictions  svd_predictions  svdpp_predictions  \\\n",
       "0              4.522388          4.522388         4.441905           4.754650   \n",
       "1              4.493459          4.493459         4.247313           4.514325   \n",
       "2              4.712121          4.712121         4.560934           4.722014   \n",
       "\n",
       "   nmf_predictions  \n",
       "0         3.252366  \n",
       "1         4.493459  \n",
       "2         4.502952  "
      ]
     },
     "execution_count": 128,
     "metadata": {},
     "output_type": "execute_result"
    }
   ],
   "source": [
    "all_pred_svdpp = test_pred_svdpp+antitestset_pred_svdpp\n",
    "\n",
    "all_pred_df['svdpp_predictions'] = pd.DataFrame(all_pred_svdpp)['est']\n",
    "all_pred_df.head(3)"
   ]
  },
  {
   "cell_type": "code",
   "execution_count": 129,
   "metadata": {},
   "outputs": [
    {
     "name": "stdout",
     "output_type": "stream",
     "text": [
      "CPU times: user 3.93 s, sys: 43.2 ms, total: 3.97 s\n",
      "Wall time: 4.25 s\n"
     ]
    },
    {
     "data": {
      "text/plain": [
       "<surprise.prediction_algorithms.matrix_factorization.NMF at 0x47219df10>"
      ]
     },
     "execution_count": 129,
     "metadata": {},
     "output_type": "execute_result"
    }
   ],
   "source": [
    "\n",
    "%%time\n",
    "## NMF\n",
    "nmf_cv = NMF()\n",
    "nmf_cv.fit(train_set)"
   ]
  },
  {
   "cell_type": "code",
   "execution_count": 130,
   "metadata": {},
   "outputs": [
    {
     "name": "stdout",
     "output_type": "stream",
     "text": [
      "CPU times: user 41.6 s, sys: 33.2 s, total: 1min 14s\n",
      "Wall time: 1min 29s\n"
     ]
    }
   ],
   "source": [
    "%%time\n",
    "test_pred_nmf = nmf_cv.test(test_set)\n",
    "antitestset_pred_nmf = nmf_cv.test(anti_testset)"
   ]
  },
  {
   "cell_type": "code",
   "execution_count": 131,
   "metadata": {},
   "outputs": [
    {
     "data": {
      "text/html": [
       "<div>\n",
       "<style scoped>\n",
       "    .dataframe tbody tr th:only-of-type {\n",
       "        vertical-align: middle;\n",
       "    }\n",
       "\n",
       "    .dataframe tbody tr th {\n",
       "        vertical-align: top;\n",
       "    }\n",
       "\n",
       "    .dataframe thead th {\n",
       "        text-align: right;\n",
       "    }\n",
       "</style>\n",
       "<table border=\"1\" class=\"dataframe\">\n",
       "  <thead>\n",
       "    <tr style=\"text-align: right;\">\n",
       "      <th></th>\n",
       "      <th>reviewerID</th>\n",
       "      <th>asin</th>\n",
       "      <th>actual_rating</th>\n",
       "      <th>knn_predictions</th>\n",
       "      <th>knnmeans_predictions</th>\n",
       "      <th>knnz_predictions</th>\n",
       "      <th>svd_predictions</th>\n",
       "      <th>svdpp_predictions</th>\n",
       "      <th>nmf_predictions</th>\n",
       "    </tr>\n",
       "  </thead>\n",
       "  <tbody>\n",
       "    <tr>\n",
       "      <th>0</th>\n",
       "      <td>A3KF2QPB634EIA</td>\n",
       "      <td>B0015AARJI</td>\n",
       "      <td>5.0</td>\n",
       "      <td>4.493459</td>\n",
       "      <td>4.522388</td>\n",
       "      <td>4.522388</td>\n",
       "      <td>4.441905</td>\n",
       "      <td>4.754650</td>\n",
       "      <td>4.193642</td>\n",
       "    </tr>\n",
       "    <tr>\n",
       "      <th>1</th>\n",
       "      <td>A2W1P0P5XCFA96</td>\n",
       "      <td>B00IAVDOS6</td>\n",
       "      <td>5.0</td>\n",
       "      <td>4.493459</td>\n",
       "      <td>4.493459</td>\n",
       "      <td>4.493459</td>\n",
       "      <td>4.247313</td>\n",
       "      <td>4.514325</td>\n",
       "      <td>4.493459</td>\n",
       "    </tr>\n",
       "    <tr>\n",
       "      <th>2</th>\n",
       "      <td>AB2FYWHOGTRGF</td>\n",
       "      <td>B0011E4J2Y</td>\n",
       "      <td>5.0</td>\n",
       "      <td>4.493459</td>\n",
       "      <td>4.712121</td>\n",
       "      <td>4.712121</td>\n",
       "      <td>4.560934</td>\n",
       "      <td>4.722014</td>\n",
       "      <td>4.156598</td>\n",
       "    </tr>\n",
       "  </tbody>\n",
       "</table>\n",
       "</div>"
      ],
      "text/plain": [
       "       reviewerID        asin  actual_rating  knn_predictions  \\\n",
       "0  A3KF2QPB634EIA  B0015AARJI            5.0         4.493459   \n",
       "1  A2W1P0P5XCFA96  B00IAVDOS6            5.0         4.493459   \n",
       "2   AB2FYWHOGTRGF  B0011E4J2Y            5.0         4.493459   \n",
       "\n",
       "   knnmeans_predictions  knnz_predictions  svd_predictions  svdpp_predictions  \\\n",
       "0              4.522388          4.522388         4.441905           4.754650   \n",
       "1              4.493459          4.493459         4.247313           4.514325   \n",
       "2              4.712121          4.712121         4.560934           4.722014   \n",
       "\n",
       "   nmf_predictions  \n",
       "0         4.193642  \n",
       "1         4.493459  \n",
       "2         4.156598  "
      ]
     },
     "execution_count": 131,
     "metadata": {},
     "output_type": "execute_result"
    }
   ],
   "source": [
    "all_pred_nmf = test_pred_nmf+antitestset_pred_nmf\n",
    "\n",
    "all_pred_df['nmf_predictions'] = pd.DataFrame(all_pred_nmf)['est']\n",
    "#topN_pred_svd = rm.GetTopN(all_pred_svd, n=10)\n",
    "all_pred_df.head(3)"
   ]
  },
  {
   "cell_type": "markdown",
   "metadata": {},
   "source": [
    "#### 4.5.2 Precision@k / Recall@k Comparison"
   ]
  },
  {
   "cell_type": "code",
   "execution_count": 204,
   "metadata": {},
   "outputs": [],
   "source": [
    "## KNN precision and Recall\n",
    "knn_precisions, knn_recalls = precision_recall_at_k(test_pred_knn, k=10, threshold=4)\n",
    "\n",
    "## Precision@10 and Recall can then be averaged over all users\n",
    "knn_precisions10 = sum(prec for prec in knn_precisions.values()) / len(knn_precisions)\n",
    "knn_recalls10 = sum(rec for rec in knn_recalls.values()) / len(knn_recalls)"
   ]
  },
  {
   "cell_type": "code",
   "execution_count": 205,
   "metadata": {},
   "outputs": [],
   "source": [
    "## KNN with Means precision and Recall\n",
    "knnmeans_precisions, knnmeans_recalls = precision_recall_at_k(test_pred_knnmeans, k=10, threshold=4)\n",
    "\n",
    "## Precision and Recall can then be averaged over all users\n",
    "knnmeans_precisions10 = sum(prec for prec in knnmeans_precisions.values()) / len(knnmeans_precisions)\n",
    "knnmeans_recalls10 = sum(rec for rec in knnmeans_recalls.values()) / len(knnmeans_recalls)"
   ]
  },
  {
   "cell_type": "code",
   "execution_count": 206,
   "metadata": {},
   "outputs": [],
   "source": [
    "## KNN with Z-score precision and Recall\n",
    "knnz_precisions, knnz_recalls = precision_recall_at_k(test_pred_knnz, k=10, threshold=4)\n",
    "\n",
    "## Precision@10 and Recall@10 can then be averaged over all users\n",
    "knnz_precisions10 = sum(prec for prec in knnz_precisions.values()) / len(knnz_precisions)\n",
    "knnz_recalls10 = sum(rec for rec in knnz_recalls.values()) / len(knnz_recalls)"
   ]
  },
  {
   "cell_type": "code",
   "execution_count": 207,
   "metadata": {},
   "outputs": [],
   "source": [
    "## SVD precision and Recall\n",
    "svd_precisions, svd_recalls = precision_recall_at_k(test_pred_svd, k=10, threshold=4)\n",
    "\n",
    "## Precision@10 and Recall@10 can then be averaged over all users\n",
    "svd_precisions10 = sum(prec for prec in svd_precisions.values()) / len(svd_precisions)\n",
    "svd_recalls10 = sum(rec for rec in svd_recalls.values()) / len(svd_recalls)"
   ]
  },
  {
   "cell_type": "code",
   "execution_count": 208,
   "metadata": {},
   "outputs": [],
   "source": [
    "## SVD++ precision and Recall\n",
    "svdpp_precisions, svdpp_recalls = precision_recall_at_k(test_pred_svdpp, k=10, threshold=4)\n",
    "\n",
    "## Precision@10 and Recall@10 can then be averaged over all users\n",
    "svdpp_precisions10 = sum(prec for prec in svdpp_precisions.values()) / len(svdpp_precisions)\n",
    "svdpp_recalls10 = sum(rec for rec in svdpp_recalls.values()) / len(svdpp_recalls)"
   ]
  },
  {
   "cell_type": "code",
   "execution_count": 209,
   "metadata": {},
   "outputs": [],
   "source": [
    "## NMF precision and Recall\n",
    "nmf_precisions, nmf_recalls = precision_recall_at_k(test_pred_nmf, k=10, threshold=4)\n",
    "\n",
    "## Precision@10 and Recall@10 can then be averaged over all users\n",
    "nmf_precisions10 = sum(prec for prec in nmf_precisions.values()) / len(nmf_precisions)\n",
    "nmf_recalls10 = sum(rec for rec in nmf_recalls.values()) / len(nmf_recalls)"
   ]
  },
  {
   "cell_type": "code",
   "execution_count": 185,
   "metadata": {},
   "outputs": [
    {
     "data": {
      "image/png": "[encoded data removed]",
      "text/plain": [
       "<Figure size 864x288 with 2 Axes>"
      ]
     },
     "metadata": {
      "needs_background": "light"
     },
     "output_type": "display_data"
    }
   ],
   "source": [
    "all_precision10s = [knn_precisions10, knnmeans_precisions10, knnz_precisions10, svd_precisions10, svdpp_precisions10, nmf_precisions10]\n",
    "all_recall10s = [knn_recalls10, knnmeans_recalls10, knnz_recalls10, svd_recalls10, svdpp_recalls10, nmf_recalls10]\n",
    "# x_algo = ['KNN', 'KNN μ', 'KNN Z', 'SVD', 'SVD++', 'NMF']\n",
    "fig, axes = plt.subplots(1,2, figsize=(12,4))\n",
    "\n",
    "axes[0].bar(x_algo, all_precision10s, label='Precision@10', color='olive', alpha=0.5)\n",
    "axes[0].set_title('Comparison of Algorithms on Precision@10', loc='center', fontsize=15)\n",
    "axes[0].set_xlabel('Algorithms', fontsize=10)\n",
    "axes[0].set_ylabel('Precision@10', fontsize=12)\n",
    "\n",
    "axes[1].bar(x_algo, all_recall10s, label='Recall@10', color='gold', alpha=0.5)\n",
    "axes[1].set_title('Comparison of Algorithms on Recall@10', loc='center', fontsize=15)\n",
    "axes[1].set_xlabel('Algorithms', fontsize=10)\n",
    "axes[1].set_ylabel('Recall@10', fontsize=12)\n",
    "\n",
    "plt.show()"
   ]
  },
  {
   "cell_type": "markdown",
   "metadata": {},
   "source": [
    "#### 4.5.3 Mean Average Recall Comparison\n"
   ]
  },
  {
   "cell_type": "markdown",
   "metadata": {},
   "source": [
    "Check RMSE and MAE with all the data (train_data + test_data) by recmetrics package"
   ]
  },
  {
   "cell_type": "code",
   "execution_count": 186,
   "metadata": {},
   "outputs": [
    {
     "name": "stdout",
     "output_type": "stream",
     "text": [
      "KNN\n",
      "\tMSE:  0.16265314907354436\n",
      "\tRMSE:  0.4033028007261348\n",
      "Mean Centered KNN\n",
      "\tMSE:  0.2107024028690293\n",
      "\tRMSE:  0.4590233140800468\n",
      "Z Centered KNN\n",
      "\tMSE:  0.2074050410681282\n",
      "\tRMSE:  0.45541743606072904\n",
      "SVD\n",
      "\tMSE:  0.10873906171374738\n",
      "\tRMSE:  0.3297560639529581\n",
      "SVD++\n",
      "\tMSE:  0.09322579313823443\n",
      "\tRMSE:  0.30532899164382415\n",
      "NMF\n",
      "\tMSE:  1.2573059926976924\n",
      "\tRMSE:  1.1212965676830071\n"
     ]
    }
   ],
   "source": [
    "import recmetrics\n",
    "\n",
    "print(\"KNN\")\n",
    "print(\"\\tMSE: \", recmetrics.mse(all_pred_df.actual_rating, all_pred_df.knn_predictions))\n",
    "print(\"\\tRMSE: \", recmetrics.rmse(all_pred_df.actual_rating, all_pred_df.knn_predictions))\n",
    "print(\"Mean Centered KNN\")\n",
    "print(\"\\tMSE: \", recmetrics.mse(all_pred_df.actual_rating, all_pred_df.knnmeans_predictions))\n",
    "print(\"\\tRMSE: \", recmetrics.rmse(all_pred_df.actual_rating, all_pred_df.knnmeans_predictions))\n",
    "print(\"Z Centered KNN\")\n",
    "print(\"\\tMSE: \", recmetrics.mse(all_pred_df.actual_rating, all_pred_df.knnz_predictions))\n",
    "print(\"\\tRMSE: \", recmetrics.rmse(all_pred_df.actual_rating, all_pred_df.knnz_predictions))\n",
    "print(\"SVD\")\n",
    "print(\"\\tMSE: \", recmetrics.mse(all_pred_df.actual_rating, all_pred_df.svd_predictions))\n",
    "print(\"\\tRMSE: \", recmetrics.rmse(all_pred_df.actual_rating, all_pred_df.svd_predictions))\n",
    "print(\"SVD++\")\n",
    "print(\"\\tMSE: \", recmetrics.mse(all_pred_df.actual_rating, all_pred_df.svdpp_predictions))\n",
    "print(\"\\tRMSE: \", recmetrics.rmse(all_pred_df.actual_rating, all_pred_df.svdpp_predictions))\n",
    "print(\"NMF\")\n",
    "print(\"\\tMSE: \", recmetrics.mse(all_pred_df.actual_rating, all_pred_df.nmf_predictions))\n",
    "print(\"\\tRMSE: \", recmetrics.rmse(all_pred_df.actual_rating, all_pred_df.nmf_predictions))"
   ]
  },
  {
   "cell_type": "code",
   "execution_count": 187,
   "metadata": {},
   "outputs": [],
   "source": [
    "## create KNN user-item matrix for prediction\n",
    "knn_user_item_pred = all_pred_df.pivot_table(index='reviewerID', columns='asin', values='knn_predictions').fillna(0)\n",
    "#knn_user_item_pred.iloc[:5,:5]\n",
    "\n",
    "## create KNN Mean user-item matrix for prediction\n",
    "knnmeans_user_item_pred = all_pred_df.pivot_table(index='reviewerID', columns='asin', values='knnmeans_predictions').fillna(0)\n",
    "#knnmeans_user_item_pred.iloc[:5,:5]\n",
    "\n",
    "## create KNN Z-score user-item matrix for prediction\n",
    "knnz_user_item_pred = all_pred_df.pivot_table(index='reviewerID', columns='asin', values='knnz_predictions').fillna(0)\n",
    "#knnz_user_item_pred.iloc[:5,:5]\n",
    "\n",
    "## create SVD user-item matrix for prediction\n",
    "svd_user_item_pred = all_pred_df.pivot_table(index='reviewerID', columns='asin', values='svd_predictions').fillna(0)\n",
    "#svd_user_item_pred.iloc[:5,:5]\n",
    "\n",
    "## create SVD++ user-item matrix for prediction\n",
    "svdpp_user_item_pred = all_pred_df.pivot_table(index='reviewerID', columns='asin', values='svdpp_predictions').fillna(0)\n",
    "#svdpp_user_item_pred.iloc[:5,:5]\n",
    "\n",
    "## create NMF user-item matrix for prediction\n",
    "nmf_user_item_pred = all_pred_df.pivot_table(index='reviewerID', columns='asin', values='nmf_predictions').fillna(0)\n",
    "#nmf_user_item_pred.iloc[:5,:5]"
   ]
  },
  {
   "cell_type": "code",
   "execution_count": 188,
   "metadata": {},
   "outputs": [],
   "source": [
    "def get_users_predictions(reviewerID, top_n, model):\n",
    "    recommended_items = pd.DataFrame(model.loc[reviewerID])\n",
    "    recommended_items.columns = [\"predicted_rating\"]\n",
    "    recommended_items = recommended_items.sort_values('predicted_rating', ascending=False)    \n",
    "    recommended_items = recommended_items.head(top_n)\n",
    "    return recommended_items.index.tolist()"
   ]
  },
  {
   "cell_type": "code",
   "execution_count": 189,
   "metadata": {},
   "outputs": [
    {
     "data": {
      "text/plain": [
       "['B0050SYV70', 'B0009VXBAQ', 'B00KOOUVNI', 'B00JF63SQI', 'B00JJNQG98']"
      ]
     },
     "execution_count": 189,
     "metadata": {},
     "output_type": "execute_result"
    }
   ],
   "source": [
    "## top-5 recommended item by KNN for user A1UNFBMDO0QKOA\n",
    "## NOTE: depending on items, we can subtract the items that user already bought\n",
    "get_users_predictions('A1UNFBMDO0QKOA', 5, knn_user_item_pred)"
   ]
  },
  {
   "cell_type": "code",
   "execution_count": 190,
   "metadata": {},
   "outputs": [
    {
     "data": {
      "text/html": [
       "<div>\n",
       "<style scoped>\n",
       "    .dataframe tbody tr th:only-of-type {\n",
       "        vertical-align: middle;\n",
       "    }\n",
       "\n",
       "    .dataframe tbody tr th {\n",
       "        vertical-align: top;\n",
       "    }\n",
       "\n",
       "    .dataframe thead th {\n",
       "        text-align: right;\n",
       "    }\n",
       "</style>\n",
       "<table border=\"1\" class=\"dataframe\">\n",
       "  <thead>\n",
       "    <tr style=\"text-align: right;\">\n",
       "      <th></th>\n",
       "      <th>reviewerID</th>\n",
       "      <th>actual_rating</th>\n",
       "      <th>knn_predictions</th>\n",
       "      <th>knnmeans_predictions</th>\n",
       "      <th>knnz_predictions</th>\n",
       "      <th>svd_predictions</th>\n",
       "      <th>svdpp_predictions</th>\n",
       "      <th>nmf_predictions</th>\n",
       "    </tr>\n",
       "  </thead>\n",
       "  <tbody>\n",
       "    <tr>\n",
       "      <th>0</th>\n",
       "      <td>A0220159ZRNBTRKLG08H</td>\n",
       "      <td>[B000P46NMA, B00DC7G2W8, B00DHF3BZQ, B00K848IH...</td>\n",
       "      <td>[B0009VXBAQ, B000TLU67W, B00GANWVJE, B00KOOUVN...</td>\n",
       "      <td>[B00GANWVJE, B000TLU67W, B0009VXBAQ, B0017KIBA...</td>\n",
       "      <td>[B0009VXBAQ, B00GANWVJE, B000TLU67W, B0017KIBA...</td>\n",
       "      <td>[B00N4ABT1C, B00JQHU9RC, B00L59D9HG, B0017KIBA...</td>\n",
       "      <td>[B0017KIBAI, B00BGA9WK2, B0053BCML6, B00WTI3JP...</td>\n",
       "      <td>[B00DUARBTA, B00HLT0YT0, B00KVOVBGM, B00GMFKYK...</td>\n",
       "    </tr>\n",
       "    <tr>\n",
       "      <th>1</th>\n",
       "      <td>A0277912HT4JSJKVSL3E</td>\n",
       "      <td>[B000P46NMA, B00DC7G2W8, B00DHF3BZQ, B00K848IH...</td>\n",
       "      <td>[B0009VXBAQ, B00KAED850, B00IAVDOS6, B00IQCRKW...</td>\n",
       "      <td>[B0017KIBAI, B00GANWVJE, B00AKIPBNS, B000ERVMI...</td>\n",
       "      <td>[B0017KIBAI, B00GANWVJE, B00AKIPBNS, B000ERVMI...</td>\n",
       "      <td>[B00DD0B1R0, B00AKIPBNS, B00DC7G2W8, B0017Q4DG...</td>\n",
       "      <td>[B0017KIBAI, B00PB9LZQI, B0029LJIFG, B002I0H79...</td>\n",
       "      <td>[B00AKIPBNS, B00BMFIXKQ, B00YQ1NOPM, B00YQM1PN...</td>\n",
       "    </tr>\n",
       "    <tr>\n",
       "      <th>2</th>\n",
       "      <td>A02836981FYG9912C66F</td>\n",
       "      <td>[B000P46NMA, B00DC7G2W8, B00DHF3BZQ, B00K848IH...</td>\n",
       "      <td>[B0009VXBAQ, B00IVJ1M7M, B00GV4V8XC, B00GZ1GUS...</td>\n",
       "      <td>[B0017KIBAI, B00GANWVJE, B00AKIPBNS, B000ERVMI...</td>\n",
       "      <td>[B0017KIBAI, B00GANWVJE, B00AKIPBNS, B000ERVMI...</td>\n",
       "      <td>[B003ZSP0WW, B0017KIBAI, B00GANWVJE, B00DC7G2W...</td>\n",
       "      <td>[B00BGA9WK2, B00WTI3JPE, B000FRU0NU, B0017KIBA...</td>\n",
       "      <td>[B00K848IH0, B00N4ABT1C, B00BGA9X9W, B002B9XB0...</td>\n",
       "    </tr>\n",
       "  </tbody>\n",
       "</table>\n",
       "</div>"
      ],
      "text/plain": [
       "             reviewerID                                      actual_rating  \\\n",
       "0  A0220159ZRNBTRKLG08H  [B000P46NMA, B00DC7G2W8, B00DHF3BZQ, B00K848IH...   \n",
       "1  A0277912HT4JSJKVSL3E  [B000P46NMA, B00DC7G2W8, B00DHF3BZQ, B00K848IH...   \n",
       "2  A02836981FYG9912C66F  [B000P46NMA, B00DC7G2W8, B00DHF3BZQ, B00K848IH...   \n",
       "\n",
       "                                     knn_predictions  \\\n",
       "0  [B0009VXBAQ, B000TLU67W, B00GANWVJE, B00KOOUVN...   \n",
       "1  [B0009VXBAQ, B00KAED850, B00IAVDOS6, B00IQCRKW...   \n",
       "2  [B0009VXBAQ, B00IVJ1M7M, B00GV4V8XC, B00GZ1GUS...   \n",
       "\n",
       "                                knnmeans_predictions  \\\n",
       "0  [B00GANWVJE, B000TLU67W, B0009VXBAQ, B0017KIBA...   \n",
       "1  [B0017KIBAI, B00GANWVJE, B00AKIPBNS, B000ERVMI...   \n",
       "2  [B0017KIBAI, B00GANWVJE, B00AKIPBNS, B000ERVMI...   \n",
       "\n",
       "                                    knnz_predictions  \\\n",
       "0  [B0009VXBAQ, B00GANWVJE, B000TLU67W, B0017KIBA...   \n",
       "1  [B0017KIBAI, B00GANWVJE, B00AKIPBNS, B000ERVMI...   \n",
       "2  [B0017KIBAI, B00GANWVJE, B00AKIPBNS, B000ERVMI...   \n",
       "\n",
       "                                     svd_predictions  \\\n",
       "0  [B00N4ABT1C, B00JQHU9RC, B00L59D9HG, B0017KIBA...   \n",
       "1  [B00DD0B1R0, B00AKIPBNS, B00DC7G2W8, B0017Q4DG...   \n",
       "2  [B003ZSP0WW, B0017KIBAI, B00GANWVJE, B00DC7G2W...   \n",
       "\n",
       "                                   svdpp_predictions  \\\n",
       "0  [B0017KIBAI, B00BGA9WK2, B0053BCML6, B00WTI3JP...   \n",
       "1  [B0017KIBAI, B00PB9LZQI, B0029LJIFG, B002I0H79...   \n",
       "2  [B00BGA9WK2, B00WTI3JPE, B000FRU0NU, B0017KIBA...   \n",
       "\n",
       "                                     nmf_predictions  \n",
       "0  [B00DUARBTA, B00HLT0YT0, B00KVOVBGM, B00GMFKYK...  \n",
       "1  [B00AKIPBNS, B00BMFIXKQ, B00YQ1NOPM, B00YQM1PN...  \n",
       "2  [B00K848IH0, B00N4ABT1C, B00BGA9X9W, B002B9XB0...  "
      ]
     },
     "execution_count": 190,
     "metadata": {},
     "output_type": "execute_result"
    }
   ],
   "source": [
    "## Find the top-10 recommendations and insert them in all users. \n",
    "rec_items = all_pred_df.copy().groupby('reviewerID', as_index=False)['asin'].agg({'actual_rating': (lambda x: list(set(x)))})\n",
    "#rec_items = rec_items.set_index(\"reviewerID\")\n",
    "\n",
    "## top-10 KNN Recommendations for all users.\n",
    "knn_recs = []\n",
    "for reviewerID in rec_items['reviewerID']:\n",
    "    knn_pred = get_users_predictions(reviewerID, 10, knn_user_item_pred)\n",
    "    knn_recs.append(knn_pred)\n",
    "\n",
    "rec_items['knn_predictions'] = knn_recs\n",
    "\n",
    "## top-10 KNN with Mean Recommendations for all users.\n",
    "knnmeans_recs = []\n",
    "for reviewerID in rec_items['reviewerID']:\n",
    "    knnmeans_pred = get_users_predictions(reviewerID, 10, knnmeans_user_item_pred)\n",
    "    knnmeans_recs.append(knnmeans_pred)\n",
    "\n",
    "rec_items['knnmeans_predictions'] = knnmeans_recs\n",
    "\n",
    "## top-10 KNN with Z-score Recommendations for all users.\n",
    "knnz_recs = []\n",
    "for reviewerID in rec_items['reviewerID']:\n",
    "    knnz_pred = get_users_predictions(reviewerID, 10, knnz_user_item_pred)\n",
    "    knnz_recs.append(knnz_pred)\n",
    "\n",
    "rec_items['knnz_predictions'] = knnz_recs\n",
    "\n",
    "## top-10 SVD Recommendations for all users.\n",
    "svd_recs = []\n",
    "for reviewerID in rec_items['reviewerID']:\n",
    "    svd_pred = get_users_predictions(reviewerID, 10, svd_user_item_pred)\n",
    "    svd_recs.append(svd_pred)\n",
    "\n",
    "rec_items['svd_predictions'] = svd_recs\n",
    "\n",
    "## top-10 SVD++ Recommendations for all users.\n",
    "svdpp_recs = []\n",
    "for reviewerID in rec_items['reviewerID']:\n",
    "    svdpp_pred = get_users_predictions(reviewerID, 10, svdpp_user_item_pred)\n",
    "    svdpp_recs.append(svdpp_pred)\n",
    "    \n",
    "rec_items['svdpp_predictions'] = svdpp_recs\n",
    "\n",
    "## top-10 NMF Recommendations for all users.\n",
    "nmf_recs = []\n",
    "for reviewerID in rec_items['reviewerID']:\n",
    "    nmf_pred = get_users_predictions(reviewerID, 10, nmf_user_item_pred)\n",
    "    nmf_recs.append(nmf_pred)\n",
    "\n",
    "rec_items['nmf_predictions'] = nmf_recs\n",
    "\n",
    "rec_items.head(3)"
   ]
  },
  {
   "cell_type": "markdown",
   "metadata": {},
   "source": [
    "Creating a simple popularity recommender to demonstrate recommender metrics in action. The popularity recommender simply recommends top-10 items to every user."
   ]
  },
  {
   "cell_type": "code",
   "execution_count": 191,
   "metadata": {},
   "outputs": [
    {
     "data": {
      "text/html": [
       "<div>\n",
       "<style scoped>\n",
       "    .dataframe tbody tr th:only-of-type {\n",
       "        vertical-align: middle;\n",
       "    }\n",
       "\n",
       "    .dataframe tbody tr th {\n",
       "        vertical-align: top;\n",
       "    }\n",
       "\n",
       "    .dataframe thead th {\n",
       "        text-align: right;\n",
       "    }\n",
       "</style>\n",
       "<table border=\"1\" class=\"dataframe\">\n",
       "  <thead>\n",
       "    <tr style=\"text-align: right;\">\n",
       "      <th></th>\n",
       "      <th>reviewerID</th>\n",
       "      <th>actual_rating</th>\n",
       "      <th>knn_predictions</th>\n",
       "      <th>knnmeans_predictions</th>\n",
       "      <th>knnz_predictions</th>\n",
       "      <th>svd_predictions</th>\n",
       "      <th>svdpp_predictions</th>\n",
       "      <th>nmf_predictions</th>\n",
       "      <th>pop_predictions</th>\n",
       "    </tr>\n",
       "  </thead>\n",
       "  <tbody>\n",
       "    <tr>\n",
       "      <th>0</th>\n",
       "      <td>A0220159ZRNBTRKLG08H</td>\n",
       "      <td>[B000P46NMA, B00DC7G2W8, B00DHF3BZQ, B00K848IH...</td>\n",
       "      <td>[B0009VXBAQ, B000TLU67W, B00GANWVJE, B00KOOUVN...</td>\n",
       "      <td>[B00GANWVJE, B000TLU67W, B0009VXBAQ, B0017KIBA...</td>\n",
       "      <td>[B0009VXBAQ, B00GANWVJE, B000TLU67W, B0017KIBA...</td>\n",
       "      <td>[B00N4ABT1C, B00JQHU9RC, B00L59D9HG, B0017KIBA...</td>\n",
       "      <td>[B0017KIBAI, B00BGA9WK2, B0053BCML6, B00WTI3JP...</td>\n",
       "      <td>[B00DUARBTA, B00HLT0YT0, B00KVOVBGM, B00GMFKYK...</td>\n",
       "      <td>[B00JK00S0S, B003ZSP0WW, B00N4ABT1C, B00DBDPOZ...</td>\n",
       "    </tr>\n",
       "    <tr>\n",
       "      <th>1</th>\n",
       "      <td>A0277912HT4JSJKVSL3E</td>\n",
       "      <td>[B000P46NMA, B00DC7G2W8, B00DHF3BZQ, B00K848IH...</td>\n",
       "      <td>[B0009VXBAQ, B00KAED850, B00IAVDOS6, B00IQCRKW...</td>\n",
       "      <td>[B0017KIBAI, B00GANWVJE, B00AKIPBNS, B000ERVMI...</td>\n",
       "      <td>[B0017KIBAI, B00GANWVJE, B00AKIPBNS, B000ERVMI...</td>\n",
       "      <td>[B00DD0B1R0, B00AKIPBNS, B00DC7G2W8, B0017Q4DG...</td>\n",
       "      <td>[B0017KIBAI, B00PB9LZQI, B0029LJIFG, B002I0H79...</td>\n",
       "      <td>[B00AKIPBNS, B00BMFIXKQ, B00YQ1NOPM, B00YQM1PN...</td>\n",
       "      <td>[B00JK00S0S, B003ZSP0WW, B00N4ABT1C, B00DBDPOZ...</td>\n",
       "    </tr>\n",
       "    <tr>\n",
       "      <th>2</th>\n",
       "      <td>A02836981FYG9912C66F</td>\n",
       "      <td>[B000P46NMA, B00DC7G2W8, B00DHF3BZQ, B00K848IH...</td>\n",
       "      <td>[B0009VXBAQ, B00IVJ1M7M, B00GV4V8XC, B00GZ1GUS...</td>\n",
       "      <td>[B0017KIBAI, B00GANWVJE, B00AKIPBNS, B000ERVMI...</td>\n",
       "      <td>[B0017KIBAI, B00GANWVJE, B00AKIPBNS, B000ERVMI...</td>\n",
       "      <td>[B003ZSP0WW, B0017KIBAI, B00GANWVJE, B00DC7G2W...</td>\n",
       "      <td>[B00BGA9WK2, B00WTI3JPE, B000FRU0NU, B0017KIBA...</td>\n",
       "      <td>[B00K848IH0, B00N4ABT1C, B00BGA9X9W, B002B9XB0...</td>\n",
       "      <td>[B00JK00S0S, B003ZSP0WW, B00N4ABT1C, B00DBDPOZ...</td>\n",
       "    </tr>\n",
       "  </tbody>\n",
       "</table>\n",
       "</div>"
      ],
      "text/plain": [
       "             reviewerID                                      actual_rating  \\\n",
       "0  A0220159ZRNBTRKLG08H  [B000P46NMA, B00DC7G2W8, B00DHF3BZQ, B00K848IH...   \n",
       "1  A0277912HT4JSJKVSL3E  [B000P46NMA, B00DC7G2W8, B00DHF3BZQ, B00K848IH...   \n",
       "2  A02836981FYG9912C66F  [B000P46NMA, B00DC7G2W8, B00DHF3BZQ, B00K848IH...   \n",
       "\n",
       "                                     knn_predictions  \\\n",
       "0  [B0009VXBAQ, B000TLU67W, B00GANWVJE, B00KOOUVN...   \n",
       "1  [B0009VXBAQ, B00KAED850, B00IAVDOS6, B00IQCRKW...   \n",
       "2  [B0009VXBAQ, B00IVJ1M7M, B00GV4V8XC, B00GZ1GUS...   \n",
       "\n",
       "                                knnmeans_predictions  \\\n",
       "0  [B00GANWVJE, B000TLU67W, B0009VXBAQ, B0017KIBA...   \n",
       "1  [B0017KIBAI, B00GANWVJE, B00AKIPBNS, B000ERVMI...   \n",
       "2  [B0017KIBAI, B00GANWVJE, B00AKIPBNS, B000ERVMI...   \n",
       "\n",
       "                                    knnz_predictions  \\\n",
       "0  [B0009VXBAQ, B00GANWVJE, B000TLU67W, B0017KIBA...   \n",
       "1  [B0017KIBAI, B00GANWVJE, B00AKIPBNS, B000ERVMI...   \n",
       "2  [B0017KIBAI, B00GANWVJE, B00AKIPBNS, B000ERVMI...   \n",
       "\n",
       "                                     svd_predictions  \\\n",
       "0  [B00N4ABT1C, B00JQHU9RC, B00L59D9HG, B0017KIBA...   \n",
       "1  [B00DD0B1R0, B00AKIPBNS, B00DC7G2W8, B0017Q4DG...   \n",
       "2  [B003ZSP0WW, B0017KIBAI, B00GANWVJE, B00DC7G2W...   \n",
       "\n",
       "                                   svdpp_predictions  \\\n",
       "0  [B0017KIBAI, B00BGA9WK2, B0053BCML6, B00WTI3JP...   \n",
       "1  [B0017KIBAI, B00PB9LZQI, B0029LJIFG, B002I0H79...   \n",
       "2  [B00BGA9WK2, B00WTI3JPE, B000FRU0NU, B0017KIBA...   \n",
       "\n",
       "                                     nmf_predictions  \\\n",
       "0  [B00DUARBTA, B00HLT0YT0, B00KVOVBGM, B00GMFKYK...   \n",
       "1  [B00AKIPBNS, B00BMFIXKQ, B00YQ1NOPM, B00YQM1PN...   \n",
       "2  [B00K848IH0, B00N4ABT1C, B00BGA9X9W, B002B9XB0...   \n",
       "\n",
       "                                     pop_predictions  \n",
       "0  [B00JK00S0S, B003ZSP0WW, B00N4ABT1C, B00DBDPOZ...  \n",
       "1  [B00JK00S0S, B003ZSP0WW, B00N4ABT1C, B00DBDPOZ...  \n",
       "2  [B00JK00S0S, B003ZSP0WW, B00N4ABT1C, B00DBDPOZ...  "
      ]
     },
     "execution_count": 191,
     "metadata": {},
     "output_type": "execute_result"
    }
   ],
   "source": [
    "## make popularity recommendations for all users \n",
    "popularity_recs = amazon_ratings_124.asin.value_counts().head(10).index.tolist()\n",
    "\n",
    "pop_recs = []\n",
    "for _ in rec_items['reviewerID']:\n",
    "    pop_predictions = popularity_recs\n",
    "    pop_recs.append(pop_predictions)\n",
    "        \n",
    "rec_items['pop_predictions'] = pop_recs\n",
    "rec_items.head(3)"
   ]
  },
  {
   "cell_type": "markdown",
   "metadata": {},
   "source": [
    "Creating a simple random recommender to demonstrate recommender metrics in action. The random recommender simply recommends 10 random items to every user."
   ]
  },
  {
   "cell_type": "code",
   "execution_count": 192,
   "metadata": {},
   "outputs": [
    {
     "data": {
      "text/html": [
       "<div>\n",
       "<style scoped>\n",
       "    .dataframe tbody tr th:only-of-type {\n",
       "        vertical-align: middle;\n",
       "    }\n",
       "\n",
       "    .dataframe tbody tr th {\n",
       "        vertical-align: top;\n",
       "    }\n",
       "\n",
       "    .dataframe thead th {\n",
       "        text-align: right;\n",
       "    }\n",
       "</style>\n",
       "<table border=\"1\" class=\"dataframe\">\n",
       "  <thead>\n",
       "    <tr style=\"text-align: right;\">\n",
       "      <th></th>\n",
       "      <th>reviewerID</th>\n",
       "      <th>actual_rating</th>\n",
       "      <th>knn_predictions</th>\n",
       "      <th>knnmeans_predictions</th>\n",
       "      <th>knnz_predictions</th>\n",
       "      <th>svd_predictions</th>\n",
       "      <th>svdpp_predictions</th>\n",
       "      <th>nmf_predictions</th>\n",
       "      <th>pop_predictions</th>\n",
       "      <th>random_predictions</th>\n",
       "    </tr>\n",
       "  </thead>\n",
       "  <tbody>\n",
       "    <tr>\n",
       "      <th>0</th>\n",
       "      <td>A0220159ZRNBTRKLG08H</td>\n",
       "      <td>[B000P46NMA, B00DC7G2W8, B00DHF3BZQ, B00K848IH...</td>\n",
       "      <td>[B0009VXBAQ, B000TLU67W, B00GANWVJE, B00KOOUVN...</td>\n",
       "      <td>[B00GANWVJE, B000TLU67W, B0009VXBAQ, B0017KIBA...</td>\n",
       "      <td>[B0009VXBAQ, B00GANWVJE, B000TLU67W, B0017KIBA...</td>\n",
       "      <td>[B00N4ABT1C, B00JQHU9RC, B00L59D9HG, B0017KIBA...</td>\n",
       "      <td>[B0017KIBAI, B00BGA9WK2, B0053BCML6, B00WTI3JP...</td>\n",
       "      <td>[B00DUARBTA, B00HLT0YT0, B00KVOVBGM, B00GMFKYK...</td>\n",
       "      <td>[B00JK00S0S, B003ZSP0WW, B00N4ABT1C, B00DBDPOZ...</td>\n",
       "      <td>[B00DD0B0BM, B00I19TYW2, B00MYTSDU4, B00KKAQYX...</td>\n",
       "    </tr>\n",
       "    <tr>\n",
       "      <th>1</th>\n",
       "      <td>A0277912HT4JSJKVSL3E</td>\n",
       "      <td>[B000P46NMA, B00DC7G2W8, B00DHF3BZQ, B00K848IH...</td>\n",
       "      <td>[B0009VXBAQ, B00KAED850, B00IAVDOS6, B00IQCRKW...</td>\n",
       "      <td>[B0017KIBAI, B00GANWVJE, B00AKIPBNS, B000ERVMI...</td>\n",
       "      <td>[B0017KIBAI, B00GANWVJE, B00AKIPBNS, B000ERVMI...</td>\n",
       "      <td>[B00DD0B1R0, B00AKIPBNS, B00DC7G2W8, B0017Q4DG...</td>\n",
       "      <td>[B0017KIBAI, B00PB9LZQI, B0029LJIFG, B002I0H79...</td>\n",
       "      <td>[B00AKIPBNS, B00BMFIXKQ, B00YQ1NOPM, B00YQM1PN...</td>\n",
       "      <td>[B00JK00S0S, B003ZSP0WW, B00N4ABT1C, B00DBDPOZ...</td>\n",
       "      <td>[B00AAS888S, B00JF63SQI, B006ZTHFPS, B016KBVBC...</td>\n",
       "    </tr>\n",
       "    <tr>\n",
       "      <th>2</th>\n",
       "      <td>A02836981FYG9912C66F</td>\n",
       "      <td>[B000P46NMA, B00DC7G2W8, B00DHF3BZQ, B00K848IH...</td>\n",
       "      <td>[B0009VXBAQ, B00IVJ1M7M, B00GV4V8XC, B00GZ1GUS...</td>\n",
       "      <td>[B0017KIBAI, B00GANWVJE, B00AKIPBNS, B000ERVMI...</td>\n",
       "      <td>[B0017KIBAI, B00GANWVJE, B00AKIPBNS, B000ERVMI...</td>\n",
       "      <td>[B003ZSP0WW, B0017KIBAI, B00GANWVJE, B00DC7G2W...</td>\n",
       "      <td>[B00BGA9WK2, B00WTI3JPE, B000FRU0NU, B0017KIBA...</td>\n",
       "      <td>[B00K848IH0, B00N4ABT1C, B00BGA9X9W, B002B9XB0...</td>\n",
       "      <td>[B00JK00S0S, B003ZSP0WW, B00N4ABT1C, B00DBDPOZ...</td>\n",
       "      <td>[B00JKM06HG, B00SN1QEGW, B00Z9LUDX4, B00DD0B1R...</td>\n",
       "    </tr>\n",
       "  </tbody>\n",
       "</table>\n",
       "</div>"
      ],
      "text/plain": [
       "             reviewerID                                      actual_rating  \\\n",
       "0  A0220159ZRNBTRKLG08H  [B000P46NMA, B00DC7G2W8, B00DHF3BZQ, B00K848IH...   \n",
       "1  A0277912HT4JSJKVSL3E  [B000P46NMA, B00DC7G2W8, B00DHF3BZQ, B00K848IH...   \n",
       "2  A02836981FYG9912C66F  [B000P46NMA, B00DC7G2W8, B00DHF3BZQ, B00K848IH...   \n",
       "\n",
       "                                     knn_predictions  \\\n",
       "0  [B0009VXBAQ, B000TLU67W, B00GANWVJE, B00KOOUVN...   \n",
       "1  [B0009VXBAQ, B00KAED850, B00IAVDOS6, B00IQCRKW...   \n",
       "2  [B0009VXBAQ, B00IVJ1M7M, B00GV4V8XC, B00GZ1GUS...   \n",
       "\n",
       "                                knnmeans_predictions  \\\n",
       "0  [B00GANWVJE, B000TLU67W, B0009VXBAQ, B0017KIBA...   \n",
       "1  [B0017KIBAI, B00GANWVJE, B00AKIPBNS, B000ERVMI...   \n",
       "2  [B0017KIBAI, B00GANWVJE, B00AKIPBNS, B000ERVMI...   \n",
       "\n",
       "                                    knnz_predictions  \\\n",
       "0  [B0009VXBAQ, B00GANWVJE, B000TLU67W, B0017KIBA...   \n",
       "1  [B0017KIBAI, B00GANWVJE, B00AKIPBNS, B000ERVMI...   \n",
       "2  [B0017KIBAI, B00GANWVJE, B00AKIPBNS, B000ERVMI...   \n",
       "\n",
       "                                     svd_predictions  \\\n",
       "0  [B00N4ABT1C, B00JQHU9RC, B00L59D9HG, B0017KIBA...   \n",
       "1  [B00DD0B1R0, B00AKIPBNS, B00DC7G2W8, B0017Q4DG...   \n",
       "2  [B003ZSP0WW, B0017KIBAI, B00GANWVJE, B00DC7G2W...   \n",
       "\n",
       "                                   svdpp_predictions  \\\n",
       "0  [B0017KIBAI, B00BGA9WK2, B0053BCML6, B00WTI3JP...   \n",
       "1  [B0017KIBAI, B00PB9LZQI, B0029LJIFG, B002I0H79...   \n",
       "2  [B00BGA9WK2, B00WTI3JPE, B000FRU0NU, B0017KIBA...   \n",
       "\n",
       "                                     nmf_predictions  \\\n",
       "0  [B00DUARBTA, B00HLT0YT0, B00KVOVBGM, B00GMFKYK...   \n",
       "1  [B00AKIPBNS, B00BMFIXKQ, B00YQ1NOPM, B00YQM1PN...   \n",
       "2  [B00K848IH0, B00N4ABT1C, B00BGA9X9W, B002B9XB0...   \n",
       "\n",
       "                                     pop_predictions  \\\n",
       "0  [B00JK00S0S, B003ZSP0WW, B00N4ABT1C, B00DBDPOZ...   \n",
       "1  [B00JK00S0S, B003ZSP0WW, B00N4ABT1C, B00DBDPOZ...   \n",
       "2  [B00JK00S0S, B003ZSP0WW, B00N4ABT1C, B00DBDPOZ...   \n",
       "\n",
       "                                  random_predictions  \n",
       "0  [B00DD0B0BM, B00I19TYW2, B00MYTSDU4, B00KKAQYX...  \n",
       "1  [B00AAS888S, B00JF63SQI, B006ZTHFPS, B016KBVBC...  \n",
       "2  [B00JKM06HG, B00SN1QEGW, B00Z9LUDX4, B00DD0B1R...  "
      ]
     },
     "execution_count": 192,
     "metadata": {},
     "output_type": "execute_result"
    }
   ],
   "source": [
    "## make random recommendations for all users.\n",
    "\n",
    "ran_recs = []\n",
    "for _ in rec_items['reviewerID']:\n",
    "    random_predictions = amazon_ratings_124.asin.sample(10).values.tolist()\n",
    "    ran_recs.append(random_predictions)\n",
    "        \n",
    "rec_items['random_predictions'] = ran_recs\n",
    "rec_items.head(3)"
   ]
  },
  {
   "cell_type": "code",
   "execution_count": 193,
   "metadata": {},
   "outputs": [],
   "source": [
    "actual_rating = rec_items.actual_rating.values.tolist()\n",
    "knn_predictions = rec_items.knn_predictions.values.tolist()\n",
    "knnmeans_predictions = rec_items.knnmeans_predictions.values.tolist()\n",
    "knnz_predictions = rec_items.knnz_predictions.values.tolist()\n",
    "\n",
    "svd_predictions = rec_items.svd_predictions.values.tolist()\n",
    "svdpp_predictions = rec_items.svdpp_predictions.values.tolist()\n",
    "nmf_predictions = rec_items.nmf_predictions.values.tolist()\n",
    "\n",
    "pop_predictions = rec_items.pop_predictions.values.tolist()\n",
    "random_predictions = rec_items.random_predictions.values.tolist()\n"
   ]
  },
  {
   "cell_type": "code",
   "execution_count": 195,
   "metadata": {},
   "outputs": [
    {
     "name": "stdout",
     "output_type": "stream",
     "text": [
      "KNN Mark:\n"
     ]
    },
    {
     "data": {
      "text/plain": [
       "[0.17906256043117305, 0.1986816806168545, 0.20396644458747862]"
      ]
     },
     "execution_count": 195,
     "metadata": {},
     "output_type": "execute_result"
    }
   ],
   "source": [
    "knn_mark = []\n",
    "for K in np.arange(1, 21):\n",
    "    knn_mark.extend([recmetrics.mark(actual_rating, knn_predictions, k=K)])\n",
    "\n",
    "print(\"KNN Mark:\")\n",
    "knn_mark[:3]"
   ]
  },
  {
   "cell_type": "code",
   "execution_count": 196,
   "metadata": {},
   "outputs": [
    {
     "name": "stdout",
     "output_type": "stream",
     "text": [
      "KNN Means Mark:\n"
     ]
    },
    {
     "data": {
      "text/plain": [
       "[0.17906256043117305, 0.1986816806168545, 0.20396644458747862]"
      ]
     },
     "execution_count": 196,
     "metadata": {},
     "output_type": "execute_result"
    }
   ],
   "source": [
    "knnmeans_mark = []\n",
    "for K in np.arange(1, 21):\n",
    "    knnmeans_mark.extend([recmetrics.mark(actual_rating, knnmeans_predictions, k=K)])\n",
    "\n",
    "print(\"KNN Means Mark:\")\n",
    "knnmeans_mark[:3]"
   ]
  },
  {
   "cell_type": "code",
   "execution_count": 197,
   "metadata": {},
   "outputs": [
    {
     "name": "stdout",
     "output_type": "stream",
     "text": [
      "KNN Z-score Mark:\n"
     ]
    },
    {
     "data": {
      "text/plain": [
       "[0.17906256043117305, 0.1986816806168545, 0.20396644458747862]"
      ]
     },
     "execution_count": 197,
     "metadata": {},
     "output_type": "execute_result"
    }
   ],
   "source": [
    "knnz_mark = []\n",
    "for K in np.arange(1, 21):\n",
    "    knnz_mark.extend([recmetrics.mark(actual_rating, knnz_predictions, k=K)])\n",
    "\n",
    "print(\"KNN Z-score Mark:\")\n",
    "knnz_mark[:3]"
   ]
  },
  {
   "cell_type": "code",
   "execution_count": 198,
   "metadata": {},
   "outputs": [
    {
     "name": "stdout",
     "output_type": "stream",
     "text": [
      "SVD Mark:\n"
     ]
    },
    {
     "data": {
      "text/plain": [
       "[0.17906256043117305, 0.1986816806168545, 0.20396644458747862]"
      ]
     },
     "execution_count": 198,
     "metadata": {},
     "output_type": "execute_result"
    }
   ],
   "source": [
    "svd_mark = []\n",
    "for K in np.arange(1, 21):\n",
    "    svd_mark.extend([recmetrics.mark(actual_rating, svd_predictions, k=K)])\n",
    "\n",
    "print(\"SVD Mark:\")\n",
    "svd_mark[:3]"
   ]
  },
  {
   "cell_type": "code",
   "execution_count": 199,
   "metadata": {},
   "outputs": [
    {
     "name": "stdout",
     "output_type": "stream",
     "text": [
      "SVD++ Mark:\n"
     ]
    },
    {
     "data": {
      "text/plain": [
       "[0.17906256043117305, 0.1986816806168545, 0.20396644458747862]"
      ]
     },
     "execution_count": 199,
     "metadata": {},
     "output_type": "execute_result"
    }
   ],
   "source": [
    "svdpp_mark = []\n",
    "for K in np.arange(1, 21):\n",
    "    svdpp_mark.extend([recmetrics.mark(actual_rating, svdpp_predictions, k=K)])\n",
    "\n",
    "print(\"SVD++ Mark:\")\n",
    "svdpp_mark[:3]"
   ]
  },
  {
   "cell_type": "code",
   "execution_count": 200,
   "metadata": {},
   "outputs": [
    {
     "name": "stdout",
     "output_type": "stream",
     "text": [
      "NMF Mark:\n"
     ]
    },
    {
     "data": {
      "text/plain": [
       "[0.17906256043117305, 0.1986816806168545, 0.20396644458747862]"
      ]
     },
     "execution_count": 200,
     "metadata": {},
     "output_type": "execute_result"
    }
   ],
   "source": [
    "nmf_mark = []\n",
    "for K in np.arange(1, 21):\n",
    "    nmf_mark.extend([recmetrics.mark(actual_rating, nmf_predictions, k=K)])\n",
    "\n",
    "print(\"NMF Mark:\")\n",
    "nmf_mark[:3]"
   ]
  },
  {
   "cell_type": "code",
   "execution_count": 201,
   "metadata": {},
   "outputs": [
    {
     "name": "stdout",
     "output_type": "stream",
     "text": [
      "Popularity Mark:\n"
     ]
    },
    {
     "data": {
      "text/plain": [
       "[0.004950561784318753, 0.009566151030457753, 0.013774826428989766]"
      ]
     },
     "execution_count": 201,
     "metadata": {},
     "output_type": "execute_result"
    }
   ],
   "source": [
    "pop_mark = []\n",
    "for K in np.arange(1, 21):\n",
    "    pop_mark.extend([recmetrics.mark(actual_rating, pop_predictions, k=K)])\n",
    "\n",
    "print(\"Popularity Mark:\")\n",
    "pop_mark[:3]"
   ]
  },
  {
   "cell_type": "code",
   "execution_count": 202,
   "metadata": {},
   "outputs": [
    {
     "name": "stdout",
     "output_type": "stream",
     "text": [
      "Random Mark:\n"
     ]
    },
    {
     "data": {
      "text/plain": [
       "[0.0040497750880476155, 0.007809268612165145, 0.011267069961076405]"
      ]
     },
     "execution_count": 202,
     "metadata": {},
     "output_type": "execute_result"
    }
   ],
   "source": [
    "random_mark = []\n",
    "for K in np.arange(1, 21):\n",
    "    random_mark.extend([recmetrics.mark(actual_rating, random_predictions, k=K)])\n",
    "    \n",
    "print(\"Random Mark:\")\n",
    "random_mark[:3]"
   ]
  },
  {
   "cell_type": "code",
   "execution_count": 203,
   "metadata": {},
   "outputs": [
    {
     "data": {
      "image/png": "[encoded data removed]",
      "text/plain": [
       "<Figure size 432x288 with 1 Axes>"
      ]
     },
     "metadata": {
      "needs_background": "light"
     },
     "output_type": "display_data"
    }
   ],
   "source": [
    "\n",
    "mark_scores = [knn_mark, knnmeans_mark, knnz_mark, svd_mark, svdpp_mark, nmf_mark, pop_mark, random_mark]\n",
    "index = range(1,20+1)\n",
    "names = ['KNN', 'KNN μ', 'KNN Z', 'SVD', 'SVD++', 'NMF', 'POP', 'RAND']\n",
    "\n",
    "fig, ax = plt.subplots(1,1, figsize=(6,4))\n",
    "recmetrics.mark_plot(mark_scores, model_names=names, k_range=index)\n",
    "plt.show()"
   ]
  },
  {
   "cell_type": "markdown",
   "metadata": {},
   "source": [
    "#### 4.5.4 Hitrate / Cumulated Hitrate / Coverage / Diversity / Novelty Comparison\n"
   ]
  },
  {
   "cell_type": "code",
   "execution_count": 104,
   "metadata": {},
   "outputs": [
    {
     "name": "stdout",
     "output_type": "stream",
     "text": [
      "A3KF2QPB634EIA [('B00BI83EVU', 5), ('B01GKGVI8U', 5), ('B00KAED850', 5), ('B00X87BLK0', 5), ('B00WTI3JPE', 5), ('B006JKASAC', 5), ('B00M3D8IYM', 5), ('B00ZQC73O8', 5), ('B00JK00S0S', 5), ('B004RMK57U', 5)]\n"
     ]
    }
   ],
   "source": [
    "topN_pred_knn = rm.GetTopN(all_pred_knn, n=10)\n",
    "\n",
    "## the top 1 predicted items for user A2W1P0P5XCFA96 differs from \n",
    "## A3KF2QPB634EIA which memory-based model predicts \n",
    "for userID, items in itertools.islice(topN_pred_knn.items(), 1):\n",
    "    print(userID, items)"
   ]
  },
  {
   "cell_type": "code",
   "execution_count": 119,
   "metadata": {},
   "outputs": [
    {
     "name": "stdout",
     "output_type": "stream",
     "text": [
      "A3KF2QPB634EIA [('B01GKGVI8U', 5), ('B00KAED850', 5), ('B00WTI3JPE', 5), ('B00M3D8IYM', 5), ('B00ZQC73O8', 5), ('B00JK00S0S', 5), ('B004RMK57U', 5), ('B00BMFIXOW', 5), ('B01GW3POY0', 5), ('B01GW3ODBU', 5)]\n"
     ]
    }
   ],
   "source": [
    "topN_pred_knnmeans = rm.GetTopN(all_pred_knnmeans, n=10)\n",
    "\n",
    "## the top 1 predicted items for user A2W1P0P5XCFA96 differs from \n",
    "## A3KF2QPB634EIA which memory-based model predicts \n",
    "for userID, items in itertools.islice(topN_pred_knnmeans.items(), 1):\n",
    "    print(userID, items)"
   ]
  },
  {
   "cell_type": "code",
   "execution_count": 132,
   "metadata": {},
   "outputs": [
    {
     "name": "stdout",
     "output_type": "stream",
     "text": [
      "A3KF2QPB634EIA [('B01GKGVI8U', 5), ('B00KAED850', 5), ('B00WTI3JPE', 5), ('B00M3D8IYM', 5), ('B00ZQC73O8', 5), ('B00JK00S0S', 5), ('B004RMK57U', 5), ('B00BMFIXOW', 5), ('B01GW3POY0', 5), ('B01GW3ODBU', 5)]\n"
     ]
    }
   ],
   "source": [
    "topN_pred_knnz = rm.GetTopN(all_pred_knnz, n=10)\n",
    "\n",
    "## the top 1 predicted items for user A2W1P0P5XCFA96 differs from \n",
    "## A3KF2QPB634EIA which memory-based model predicts \n",
    "for userID, items in itertools.islice(topN_pred_knnz.items(), 1):\n",
    "    print(userID, items)"
   ]
  },
  {
   "cell_type": "code",
   "execution_count": 133,
   "metadata": {},
   "outputs": [
    {
     "name": "stdout",
     "output_type": "stream",
     "text": [
      "A3KF2QPB634EIA [('B00KN7Y3EY', 5), ('B0017KIBAI', 5), ('B0053B66KE', 4.957940274213091), ('B0017Q4DGI', 4.949439848766641), ('B00GANWVJE', 4.943553386796234), ('B00CMQTUSS', 4.933049846127405), ('B00MUY0OFU', 4.932197925150754), ('B01GW3P9PE', 4.926094017645239), ('B002BRZ9G0', 4.924067575486413), ('B0016B28Y8', 4.9234803250019)]\n"
     ]
    }
   ],
   "source": [
    "topN_pred_svd = rm.GetTopN(all_pred_svd, n=10)\n",
    "\n",
    "## the top 1 predicted items for user A2W1P0P5XCFA96 differs from \n",
    "## A3KF2QPB634EIA which memory-based model predicts \n",
    "for userID, items in itertools.islice(topN_pred_svd.items(), 1):\n",
    "    print(userID, items)"
   ]
  },
  {
   "cell_type": "code",
   "execution_count": 134,
   "metadata": {},
   "outputs": [
    {
     "name": "stdout",
     "output_type": "stream",
     "text": [
      "A3KF2QPB634EIA [('B00AAS888S', 5), ('B00MYTSDU4', 5), ('B00JF63SQI', 5), ('B005JB84GM', 4.989492241328122), ('B0053BCO00', 4.972602078410799), ('B00DUARBTA', 4.966089503526545), ('B00GU8W5AE', 4.954222125572193), ('B00GANWVJE', 4.944086720311337), ('B01GW3POY0', 4.942073787736343), ('B00BGA9X9W', 4.939332583014003)]\n"
     ]
    }
   ],
   "source": [
    "topN_pred_svdpp = rm.GetTopN(all_pred_svdpp, n=10)\n",
    "\n",
    "## the top 1 predicted items for user A2W1P0P5XCFA96 differs from \n",
    "## A3KF2QPB634EIA which memory-based model predicts \n",
    "for userID, items in itertools.islice(topN_pred_svdpp.items(), 1):\n",
    "    print(userID, items)"
   ]
  },
  {
   "cell_type": "code",
   "execution_count": 135,
   "metadata": {},
   "outputs": [
    {
     "name": "stdout",
     "output_type": "stream",
     "text": [
      "A3KF2QPB634EIA [('B00JK00S0S', 4.922165804932355), ('B00GZ1GUSY', 4.84686845928132), ('B00KWEHBAG', 4.814118490543234), ('B00Z9LUDX4', 4.744490741479382), ('B00GMFKYK8', 4.707073709539168), ('B00GANWVJE', 4.681446432002234), ('B0053BCML6', 4.673930152623198), ('B00KVSQ848', 4.654116302450818), ('B01GW3P9PE', 4.641042188617689), ('B019OB663A', 4.613956973379928)]\n"
     ]
    }
   ],
   "source": [
    "topN_pred_nmf = rm.GetTopN(all_pred_nmf, n=10)\n",
    "\n",
    "## the top 1 predicted items for user A2W1P0P5XCFA96 differs from \n",
    "## A3KF2QPB634EIA which memory-based model predicts \n",
    "for userID, items in itertools.islice(topN_pred_nmf.items(), 1):\n",
    "    print(userID, items)"
   ]
  },
  {
   "cell_type": "code",
   "execution_count": 136,
   "metadata": {},
   "outputs": [],
   "source": [
    "## Hit rate by using top 10 predictions\n",
    "knn_hr = rm.HitRate(topN_pred_knn, test_pred_knn)\n",
    "knnmeans_hr = rm.HitRate(topN_pred_knnmeans, test_pred_knnmeans)\n",
    "knnz_hr = rm.HitRate(topN_pred_knnz, test_pred_knnz)\n",
    "svd_hr = rm.HitRate(topN_pred_svd, test_pred_svd)\n",
    "svdpp_hr = rm.HitRate(topN_pred_svdpp, test_pred_svdpp)\n",
    "nmf_hr = rm.HitRate(topN_pred_nmf, test_pred_nmf)\n",
    "all_hitrates = [knn_hr, knnmeans_hr, knnz_hr, svd_hr, svdpp_hr, nmf_hr]\n",
    "\n",
    "## Cumulative Hit Rate; hit rate, confined to ratings above a certain threshold 4.0. Higher is better. \n",
    "knn_chr = rm.CumulativeHitRate(topN_pred_knn, test_pred_knn, 4.0)\n",
    "knnmeans_chr = rm.CumulativeHitRate(topN_pred_knnmeans, test_pred_knnmeans, 4.0)\n",
    "knnz_chr = rm.CumulativeHitRate(topN_pred_knnz, test_pred_knnz, 4.0)\n",
    "svd_chr = rm.CumulativeHitRate(topN_pred_svd, test_pred_svd, 4.0)\n",
    "svdpp_chr = rm.CumulativeHitRate(topN_pred_svdpp, test_pred_svdpp, 4.0)\n",
    "nmf_chr = rm.CumulativeHitRate(topN_pred_nmf, test_pred_nmf, 4.0)\n",
    "all_chitrates = [knn_chr, knnmeans_chr, knnz_chr, svd_chr, svdpp_chr, nmf_chr]\n"
   ]
  },
  {
   "cell_type": "code",
   "execution_count": 137,
   "metadata": {},
   "outputs": [
    {
     "name": "stdout",
     "output_type": "stream",
     "text": [
      "Computing the pearson_baseline similarity matrix...\n",
      "Done computing similarity matrix.\n",
      "Computing the pearson_baseline similarity matrix...\n",
      "Done computing similarity matrix.\n",
      "Computing the pearson_baseline similarity matrix...\n",
      "Done computing similarity matrix.\n"
     ]
    }
   ],
   "source": [
    "## user coverage with a minimum predicted rating of 4.0:\n",
    "knn_cvr = rm.UserCoverage(topN_pred_knn, data_124.build_full_trainset().n_users, ratingThreshold=4.0)\n",
    "knnmeans_cvr = rm.UserCoverage(topN_pred_knnmeans, data_124.build_full_trainset().n_users, ratingThreshold=4.0)\n",
    "knnz_cvr = rm.UserCoverage(topN_pred_knnz, data_124.build_full_trainset().n_users, ratingThreshold=4.0)\n",
    "svd_cvr = rm.UserCoverage(topN_pred_svd, data_124.build_full_trainset().n_users, ratingThreshold=4.0)\n",
    "svdpp_cvr = rm.UserCoverage(topN_pred_svdpp, data_124.build_full_trainset().n_users, ratingThreshold=4.0)\n",
    "nmf_cvr = rm.UserCoverage(topN_pred_nmf, data_124.build_full_trainset().n_users, ratingThreshold=4.0)\n",
    "all_coverages = [knn_cvr, knnmeans_cvr, knnz_cvr, svd_cvr, svdpp_cvr, nmf_cvr]\n",
    "\n",
    "## diversity. 1-S, where S is the average similarity score between every possible pair of recommendations\n",
    "knn_dvr = rm.Diversity(topN_pred_knn, knn_cv)\n",
    "knnmeans_dvr = rm.Diversity(topN_pred_knnmeans, knnmeans_cv)\n",
    "knnz_dvr = rm.Diversity(topN_pred_knnz, knnz_cv)\n",
    "svd_dvr = rm.Diversity(topN_pred_svd, svd_cv)\n",
    "svdpp_dvr = rm.Diversity(topN_pred_svdpp, svdpp_cv)\n",
    "nmf_dvr = rm.Diversity(topN_pred_nmf, nmf_cv)\n",
    "all_diversities = [knn_dvr, knnmeans_dvr, knnz_dvr, svd_dvr, svdpp_dvr, nmf_dvr]\n",
    "\n",
    "## ranking for items\n",
    "rankings = rm.getPopularityRanks(amazon_ratings_124)\n",
    "\n",
    "## Measure novelty (average popularity rank of recommendations):\n",
    "## Average popularity rank of recommended items. Higher means more novel.\n",
    "knn_nv = rm.Novelty(topN_pred_knn, rankings)\n",
    "knnmeans_nv = rm.Novelty(topN_pred_knnmeans, rankings)\n",
    "knnz_nv = rm.Novelty(topN_pred_knnz, rankings)\n",
    "svd_nv = rm.Novelty(topN_pred_svd, rankings)\n",
    "svdpp_nv = rm.Novelty(topN_pred_svdpp, rankings)\n",
    "nmf_nv = rm.Novelty(topN_pred_nmf, rankings)\n",
    "all_novelties = [knn_nv, knnmeans_nv, knnz_nv, svd_nv, svdpp_nv, nmf_nv]\n"
   ]
  },
  {
   "cell_type": "code",
   "execution_count": 143,
   "metadata": {},
   "outputs": [
    {
     "data": {
      "image/png": "[encoded data removed]",
      "text/plain": [
       "<Figure size 864x288 with 2 Axes>"
      ]
     },
     "metadata": {
      "needs_background": "light"
     },
     "output_type": "display_data"
    }
   ],
   "source": [
    "x_algo = ['KNN', 'KNN μ', 'KNN Z', 'SVD', 'SVD++', 'NMF']\n",
    "fig, axes = plt.subplots(1,2, figsize=(12,4))\n",
    "\n",
    "axes[0].bar(x_algo, all_hitrates, label='HR', color='purple', alpha=0.5)\n",
    "axes[0].set_title('Comparison of Algorithms on HR', loc='center', fontsize=15)\n",
    "axes[0].set_xlabel('Algorithms', fontsize=10)\n",
    "axes[0].set_ylabel('HR Value', fontsize=12)\n",
    "\n",
    "axes[1].bar(x_algo, all_chitrates, label='cHR', color='magenta', alpha=0.5)\n",
    "axes[1].set_title('Comparison of Algorithms on cHR', loc='center', fontsize=15)\n",
    "axes[1].set_xlabel('Algorithms', fontsize=10)\n",
    "axes[1].set_ylabel('cHR Value', fontsize=12)\n",
    "\n",
    "plt.show()"
   ]
  },
  {
   "cell_type": "code",
   "execution_count": 144,
   "metadata": {},
   "outputs": [
    {
     "data": {
      "image/png": "[encoded data removed]",
      "text/plain": [
       "<Figure size 1296x288 with 3 Axes>"
      ]
     },
     "metadata": {
      "needs_background": "light"
     },
     "output_type": "display_data"
    }
   ],
   "source": [
    "fig, axes = plt.subplots(1,3, figsize=(18,4))\n",
    "axes[0].bar(x_algo, all_coverages, label='Coverage', color='green', alpha=0.5)\n",
    "axes[0].set_title('Comparison of Algorithms on Coverage', loc='center', fontsize=15)\n",
    "axes[0].set_xlabel('Algorithms', fontsize=10)\n",
    "axes[0].set_ylabel('Coverage Value', fontsize=12)\n",
    "\n",
    "axes[1].bar(x_algo, all_diversities, label='Diversity', color='brown', alpha=0.5)\n",
    "axes[1].set_title('Comparison of Algorithms on Diversity', loc='center', fontsize=15)\n",
    "axes[1].set_xlabel('Algorithms', fontsize=10)\n",
    "axes[1].set_ylabel('Diversity Value', fontsize=12)\n",
    "\n",
    "axes[2].bar(x_algo, all_novelties, label='Novelty', color='lime', alpha=0.5)\n",
    "axes[2].set_title('Comparison of Algorithms on Novelty', loc='center', fontsize=15)\n",
    "axes[2].set_xlabel('Algorithms', fontsize=10)\n",
    "axes[2].set_ylabel('Novelty Value', fontsize=12)\n",
    "\n",
    "plt.show()"
   ]
  },
  {
   "cell_type": "code",
   "execution_count": 102,
   "metadata": {},
   "outputs": [
    {
     "data": {
      "image/png": "[encoded data removed]",
      "text/plain": [
       "<Figure size 432x288 with 1 Axes>"
      ]
     },
     "metadata": {
      "needs_background": "light"
     },
     "output_type": "display_data"
    }
   ],
   "source": [
    "## Prediction Coverage\n",
    "catalog = amazon_ratings_124.asin.unique().tolist()\n",
    "\n",
    "knn_coverage = recmetrics.prediction_coverage(knn_recs, catalog)\n",
    "knnmeans_coverage = recmetrics.prediction_coverage(knnmeans_recs, catalog)\n",
    "knnz_coverage = recmetrics.prediction_coverage(knnz_recs, catalog)\n",
    "svd_coverage = recmetrics.prediction_coverage(svd_recs, catalog)\n",
    "svdpp_coverage = recmetrics.prediction_coverage(svdpp_recs, catalog)\n",
    "nmf_coverage = recmetrics.prediction_coverage(nmf_recs, catalog)\n",
    "random_coverage = recmetrics.prediction_coverage(ran_recs, catalog)\n",
    "pop_coverage = recmetrics.prediction_coverage(pop_recs, catalog)\n",
    "\n",
    "## plot of prediction coverage\n",
    "coverage_scores = [knn_coverage,knnmeans_coverage,knnz_coverage,svd_coverage,svdpp_coverage,nmf_coverage,pop_coverage,random_coverage]\n",
    "model_names = ['KNN', 'KNN μ', 'KNN Z', 'SVD', 'SVD++', 'NMF', 'POP', 'RAND']\n",
    "\n",
    "fig, ax = plt.subplots(1,1, figsize=(6,4))\n",
    "recmetrics.coverage_plot(coverage_scores, model_names)\n",
    "plt.show()"
   ]
  },
  {
   "cell_type": "markdown",
   "metadata": {},
   "source": [
    "<center>\n",
    "<img src=\"./img/cf_perfo.png\" alt=\"Drawing\" style=\"width: 400px;\"/>\n",
    "</center>"
   ]
  },
  {
   "cell_type": "markdown",
   "metadata": {},
   "source": [
    "### 4.6 Nueral Network Recommender System (Neural Matrix Factorization; N-MF)\n"
   ]
  },
  {
   "cell_type": "code",
   "execution_count": 229,
   "metadata": {},
   "outputs": [],
   "source": [
    "from keras.layers import Embedding, Input, dot, concatenate, Flatten, Dense, concatenate, multiply, merge\n",
    "from keras.models import Model\n",
    "from IPython.display import SVG\n",
    "from keras.utils.vis_utils import model_to_dot\n",
    "\n",
    "from keras.layers import Conv2D, MaxPooling2D, BatchNormalization\n",
    "from keras.optimizers import Adam,SGD,Adagrad,Adadelta,RMSprop\n",
    "# from keras.preprocessing.image import ImageDataGenerator\n",
    "# from keras.callbacks import ReduceLROnPlateau, LearningRateScheduler\n",
    "# from keras.utils import to_categorical"
   ]
  },
  {
   "cell_type": "code",
   "execution_count": 127,
   "metadata": {},
   "outputs": [
    {
     "data": {
      "text/html": [
       "<div>\n",
       "<style scoped>\n",
       "    .dataframe tbody tr th:only-of-type {\n",
       "        vertical-align: middle;\n",
       "    }\n",
       "\n",
       "    .dataframe tbody tr th {\n",
       "        vertical-align: top;\n",
       "    }\n",
       "\n",
       "    .dataframe thead th {\n",
       "        text-align: right;\n",
       "    }\n",
       "</style>\n",
       "<table border=\"1\" class=\"dataframe\">\n",
       "  <thead>\n",
       "    <tr style=\"text-align: right;\">\n",
       "      <th></th>\n",
       "      <th>reviewerID</th>\n",
       "      <th>asin</th>\n",
       "      <th>overall</th>\n",
       "      <th>userID</th>\n",
       "      <th>itemID</th>\n",
       "    </tr>\n",
       "  </thead>\n",
       "  <tbody>\n",
       "    <tr>\n",
       "      <th>0</th>\n",
       "      <td>A34S5KKOKVXHUE</td>\n",
       "      <td>B0009VXBAQ</td>\n",
       "      <td>5.0</td>\n",
       "      <td>13349</td>\n",
       "      <td>0</td>\n",
       "    </tr>\n",
       "    <tr>\n",
       "      <th>1</th>\n",
       "      <td>A2Q731BIYCQ60C</td>\n",
       "      <td>B0009VXBAQ</td>\n",
       "      <td>5.0</td>\n",
       "      <td>10854</td>\n",
       "      <td>0</td>\n",
       "    </tr>\n",
       "    <tr>\n",
       "      <th>2</th>\n",
       "      <td>A1J8UQNUTU6B9S</td>\n",
       "      <td>B0009VXBAQ</td>\n",
       "      <td>5.0</td>\n",
       "      <td>3407</td>\n",
       "      <td>0</td>\n",
       "    </tr>\n",
       "  </tbody>\n",
       "</table>\n",
       "</div>"
      ],
      "text/plain": [
       "       reviewerID        asin  overall  userID  itemID\n",
       "0  A34S5KKOKVXHUE  B0009VXBAQ      5.0   13349       0\n",
       "1  A2Q731BIYCQ60C  B0009VXBAQ      5.0   10854       0\n",
       "2  A1J8UQNUTU6B9S  B0009VXBAQ      5.0    3407       0"
      ]
     },
     "execution_count": 127,
     "metadata": {},
     "output_type": "execute_result"
    }
   ],
   "source": [
    "amazon_ratings_124_id = amazon_ratings_124.assign(userID=(amazon_ratings_124['reviewerID']).astype('category').cat.codes)\n",
    "amazon_ratings_124_id = amazon_ratings_124_id.assign(itemID=(amazon_ratings_124['asin']).astype('category').cat.codes)\n",
    "amazon_ratings_124_id.head(3)"
   ]
  },
  {
   "cell_type": "code",
   "execution_count": 130,
   "metadata": {},
   "outputs": [
    {
     "name": "stdout",
     "output_type": "stream",
     "text": [
      "A34S5KKOKVXHUE <-> 13349\n"
     ]
    },
    {
     "data": {
      "text/html": [
       "<div>\n",
       "<style scoped>\n",
       "    .dataframe tbody tr th:only-of-type {\n",
       "        vertical-align: middle;\n",
       "    }\n",
       "\n",
       "    .dataframe tbody tr th {\n",
       "        vertical-align: top;\n",
       "    }\n",
       "\n",
       "    .dataframe thead th {\n",
       "        text-align: right;\n",
       "    }\n",
       "</style>\n",
       "<table border=\"1\" class=\"dataframe\">\n",
       "  <thead>\n",
       "    <tr style=\"text-align: right;\">\n",
       "      <th></th>\n",
       "      <th>reviewerID</th>\n",
       "      <th>asin</th>\n",
       "      <th>overall</th>\n",
       "      <th>userID</th>\n",
       "      <th>itemID</th>\n",
       "    </tr>\n",
       "  </thead>\n",
       "  <tbody>\n",
       "    <tr>\n",
       "      <th>0</th>\n",
       "      <td>A34S5KKOKVXHUE</td>\n",
       "      <td>B0009VXBAQ</td>\n",
       "      <td>5.0</td>\n",
       "      <td>13349</td>\n",
       "      <td>0</td>\n",
       "    </tr>\n",
       "    <tr>\n",
       "      <th>12033</th>\n",
       "      <td>A34S5KKOKVXHUE</td>\n",
       "      <td>B0094X227I</td>\n",
       "      <td>5.0</td>\n",
       "      <td>13349</td>\n",
       "      <td>72</td>\n",
       "    </tr>\n",
       "    <tr>\n",
       "      <th>43245</th>\n",
       "      <td>A34S5KKOKVXHUE</td>\n",
       "      <td>B00YJJ0OQS</td>\n",
       "      <td>4.0</td>\n",
       "      <td>13349</td>\n",
       "      <td>212</td>\n",
       "    </tr>\n",
       "    <tr>\n",
       "      <th>49222</th>\n",
       "      <td>A34S5KKOKVXHUE</td>\n",
       "      <td>B0029LJIFG</td>\n",
       "      <td>5.0</td>\n",
       "      <td>13349</td>\n",
       "      <td>35</td>\n",
       "    </tr>\n",
       "  </tbody>\n",
       "</table>\n",
       "</div>"
      ],
      "text/plain": [
       "           reviewerID        asin  overall  userID  itemID\n",
       "0      A34S5KKOKVXHUE  B0009VXBAQ      5.0   13349       0\n",
       "12033  A34S5KKOKVXHUE  B0094X227I      5.0   13349      72\n",
       "43245  A34S5KKOKVXHUE  B00YJJ0OQS      4.0   13349     212\n",
       "49222  A34S5KKOKVXHUE  B0029LJIFG      5.0   13349      35"
      ]
     },
     "execution_count": 130,
     "metadata": {},
     "output_type": "execute_result"
    }
   ],
   "source": [
    "def reviewerID2userID(userID, df):\n",
    "    numID = df[df['reviewerID']==userID]['userID'][0]\n",
    "    return numID\n",
    "\n",
    "def userID2reviewerID(numID, df):\n",
    "    reviewerID = df[df['userID']==numID]['reviewerID'][0]\n",
    "    return reviewerID\n",
    "\n",
    "print('{} <-> {}'.format(userID2reviewerID(13349, amazon_ratings_124_id),reviewerID2userID('A34S5KKOKVXHUE', amazon_ratings_124_id)))\n",
    "amazon_ratings_124_id[amazon_ratings_124_id['reviewerID']=='A34S5KKOKVXHUE']"
   ]
  },
  {
   "cell_type": "code",
   "execution_count": 174,
   "metadata": {},
   "outputs": [
    {
     "name": "stdout",
     "output_type": "stream",
     "text": [
      "(34674, 2) (14861, 2)\n"
     ]
    }
   ],
   "source": [
    "#X_train, X_test, y_train, y_test\n",
    "x_train,x_test,r_train,r_test = train_test_split_sk(amazon_ratings_124_id[['userID','itemID']],\n",
    "                                                    amazon_ratings_124_id[['overall']],test_size=0.3,random_state=33)\n",
    "print(x_train.shape, x_test.shape)"
   ]
  },
  {
   "cell_type": "markdown",
   "metadata": {},
   "source": [
    "#### 4.6.1 N-MF1\n",
    "An embedding is a mapping from discrete objects, such as words or movies in our case, to a vector of continuous values. These are used to find similarities between discrete objects.\n",
    "\n",
    "The concept behind matrix factorization models is that the preferences of a user can be determined by a small number of hidden factors. And these are called as Embeddings. These Embeddings were flattened and dot product of them.\n"
   ]
  },
  {
   "cell_type": "code",
   "execution_count": 205,
   "metadata": {},
   "outputs": [
    {
     "name": "stdout",
     "output_type": "stream",
     "text": [
      "23789 241\n"
     ]
    }
   ],
   "source": [
    "# The number of latent factors for the embedding\n",
    "n_latent_factors = 100\n",
    "\n",
    "# num of users and movies\n",
    "n_users, n_items = len(amazon_ratings_124['reviewerID'].unique()), len(amazon_ratings_124['asin'].unique())\n",
    "print(n_users, n_items)"
   ]
  },
  {
   "cell_type": "code",
   "execution_count": 207,
   "metadata": {},
   "outputs": [],
   "source": [
    "# User Embeddings\n",
    "user_input = Input(shape=(1,), name='User_Input')\n",
    "user_embeddings = Embedding(input_dim = n_users, \n",
    "                            output_dim=n_latent_factors, \n",
    "                            embeddings_initializer=\"he_normal\",\n",
    "                            embeddings_regularizer=keras.regularizers.l2(1e-6),\n",
    "                            name='User_Embedding') (user_input)\n",
    "user_vector = Flatten(name='User_Vector') (user_embeddings)\n",
    "\n",
    "# Item Embeddings\n",
    "item_input = Input(shape=(1,), name='Item_Input')\n",
    "item_embeddings = Embedding(input_dim = n_items, \n",
    "                            output_dim=n_latent_factors, \n",
    "                            embeddings_initializer=\"he_normal\",\n",
    "                            embeddings_regularizer=keras.regularizers.l2(1e-6),\n",
    "                            name='Item_Embedding') (item_input)\n",
    "item_vector = Flatten(name='Item_Vector') (item_embeddings)\n"
   ]
  },
  {
   "cell_type": "code",
   "execution_count": 208,
   "metadata": {},
   "outputs": [
    {
     "data": {
      "image/svg+xml": [
       "<svg xmlns=\"http://www.w3.org/2000/svg\" xmlns:xlink=\"http://www.w3.org/1999/xlink\" width=\"938pt\" height=\"395pt\" viewBox=\"0.00 0.00 703.84 296.00\">\n",
       "<g id=\"graph0\" class=\"graph\" transform=\"scale(0.75 0.75) rotate(0) translate(4 292)\">\n",
       "<title>G</title>\n",
       "<polygon fill=\"white\" stroke=\"transparent\" points=\"-4,4 -4,-292 699.84,-292 699.84,4 -4,4\"/>\n",
       "<!-- 5888011760 -->\n",
       "<g id=\"node1\" class=\"node\">\n",
       "<title>5888011760</title>\n",
       "<polygon fill=\"none\" stroke=\"black\" points=\"28.01,-243.5 28.01,-287.5 311.22,-287.5 311.22,-243.5 28.01,-243.5\"/>\n",
       "<text text-anchor=\"middle\" x=\"102.29\" y=\"-261.3\" font-family=\"Times,serif\" font-size=\"14.00\">User_Input: InputLayer</text>\n",
       "<polyline fill=\"none\" stroke=\"black\" points=\"176.58,-243.5 176.58,-287.5 \"/>\n",
       "<text text-anchor=\"middle\" x=\"204.41\" y=\"-272.3\" font-family=\"Times,serif\" font-size=\"14.00\">input:</text>\n",
       "<polyline fill=\"none\" stroke=\"black\" points=\"176.58,-265.5 232.25,-265.5 \"/>\n",
       "<text text-anchor=\"middle\" x=\"204.41\" y=\"-250.3\" font-family=\"Times,serif\" font-size=\"14.00\">output:</text>\n",
       "<polyline fill=\"none\" stroke=\"black\" points=\"232.25,-243.5 232.25,-287.5 \"/>\n",
       "<text text-anchor=\"middle\" x=\"271.73\" y=\"-272.3\" font-family=\"Times,serif\" font-size=\"14.00\">[(None, 1)]</text>\n",
       "<polyline fill=\"none\" stroke=\"black\" points=\"232.25,-265.5 311.22,-265.5 \"/>\n",
       "<text text-anchor=\"middle\" x=\"271.73\" y=\"-250.3\" font-family=\"Times,serif\" font-size=\"14.00\">[(None, 1)]</text>\n",
       "</g>\n",
       "<!-- 5888216512 -->\n",
       "<g id=\"node3\" class=\"node\">\n",
       "<title>5888216512</title>\n",
       "<polygon fill=\"none\" stroke=\"black\" points=\"0,-162.5 0,-206.5 339.23,-206.5 339.23,-162.5 0,-162.5\"/>\n",
       "<text text-anchor=\"middle\" x=\"92.96\" y=\"-180.3\" font-family=\"Times,serif\" font-size=\"14.00\">User_Embedding: Embedding</text>\n",
       "<polyline fill=\"none\" stroke=\"black\" points=\"185.91,-162.5 185.91,-206.5 \"/>\n",
       "<text text-anchor=\"middle\" x=\"213.75\" y=\"-191.3\" font-family=\"Times,serif\" font-size=\"14.00\">input:</text>\n",
       "<polyline fill=\"none\" stroke=\"black\" points=\"185.91,-184.5 241.58,-184.5 \"/>\n",
       "<text text-anchor=\"middle\" x=\"213.75\" y=\"-169.3\" font-family=\"Times,serif\" font-size=\"14.00\">output:</text>\n",
       "<polyline fill=\"none\" stroke=\"black\" points=\"241.58,-162.5 241.58,-206.5 \"/>\n",
       "<text text-anchor=\"middle\" x=\"290.41\" y=\"-191.3\" font-family=\"Times,serif\" font-size=\"14.00\">(None, 1)</text>\n",
       "<polyline fill=\"none\" stroke=\"black\" points=\"241.58,-184.5 339.23,-184.5 \"/>\n",
       "<text text-anchor=\"middle\" x=\"290.41\" y=\"-169.3\" font-family=\"Times,serif\" font-size=\"14.00\">(None, 1, 100)</text>\n",
       "</g>\n",
       "<!-- 5888011760&#45;&gt;5888216512 -->\n",
       "<g id=\"edge1\" class=\"edge\">\n",
       "<title>5888011760-&gt;5888216512</title>\n",
       "<path fill=\"none\" stroke=\"black\" d=\"M169.62,-243.33C169.62,-235.18 169.62,-225.7 169.62,-216.8\"/>\n",
       "<polygon fill=\"black\" stroke=\"black\" points=\"173.12,-216.73 169.62,-206.73 166.12,-216.73 173.12,-216.73\"/>\n",
       "</g>\n",
       "<!-- 5776398416 -->\n",
       "<g id=\"node2\" class=\"node\">\n",
       "<title>5776398416</title>\n",
       "<polygon fill=\"none\" stroke=\"black\" points=\"385.4,-243.5 385.4,-287.5 667.83,-287.5 667.83,-243.5 385.4,-243.5\"/>\n",
       "<text text-anchor=\"middle\" x=\"459.29\" y=\"-261.3\" font-family=\"Times,serif\" font-size=\"14.00\">Item_Input: InputLayer</text>\n",
       "<polyline fill=\"none\" stroke=\"black\" points=\"533.19,-243.5 533.19,-287.5 \"/>\n",
       "<text text-anchor=\"middle\" x=\"561.02\" y=\"-272.3\" font-family=\"Times,serif\" font-size=\"14.00\">input:</text>\n",
       "<polyline fill=\"none\" stroke=\"black\" points=\"533.19,-265.5 588.86,-265.5 \"/>\n",
       "<text text-anchor=\"middle\" x=\"561.02\" y=\"-250.3\" font-family=\"Times,serif\" font-size=\"14.00\">output:</text>\n",
       "<polyline fill=\"none\" stroke=\"black\" points=\"588.86,-243.5 588.86,-287.5 \"/>\n",
       "<text text-anchor=\"middle\" x=\"628.35\" y=\"-272.3\" font-family=\"Times,serif\" font-size=\"14.00\">[(None, 1)]</text>\n",
       "<polyline fill=\"none\" stroke=\"black\" points=\"588.86,-265.5 667.83,-265.5 \"/>\n",
       "<text text-anchor=\"middle\" x=\"628.35\" y=\"-250.3\" font-family=\"Times,serif\" font-size=\"14.00\">[(None, 1)]</text>\n",
       "</g>\n",
       "<!-- 5888213248 -->\n",
       "<g id=\"node4\" class=\"node\">\n",
       "<title>5888213248</title>\n",
       "<polygon fill=\"none\" stroke=\"black\" points=\"357.39,-162.5 357.39,-206.5 695.84,-206.5 695.84,-162.5 357.39,-162.5\"/>\n",
       "<text text-anchor=\"middle\" x=\"449.96\" y=\"-180.3\" font-family=\"Times,serif\" font-size=\"14.00\">Item_Embedding: Embedding</text>\n",
       "<polyline fill=\"none\" stroke=\"black\" points=\"542.52,-162.5 542.52,-206.5 \"/>\n",
       "<text text-anchor=\"middle\" x=\"570.36\" y=\"-191.3\" font-family=\"Times,serif\" font-size=\"14.00\">input:</text>\n",
       "<polyline fill=\"none\" stroke=\"black\" points=\"542.52,-184.5 598.19,-184.5 \"/>\n",
       "<text text-anchor=\"middle\" x=\"570.36\" y=\"-169.3\" font-family=\"Times,serif\" font-size=\"14.00\">output:</text>\n",
       "<polyline fill=\"none\" stroke=\"black\" points=\"598.19,-162.5 598.19,-206.5 \"/>\n",
       "<text text-anchor=\"middle\" x=\"647.02\" y=\"-191.3\" font-family=\"Times,serif\" font-size=\"14.00\">(None, 1)</text>\n",
       "<polyline fill=\"none\" stroke=\"black\" points=\"598.19,-184.5 695.84,-184.5 \"/>\n",
       "<text text-anchor=\"middle\" x=\"647.02\" y=\"-169.3\" font-family=\"Times,serif\" font-size=\"14.00\">(None, 1, 100)</text>\n",
       "</g>\n",
       "<!-- 5776398416&#45;&gt;5888213248 -->\n",
       "<g id=\"edge2\" class=\"edge\">\n",
       "<title>5776398416-&gt;5888213248</title>\n",
       "<path fill=\"none\" stroke=\"black\" d=\"M526.62,-243.33C526.62,-235.18 526.62,-225.7 526.62,-216.8\"/>\n",
       "<polygon fill=\"black\" stroke=\"black\" points=\"530.12,-216.73 526.62,-206.73 523.12,-216.73 530.12,-216.73\"/>\n",
       "</g>\n",
       "<!-- 5887994752 -->\n",
       "<g id=\"node5\" class=\"node\">\n",
       "<title>5887994752</title>\n",
       "<polygon fill=\"none\" stroke=\"black\" points=\"53.83,-81.5 53.83,-125.5 339.4,-125.5 339.4,-81.5 53.83,-81.5\"/>\n",
       "<text text-anchor=\"middle\" x=\"119.96\" y=\"-99.3\" font-family=\"Times,serif\" font-size=\"14.00\">User_Vector: Flatten</text>\n",
       "<polyline fill=\"none\" stroke=\"black\" points=\"186.08,-81.5 186.08,-125.5 \"/>\n",
       "<text text-anchor=\"middle\" x=\"213.91\" y=\"-110.3\" font-family=\"Times,serif\" font-size=\"14.00\">input:</text>\n",
       "<polyline fill=\"none\" stroke=\"black\" points=\"186.08,-103.5 241.75,-103.5 \"/>\n",
       "<text text-anchor=\"middle\" x=\"213.91\" y=\"-88.3\" font-family=\"Times,serif\" font-size=\"14.00\">output:</text>\n",
       "<polyline fill=\"none\" stroke=\"black\" points=\"241.75,-81.5 241.75,-125.5 \"/>\n",
       "<text text-anchor=\"middle\" x=\"290.57\" y=\"-110.3\" font-family=\"Times,serif\" font-size=\"14.00\">(None, 1, 100)</text>\n",
       "<polyline fill=\"none\" stroke=\"black\" points=\"241.75,-103.5 339.4,-103.5 \"/>\n",
       "<text text-anchor=\"middle\" x=\"290.57\" y=\"-88.3\" font-family=\"Times,serif\" font-size=\"14.00\">(None, 100)</text>\n",
       "</g>\n",
       "<!-- 5888216512&#45;&gt;5887994752 -->\n",
       "<g id=\"edge3\" class=\"edge\">\n",
       "<title>5888216512-&gt;5887994752</title>\n",
       "<path fill=\"none\" stroke=\"black\" d=\"M176.85,-162.33C179.7,-154.01 183.02,-144.29 186.12,-135.22\"/>\n",
       "<polygon fill=\"black\" stroke=\"black\" points=\"189.44,-136.32 189.36,-125.73 182.81,-134.06 189.44,-136.32\"/>\n",
       "</g>\n",
       "<!-- 5728222752 -->\n",
       "<g id=\"node6\" class=\"node\">\n",
       "<title>5728222752</title>\n",
       "<polygon fill=\"none\" stroke=\"black\" points=\"370.22,-81.5 370.22,-125.5 655.01,-125.5 655.01,-81.5 370.22,-81.5\"/>\n",
       "<text text-anchor=\"middle\" x=\"435.96\" y=\"-99.3\" font-family=\"Times,serif\" font-size=\"14.00\">Item_Vector: Flatten</text>\n",
       "<polyline fill=\"none\" stroke=\"black\" points=\"501.69,-81.5 501.69,-125.5 \"/>\n",
       "<text text-anchor=\"middle\" x=\"529.52\" y=\"-110.3\" font-family=\"Times,serif\" font-size=\"14.00\">input:</text>\n",
       "<polyline fill=\"none\" stroke=\"black\" points=\"501.69,-103.5 557.36,-103.5 \"/>\n",
       "<text text-anchor=\"middle\" x=\"529.52\" y=\"-88.3\" font-family=\"Times,serif\" font-size=\"14.00\">output:</text>\n",
       "<polyline fill=\"none\" stroke=\"black\" points=\"557.36,-81.5 557.36,-125.5 \"/>\n",
       "<text text-anchor=\"middle\" x=\"606.18\" y=\"-110.3\" font-family=\"Times,serif\" font-size=\"14.00\">(None, 1, 100)</text>\n",
       "<polyline fill=\"none\" stroke=\"black\" points=\"557.36,-103.5 655.01,-103.5 \"/>\n",
       "<text text-anchor=\"middle\" x=\"606.18\" y=\"-88.3\" font-family=\"Times,serif\" font-size=\"14.00\">(None, 100)</text>\n",
       "</g>\n",
       "<!-- 5888213248&#45;&gt;5728222752 -->\n",
       "<g id=\"edge4\" class=\"edge\">\n",
       "<title>5888213248-&gt;5728222752</title>\n",
       "<path fill=\"none\" stroke=\"black\" d=\"M522.86,-162.33C521.42,-154.18 519.74,-144.7 518.16,-135.8\"/>\n",
       "<polygon fill=\"black\" stroke=\"black\" points=\"521.57,-134.96 516.38,-125.73 514.68,-136.19 521.57,-134.96\"/>\n",
       "</g>\n",
       "<!-- 5886018512 -->\n",
       "<g id=\"node7\" class=\"node\">\n",
       "<title>5886018512</title>\n",
       "<polygon fill=\"none\" stroke=\"black\" points=\"178,-0.5 178,-44.5 517.23,-44.5 517.23,-0.5 178,-0.5\"/>\n",
       "<text text-anchor=\"middle\" x=\"235.97\" y=\"-18.3\" font-family=\"Times,serif\" font-size=\"14.00\">Dot_Product: Dot</text>\n",
       "<polyline fill=\"none\" stroke=\"black\" points=\"293.94,-0.5 293.94,-44.5 \"/>\n",
       "<text text-anchor=\"middle\" x=\"321.78\" y=\"-29.3\" font-family=\"Times,serif\" font-size=\"14.00\">input:</text>\n",
       "<polyline fill=\"none\" stroke=\"black\" points=\"293.94,-22.5 349.61,-22.5 \"/>\n",
       "<text text-anchor=\"middle\" x=\"321.78\" y=\"-7.3\" font-family=\"Times,serif\" font-size=\"14.00\">output:</text>\n",
       "<polyline fill=\"none\" stroke=\"black\" points=\"349.61,-0.5 349.61,-44.5 \"/>\n",
       "<text text-anchor=\"middle\" x=\"433.42\" y=\"-29.3\" font-family=\"Times,serif\" font-size=\"14.00\">[(None, 100), (None, 100)]</text>\n",
       "<polyline fill=\"none\" stroke=\"black\" points=\"349.61,-22.5 517.23,-22.5 \"/>\n",
       "<text text-anchor=\"middle\" x=\"432.93\" y=\"-7.3\" font-family=\"Times,serif\" font-size=\"14.00\">(None, 1)</text>\n",
       "</g>\n",
       "<!-- 5887994752&#45;&gt;5886018512 -->\n",
       "<g id=\"edge5\" class=\"edge\">\n",
       "<title>5887994752-&gt;5886018512</title>\n",
       "<path fill=\"none\" stroke=\"black\" d=\"M237.08,-81.33C255.94,-71.46 278.56,-59.63 298.4,-49.25\"/>\n",
       "<polygon fill=\"black\" stroke=\"black\" points=\"300.06,-52.33 307.3,-44.59 296.82,-46.13 300.06,-52.33\"/>\n",
       "</g>\n",
       "<!-- 5728222752&#45;&gt;5886018512 -->\n",
       "<g id=\"edge6\" class=\"edge\">\n",
       "<title>5728222752-&gt;5886018512</title>\n",
       "<path fill=\"none\" stroke=\"black\" d=\"M468.4,-81.33C447.6,-71.37 422.63,-59.42 400.81,-48.97\"/>\n",
       "<polygon fill=\"black\" stroke=\"black\" points=\"402.2,-45.75 391.67,-44.59 399.18,-52.07 402.2,-45.75\"/>\n",
       "</g>\n",
       "</g>\n",
       "</svg>"
      ],
      "text/plain": [
       "<IPython.core.display.SVG object>"
      ]
     },
     "execution_count": 208,
     "metadata": {},
     "output_type": "execute_result"
    }
   ],
   "source": [
    "# Dot Product\n",
    "merged_vectors = dot([user_vector, item_vector], name='Dot_Product', axes=1)\n",
    "mf = Model([user_input, item_input], merged_vectors)\n",
    "\n",
    "SVG(model_to_dot(mf, show_shapes=True, show_layer_names=True).create(prog='dot', format='svg'))\n"
   ]
  },
  {
   "cell_type": "code",
   "execution_count": 209,
   "metadata": {},
   "outputs": [
    {
     "name": "stdout",
     "output_type": "stream",
     "text": [
      "Model: \"model_13\"\n",
      "__________________________________________________________________________________________________\n",
      "Layer (type)                    Output Shape         Param #     Connected to                     \n",
      "==================================================================================================\n",
      "User_Input (InputLayer)         [(None, 1)]          0                                            \n",
      "__________________________________________________________________________________________________\n",
      "Item_Input (InputLayer)         [(None, 1)]          0                                            \n",
      "__________________________________________________________________________________________________\n",
      "User_Embedding (Embedding)      (None, 1, 100)       2378900     User_Input[0][0]                 \n",
      "__________________________________________________________________________________________________\n",
      "Item_Embedding (Embedding)      (None, 1, 100)       24100       Item_Input[0][0]                 \n",
      "__________________________________________________________________________________________________\n",
      "User_Vector (Flatten)           (None, 100)          0           User_Embedding[0][0]             \n",
      "__________________________________________________________________________________________________\n",
      "Item_Vector (Flatten)           (None, 100)          0           Item_Embedding[0][0]             \n",
      "__________________________________________________________________________________________________\n",
      "Dot_Product (Dot)               (None, 1)            0           User_Vector[0][0]                \n",
      "                                                                 Item_Vector[0][0]                \n",
      "==================================================================================================\n",
      "Total params: 2,403,000\n",
      "Trainable params: 2,403,000\n",
      "Non-trainable params: 0\n",
      "__________________________________________________________________________________________________\n"
     ]
    }
   ],
   "source": [
    "mf.summary()"
   ]
  },
  {
   "cell_type": "code",
   "execution_count": 211,
   "metadata": {},
   "outputs": [
    {
     "name": "stdout",
     "output_type": "stream",
     "text": [
      "Epoch 1/20\n",
      "542/542 - 14s - loss: 20.9280 - val_loss: 20.0846\n",
      "Epoch 2/20\n",
      "542/542 - 12s - loss: 11.8039 - val_loss: 13.1567\n",
      "Epoch 3/20\n",
      "542/542 - 12s - loss: 1.1803 - val_loss: 11.9777\n",
      "Epoch 4/20\n",
      "542/542 - 13s - loss: 0.2851 - val_loss: 12.2153\n",
      "Epoch 5/20\n",
      "542/542 - 13s - loss: 0.2379 - val_loss: 12.0156\n",
      "Epoch 6/20\n",
      "542/542 - 14s - loss: 0.2758 - val_loss: 12.0253\n",
      "Epoch 7/20\n",
      "542/542 - 15s - loss: 0.4023 - val_loss: 11.9647\n",
      "Epoch 8/20\n",
      "542/542 - 13s - loss: 0.5471 - val_loss: 11.7917\n",
      "Epoch 9/20\n",
      "542/542 - 13s - loss: 0.6383 - val_loss: 11.7134\n",
      "Epoch 10/20\n",
      "542/542 - 13s - loss: 0.5471 - val_loss: 11.5165\n",
      "Epoch 11/20\n",
      "542/542 - 14s - loss: 0.4387 - val_loss: 11.4241\n",
      "Epoch 12/20\n",
      "542/542 - 14s - loss: 0.3578 - val_loss: 11.3057\n",
      "Epoch 13/20\n",
      "542/542 - 12s - loss: 0.3417 - val_loss: 11.2604\n",
      "Epoch 14/20\n",
      "542/542 - 13s - loss: 0.3620 - val_loss: 11.1407\n",
      "Epoch 15/20\n",
      "542/542 - 14s - loss: 0.3858 - val_loss: 11.0928\n",
      "Epoch 16/20\n",
      "542/542 - 13s - loss: 0.3812 - val_loss: 10.9454\n",
      "Epoch 17/20\n",
      "542/542 - 13s - loss: 0.3601 - val_loss: 10.9180\n",
      "Epoch 18/20\n",
      "542/542 - 14s - loss: 0.3357 - val_loss: 10.7577\n",
      "Epoch 19/20\n",
      "542/542 - 13s - loss: 0.3198 - val_loss: 10.7642\n",
      "Epoch 20/20\n",
      "542/542 - 13s - loss: 0.3106 - val_loss: 10.5880\n"
     ]
    }
   ],
   "source": [
    "opm_adam = Adam(lr = 0.002)\n",
    "\n",
    "mf.compile(loss='mean_squared_error', optimizer=opm_adam)\n",
    "\n",
    "batch_size = 64\n",
    "## for SVD, 'n_epochs' of 25 was the best \n",
    "epochs = 20\n",
    "\n",
    "history = mf.fit(x=[x_train['userID'], x_train['itemID']], \n",
    "                 y=r_train, batch_size=batch_size, \n",
    "                 epochs=epochs, \n",
    "                 verbose= 2, \n",
    "                 validation_data=([x_test['userID'], x_test['itemID']], r_test))\n"
   ]
  },
  {
   "cell_type": "code",
   "execution_count": 213,
   "metadata": {},
   "outputs": [
    {
     "data": {
      "image/png": "[encoded data removed]",
      "text/plain": [
       "<Figure size 432x288 with 1 Axes>"
      ]
     },
     "metadata": {
      "needs_background": "light"
     },
     "output_type": "display_data"
    }
   ],
   "source": [
    "## 4.7) Plotting Validation Curves\n",
    "# Get training and test loss histories\n",
    "training_loss = history.history['loss']\n",
    "test_loss = history.history['val_loss']\n",
    "\n",
    "# Create count of the number of epochs\n",
    "epoch_count = range(1, len(training_loss) + 1)\n",
    "\n",
    "# Visualize loss history\n",
    "fig,ax = plt.subplots(1,1,figsize = (6,4))\n",
    "plt.plot(epoch_count, training_loss, 'r--')\n",
    "plt.plot(epoch_count, test_loss, 'k-')\n",
    "plt.legend(['Training Loss', 'Test Loss'])\n",
    "plt.xlabel('Epoch')\n",
    "plt.ylabel('Loss')\n",
    "plt.show()"
   ]
  },
  {
   "cell_type": "code",
   "execution_count": 214,
   "metadata": {},
   "outputs": [
    {
     "name": "stdout",
     "output_type": "stream",
     "text": [
      "465/465 [==============================] - 3s 7ms/step - loss: 10.5880\n",
      "RMSE: 3.254\n"
     ]
    }
   ],
   "source": [
    "score = mf.evaluate([x_test['userID'], x_test['itemID']], r_test)\n",
    "\n",
    "print('RMSE: {:.3f}'.format(np.sqrt(score)))"
   ]
  },
  {
   "cell_type": "markdown",
   "metadata": {},
   "source": [
    "#### 4.6.2 N-MF2\n",
    "Since N-MF1 has poor performance (underfitting), I focus on increasing variance of a model. Thus, I set up \"He\" Normal initialization to prevent the local minimum due to potential non-convex optimization problem for each embedding and lowered regularization rate (1e−9for L2) with bias. The product of two embeddings wasconcatenated with biases. That was flattened with two additional Fully Connected layers at the end with ReLU and Batch Normalization. \n",
    "> NOTE: ReLU works better with \"He\" initialization."
   ]
  },
  {
   "cell_type": "code",
   "execution_count": 220,
   "metadata": {},
   "outputs": [
    {
     "data": {
      "image/svg+xml": [
       "<svg xmlns=\"http://www.w3.org/2000/svg\" xmlns:xlink=\"http://www.w3.org/1999/xlink\" width=\"1350pt\" height=\"1043pt\" viewBox=\"0.00 0.00 1012.71 782.00\">\n",
       "<g id=\"graph0\" class=\"graph\" transform=\"scale(0.75 0.75) rotate(0) translate(4 778)\">\n",
       "<title>G</title>\n",
       "<polygon fill=\"white\" stroke=\"transparent\" points=\"-4,4 -4,-778 1008.71,-778 1008.71,4 -4,4\"/>\n",
       "<!-- 5954149056 -->\n",
       "<g id=\"node1\" class=\"node\">\n",
       "<title>5954149056</title>\n",
       "<polygon fill=\"none\" stroke=\"black\" points=\"74.88,-729.5 74.88,-773.5 358.09,-773.5 358.09,-729.5 74.88,-729.5\"/>\n",
       "<text text-anchor=\"middle\" x=\"149.16\" y=\"-747.3\" font-family=\"Times,serif\" font-size=\"14.00\">User_Input: InputLayer</text>\n",
       "<polyline fill=\"none\" stroke=\"black\" points=\"223.45,-729.5 223.45,-773.5 \"/>\n",
       "<text text-anchor=\"middle\" x=\"251.28\" y=\"-758.3\" font-family=\"Times,serif\" font-size=\"14.00\">input:</text>\n",
       "<polyline fill=\"none\" stroke=\"black\" points=\"223.45,-751.5 279.12,-751.5 \"/>\n",
       "<text text-anchor=\"middle\" x=\"251.28\" y=\"-736.3\" font-family=\"Times,serif\" font-size=\"14.00\">output:</text>\n",
       "<polyline fill=\"none\" stroke=\"black\" points=\"279.12,-729.5 279.12,-773.5 \"/>\n",
       "<text text-anchor=\"middle\" x=\"318.6\" y=\"-758.3\" font-family=\"Times,serif\" font-size=\"14.00\">[(None, 1)]</text>\n",
       "<polyline fill=\"none\" stroke=\"black\" points=\"279.12,-751.5 358.09,-751.5 \"/>\n",
       "<text text-anchor=\"middle\" x=\"318.6\" y=\"-736.3\" font-family=\"Times,serif\" font-size=\"14.00\">[(None, 1)]</text>\n",
       "</g>\n",
       "<!-- 5954149344 -->\n",
       "<g id=\"node3\" class=\"node\">\n",
       "<title>5954149344</title>\n",
       "<polygon fill=\"none\" stroke=\"black\" points=\"145.87,-648.5 145.87,-692.5 485.1,-692.5 485.1,-648.5 145.87,-648.5\"/>\n",
       "<text text-anchor=\"middle\" x=\"238.82\" y=\"-666.3\" font-family=\"Times,serif\" font-size=\"14.00\">User_Embedding: Embedding</text>\n",
       "<polyline fill=\"none\" stroke=\"black\" points=\"331.78,-648.5 331.78,-692.5 \"/>\n",
       "<text text-anchor=\"middle\" x=\"359.62\" y=\"-677.3\" font-family=\"Times,serif\" font-size=\"14.00\">input:</text>\n",
       "<polyline fill=\"none\" stroke=\"black\" points=\"331.78,-670.5 387.45,-670.5 \"/>\n",
       "<text text-anchor=\"middle\" x=\"359.62\" y=\"-655.3\" font-family=\"Times,serif\" font-size=\"14.00\">output:</text>\n",
       "<polyline fill=\"none\" stroke=\"black\" points=\"387.45,-648.5 387.45,-692.5 \"/>\n",
       "<text text-anchor=\"middle\" x=\"436.27\" y=\"-677.3\" font-family=\"Times,serif\" font-size=\"14.00\">(None, 1)</text>\n",
       "<polyline fill=\"none\" stroke=\"black\" points=\"387.45,-670.5 485.1,-670.5 \"/>\n",
       "<text text-anchor=\"middle\" x=\"436.27\" y=\"-655.3\" font-family=\"Times,serif\" font-size=\"14.00\">(None, 1, 100)</text>\n",
       "</g>\n",
       "<!-- 5954149056&#45;&gt;5954149344 -->\n",
       "<g id=\"edge1\" class=\"edge\">\n",
       "<title>5954149056-&gt;5954149344</title>\n",
       "<path fill=\"none\" stroke=\"black\" d=\"M243.01,-729.33C254.66,-720.03 268.5,-708.99 280.94,-699.06\"/>\n",
       "<polygon fill=\"black\" stroke=\"black\" points=\"283.25,-701.7 288.88,-692.73 278.88,-696.23 283.25,-701.7\"/>\n",
       "</g>\n",
       "<!-- 5954147088 -->\n",
       "<g id=\"node6\" class=\"node\">\n",
       "<title>5954147088</title>\n",
       "<polygon fill=\"none\" stroke=\"black\" points=\"0,-567.5 0,-611.5 282.96,-611.5 282.96,-567.5 0,-567.5\"/>\n",
       "<text text-anchor=\"middle\" x=\"71.82\" y=\"-585.3\" font-family=\"Times,serif\" font-size=\"14.00\">User-Bias: Embedding</text>\n",
       "<polyline fill=\"none\" stroke=\"black\" points=\"143.65,-567.5 143.65,-611.5 \"/>\n",
       "<text text-anchor=\"middle\" x=\"171.48\" y=\"-596.3\" font-family=\"Times,serif\" font-size=\"14.00\">input:</text>\n",
       "<polyline fill=\"none\" stroke=\"black\" points=\"143.65,-589.5 199.32,-589.5 \"/>\n",
       "<text text-anchor=\"middle\" x=\"171.48\" y=\"-574.3\" font-family=\"Times,serif\" font-size=\"14.00\">output:</text>\n",
       "<polyline fill=\"none\" stroke=\"black\" points=\"199.32,-567.5 199.32,-611.5 \"/>\n",
       "<text text-anchor=\"middle\" x=\"241.14\" y=\"-596.3\" font-family=\"Times,serif\" font-size=\"14.00\">(None, 1)</text>\n",
       "<polyline fill=\"none\" stroke=\"black\" points=\"199.32,-589.5 282.96,-589.5 \"/>\n",
       "<text text-anchor=\"middle\" x=\"241.14\" y=\"-574.3\" font-family=\"Times,serif\" font-size=\"14.00\">(None, 1, 1)</text>\n",
       "</g>\n",
       "<!-- 5954149056&#45;&gt;5954147088 -->\n",
       "<g id=\"edge5\" class=\"edge\">\n",
       "<title>5954149056-&gt;5954147088</title>\n",
       "<path fill=\"none\" stroke=\"black\" d=\"M172.26,-729.42C158.2,-720.32 144.29,-708.22 136.48,-693 125.24,-671.06 127.61,-642.9 132.16,-621.65\"/>\n",
       "<polygon fill=\"black\" stroke=\"black\" points=\"135.59,-622.37 134.52,-611.82 128.78,-620.73 135.59,-622.37\"/>\n",
       "</g>\n",
       "<!-- 5956965472 -->\n",
       "<g id=\"node2\" class=\"node\">\n",
       "<title>5956965472</title>\n",
       "<polygon fill=\"none\" stroke=\"black\" points=\"629.27,-729.5 629.27,-773.5 911.7,-773.5 911.7,-729.5 629.27,-729.5\"/>\n",
       "<text text-anchor=\"middle\" x=\"703.16\" y=\"-747.3\" font-family=\"Times,serif\" font-size=\"14.00\">Item_Input: InputLayer</text>\n",
       "<polyline fill=\"none\" stroke=\"black\" points=\"777.06,-729.5 777.06,-773.5 \"/>\n",
       "<text text-anchor=\"middle\" x=\"804.89\" y=\"-758.3\" font-family=\"Times,serif\" font-size=\"14.00\">input:</text>\n",
       "<polyline fill=\"none\" stroke=\"black\" points=\"777.06,-751.5 832.73,-751.5 \"/>\n",
       "<text text-anchor=\"middle\" x=\"804.89\" y=\"-736.3\" font-family=\"Times,serif\" font-size=\"14.00\">output:</text>\n",
       "<polyline fill=\"none\" stroke=\"black\" points=\"832.73,-729.5 832.73,-773.5 \"/>\n",
       "<text text-anchor=\"middle\" x=\"872.21\" y=\"-758.3\" font-family=\"Times,serif\" font-size=\"14.00\">[(None, 1)]</text>\n",
       "<polyline fill=\"none\" stroke=\"black\" points=\"832.73,-751.5 911.7,-751.5 \"/>\n",
       "<text text-anchor=\"middle\" x=\"872.21\" y=\"-736.3\" font-family=\"Times,serif\" font-size=\"14.00\">[(None, 1)]</text>\n",
       "</g>\n",
       "<!-- 5956965664 -->\n",
       "<g id=\"node4\" class=\"node\">\n",
       "<title>5956965664</title>\n",
       "<polygon fill=\"none\" stroke=\"black\" points=\"503.26,-648.5 503.26,-692.5 841.71,-692.5 841.71,-648.5 503.26,-648.5\"/>\n",
       "<text text-anchor=\"middle\" x=\"595.82\" y=\"-666.3\" font-family=\"Times,serif\" font-size=\"14.00\">Item_Embedding: Embedding</text>\n",
       "<polyline fill=\"none\" stroke=\"black\" points=\"688.39,-648.5 688.39,-692.5 \"/>\n",
       "<text text-anchor=\"middle\" x=\"716.23\" y=\"-677.3\" font-family=\"Times,serif\" font-size=\"14.00\">input:</text>\n",
       "<polyline fill=\"none\" stroke=\"black\" points=\"688.39,-670.5 744.06,-670.5 \"/>\n",
       "<text text-anchor=\"middle\" x=\"716.23\" y=\"-655.3\" font-family=\"Times,serif\" font-size=\"14.00\">output:</text>\n",
       "<polyline fill=\"none\" stroke=\"black\" points=\"744.06,-648.5 744.06,-692.5 \"/>\n",
       "<text text-anchor=\"middle\" x=\"792.88\" y=\"-677.3\" font-family=\"Times,serif\" font-size=\"14.00\">(None, 1)</text>\n",
       "<polyline fill=\"none\" stroke=\"black\" points=\"744.06,-670.5 841.71,-670.5 \"/>\n",
       "<text text-anchor=\"middle\" x=\"792.88\" y=\"-655.3\" font-family=\"Times,serif\" font-size=\"14.00\">(None, 1, 100)</text>\n",
       "</g>\n",
       "<!-- 5956965472&#45;&gt;5956965664 -->\n",
       "<g id=\"edge2\" class=\"edge\">\n",
       "<title>5956965472-&gt;5956965664</title>\n",
       "<path fill=\"none\" stroke=\"black\" d=\"M744.22,-729.33C732.69,-720.03 718.99,-708.99 706.68,-699.06\"/>\n",
       "<polygon fill=\"black\" stroke=\"black\" points=\"708.8,-696.28 698.82,-692.73 704.41,-701.73 708.8,-696.28\"/>\n",
       "</g>\n",
       "<!-- 5956054848 -->\n",
       "<g id=\"node7\" class=\"node\">\n",
       "<title>5956054848</title>\n",
       "<polygon fill=\"none\" stroke=\"black\" points=\"722.25,-567.5 722.25,-611.5 1004.71,-611.5 1004.71,-567.5 722.25,-567.5\"/>\n",
       "<text text-anchor=\"middle\" x=\"793.82\" y=\"-585.3\" font-family=\"Times,serif\" font-size=\"14.00\">Item-Bias: Embedding</text>\n",
       "<polyline fill=\"none\" stroke=\"black\" points=\"865.39,-567.5 865.39,-611.5 \"/>\n",
       "<text text-anchor=\"middle\" x=\"893.23\" y=\"-596.3\" font-family=\"Times,serif\" font-size=\"14.00\">input:</text>\n",
       "<polyline fill=\"none\" stroke=\"black\" points=\"865.39,-589.5 921.06,-589.5 \"/>\n",
       "<text text-anchor=\"middle\" x=\"893.23\" y=\"-574.3\" font-family=\"Times,serif\" font-size=\"14.00\">output:</text>\n",
       "<polyline fill=\"none\" stroke=\"black\" points=\"921.06,-567.5 921.06,-611.5 \"/>\n",
       "<text text-anchor=\"middle\" x=\"962.89\" y=\"-596.3\" font-family=\"Times,serif\" font-size=\"14.00\">(None, 1)</text>\n",
       "<polyline fill=\"none\" stroke=\"black\" points=\"921.06,-589.5 1004.71,-589.5 \"/>\n",
       "<text text-anchor=\"middle\" x=\"962.89\" y=\"-574.3\" font-family=\"Times,serif\" font-size=\"14.00\">(None, 1, 1)</text>\n",
       "</g>\n",
       "<!-- 5956965472&#45;&gt;5956054848 -->\n",
       "<g id=\"edge6\" class=\"edge\">\n",
       "<title>5956965472-&gt;5956054848</title>\n",
       "<path fill=\"none\" stroke=\"black\" d=\"M812.82,-729.39C827.05,-720.17 841.56,-707.99 850.48,-693 863.2,-671.64 865.96,-643.37 865.81,-621.93\"/>\n",
       "<polygon fill=\"black\" stroke=\"black\" points=\"869.3,-621.61 865.52,-611.71 862.31,-621.8 869.3,-621.61\"/>\n",
       "</g>\n",
       "<!-- 5956052400 -->\n",
       "<g id=\"node5\" class=\"node\">\n",
       "<title>5956052400</title>\n",
       "<polygon fill=\"none\" stroke=\"black\" points=\"312.92,-567.5 312.92,-611.5 698.05,-611.5 698.05,-567.5 312.92,-567.5\"/>\n",
       "<text text-anchor=\"middle\" x=\"379.84\" y=\"-585.3\" font-family=\"Times,serif\" font-size=\"14.00\">multiply_2: Multiply</text>\n",
       "<polyline fill=\"none\" stroke=\"black\" points=\"446.76,-567.5 446.76,-611.5 \"/>\n",
       "<text text-anchor=\"middle\" x=\"474.59\" y=\"-596.3\" font-family=\"Times,serif\" font-size=\"14.00\">input:</text>\n",
       "<polyline fill=\"none\" stroke=\"black\" points=\"446.76,-589.5 502.43,-589.5 \"/>\n",
       "<text text-anchor=\"middle\" x=\"474.59\" y=\"-574.3\" font-family=\"Times,serif\" font-size=\"14.00\">output:</text>\n",
       "<polyline fill=\"none\" stroke=\"black\" points=\"502.43,-567.5 502.43,-611.5 \"/>\n",
       "<text text-anchor=\"middle\" x=\"600.24\" y=\"-596.3\" font-family=\"Times,serif\" font-size=\"14.00\">[(None, 1, 100), (None, 1, 100)]</text>\n",
       "<polyline fill=\"none\" stroke=\"black\" points=\"502.43,-589.5 698.05,-589.5 \"/>\n",
       "<text text-anchor=\"middle\" x=\"599.75\" y=\"-574.3\" font-family=\"Times,serif\" font-size=\"14.00\">(None, 1, 100)</text>\n",
       "</g>\n",
       "<!-- 5954149344&#45;&gt;5956052400 -->\n",
       "<g id=\"edge3\" class=\"edge\">\n",
       "<title>5954149344-&gt;5956052400</title>\n",
       "<path fill=\"none\" stroke=\"black\" d=\"M366.4,-648.33C390.67,-638.24 419.87,-626.1 445.24,-615.55\"/>\n",
       "<polygon fill=\"black\" stroke=\"black\" points=\"446.87,-618.66 454.76,-611.59 444.18,-612.2 446.87,-618.66\"/>\n",
       "</g>\n",
       "<!-- 5956965664&#45;&gt;5956052400 -->\n",
       "<g id=\"edge4\" class=\"edge\">\n",
       "<title>5956965664-&gt;5956052400</title>\n",
       "<path fill=\"none\" stroke=\"black\" d=\"M627.73,-648.33C606.68,-638.37 581.41,-626.42 559.32,-615.97\"/>\n",
       "<polygon fill=\"black\" stroke=\"black\" points=\"560.61,-612.7 550.07,-611.59 557.61,-619.03 560.61,-612.7\"/>\n",
       "</g>\n",
       "<!-- 5956020160 -->\n",
       "<g id=\"node8\" class=\"node\">\n",
       "<title>5956020160</title>\n",
       "<polygon fill=\"none\" stroke=\"black\" points=\"263.19,-486.5 263.19,-530.5 747.77,-530.5 747.77,-486.5 263.19,-486.5\"/>\n",
       "<text text-anchor=\"middle\" x=\"349.51\" y=\"-504.3\" font-family=\"Times,serif\" font-size=\"14.00\">concatenate_2: Concatenate</text>\n",
       "<polyline fill=\"none\" stroke=\"black\" points=\"435.83,-486.5 435.83,-530.5 \"/>\n",
       "<text text-anchor=\"middle\" x=\"463.67\" y=\"-515.3\" font-family=\"Times,serif\" font-size=\"14.00\">input:</text>\n",
       "<polyline fill=\"none\" stroke=\"black\" points=\"435.83,-508.5 491.5,-508.5 \"/>\n",
       "<text text-anchor=\"middle\" x=\"463.67\" y=\"-493.3\" font-family=\"Times,serif\" font-size=\"14.00\">output:</text>\n",
       "<polyline fill=\"none\" stroke=\"black\" points=\"491.5,-486.5 491.5,-530.5 \"/>\n",
       "<text text-anchor=\"middle\" x=\"619.64\" y=\"-515.3\" font-family=\"Times,serif\" font-size=\"14.00\">[(None, 1, 100), (None, 1, 1), (None, 1, 1)]</text>\n",
       "<polyline fill=\"none\" stroke=\"black\" points=\"491.5,-508.5 747.77,-508.5 \"/>\n",
       "<text text-anchor=\"middle\" x=\"619.33\" y=\"-493.3\" font-family=\"Times,serif\" font-size=\"14.00\">(None, 1, 102)</text>\n",
       "</g>\n",
       "<!-- 5956052400&#45;&gt;5956020160 -->\n",
       "<g id=\"edge7\" class=\"edge\">\n",
       "<title>5956052400-&gt;5956020160</title>\n",
       "<path fill=\"none\" stroke=\"black\" d=\"M505.48,-567.33C505.48,-559.18 505.48,-549.7 505.48,-540.8\"/>\n",
       "<polygon fill=\"black\" stroke=\"black\" points=\"508.98,-540.73 505.48,-530.73 501.98,-540.73 508.98,-540.73\"/>\n",
       "</g>\n",
       "<!-- 5954147088&#45;&gt;5956020160 -->\n",
       "<g id=\"edge8\" class=\"edge\">\n",
       "<title>5954147088-&gt;5956020160</title>\n",
       "<path fill=\"none\" stroke=\"black\" d=\"M238.55,-567.43C287.91,-556.72 348.01,-543.68 398.68,-532.68\"/>\n",
       "<polygon fill=\"black\" stroke=\"black\" points=\"399.66,-536.05 408.69,-530.51 398.17,-529.21 399.66,-536.05\"/>\n",
       "</g>\n",
       "<!-- 5956054848&#45;&gt;5956020160 -->\n",
       "<g id=\"edge9\" class=\"edge\">\n",
       "<title>5956054848-&gt;5956020160</title>\n",
       "<path fill=\"none\" stroke=\"black\" d=\"M768.02,-567.43C719.47,-556.72 660.35,-543.68 610.52,-532.68\"/>\n",
       "<polygon fill=\"black\" stroke=\"black\" points=\"611.2,-529.25 600.68,-530.51 609.69,-536.08 611.2,-529.25\"/>\n",
       "</g>\n",
       "<!-- 5952044480 -->\n",
       "<g id=\"node9\" class=\"node\">\n",
       "<title>5952044480</title>\n",
       "<polygon fill=\"none\" stroke=\"black\" points=\"373.19,-405.5 373.19,-449.5 637.77,-449.5 637.77,-405.5 373.19,-405.5\"/>\n",
       "<text text-anchor=\"middle\" x=\"428.82\" y=\"-423.3\" font-family=\"Times,serif\" font-size=\"14.00\">flatten_4: Flatten</text>\n",
       "<polyline fill=\"none\" stroke=\"black\" points=\"484.46,-405.5 484.46,-449.5 \"/>\n",
       "<text text-anchor=\"middle\" x=\"512.29\" y=\"-434.3\" font-family=\"Times,serif\" font-size=\"14.00\">input:</text>\n",
       "<polyline fill=\"none\" stroke=\"black\" points=\"484.46,-427.5 540.13,-427.5 \"/>\n",
       "<text text-anchor=\"middle\" x=\"512.29\" y=\"-412.3\" font-family=\"Times,serif\" font-size=\"14.00\">output:</text>\n",
       "<polyline fill=\"none\" stroke=\"black\" points=\"540.13,-405.5 540.13,-449.5 \"/>\n",
       "<text text-anchor=\"middle\" x=\"588.95\" y=\"-434.3\" font-family=\"Times,serif\" font-size=\"14.00\">(None, 1, 102)</text>\n",
       "<polyline fill=\"none\" stroke=\"black\" points=\"540.13,-427.5 637.77,-427.5 \"/>\n",
       "<text text-anchor=\"middle\" x=\"588.95\" y=\"-412.3\" font-family=\"Times,serif\" font-size=\"14.00\">(None, 102)</text>\n",
       "</g>\n",
       "<!-- 5956020160&#45;&gt;5952044480 -->\n",
       "<g id=\"edge10\" class=\"edge\">\n",
       "<title>5956020160-&gt;5952044480</title>\n",
       "<path fill=\"none\" stroke=\"black\" d=\"M505.48,-486.33C505.48,-478.18 505.48,-468.7 505.48,-459.8\"/>\n",
       "<polygon fill=\"black\" stroke=\"black\" points=\"508.98,-459.73 505.48,-449.73 501.98,-459.73 508.98,-459.73\"/>\n",
       "</g>\n",
       "<!-- 5954177680 -->\n",
       "<g id=\"node10\" class=\"node\">\n",
       "<title>5954177680</title>\n",
       "<polygon fill=\"none\" stroke=\"black\" points=\"385.64,-324.5 385.64,-368.5 625.32,-368.5 625.32,-324.5 385.64,-324.5\"/>\n",
       "<text text-anchor=\"middle\" x=\"435.82\" y=\"-342.3\" font-family=\"Times,serif\" font-size=\"14.00\">Dense1: Dense</text>\n",
       "<polyline fill=\"none\" stroke=\"black\" points=\"486,-324.5 486,-368.5 \"/>\n",
       "<text text-anchor=\"middle\" x=\"513.84\" y=\"-353.3\" font-family=\"Times,serif\" font-size=\"14.00\">input:</text>\n",
       "<polyline fill=\"none\" stroke=\"black\" points=\"486,-346.5 541.67,-346.5 \"/>\n",
       "<text text-anchor=\"middle\" x=\"513.84\" y=\"-331.3\" font-family=\"Times,serif\" font-size=\"14.00\">output:</text>\n",
       "<polyline fill=\"none\" stroke=\"black\" points=\"541.67,-324.5 541.67,-368.5 \"/>\n",
       "<text text-anchor=\"middle\" x=\"583.5\" y=\"-353.3\" font-family=\"Times,serif\" font-size=\"14.00\">(None, 102)</text>\n",
       "<polyline fill=\"none\" stroke=\"black\" points=\"541.67,-346.5 625.32,-346.5 \"/>\n",
       "<text text-anchor=\"middle\" x=\"583.5\" y=\"-331.3\" font-family=\"Times,serif\" font-size=\"14.00\">(None, 80)</text>\n",
       "</g>\n",
       "<!-- 5952044480&#45;&gt;5954177680 -->\n",
       "<g id=\"edge11\" class=\"edge\">\n",
       "<title>5952044480-&gt;5954177680</title>\n",
       "<path fill=\"none\" stroke=\"black\" d=\"M505.48,-405.33C505.48,-397.18 505.48,-387.7 505.48,-378.8\"/>\n",
       "<polygon fill=\"black\" stroke=\"black\" points=\"508.98,-378.73 505.48,-368.73 501.98,-378.73 508.98,-378.73\"/>\n",
       "</g>\n",
       "<!-- 5954178352 -->\n",
       "<g id=\"node11\" class=\"node\">\n",
       "<title>5954178352</title>\n",
       "<polygon fill=\"none\" stroke=\"black\" points=\"306.34,-243.5 306.34,-287.5 704.63,-287.5 704.63,-243.5 306.34,-243.5\"/>\n",
       "<text text-anchor=\"middle\" x=\"439.32\" y=\"-261.3\" font-family=\"Times,serif\" font-size=\"14.00\">batch_normalization_4: BatchNormalization</text>\n",
       "<polyline fill=\"none\" stroke=\"black\" points=\"572.31,-243.5 572.31,-287.5 \"/>\n",
       "<text text-anchor=\"middle\" x=\"600.15\" y=\"-272.3\" font-family=\"Times,serif\" font-size=\"14.00\">input:</text>\n",
       "<polyline fill=\"none\" stroke=\"black\" points=\"572.31,-265.5 627.98,-265.5 \"/>\n",
       "<text text-anchor=\"middle\" x=\"600.15\" y=\"-250.3\" font-family=\"Times,serif\" font-size=\"14.00\">output:</text>\n",
       "<polyline fill=\"none\" stroke=\"black\" points=\"627.98,-243.5 627.98,-287.5 \"/>\n",
       "<text text-anchor=\"middle\" x=\"666.31\" y=\"-272.3\" font-family=\"Times,serif\" font-size=\"14.00\">(None, 80)</text>\n",
       "<polyline fill=\"none\" stroke=\"black\" points=\"627.98,-265.5 704.63,-265.5 \"/>\n",
       "<text text-anchor=\"middle\" x=\"666.31\" y=\"-250.3\" font-family=\"Times,serif\" font-size=\"14.00\">(None, 80)</text>\n",
       "</g>\n",
       "<!-- 5954177680&#45;&gt;5954178352 -->\n",
       "<g id=\"edge12\" class=\"edge\">\n",
       "<title>5954177680-&gt;5954178352</title>\n",
       "<path fill=\"none\" stroke=\"black\" d=\"M505.48,-324.33C505.48,-316.18 505.48,-306.7 505.48,-297.8\"/>\n",
       "<polygon fill=\"black\" stroke=\"black\" points=\"508.98,-297.73 505.48,-287.73 501.98,-297.73 508.98,-297.73\"/>\n",
       "</g>\n",
       "<!-- 5952206400 -->\n",
       "<g id=\"node12\" class=\"node\">\n",
       "<title>5952206400</title>\n",
       "<polygon fill=\"none\" stroke=\"black\" points=\"389.14,-162.5 389.14,-206.5 621.82,-206.5 621.82,-162.5 389.14,-162.5\"/>\n",
       "<text text-anchor=\"middle\" x=\"439.32\" y=\"-180.3\" font-family=\"Times,serif\" font-size=\"14.00\">Dense2: Dense</text>\n",
       "<polyline fill=\"none\" stroke=\"black\" points=\"489.5,-162.5 489.5,-206.5 \"/>\n",
       "<text text-anchor=\"middle\" x=\"517.34\" y=\"-191.3\" font-family=\"Times,serif\" font-size=\"14.00\">input:</text>\n",
       "<polyline fill=\"none\" stroke=\"black\" points=\"489.5,-184.5 545.17,-184.5 \"/>\n",
       "<text text-anchor=\"middle\" x=\"517.34\" y=\"-169.3\" font-family=\"Times,serif\" font-size=\"14.00\">output:</text>\n",
       "<polyline fill=\"none\" stroke=\"black\" points=\"545.17,-162.5 545.17,-206.5 \"/>\n",
       "<text text-anchor=\"middle\" x=\"583.5\" y=\"-191.3\" font-family=\"Times,serif\" font-size=\"14.00\">(None, 80)</text>\n",
       "<polyline fill=\"none\" stroke=\"black\" points=\"545.17,-184.5 621.82,-184.5 \"/>\n",
       "<text text-anchor=\"middle\" x=\"583.5\" y=\"-169.3\" font-family=\"Times,serif\" font-size=\"14.00\">(None, 20)</text>\n",
       "</g>\n",
       "<!-- 5954178352&#45;&gt;5952206400 -->\n",
       "<g id=\"edge13\" class=\"edge\">\n",
       "<title>5954178352-&gt;5952206400</title>\n",
       "<path fill=\"none\" stroke=\"black\" d=\"M505.48,-243.33C505.48,-235.18 505.48,-225.7 505.48,-216.8\"/>\n",
       "<polygon fill=\"black\" stroke=\"black\" points=\"508.98,-216.73 505.48,-206.73 501.98,-216.73 508.98,-216.73\"/>\n",
       "</g>\n",
       "<!-- 5956054368 -->\n",
       "<g id=\"node13\" class=\"node\">\n",
       "<title>5956054368</title>\n",
       "<polygon fill=\"none\" stroke=\"black\" points=\"306.34,-81.5 306.34,-125.5 704.63,-125.5 704.63,-81.5 306.34,-81.5\"/>\n",
       "<text text-anchor=\"middle\" x=\"439.32\" y=\"-99.3\" font-family=\"Times,serif\" font-size=\"14.00\">batch_normalization_5: BatchNormalization</text>\n",
       "<polyline fill=\"none\" stroke=\"black\" points=\"572.31,-81.5 572.31,-125.5 \"/>\n",
       "<text text-anchor=\"middle\" x=\"600.15\" y=\"-110.3\" font-family=\"Times,serif\" font-size=\"14.00\">input:</text>\n",
       "<polyline fill=\"none\" stroke=\"black\" points=\"572.31,-103.5 627.98,-103.5 \"/>\n",
       "<text text-anchor=\"middle\" x=\"600.15\" y=\"-88.3\" font-family=\"Times,serif\" font-size=\"14.00\">output:</text>\n",
       "<polyline fill=\"none\" stroke=\"black\" points=\"627.98,-81.5 627.98,-125.5 \"/>\n",
       "<text text-anchor=\"middle\" x=\"666.31\" y=\"-110.3\" font-family=\"Times,serif\" font-size=\"14.00\">(None, 20)</text>\n",
       "<polyline fill=\"none\" stroke=\"black\" points=\"627.98,-103.5 704.63,-103.5 \"/>\n",
       "<text text-anchor=\"middle\" x=\"666.31\" y=\"-88.3\" font-family=\"Times,serif\" font-size=\"14.00\">(None, 20)</text>\n",
       "</g>\n",
       "<!-- 5952206400&#45;&gt;5956054368 -->\n",
       "<g id=\"edge14\" class=\"edge\">\n",
       "<title>5952206400-&gt;5956054368</title>\n",
       "<path fill=\"none\" stroke=\"black\" d=\"M505.48,-162.33C505.48,-154.18 505.48,-144.7 505.48,-135.8\"/>\n",
       "<polygon fill=\"black\" stroke=\"black\" points=\"508.98,-135.73 505.48,-125.73 501.98,-135.73 508.98,-135.73\"/>\n",
       "</g>\n",
       "<!-- 5954216144 -->\n",
       "<g id=\"node14\" class=\"node\">\n",
       "<title>5954216144</title>\n",
       "<polygon fill=\"none\" stroke=\"black\" points=\"383.7,-0.5 383.7,-44.5 627.27,-44.5 627.27,-0.5 383.7,-0.5\"/>\n",
       "<text text-anchor=\"middle\" x=\"439.32\" y=\"-18.3\" font-family=\"Times,serif\" font-size=\"14.00\">dense_12: Dense</text>\n",
       "<polyline fill=\"none\" stroke=\"black\" points=\"494.95,-0.5 494.95,-44.5 \"/>\n",
       "<text text-anchor=\"middle\" x=\"522.78\" y=\"-29.3\" font-family=\"Times,serif\" font-size=\"14.00\">input:</text>\n",
       "<polyline fill=\"none\" stroke=\"black\" points=\"494.95,-22.5 550.62,-22.5 \"/>\n",
       "<text text-anchor=\"middle\" x=\"522.78\" y=\"-7.3\" font-family=\"Times,serif\" font-size=\"14.00\">output:</text>\n",
       "<polyline fill=\"none\" stroke=\"black\" points=\"550.62,-0.5 550.62,-44.5 \"/>\n",
       "<text text-anchor=\"middle\" x=\"588.94\" y=\"-29.3\" font-family=\"Times,serif\" font-size=\"14.00\">(None, 20)</text>\n",
       "<polyline fill=\"none\" stroke=\"black\" points=\"550.62,-22.5 627.27,-22.5 \"/>\n",
       "<text text-anchor=\"middle\" x=\"588.94\" y=\"-7.3\" font-family=\"Times,serif\" font-size=\"14.00\">(None, 1)</text>\n",
       "</g>\n",
       "<!-- 5956054368&#45;&gt;5954216144 -->\n",
       "<g id=\"edge15\" class=\"edge\">\n",
       "<title>5956054368-&gt;5954216144</title>\n",
       "<path fill=\"none\" stroke=\"black\" d=\"M505.48,-81.33C505.48,-73.18 505.48,-63.7 505.48,-54.8\"/>\n",
       "<polygon fill=\"black\" stroke=\"black\" points=\"508.98,-54.73 505.48,-44.73 501.98,-54.73 508.98,-54.73\"/>\n",
       "</g>\n",
       "</g>\n",
       "</svg>"
      ],
      "text/plain": [
       "<IPython.core.display.SVG object>"
      ]
     },
     "execution_count": 220,
     "metadata": {},
     "output_type": "execute_result"
    }
   ],
   "source": [
    "bias = 1\n",
    "# User Embeddings\n",
    "user_input = Input(shape=(1,), name='User_Input')\n",
    "user_embeddings = Embedding(input_dim = n_users, \n",
    "                            output_dim = n_latent_factors,\n",
    "                            embeddings_initializer=\"he_normal\",\n",
    "                            embeddings_regularizer=keras.regularizers.l2(1e-9),\n",
    "                            input_length = 1, \n",
    "                            name='User_Embedding') (user_input)\n",
    "user_bias = Embedding(n_users, bias, name=\"User-Bias\")(user_input)\n",
    "#user_vector = Flatten(name='User_Vector') (user_embeddings)\n",
    "\n",
    "# Item Embeddings\n",
    "item_input = Input(shape=(1,), name='Item_Input')\n",
    "item_embeddings = Embedding(input_dim = n_items, \n",
    "                            output_dim = n_latent_factors, \n",
    "                            embeddings_initializer=\"he_normal\",\n",
    "                            embeddings_regularizer=keras.regularizers.l2(1e-9),\n",
    "                            input_length=1, \n",
    "                            name='Item_Embedding') (item_input)\n",
    "item_bias = Embedding(n_items, bias, name=\"Item-Bias\")(item_input)\n",
    "#item_vector = Flatten(name='Item_Vector') (item_embeddings)\n",
    "\n",
    "matrix_product = multiply([user_embeddings,item_embeddings])\n",
    "\n",
    "input_terms = concatenate([matrix_product, user_bias, item_bias])\n",
    "input_terms = Flatten()(input_terms)\n",
    "\n",
    "# Concatenate Product\n",
    "#merged_vectors = concatenate([user_vector, item_vector], name='Concantenate')\n",
    "dense_layer_1 = Dense(80, activation='relu', name='Dense1')(input_terms)\n",
    "# dense_layer_1 = Dropout(0.25) (dense_layer_1)\n",
    "batchnorm_layer_1 = BatchNormalization()(dense_layer_1)\n",
    "dense_layer_2 = Dense(20, activation='relu', name='Dense2')(batchnorm_layer_1)\n",
    "batchnorm_layer_2 = BatchNormalization()(dense_layer_2)\n",
    "result = Dense(1)(batchnorm_layer_2)\n",
    "concat_mf = Model([user_input, item_input], result)\n",
    "\n",
    "SVG(model_to_dot(concat_mf, show_shapes=True, show_layer_names=True).create(prog='dot', format='svg'))"
   ]
  },
  {
   "cell_type": "code",
   "execution_count": 221,
   "metadata": {},
   "outputs": [
    {
     "name": "stdout",
     "output_type": "stream",
     "text": [
      "Model: \"model_15\"\n",
      "__________________________________________________________________________________________________\n",
      "Layer (type)                    Output Shape         Param #     Connected to                     \n",
      "==================================================================================================\n",
      "User_Input (InputLayer)         [(None, 1)]          0                                            \n",
      "__________________________________________________________________________________________________\n",
      "Item_Input (InputLayer)         [(None, 1)]          0                                            \n",
      "__________________________________________________________________________________________________\n",
      "User_Embedding (Embedding)      (None, 1, 100)       2378900     User_Input[0][0]                 \n",
      "__________________________________________________________________________________________________\n",
      "Item_Embedding (Embedding)      (None, 1, 100)       24100       Item_Input[0][0]                 \n",
      "__________________________________________________________________________________________________\n",
      "multiply_2 (Multiply)           (None, 1, 100)       0           User_Embedding[0][0]             \n",
      "                                                                 Item_Embedding[0][0]             \n",
      "__________________________________________________________________________________________________\n",
      "User-Bias (Embedding)           (None, 1, 1)         23789       User_Input[0][0]                 \n",
      "__________________________________________________________________________________________________\n",
      "Item-Bias (Embedding)           (None, 1, 1)         241         Item_Input[0][0]                 \n",
      "__________________________________________________________________________________________________\n",
      "concatenate_2 (Concatenate)     (None, 1, 102)       0           multiply_2[0][0]                 \n",
      "                                                                 User-Bias[0][0]                  \n",
      "                                                                 Item-Bias[0][0]                  \n",
      "__________________________________________________________________________________________________\n",
      "flatten_4 (Flatten)             (None, 102)          0           concatenate_2[0][0]              \n",
      "__________________________________________________________________________________________________\n",
      "Dense1 (Dense)                  (None, 80)           8240        flatten_4[0][0]                  \n",
      "__________________________________________________________________________________________________\n",
      "batch_normalization_4 (BatchNor (None, 80)           320         Dense1[0][0]                     \n",
      "__________________________________________________________________________________________________\n",
      "Dense2 (Dense)                  (None, 20)           1620        batch_normalization_4[0][0]      \n",
      "__________________________________________________________________________________________________\n",
      "batch_normalization_5 (BatchNor (None, 20)           80          Dense2[0][0]                     \n",
      "__________________________________________________________________________________________________\n",
      "dense_12 (Dense)                (None, 1)            21          batch_normalization_5[0][0]      \n",
      "==================================================================================================\n",
      "Total params: 2,437,311\n",
      "Trainable params: 2,437,111\n",
      "Non-trainable params: 200\n",
      "__________________________________________________________________________________________________\n"
     ]
    }
   ],
   "source": [
    "concat_mf.summary()"
   ]
  },
  {
   "cell_type": "code",
   "execution_count": 224,
   "metadata": {},
   "outputs": [
    {
     "name": "stdout",
     "output_type": "stream",
     "text": [
      "Epoch 1/20\n",
      "542/542 - 16s - loss: 0.1127 - val_loss: 1.7263\n",
      "Epoch 2/20\n",
      "542/542 - 14s - loss: 0.5048 - val_loss: 1.1216\n",
      "Epoch 3/20\n",
      "542/542 - 12s - loss: 0.2680 - val_loss: 0.9932\n",
      "Epoch 4/20\n",
      "542/542 - 12s - loss: 0.1225 - val_loss: 0.9931\n",
      "Epoch 5/20\n",
      "542/542 - 12s - loss: 0.0846 - val_loss: 0.9832\n",
      "Epoch 6/20\n",
      "542/542 - 12s - loss: 0.0671 - val_loss: 0.9823\n",
      "Epoch 7/20\n",
      "542/542 - 12s - loss: 0.0583 - val_loss: 1.0067\n",
      "Epoch 8/20\n",
      "542/542 - 12s - loss: 0.0555 - val_loss: 0.9909\n",
      "Epoch 9/20\n",
      "542/542 - 12s - loss: 0.0532 - val_loss: 0.9838\n",
      "Epoch 10/20\n",
      "542/542 - 14s - loss: 0.0513 - val_loss: 0.9940\n",
      "Epoch 11/20\n",
      "542/542 - 12s - loss: 0.0497 - val_loss: 1.0060\n",
      "Epoch 12/20\n",
      "542/542 - 12s - loss: 0.0481 - val_loss: 1.0030\n",
      "Epoch 13/20\n",
      "542/542 - 12s - loss: 0.0464 - val_loss: 1.0032\n",
      "Epoch 14/20\n",
      "542/542 - 12s - loss: 0.0466 - val_loss: 1.0263\n",
      "Epoch 15/20\n",
      "542/542 - 12s - loss: 0.0412 - val_loss: 1.0179\n",
      "Epoch 16/20\n",
      "542/542 - 12s - loss: 0.0375 - val_loss: 1.0175\n",
      "Epoch 17/20\n",
      "542/542 - 12s - loss: 0.0375 - val_loss: 1.0303\n",
      "Epoch 18/20\n",
      "542/542 - 12s - loss: 0.0355 - val_loss: 1.0185\n",
      "Epoch 19/20\n",
      "542/542 - 12s - loss: 0.0373 - val_loss: 1.0418\n",
      "Epoch 20/20\n",
      "542/542 - 12s - loss: 0.0358 - val_loss: 1.0170\n"
     ]
    }
   ],
   "source": [
    "## optimizier= Adam, learning rate = 0.002\n",
    "opm_adam = Adam(lr = 0.002)\n",
    "\n",
    "concat_mf.compile(loss='mean_squared_error', optimizer=opm_adam)\n",
    "\n",
    "## batch_size = 100, epochs = 20\n",
    "batch_size = 64\n",
    "\n",
    "history = concat_mf.fit(x=[x_train['userID'], x_train['itemID']], \n",
    "                        y=r_train, batch_size= batch_size, \n",
    "                        epochs=epochs, \n",
    "                        verbose= 2, \n",
    "                        validation_data=([x_test['userID'], x_test['itemID']], r_test))\n"
   ]
  },
  {
   "cell_type": "code",
   "execution_count": 225,
   "metadata": {},
   "outputs": [
    {
     "data": {
      "image/png": "[encoded data removed]",
      "text/plain": [
       "<Figure size 432x288 with 1 Axes>"
      ]
     },
     "metadata": {
      "needs_background": "light"
     },
     "output_type": "display_data"
    }
   ],
   "source": [
    "# Get training and test loss histories\n",
    "training_loss = history.history['loss']\n",
    "test_loss = history.history['val_loss']\n",
    "\n",
    "# Create count of the number of epochs\n",
    "epoch_count = range(1, len(training_loss) + 1)\n",
    "\n",
    "# Visualize loss history\n",
    "fig,ax = plt.subplots(1,1,figsize = (6,4))\n",
    "plt.plot(epoch_count, training_loss, 'r--')\n",
    "plt.plot(epoch_count, test_loss, 'k-')\n",
    "plt.legend(['Training Loss', 'Test Loss'])\n",
    "plt.xlabel('Epoch')\n",
    "plt.ylabel('Loss')\n",
    "plt.show()"
   ]
  },
  {
   "cell_type": "code",
   "execution_count": 227,
   "metadata": {},
   "outputs": [
    {
     "name": "stdout",
     "output_type": "stream",
     "text": [
      "465/465 [==============================] - 3s 7ms/step - loss: 1.0170\n",
      "RMSE: 1.008\n"
     ]
    }
   ],
   "source": [
    "score = concat_mf.evaluate([x_test['userID'], x_test['itemID']], r_test)\n",
    "\n",
    "print('RMSE: {:.3f}'.format(np.sqrt(score)))"
   ]
  },
  {
   "cell_type": "markdown",
   "metadata": {},
   "source": [
    "#### 4.6.3 N-MF3\n",
    "\n",
    "With keeping \"He\" normal initialization and the same L2 regularization rate ($1e-9$), I wanted to check with concatenation method for the user-latent and item-latent to contain their information better. I concatenated two embeddings instead of dot product of them and added four Fully Connected layers with ReLU and Batch Normalization. "
   ]
  },
  {
   "cell_type": "code",
   "execution_count": 267,
   "metadata": {},
   "outputs": [
    {
     "data": {
      "image/svg+xml": [
       "<svg xmlns=\"http://www.w3.org/2000/svg\" xmlns:xlink=\"http://www.w3.org/1999/xlink\" width=\"938pt\" height=\"1259pt\" viewBox=\"0.00 0.00 703.84 944.00\">\n",
       "<g id=\"graph0\" class=\"graph\" transform=\"scale(0.75 0.75) rotate(0) translate(4 940)\">\n",
       "<title>G</title>\n",
       "<polygon fill=\"white\" stroke=\"transparent\" points=\"-4,4 -4,-940 699.84,-940 699.84,4 -4,4\"/>\n",
       "<!-- 4689837072 -->\n",
       "<g id=\"node1\" class=\"node\">\n",
       "<title>4689837072</title>\n",
       "<polygon fill=\"none\" stroke=\"black\" points=\"28.01,-891.5 28.01,-935.5 311.22,-935.5 311.22,-891.5 28.01,-891.5\"/>\n",
       "<text text-anchor=\"middle\" x=\"102.29\" y=\"-909.3\" font-family=\"Times,serif\" font-size=\"14.00\">User_Input: InputLayer</text>\n",
       "<polyline fill=\"none\" stroke=\"black\" points=\"176.58,-891.5 176.58,-935.5 \"/>\n",
       "<text text-anchor=\"middle\" x=\"204.41\" y=\"-920.3\" font-family=\"Times,serif\" font-size=\"14.00\">input:</text>\n",
       "<polyline fill=\"none\" stroke=\"black\" points=\"176.58,-913.5 232.25,-913.5 \"/>\n",
       "<text text-anchor=\"middle\" x=\"204.41\" y=\"-898.3\" font-family=\"Times,serif\" font-size=\"14.00\">output:</text>\n",
       "<polyline fill=\"none\" stroke=\"black\" points=\"232.25,-891.5 232.25,-935.5 \"/>\n",
       "<text text-anchor=\"middle\" x=\"271.73\" y=\"-920.3\" font-family=\"Times,serif\" font-size=\"14.00\">[(None, 1)]</text>\n",
       "<polyline fill=\"none\" stroke=\"black\" points=\"232.25,-913.5 311.22,-913.5 \"/>\n",
       "<text text-anchor=\"middle\" x=\"271.73\" y=\"-898.3\" font-family=\"Times,serif\" font-size=\"14.00\">[(None, 1)]</text>\n",
       "</g>\n",
       "<!-- 5840136656 -->\n",
       "<g id=\"node3\" class=\"node\">\n",
       "<title>5840136656</title>\n",
       "<polygon fill=\"none\" stroke=\"black\" points=\"0,-810.5 0,-854.5 339.23,-854.5 339.23,-810.5 0,-810.5\"/>\n",
       "<text text-anchor=\"middle\" x=\"92.96\" y=\"-828.3\" font-family=\"Times,serif\" font-size=\"14.00\">User_Embedding: Embedding</text>\n",
       "<polyline fill=\"none\" stroke=\"black\" points=\"185.91,-810.5 185.91,-854.5 \"/>\n",
       "<text text-anchor=\"middle\" x=\"213.75\" y=\"-839.3\" font-family=\"Times,serif\" font-size=\"14.00\">input:</text>\n",
       "<polyline fill=\"none\" stroke=\"black\" points=\"185.91,-832.5 241.58,-832.5 \"/>\n",
       "<text text-anchor=\"middle\" x=\"213.75\" y=\"-817.3\" font-family=\"Times,serif\" font-size=\"14.00\">output:</text>\n",
       "<polyline fill=\"none\" stroke=\"black\" points=\"241.58,-810.5 241.58,-854.5 \"/>\n",
       "<text text-anchor=\"middle\" x=\"290.41\" y=\"-839.3\" font-family=\"Times,serif\" font-size=\"14.00\">(None, 1)</text>\n",
       "<polyline fill=\"none\" stroke=\"black\" points=\"241.58,-832.5 339.23,-832.5 \"/>\n",
       "<text text-anchor=\"middle\" x=\"290.41\" y=\"-817.3\" font-family=\"Times,serif\" font-size=\"14.00\">(None, 1, 100)</text>\n",
       "</g>\n",
       "<!-- 4689837072&#45;&gt;5840136656 -->\n",
       "<g id=\"edge1\" class=\"edge\">\n",
       "<title>4689837072-&gt;5840136656</title>\n",
       "<path fill=\"none\" stroke=\"black\" d=\"M169.62,-891.33C169.62,-883.18 169.62,-873.7 169.62,-864.8\"/>\n",
       "<polygon fill=\"black\" stroke=\"black\" points=\"173.12,-864.73 169.62,-854.73 166.12,-864.73 173.12,-864.73\"/>\n",
       "</g>\n",
       "<!-- 5864478176 -->\n",
       "<g id=\"node2\" class=\"node\">\n",
       "<title>5864478176</title>\n",
       "<polygon fill=\"none\" stroke=\"black\" points=\"385.4,-891.5 385.4,-935.5 667.83,-935.5 667.83,-891.5 385.4,-891.5\"/>\n",
       "<text text-anchor=\"middle\" x=\"459.29\" y=\"-909.3\" font-family=\"Times,serif\" font-size=\"14.00\">Item_Input: InputLayer</text>\n",
       "<polyline fill=\"none\" stroke=\"black\" points=\"533.19,-891.5 533.19,-935.5 \"/>\n",
       "<text text-anchor=\"middle\" x=\"561.02\" y=\"-920.3\" font-family=\"Times,serif\" font-size=\"14.00\">input:</text>\n",
       "<polyline fill=\"none\" stroke=\"black\" points=\"533.19,-913.5 588.86,-913.5 \"/>\n",
       "<text text-anchor=\"middle\" x=\"561.02\" y=\"-898.3\" font-family=\"Times,serif\" font-size=\"14.00\">output:</text>\n",
       "<polyline fill=\"none\" stroke=\"black\" points=\"588.86,-891.5 588.86,-935.5 \"/>\n",
       "<text text-anchor=\"middle\" x=\"628.35\" y=\"-920.3\" font-family=\"Times,serif\" font-size=\"14.00\">[(None, 1)]</text>\n",
       "<polyline fill=\"none\" stroke=\"black\" points=\"588.86,-913.5 667.83,-913.5 \"/>\n",
       "<text text-anchor=\"middle\" x=\"628.35\" y=\"-898.3\" font-family=\"Times,serif\" font-size=\"14.00\">[(None, 1)]</text>\n",
       "</g>\n",
       "<!-- 6032630736 -->\n",
       "<g id=\"node4\" class=\"node\">\n",
       "<title>6032630736</title>\n",
       "<polygon fill=\"none\" stroke=\"black\" points=\"357.39,-810.5 357.39,-854.5 695.84,-854.5 695.84,-810.5 357.39,-810.5\"/>\n",
       "<text text-anchor=\"middle\" x=\"449.96\" y=\"-828.3\" font-family=\"Times,serif\" font-size=\"14.00\">Item_Embedding: Embedding</text>\n",
       "<polyline fill=\"none\" stroke=\"black\" points=\"542.52,-810.5 542.52,-854.5 \"/>\n",
       "<text text-anchor=\"middle\" x=\"570.36\" y=\"-839.3\" font-family=\"Times,serif\" font-size=\"14.00\">input:</text>\n",
       "<polyline fill=\"none\" stroke=\"black\" points=\"542.52,-832.5 598.19,-832.5 \"/>\n",
       "<text text-anchor=\"middle\" x=\"570.36\" y=\"-817.3\" font-family=\"Times,serif\" font-size=\"14.00\">output:</text>\n",
       "<polyline fill=\"none\" stroke=\"black\" points=\"598.19,-810.5 598.19,-854.5 \"/>\n",
       "<text text-anchor=\"middle\" x=\"647.02\" y=\"-839.3\" font-family=\"Times,serif\" font-size=\"14.00\">(None, 1)</text>\n",
       "<polyline fill=\"none\" stroke=\"black\" points=\"598.19,-832.5 695.84,-832.5 \"/>\n",
       "<text text-anchor=\"middle\" x=\"647.02\" y=\"-817.3\" font-family=\"Times,serif\" font-size=\"14.00\">(None, 1, 150)</text>\n",
       "</g>\n",
       "<!-- 5864478176&#45;&gt;6032630736 -->\n",
       "<g id=\"edge2\" class=\"edge\">\n",
       "<title>5864478176-&gt;6032630736</title>\n",
       "<path fill=\"none\" stroke=\"black\" d=\"M526.62,-891.33C526.62,-883.18 526.62,-873.7 526.62,-864.8\"/>\n",
       "<polygon fill=\"black\" stroke=\"black\" points=\"530.12,-864.73 526.62,-854.73 523.12,-864.73 530.12,-864.73\"/>\n",
       "</g>\n",
       "<!-- 5840135936 -->\n",
       "<g id=\"node5\" class=\"node\">\n",
       "<title>5840135936</title>\n",
       "<polygon fill=\"none\" stroke=\"black\" points=\"53.83,-729.5 53.83,-773.5 339.4,-773.5 339.4,-729.5 53.83,-729.5\"/>\n",
       "<text text-anchor=\"middle\" x=\"119.96\" y=\"-747.3\" font-family=\"Times,serif\" font-size=\"14.00\">User_Vector: Flatten</text>\n",
       "<polyline fill=\"none\" stroke=\"black\" points=\"186.08,-729.5 186.08,-773.5 \"/>\n",
       "<text text-anchor=\"middle\" x=\"213.91\" y=\"-758.3\" font-family=\"Times,serif\" font-size=\"14.00\">input:</text>\n",
       "<polyline fill=\"none\" stroke=\"black\" points=\"186.08,-751.5 241.75,-751.5 \"/>\n",
       "<text text-anchor=\"middle\" x=\"213.91\" y=\"-736.3\" font-family=\"Times,serif\" font-size=\"14.00\">output:</text>\n",
       "<polyline fill=\"none\" stroke=\"black\" points=\"241.75,-729.5 241.75,-773.5 \"/>\n",
       "<text text-anchor=\"middle\" x=\"290.57\" y=\"-758.3\" font-family=\"Times,serif\" font-size=\"14.00\">(None, 1, 100)</text>\n",
       "<polyline fill=\"none\" stroke=\"black\" points=\"241.75,-751.5 339.4,-751.5 \"/>\n",
       "<text text-anchor=\"middle\" x=\"290.57\" y=\"-736.3\" font-family=\"Times,serif\" font-size=\"14.00\">(None, 100)</text>\n",
       "</g>\n",
       "<!-- 5840136656&#45;&gt;5840135936 -->\n",
       "<g id=\"edge3\" class=\"edge\">\n",
       "<title>5840136656-&gt;5840135936</title>\n",
       "<path fill=\"none\" stroke=\"black\" d=\"M176.85,-810.33C179.7,-802.01 183.02,-792.29 186.12,-783.22\"/>\n",
       "<polygon fill=\"black\" stroke=\"black\" points=\"189.44,-784.32 189.36,-773.73 182.81,-782.06 189.44,-784.32\"/>\n",
       "</g>\n",
       "<!-- 6425210400 -->\n",
       "<g id=\"node6\" class=\"node\">\n",
       "<title>6425210400</title>\n",
       "<polygon fill=\"none\" stroke=\"black\" points=\"370.22,-729.5 370.22,-773.5 655.01,-773.5 655.01,-729.5 370.22,-729.5\"/>\n",
       "<text text-anchor=\"middle\" x=\"435.96\" y=\"-747.3\" font-family=\"Times,serif\" font-size=\"14.00\">Item_Vector: Flatten</text>\n",
       "<polyline fill=\"none\" stroke=\"black\" points=\"501.69,-729.5 501.69,-773.5 \"/>\n",
       "<text text-anchor=\"middle\" x=\"529.52\" y=\"-758.3\" font-family=\"Times,serif\" font-size=\"14.00\">input:</text>\n",
       "<polyline fill=\"none\" stroke=\"black\" points=\"501.69,-751.5 557.36,-751.5 \"/>\n",
       "<text text-anchor=\"middle\" x=\"529.52\" y=\"-736.3\" font-family=\"Times,serif\" font-size=\"14.00\">output:</text>\n",
       "<polyline fill=\"none\" stroke=\"black\" points=\"557.36,-729.5 557.36,-773.5 \"/>\n",
       "<text text-anchor=\"middle\" x=\"606.18\" y=\"-758.3\" font-family=\"Times,serif\" font-size=\"14.00\">(None, 1, 150)</text>\n",
       "<polyline fill=\"none\" stroke=\"black\" points=\"557.36,-751.5 655.01,-751.5 \"/>\n",
       "<text text-anchor=\"middle\" x=\"606.18\" y=\"-736.3\" font-family=\"Times,serif\" font-size=\"14.00\">(None, 150)</text>\n",
       "</g>\n",
       "<!-- 6032630736&#45;&gt;6425210400 -->\n",
       "<g id=\"edge4\" class=\"edge\">\n",
       "<title>6032630736-&gt;6425210400</title>\n",
       "<path fill=\"none\" stroke=\"black\" d=\"M522.86,-810.33C521.42,-802.18 519.74,-792.7 518.16,-783.8\"/>\n",
       "<polygon fill=\"black\" stroke=\"black\" points=\"521.57,-782.96 516.38,-773.73 514.68,-784.19 521.57,-782.96\"/>\n",
       "</g>\n",
       "<!-- 5855606288 -->\n",
       "<g id=\"node7\" class=\"node\">\n",
       "<title>5855606288</title>\n",
       "<polygon fill=\"none\" stroke=\"black\" points=\"151.59,-648.5 151.59,-692.5 543.64,-692.5 543.64,-648.5 151.59,-648.5\"/>\n",
       "<text text-anchor=\"middle\" x=\"235.97\" y=\"-666.3\" font-family=\"Times,serif\" font-size=\"14.00\">Concantenate: Concatenate</text>\n",
       "<polyline fill=\"none\" stroke=\"black\" points=\"320.35,-648.5 320.35,-692.5 \"/>\n",
       "<text text-anchor=\"middle\" x=\"348.19\" y=\"-677.3\" font-family=\"Times,serif\" font-size=\"14.00\">input:</text>\n",
       "<polyline fill=\"none\" stroke=\"black\" points=\"320.35,-670.5 376.02,-670.5 \"/>\n",
       "<text text-anchor=\"middle\" x=\"348.19\" y=\"-655.3\" font-family=\"Times,serif\" font-size=\"14.00\">output:</text>\n",
       "<polyline fill=\"none\" stroke=\"black\" points=\"376.02,-648.5 376.02,-692.5 \"/>\n",
       "<text text-anchor=\"middle\" x=\"459.83\" y=\"-677.3\" font-family=\"Times,serif\" font-size=\"14.00\">[(None, 100), (None, 150)]</text>\n",
       "<polyline fill=\"none\" stroke=\"black\" points=\"376.02,-670.5 543.64,-670.5 \"/>\n",
       "<text text-anchor=\"middle\" x=\"459.35\" y=\"-655.3\" font-family=\"Times,serif\" font-size=\"14.00\">(None, 250)</text>\n",
       "</g>\n",
       "<!-- 5840135936&#45;&gt;5855606288 -->\n",
       "<g id=\"edge5\" class=\"edge\">\n",
       "<title>5840135936-&gt;5855606288</title>\n",
       "<path fill=\"none\" stroke=\"black\" d=\"M237.08,-729.33C255.94,-719.46 278.56,-707.63 298.4,-697.25\"/>\n",
       "<polygon fill=\"black\" stroke=\"black\" points=\"300.06,-700.33 307.3,-692.59 296.82,-694.13 300.06,-700.33\"/>\n",
       "</g>\n",
       "<!-- 6425210400&#45;&gt;5855606288 -->\n",
       "<g id=\"edge6\" class=\"edge\">\n",
       "<title>6425210400-&gt;5855606288</title>\n",
       "<path fill=\"none\" stroke=\"black\" d=\"M468.4,-729.33C447.6,-719.37 422.63,-707.42 400.81,-696.97\"/>\n",
       "<polygon fill=\"black\" stroke=\"black\" points=\"402.2,-693.75 391.67,-692.59 399.18,-700.07 402.2,-693.75\"/>\n",
       "</g>\n",
       "<!-- 5887700896 -->\n",
       "<g id=\"node8\" class=\"node\">\n",
       "<title>5887700896</title>\n",
       "<polygon fill=\"none\" stroke=\"black\" points=\"236.71,-567.5 236.71,-611.5 458.52,-611.5 458.52,-567.5 236.71,-567.5\"/>\n",
       "<text text-anchor=\"middle\" x=\"277.96\" y=\"-585.3\" font-family=\"Times,serif\" font-size=\"14.00\">FC1: Dense</text>\n",
       "<polyline fill=\"none\" stroke=\"black\" points=\"319.21,-567.5 319.21,-611.5 \"/>\n",
       "<text text-anchor=\"middle\" x=\"347.04\" y=\"-596.3\" font-family=\"Times,serif\" font-size=\"14.00\">input:</text>\n",
       "<polyline fill=\"none\" stroke=\"black\" points=\"319.21,-589.5 374.88,-589.5 \"/>\n",
       "<text text-anchor=\"middle\" x=\"347.04\" y=\"-574.3\" font-family=\"Times,serif\" font-size=\"14.00\">output:</text>\n",
       "<polyline fill=\"none\" stroke=\"black\" points=\"374.88,-567.5 374.88,-611.5 \"/>\n",
       "<text text-anchor=\"middle\" x=\"416.7\" y=\"-596.3\" font-family=\"Times,serif\" font-size=\"14.00\">(None, 250)</text>\n",
       "<polyline fill=\"none\" stroke=\"black\" points=\"374.88,-589.5 458.52,-589.5 \"/>\n",
       "<text text-anchor=\"middle\" x=\"416.7\" y=\"-574.3\" font-family=\"Times,serif\" font-size=\"14.00\">(None, 200)</text>\n",
       "</g>\n",
       "<!-- 5855606288&#45;&gt;5887700896 -->\n",
       "<g id=\"edge7\" class=\"edge\">\n",
       "<title>5855606288-&gt;5887700896</title>\n",
       "<path fill=\"none\" stroke=\"black\" d=\"M347.62,-648.33C347.62,-640.18 347.62,-630.7 347.62,-621.8\"/>\n",
       "<polygon fill=\"black\" stroke=\"black\" points=\"351.12,-621.73 347.62,-611.73 344.12,-621.73 351.12,-621.73\"/>\n",
       "</g>\n",
       "<!-- 4695879936 -->\n",
       "<g id=\"node9\" class=\"node\">\n",
       "<title>4695879936</title>\n",
       "<polygon fill=\"none\" stroke=\"black\" points=\"141.47,-486.5 141.47,-530.5 553.76,-530.5 553.76,-486.5 141.47,-486.5\"/>\n",
       "<text text-anchor=\"middle\" x=\"277.96\" y=\"-504.3\" font-family=\"Times,serif\" font-size=\"14.00\">batch_normalization_48: BatchNormalization</text>\n",
       "<polyline fill=\"none\" stroke=\"black\" points=\"414.45,-486.5 414.45,-530.5 \"/>\n",
       "<text text-anchor=\"middle\" x=\"442.28\" y=\"-515.3\" font-family=\"Times,serif\" font-size=\"14.00\">input:</text>\n",
       "<polyline fill=\"none\" stroke=\"black\" points=\"414.45,-508.5 470.11,-508.5 \"/>\n",
       "<text text-anchor=\"middle\" x=\"442.28\" y=\"-493.3\" font-family=\"Times,serif\" font-size=\"14.00\">output:</text>\n",
       "<polyline fill=\"none\" stroke=\"black\" points=\"470.11,-486.5 470.11,-530.5 \"/>\n",
       "<text text-anchor=\"middle\" x=\"511.94\" y=\"-515.3\" font-family=\"Times,serif\" font-size=\"14.00\">(None, 200)</text>\n",
       "<polyline fill=\"none\" stroke=\"black\" points=\"470.11,-508.5 553.76,-508.5 \"/>\n",
       "<text text-anchor=\"middle\" x=\"511.94\" y=\"-493.3\" font-family=\"Times,serif\" font-size=\"14.00\">(None, 200)</text>\n",
       "</g>\n",
       "<!-- 5887700896&#45;&gt;4695879936 -->\n",
       "<g id=\"edge8\" class=\"edge\">\n",
       "<title>5887700896-&gt;4695879936</title>\n",
       "<path fill=\"none\" stroke=\"black\" d=\"M347.62,-567.33C347.62,-559.18 347.62,-549.7 347.62,-540.8\"/>\n",
       "<polygon fill=\"black\" stroke=\"black\" points=\"351.12,-540.73 347.62,-530.73 344.12,-540.73 351.12,-540.73\"/>\n",
       "</g>\n",
       "<!-- 5728330896 -->\n",
       "<g id=\"node10\" class=\"node\">\n",
       "<title>5728330896</title>\n",
       "<polygon fill=\"none\" stroke=\"black\" points=\"236.71,-405.5 236.71,-449.5 458.52,-449.5 458.52,-405.5 236.71,-405.5\"/>\n",
       "<text text-anchor=\"middle\" x=\"277.96\" y=\"-423.3\" font-family=\"Times,serif\" font-size=\"14.00\">FC2: Dense</text>\n",
       "<polyline fill=\"none\" stroke=\"black\" points=\"319.21,-405.5 319.21,-449.5 \"/>\n",
       "<text text-anchor=\"middle\" x=\"347.04\" y=\"-434.3\" font-family=\"Times,serif\" font-size=\"14.00\">input:</text>\n",
       "<polyline fill=\"none\" stroke=\"black\" points=\"319.21,-427.5 374.88,-427.5 \"/>\n",
       "<text text-anchor=\"middle\" x=\"347.04\" y=\"-412.3\" font-family=\"Times,serif\" font-size=\"14.00\">output:</text>\n",
       "<polyline fill=\"none\" stroke=\"black\" points=\"374.88,-405.5 374.88,-449.5 \"/>\n",
       "<text text-anchor=\"middle\" x=\"416.7\" y=\"-434.3\" font-family=\"Times,serif\" font-size=\"14.00\">(None, 200)</text>\n",
       "<polyline fill=\"none\" stroke=\"black\" points=\"374.88,-427.5 458.52,-427.5 \"/>\n",
       "<text text-anchor=\"middle\" x=\"416.7\" y=\"-412.3\" font-family=\"Times,serif\" font-size=\"14.00\">(None, 100)</text>\n",
       "</g>\n",
       "<!-- 4695879936&#45;&gt;5728330896 -->\n",
       "<g id=\"edge9\" class=\"edge\">\n",
       "<title>4695879936-&gt;5728330896</title>\n",
       "<path fill=\"none\" stroke=\"black\" d=\"M347.62,-486.33C347.62,-478.18 347.62,-468.7 347.62,-459.8\"/>\n",
       "<polygon fill=\"black\" stroke=\"black\" points=\"351.12,-459.73 347.62,-449.73 344.12,-459.73 351.12,-459.73\"/>\n",
       "</g>\n",
       "<!-- 5782750400 -->\n",
       "<g id=\"node11\" class=\"node\">\n",
       "<title>5782750400</title>\n",
       "<polygon fill=\"none\" stroke=\"black\" points=\"141.47,-324.5 141.47,-368.5 553.76,-368.5 553.76,-324.5 141.47,-324.5\"/>\n",
       "<text text-anchor=\"middle\" x=\"277.96\" y=\"-342.3\" font-family=\"Times,serif\" font-size=\"14.00\">batch_normalization_49: BatchNormalization</text>\n",
       "<polyline fill=\"none\" stroke=\"black\" points=\"414.45,-324.5 414.45,-368.5 \"/>\n",
       "<text text-anchor=\"middle\" x=\"442.28\" y=\"-353.3\" font-family=\"Times,serif\" font-size=\"14.00\">input:</text>\n",
       "<polyline fill=\"none\" stroke=\"black\" points=\"414.45,-346.5 470.11,-346.5 \"/>\n",
       "<text text-anchor=\"middle\" x=\"442.28\" y=\"-331.3\" font-family=\"Times,serif\" font-size=\"14.00\">output:</text>\n",
       "<polyline fill=\"none\" stroke=\"black\" points=\"470.11,-324.5 470.11,-368.5 \"/>\n",
       "<text text-anchor=\"middle\" x=\"511.94\" y=\"-353.3\" font-family=\"Times,serif\" font-size=\"14.00\">(None, 100)</text>\n",
       "<polyline fill=\"none\" stroke=\"black\" points=\"470.11,-346.5 553.76,-346.5 \"/>\n",
       "<text text-anchor=\"middle\" x=\"511.94\" y=\"-331.3\" font-family=\"Times,serif\" font-size=\"14.00\">(None, 100)</text>\n",
       "</g>\n",
       "<!-- 5728330896&#45;&gt;5782750400 -->\n",
       "<g id=\"edge10\" class=\"edge\">\n",
       "<title>5728330896-&gt;5782750400</title>\n",
       "<path fill=\"none\" stroke=\"black\" d=\"M347.62,-405.33C347.62,-397.18 347.62,-387.7 347.62,-378.8\"/>\n",
       "<polygon fill=\"black\" stroke=\"black\" points=\"351.12,-378.73 347.62,-368.73 344.12,-378.73 351.12,-378.73\"/>\n",
       "</g>\n",
       "<!-- 4418364272 -->\n",
       "<g id=\"node12\" class=\"node\">\n",
       "<title>4418364272</title>\n",
       "<polygon fill=\"none\" stroke=\"black\" points=\"236.71,-243.5 236.71,-287.5 458.52,-287.5 458.52,-243.5 236.71,-243.5\"/>\n",
       "<text text-anchor=\"middle\" x=\"277.96\" y=\"-261.3\" font-family=\"Times,serif\" font-size=\"14.00\">FC3: Dense</text>\n",
       "<polyline fill=\"none\" stroke=\"black\" points=\"319.21,-243.5 319.21,-287.5 \"/>\n",
       "<text text-anchor=\"middle\" x=\"347.04\" y=\"-272.3\" font-family=\"Times,serif\" font-size=\"14.00\">input:</text>\n",
       "<polyline fill=\"none\" stroke=\"black\" points=\"319.21,-265.5 374.88,-265.5 \"/>\n",
       "<text text-anchor=\"middle\" x=\"347.04\" y=\"-250.3\" font-family=\"Times,serif\" font-size=\"14.00\">output:</text>\n",
       "<polyline fill=\"none\" stroke=\"black\" points=\"374.88,-243.5 374.88,-287.5 \"/>\n",
       "<text text-anchor=\"middle\" x=\"416.7\" y=\"-272.3\" font-family=\"Times,serif\" font-size=\"14.00\">(None, 100)</text>\n",
       "<polyline fill=\"none\" stroke=\"black\" points=\"374.88,-265.5 458.52,-265.5 \"/>\n",
       "<text text-anchor=\"middle\" x=\"416.7\" y=\"-250.3\" font-family=\"Times,serif\" font-size=\"14.00\">(None, 50)</text>\n",
       "</g>\n",
       "<!-- 5782750400&#45;&gt;4418364272 -->\n",
       "<g id=\"edge11\" class=\"edge\">\n",
       "<title>5782750400-&gt;4418364272</title>\n",
       "<path fill=\"none\" stroke=\"black\" d=\"M347.62,-324.33C347.62,-316.18 347.62,-306.7 347.62,-297.8\"/>\n",
       "<polygon fill=\"black\" stroke=\"black\" points=\"351.12,-297.73 347.62,-287.73 344.12,-297.73 351.12,-297.73\"/>\n",
       "</g>\n",
       "<!-- 5864794480 -->\n",
       "<g id=\"node13\" class=\"node\">\n",
       "<title>5864794480</title>\n",
       "<polygon fill=\"none\" stroke=\"black\" points=\"144.97,-162.5 144.97,-206.5 550.26,-206.5 550.26,-162.5 144.97,-162.5\"/>\n",
       "<text text-anchor=\"middle\" x=\"281.46\" y=\"-180.3\" font-family=\"Times,serif\" font-size=\"14.00\">batch_normalization_50: BatchNormalization</text>\n",
       "<polyline fill=\"none\" stroke=\"black\" points=\"417.95,-162.5 417.95,-206.5 \"/>\n",
       "<text text-anchor=\"middle\" x=\"445.78\" y=\"-191.3\" font-family=\"Times,serif\" font-size=\"14.00\">input:</text>\n",
       "<polyline fill=\"none\" stroke=\"black\" points=\"417.95,-184.5 473.61,-184.5 \"/>\n",
       "<text text-anchor=\"middle\" x=\"445.78\" y=\"-169.3\" font-family=\"Times,serif\" font-size=\"14.00\">output:</text>\n",
       "<polyline fill=\"none\" stroke=\"black\" points=\"473.61,-162.5 473.61,-206.5 \"/>\n",
       "<text text-anchor=\"middle\" x=\"511.94\" y=\"-191.3\" font-family=\"Times,serif\" font-size=\"14.00\">(None, 50)</text>\n",
       "<polyline fill=\"none\" stroke=\"black\" points=\"473.61,-184.5 550.26,-184.5 \"/>\n",
       "<text text-anchor=\"middle\" x=\"511.94\" y=\"-169.3\" font-family=\"Times,serif\" font-size=\"14.00\">(None, 50)</text>\n",
       "</g>\n",
       "<!-- 4418364272&#45;&gt;5864794480 -->\n",
       "<g id=\"edge12\" class=\"edge\">\n",
       "<title>4418364272-&gt;5864794480</title>\n",
       "<path fill=\"none\" stroke=\"black\" d=\"M347.62,-243.33C347.62,-235.18 347.62,-225.7 347.62,-216.8\"/>\n",
       "<polygon fill=\"black\" stroke=\"black\" points=\"351.12,-216.73 347.62,-206.73 344.12,-216.73 351.12,-216.73\"/>\n",
       "</g>\n",
       "<!-- 5707635440 -->\n",
       "<g id=\"node14\" class=\"node\">\n",
       "<title>5707635440</title>\n",
       "<polygon fill=\"none\" stroke=\"black\" points=\"240.21,-81.5 240.21,-125.5 455.02,-125.5 455.02,-81.5 240.21,-81.5\"/>\n",
       "<text text-anchor=\"middle\" x=\"281.46\" y=\"-99.3\" font-family=\"Times,serif\" font-size=\"14.00\">FC4: Dense</text>\n",
       "<polyline fill=\"none\" stroke=\"black\" points=\"322.71,-81.5 322.71,-125.5 \"/>\n",
       "<text text-anchor=\"middle\" x=\"350.54\" y=\"-110.3\" font-family=\"Times,serif\" font-size=\"14.00\">input:</text>\n",
       "<polyline fill=\"none\" stroke=\"black\" points=\"322.71,-103.5 378.38,-103.5 \"/>\n",
       "<text text-anchor=\"middle\" x=\"350.54\" y=\"-88.3\" font-family=\"Times,serif\" font-size=\"14.00\">output:</text>\n",
       "<polyline fill=\"none\" stroke=\"black\" points=\"378.38,-81.5 378.38,-125.5 \"/>\n",
       "<text text-anchor=\"middle\" x=\"416.7\" y=\"-110.3\" font-family=\"Times,serif\" font-size=\"14.00\">(None, 50)</text>\n",
       "<polyline fill=\"none\" stroke=\"black\" points=\"378.38,-103.5 455.02,-103.5 \"/>\n",
       "<text text-anchor=\"middle\" x=\"416.7\" y=\"-88.3\" font-family=\"Times,serif\" font-size=\"14.00\">(None, 20)</text>\n",
       "</g>\n",
       "<!-- 5864794480&#45;&gt;5707635440 -->\n",
       "<g id=\"edge13\" class=\"edge\">\n",
       "<title>5864794480-&gt;5707635440</title>\n",
       "<path fill=\"none\" stroke=\"black\" d=\"M347.62,-162.33C347.62,-154.18 347.62,-144.7 347.62,-135.8\"/>\n",
       "<polygon fill=\"black\" stroke=\"black\" points=\"351.12,-135.73 347.62,-125.73 344.12,-135.73 351.12,-135.73\"/>\n",
       "</g>\n",
       "<!-- 5707634384 -->\n",
       "<g id=\"node15\" class=\"node\">\n",
       "<title>5707634384</title>\n",
       "<polygon fill=\"none\" stroke=\"black\" points=\"242.16,-0.5 242.16,-44.5 453.07,-44.5 453.07,-0.5 242.16,-0.5\"/>\n",
       "<text text-anchor=\"middle\" x=\"281.46\" y=\"-18.3\" font-family=\"Times,serif\" font-size=\"14.00\">Act: Dense</text>\n",
       "<polyline fill=\"none\" stroke=\"black\" points=\"320.75,-0.5 320.75,-44.5 \"/>\n",
       "<text text-anchor=\"middle\" x=\"348.59\" y=\"-29.3\" font-family=\"Times,serif\" font-size=\"14.00\">input:</text>\n",
       "<polyline fill=\"none\" stroke=\"black\" points=\"320.75,-22.5 376.42,-22.5 \"/>\n",
       "<text text-anchor=\"middle\" x=\"348.59\" y=\"-7.3\" font-family=\"Times,serif\" font-size=\"14.00\">output:</text>\n",
       "<polyline fill=\"none\" stroke=\"black\" points=\"376.42,-0.5 376.42,-44.5 \"/>\n",
       "<text text-anchor=\"middle\" x=\"414.75\" y=\"-29.3\" font-family=\"Times,serif\" font-size=\"14.00\">(None, 20)</text>\n",
       "<polyline fill=\"none\" stroke=\"black\" points=\"376.42,-22.5 453.07,-22.5 \"/>\n",
       "<text text-anchor=\"middle\" x=\"414.75\" y=\"-7.3\" font-family=\"Times,serif\" font-size=\"14.00\">(None, 1)</text>\n",
       "</g>\n",
       "<!-- 5707635440&#45;&gt;5707634384 -->\n",
       "<g id=\"edge14\" class=\"edge\">\n",
       "<title>5707635440-&gt;5707634384</title>\n",
       "<path fill=\"none\" stroke=\"black\" d=\"M347.62,-81.33C347.62,-73.18 347.62,-63.7 347.62,-54.8\"/>\n",
       "<polygon fill=\"black\" stroke=\"black\" points=\"351.12,-54.73 347.62,-44.73 344.12,-54.73 351.12,-54.73\"/>\n",
       "</g>\n",
       "</g>\n",
       "</svg>"
      ],
      "text/plain": [
       "<IPython.core.display.SVG object>"
      ]
     },
     "execution_count": 267,
     "metadata": {},
     "output_type": "execute_result"
    }
   ],
   "source": [
    "# User Embeddings\n",
    "user_input = Input(shape=(1,), name='User_Input')\n",
    "user_embeddings = Embedding(input_dim = n_users, \n",
    "                            output_dim = 100,\n",
    "                            embeddings_initializer=\"he_normal\",\n",
    "                            embeddings_regularizer=keras.regularizers.l2(1e-9),\n",
    "                            input_length = 1, \n",
    "                            name='User_Embedding') (user_input)\n",
    "user_vector = Flatten(name='User_Vector') (user_embeddings)\n",
    "\n",
    "# Item Embeddings\n",
    "item_input = Input(shape=(1,), name='Item_Input')\n",
    "item_embeddings = Embedding(input_dim = n_items, \n",
    "                            output_dim = 150, \n",
    "                            embeddings_initializer=\"he_normal\",\n",
    "                            embeddings_regularizer=keras.regularizers.l2(1e-9),\n",
    "                            input_length=1, \n",
    "                            name='Item_Embedding') (item_input)\n",
    "item_vector = Flatten(name='Item_Vector') (item_embeddings)\n",
    "\n",
    "#concat = keras.layers.merge([user_vector,item_vector],mode='concat',name='Concat')\n",
    "\n",
    "# Concatenate Product\n",
    "merged_vectors = concatenate([user_vector, item_vector], name='Concantenate')\n",
    "\n",
    "dense_layer_1 = Dense(200, name='FC1')(merged_vectors)\n",
    "## dropout is not included cause it was underfitting; dense_layer_1 = Dropout(0.25) (dense_layer_1)\n",
    "## for boosting the training speed + correcting Covariate shift (0 mean; 1 var)\n",
    "batchnorm_layer_1 = BatchNormalization()(dense_layer_1) \n",
    "dense_layer_2 = Dense(100, name='FC2')(batchnorm_layer_1)\n",
    "batchnorm_layer_2 = BatchNormalization()(dense_layer_2)\n",
    "dense_layer_3 = Dense(50, name='FC3')(batchnorm_layer_2)\n",
    "batchnorm_layer_3 = BatchNormalization()(dense_layer_3)\n",
    "dense_layer_4 = Dense(20, activation='relu', name='FC4')(batchnorm_layer_3)\n",
    "\n",
    "result = Dense(1, activation='relu', name='Act')(dense_layer_4)\n",
    "concatnn_mf = Model([user_input, item_input], result)\n",
    "\n",
    "SVG(model_to_dot(concatnn_mf, show_shapes=True, show_layer_names=True).create(prog='dot', format='svg'))"
   ]
  },
  {
   "cell_type": "code",
   "execution_count": 268,
   "metadata": {},
   "outputs": [
    {
     "name": "stdout",
     "output_type": "stream",
     "text": [
      "Epoch 1/20\n",
      "347/347 - 10s - loss: 3.2276 - val_loss: 3.6257\n",
      "Epoch 2/20\n",
      "347/347 - 10s - loss: 0.8128 - val_loss: 1.0290\n",
      "Epoch 3/20\n",
      "347/347 - 9s - loss: 0.5048 - val_loss: 1.0237\n",
      "Epoch 4/20\n",
      "347/347 - 10s - loss: 0.3374 - val_loss: 1.0426\n",
      "Epoch 5/20\n",
      "347/347 - 10s - loss: 0.2535 - val_loss: 1.0258\n",
      "Epoch 6/20\n",
      "347/347 - 9s - loss: 0.2157 - val_loss: 1.0498\n",
      "Epoch 7/20\n",
      "347/347 - 9s - loss: 0.1853 - val_loss: 1.0287\n",
      "Epoch 8/20\n",
      "347/347 - 9s - loss: 0.1607 - val_loss: 1.0476\n",
      "Epoch 9/20\n",
      "347/347 - 9s - loss: 0.1478 - val_loss: 1.0423\n",
      "Epoch 10/20\n",
      "347/347 - 9s - loss: 0.1372 - val_loss: 1.0458\n",
      "Epoch 11/20\n",
      "347/347 - 9s - loss: 0.1317 - val_loss: 1.0430\n",
      "Epoch 12/20\n",
      "347/347 - 9s - loss: 0.1247 - val_loss: 1.0310\n",
      "Epoch 13/20\n",
      "347/347 - 11s - loss: 0.1147 - val_loss: 1.0259\n",
      "Epoch 14/20\n",
      "347/347 - 10s - loss: 0.1101 - val_loss: 1.0168\n",
      "Epoch 15/20\n",
      "347/347 - 10s - loss: 0.1045 - val_loss: 1.0319\n",
      "Epoch 16/20\n",
      "347/347 - 9s - loss: 0.0985 - val_loss: 1.0296\n",
      "Epoch 17/20\n",
      "347/347 - 9s - loss: 0.0916 - val_loss: 0.9976\n",
      "Epoch 18/20\n",
      "347/347 - 9s - loss: 0.0887 - val_loss: 0.9937\n",
      "Epoch 19/20\n",
      "347/347 - 11s - loss: 0.0860 - val_loss: 1.0226\n",
      "Epoch 20/20\n",
      "347/347 - 10s - loss: 0.0851 - val_loss: 1.0217\n"
     ]
    }
   ],
   "source": [
    "## optimizier = Adam, learning rate = 0.002\n",
    "opm_adam = Adam(lr = 0.001)\n",
    "\n",
    "concatnn_mf.compile(loss='mean_squared_error', optimizer=opm_adam)\n",
    "\n",
    "## batch_size = 100, epochs = 20\n",
    "batch_size = 100\n",
    "\n",
    "history = concatnn_mf.fit(x=[x_train['userID'], x_train['itemID']], \n",
    "                        y=r_train, batch_size= batch_size, \n",
    "                        epochs=epochs, \n",
    "                        verbose= 2, \n",
    "                        validation_data=([x_test['userID'], x_test['itemID']], r_test))"
   ]
  },
  {
   "cell_type": "code",
   "execution_count": 269,
   "metadata": {},
   "outputs": [
    {
     "data": {
      "image/png": "[encoded data removed]",
      "text/plain": [
       "<Figure size 432x288 with 1 Axes>"
      ]
     },
     "metadata": {
      "needs_background": "light"
     },
     "output_type": "display_data"
    }
   ],
   "source": [
    "# Get training and test loss histories\n",
    "training_loss = history.history['loss']\n",
    "test_loss = history.history['val_loss']\n",
    "\n",
    "# Create count of the number of epochs\n",
    "epoch_count = range(1, len(training_loss) + 1)\n",
    "\n",
    "# Visualize loss history\n",
    "fig,ax = plt.subplots(1,1,figsize = (6,4))\n",
    "plt.plot(epoch_count, training_loss, 'r--')\n",
    "plt.plot(epoch_count, test_loss, 'k-')\n",
    "plt.legend(['Training Loss', 'Test Loss'])\n",
    "plt.xlabel('Epoch')\n",
    "plt.ylabel('Loss')\n",
    "plt.show()"
   ]
  },
  {
   "cell_type": "code",
   "execution_count": 270,
   "metadata": {},
   "outputs": [
    {
     "name": "stdout",
     "output_type": "stream",
     "text": [
      "465/465 [==============================] - 4s 8ms/step - loss: 1.0217\n",
      "RMSE: 1.011\n"
     ]
    }
   ],
   "source": [
    "score = concatnn_mf.evaluate([x_test['userID'], x_test['itemID']], r_test)\n",
    "\n",
    "print('RMSE: {:.3f}'.format(np.sqrt(score)))"
   ]
  },
  {
   "cell_type": "markdown",
   "metadata": {},
   "source": [
    "<center>\n",
    "<img src=\"./img/n_perfo.png\" alt=\"Drawing\" style=\"width: 70px;\"/>\n",
    "</center>"
   ]
  },
  {
   "cell_type": "code",
   "execution_count": null,
   "metadata": {},
   "outputs": [],
   "source": []
  }
 ],
 "metadata": {
  "kernelspec": {
   "display_name": "Python 3",
   "language": "python",
   "name": "python3"
  },
  "language_info": {
   "codemirror_mode": {
    "name": "ipython",
    "version": 3
   },
   "file_extension": ".py",
   "mimetype": "text/x-python",
   "name": "python",
   "nbconvert_exporter": "python",
   "pygments_lexer": "ipython3",
   "version": "3.8.3"
  }
 },
 "nbformat": 4,
 "nbformat_minor": 4
}
